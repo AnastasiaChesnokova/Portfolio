{
 "cells": [
  {
   "cell_type": "markdown",
   "metadata": {
    "deletable": false,
    "editable": false,
    "id": "1xwNO7BJsK7k"
   },
   "source": [
    "# Проверка гипотез\n",
    "Компания предоставила три датасета с данными о пользователях сервиса, их поездках за один год, а также стоимости услуг в подписках. \n",
    "Необходимо проанализировать демографию пользователей и особенности использования самокатов, а также определить возможную выгоду от распространения платной подписки на самокаты."
   ]
  },
  {
   "cell_type": "markdown",
   "metadata": {
    "deletable": false,
    "editable": false,
    "id": "gzyXNgprsK7m"
   },
   "source": [
    "# Описание данных\n",
    "\n",
    "Таблица с пользователями `users_go.csv`\n",
    "\n",
    "- `user_id` — уникальный идентификатор пользователя.\n",
    "\n",
    "- `name` — имя пользователя.\n",
    "\n",
    "- `age` — возраст.\n",
    "\n",
    "- `city` — город.\n",
    "\n",
    "- `subscription_type` — тип подписки: `free`, `ultra`.\n",
    "\n",
    "Таблица с поездками `rides_go.csv`\n",
    "\n",
    "- `user_id` — уникальный идентификатор пользователя.\n",
    "\n",
    "- `distance` — расстояние в метрах, которое пользователь проехал в текущей сессии.\n",
    "\n",
    "- `duration` — продолжительность сессии в минутах, то есть время с того момента, как пользователь нажал кнопку «Начать поездку», до того, как он нажал кнопку «Завершить поездку».\n",
    "\n",
    "- `date` — дата совершения поездки.\n",
    "\n",
    "Таблица с подписками `subscriptions_go.csv`\n",
    "\n",
    "- `subscription_type` — тип подписки.\n",
    "\n",
    "- `minute_price` — стоимость одной минуты поездки по этой подписке.\n",
    "\n",
    "- `start_ride_price` — стоимость начала поездки.\n",
    "\n",
    "- `subscription_fee` — стоимость ежемесячного платежа."
   ]
  },
  {
   "cell_type": "markdown",
   "metadata": {
    "deletable": false,
    "editable": false,
    "id": "Gpc3MBZRsK7m"
   },
   "source": [
    "---\n",
    "## 1. Загрузка данных\n",
    "1.1 Импорт библиотек\n"
   ]
  },
  {
   "cell_type": "code",
   "execution_count": null,
   "metadata": {
    "deletable": false,
    "id": "n97uaKsR7LbX"
   },
   "outputs": [],
   "source": [
    "import pandas as pd\n",
    "import matplotlib.pyplot as plt\n",
    "import scipy.stats as st"
   ]
  },
  {
   "cell_type": "markdown",
   "metadata": {
    "deletable": false,
    "editable": false,
    "id": "iiB5hMdMsK7n",
    "tags": [
     "start_task"
    ]
   },
   "source": [
    "### 1.2 Чтение данных\n",
    "- https://code.s3.yandex.net/datasets/users_go.csv\n",
    "- https://code.s3.yandex.net/datasets/rides_go.csv\n",
    "- https://code.s3.yandex.net/datasets/subscriptions_go.csv"
   ]
  },
  {
   "cell_type": "code",
   "execution_count": null,
   "metadata": {
    "deletable": false,
    "id": "jvIwXMOz7HaE"
   },
   "outputs": [],
   "source": [
    "df_users_go = pd.read_csv(\"https://code.s3.yandex.net/datasets/users_go.csv\")\n",
    "df_rides_go = pd.read_csv(\"https://code.s3.yandex.net/datasets/rides_go.csv\")\n",
    "df_subscriptions_go = pd.read_csv(\"https://code.s3.yandex.net/datasets/subscriptions_go.csv\")"
   ]
  },
  {
   "cell_type": "markdown",
   "metadata": {
    "deletable": false,
    "editable": false,
    "id": "zw-1DjajsK7o",
    "tags": [
     "start_task"
    ]
   },
   "source": [
    "### 1.3 Просмотр данных\n"
   ]
  },
  {
   "cell_type": "code",
   "execution_count": null,
   "metadata": {
    "deletable": false,
    "id": "7aqE6vqSHZE-",
    "scrolled": true
   },
   "outputs": [
    {
     "data": {
      "text/html": [
       "<div>\n",
       "<style scoped>\n",
       "    .dataframe tbody tr th:only-of-type {\n",
       "        vertical-align: middle;\n",
       "    }\n",
       "\n",
       "    .dataframe tbody tr th {\n",
       "        vertical-align: top;\n",
       "    }\n",
       "\n",
       "    .dataframe thead th {\n",
       "        text-align: right;\n",
       "    }\n",
       "</style>\n",
       "<table border=\"1\" class=\"dataframe\">\n",
       "  <thead>\n",
       "    <tr style=\"text-align: right;\">\n",
       "      <th></th>\n",
       "      <th>user_id</th>\n",
       "      <th>name</th>\n",
       "      <th>age</th>\n",
       "      <th>city</th>\n",
       "      <th>subscription_type</th>\n",
       "    </tr>\n",
       "  </thead>\n",
       "  <tbody>\n",
       "    <tr>\n",
       "      <th>0</th>\n",
       "      <td>1</td>\n",
       "      <td>Кира</td>\n",
       "      <td>22</td>\n",
       "      <td>Тюмень</td>\n",
       "      <td>ultra</td>\n",
       "    </tr>\n",
       "    <tr>\n",
       "      <th>1</th>\n",
       "      <td>2</td>\n",
       "      <td>Станислав</td>\n",
       "      <td>31</td>\n",
       "      <td>Омск</td>\n",
       "      <td>ultra</td>\n",
       "    </tr>\n",
       "    <tr>\n",
       "      <th>2</th>\n",
       "      <td>3</td>\n",
       "      <td>Алексей</td>\n",
       "      <td>20</td>\n",
       "      <td>Москва</td>\n",
       "      <td>ultra</td>\n",
       "    </tr>\n",
       "    <tr>\n",
       "      <th>3</th>\n",
       "      <td>4</td>\n",
       "      <td>Константин</td>\n",
       "      <td>26</td>\n",
       "      <td>Ростов-на-Дону</td>\n",
       "      <td>ultra</td>\n",
       "    </tr>\n",
       "    <tr>\n",
       "      <th>4</th>\n",
       "      <td>5</td>\n",
       "      <td>Адель</td>\n",
       "      <td>28</td>\n",
       "      <td>Омск</td>\n",
       "      <td>ultra</td>\n",
       "    </tr>\n",
       "  </tbody>\n",
       "</table>\n",
       "</div>"
      ],
      "text/plain": [
       "   user_id        name  age            city subscription_type\n",
       "0        1        Кира   22          Тюмень             ultra\n",
       "1        2   Станислав   31            Омск             ultra\n",
       "2        3     Алексей   20          Москва             ultra\n",
       "3        4  Константин   26  Ростов-на-Дону             ultra\n",
       "4        5       Адель   28            Омск             ultra"
      ]
     },
     "metadata": {},
     "output_type": "display_data"
    },
    {
     "data": {
      "text/html": [
       "<div>\n",
       "<style scoped>\n",
       "    .dataframe tbody tr th:only-of-type {\n",
       "        vertical-align: middle;\n",
       "    }\n",
       "\n",
       "    .dataframe tbody tr th {\n",
       "        vertical-align: top;\n",
       "    }\n",
       "\n",
       "    .dataframe thead th {\n",
       "        text-align: right;\n",
       "    }\n",
       "</style>\n",
       "<table border=\"1\" class=\"dataframe\">\n",
       "  <thead>\n",
       "    <tr style=\"text-align: right;\">\n",
       "      <th></th>\n",
       "      <th>user_id</th>\n",
       "      <th>distance</th>\n",
       "      <th>duration</th>\n",
       "      <th>date</th>\n",
       "    </tr>\n",
       "  </thead>\n",
       "  <tbody>\n",
       "    <tr>\n",
       "      <th>0</th>\n",
       "      <td>1</td>\n",
       "      <td>4409.919140</td>\n",
       "      <td>25.599769</td>\n",
       "      <td>2021-01-01</td>\n",
       "    </tr>\n",
       "    <tr>\n",
       "      <th>1</th>\n",
       "      <td>1</td>\n",
       "      <td>2617.592153</td>\n",
       "      <td>15.816871</td>\n",
       "      <td>2021-01-18</td>\n",
       "    </tr>\n",
       "    <tr>\n",
       "      <th>2</th>\n",
       "      <td>1</td>\n",
       "      <td>754.159807</td>\n",
       "      <td>6.232113</td>\n",
       "      <td>2021-04-20</td>\n",
       "    </tr>\n",
       "    <tr>\n",
       "      <th>3</th>\n",
       "      <td>1</td>\n",
       "      <td>2694.783254</td>\n",
       "      <td>18.511000</td>\n",
       "      <td>2021-08-11</td>\n",
       "    </tr>\n",
       "    <tr>\n",
       "      <th>4</th>\n",
       "      <td>1</td>\n",
       "      <td>4028.687306</td>\n",
       "      <td>26.265803</td>\n",
       "      <td>2021-08-28</td>\n",
       "    </tr>\n",
       "  </tbody>\n",
       "</table>\n",
       "</div>"
      ],
      "text/plain": [
       "   user_id     distance   duration        date\n",
       "0        1  4409.919140  25.599769  2021-01-01\n",
       "1        1  2617.592153  15.816871  2021-01-18\n",
       "2        1   754.159807   6.232113  2021-04-20\n",
       "3        1  2694.783254  18.511000  2021-08-11\n",
       "4        1  4028.687306  26.265803  2021-08-28"
      ]
     },
     "metadata": {},
     "output_type": "display_data"
    },
    {
     "data": {
      "text/html": [
       "<div>\n",
       "<style scoped>\n",
       "    .dataframe tbody tr th:only-of-type {\n",
       "        vertical-align: middle;\n",
       "    }\n",
       "\n",
       "    .dataframe tbody tr th {\n",
       "        vertical-align: top;\n",
       "    }\n",
       "\n",
       "    .dataframe thead th {\n",
       "        text-align: right;\n",
       "    }\n",
       "</style>\n",
       "<table border=\"1\" class=\"dataframe\">\n",
       "  <thead>\n",
       "    <tr style=\"text-align: right;\">\n",
       "      <th></th>\n",
       "      <th>subscription_type</th>\n",
       "      <th>minute_price</th>\n",
       "      <th>start_ride_price</th>\n",
       "      <th>subscription_fee</th>\n",
       "    </tr>\n",
       "  </thead>\n",
       "  <tbody>\n",
       "    <tr>\n",
       "      <th>0</th>\n",
       "      <td>free</td>\n",
       "      <td>8</td>\n",
       "      <td>50</td>\n",
       "      <td>0</td>\n",
       "    </tr>\n",
       "    <tr>\n",
       "      <th>1</th>\n",
       "      <td>ultra</td>\n",
       "      <td>6</td>\n",
       "      <td>0</td>\n",
       "      <td>199</td>\n",
       "    </tr>\n",
       "  </tbody>\n",
       "</table>\n",
       "</div>"
      ],
      "text/plain": [
       "  subscription_type  minute_price  start_ride_price  subscription_fee\n",
       "0              free             8                50                 0\n",
       "1             ultra             6                 0               199"
      ]
     },
     "metadata": {},
     "output_type": "display_data"
    }
   ],
   "source": [
    "display(df_users_go.head())\n",
    "display (df_rides_go.head())\n",
    "display  (df_subscriptions_go.head())"
   ]
  },
  {
   "cell_type": "markdown",
   "metadata": {
    "deletable": false,
    "editable": false,
    "id": "zjZVYVQ3sK7p",
    "tags": [
     "start_task"
    ]
   },
   "source": [
    "### 1.4 Подсчёт строк"
   ]
  },
  {
   "cell_type": "code",
   "execution_count": null,
   "metadata": {
    "deletable": false,
    "id": "I-mEFxuHHavX"
   },
   "outputs": [
    {
     "data": {
      "text/plain": [
       "1565"
      ]
     },
     "metadata": {},
     "output_type": "display_data"
    },
    {
     "data": {
      "text/plain": [
       "18068"
      ]
     },
     "metadata": {},
     "output_type": "display_data"
    },
    {
     "data": {
      "text/plain": [
       "2"
      ]
     },
     "metadata": {},
     "output_type": "display_data"
    }
   ],
   "source": [
    "display(df_users_go.shape[0],\n",
    "df_rides_go.shape[0],\n",
    "df_subscriptions_go.shape[0])"
   ]
  },
  {
   "cell_type": "markdown",
   "metadata": {
    "deletable": false,
    "editable": false,
    "id": "xXmiI6QYsK7q"
   },
   "source": [
    "---\n",
    "## 2. Знакомство с данными и их предварительная подготовка\n"
   ]
  },
  {
   "cell_type": "markdown",
   "metadata": {
    "deletable": false,
    "editable": false,
    "id": "2D6UywOBsK7q",
    "tags": [
     "start_task"
    ]
   },
   "source": [
    "### 2.1 Определение типов данных"
   ]
  },
  {
   "cell_type": "code",
   "execution_count": 5,
   "metadata": {
    "deletable": false,
    "id": "B40wZ2cnHfAM"
   },
   "outputs": [
    {
     "data": {
      "text/plain": [
       "user_id       int64\n",
       "distance    float64\n",
       "duration    float64\n",
       "date         object\n",
       "dtype: object"
      ]
     },
     "execution_count": 5,
     "metadata": {},
     "output_type": "execute_result"
    }
   ],
   "source": [
    "df_rides_go.dtypes"
   ]
  },
  {
   "cell_type": "markdown",
   "metadata": {
    "deletable": false,
    "editable": false,
    "id": "R0EN6gRJsK7r",
    "tags": [
     "start_task"
    ]
   },
   "source": [
    "### 2.2 Преобразование формата даты\n"
   ]
  },
  {
   "cell_type": "code",
   "execution_count": 6,
   "metadata": {
    "deletable": false,
    "id": "flLYZquqHggn"
   },
   "outputs": [],
   "source": [
    "df_rides_go['date']=pd.to_datetime(df_rides_go['date'])"
   ]
  },
  {
   "cell_type": "markdown",
   "metadata": {
    "deletable": false,
    "editable": false,
    "id": "RVxOqAqtsK7r",
    "tags": [
     "start_task"
    ]
   },
   "source": [
    "### 2.3 Создание столбца с месяцем"
   ]
  },
  {
   "cell_type": "code",
   "execution_count": 7,
   "metadata": {
    "deletable": false,
    "id": "LYkUO3EnHhu5"
   },
   "outputs": [],
   "source": [
    "df_rides_go['month'] = df_rides_go['date'].dt.month"
   ]
  },
  {
   "cell_type": "markdown",
   "metadata": {
    "deletable": false,
    "editable": false,
    "id": "u69-EsMDsK7w",
    "tags": [
     "start_task"
    ]
   },
   "source": [
    "### 2.4 Поиск дублей и пропусков"
   ]
  },
  {
   "cell_type": "code",
   "execution_count": null,
   "metadata": {
    "deletable": false,
    "id": "Bsfa7IX3Hi7w"
   },
   "outputs": [
    {
     "name": "stdout",
     "output_type": "stream",
     "text": [
      "0 31\n"
     ]
    }
   ],
   "source": [
    "# Количество пропусков во всем DataFrame\n",
    "num_missing = df_users_go.isnull().sum().sum()\n",
    "\n",
    "# Количество дубликатов\n",
    "num_duplicates = df_users_go.duplicated().sum()\n",
    "\n",
    "# Вывод результатов через пробел\n",
    "print(f\"{num_missing} {num_duplicates}\")"
   ]
  },
  {
   "cell_type": "markdown",
   "metadata": {
    "deletable": false,
    "editable": false,
    "id": "0n5_KBqtsK7y",
    "tags": [
     "start_task"
    ]
   },
   "source": [
    "### 2.5 Заполнение пропусков и удаление дублей\n"
   ]
  },
  {
   "cell_type": "code",
   "execution_count": 9,
   "metadata": {
    "deletable": false,
    "id": "X75yCyl_HkUS"
   },
   "outputs": [],
   "source": [
    "# Заполнение пропущенных значений нулями\n",
    "# Удаление дубликатов\n",
    "df_users_go = df_users_go.fillna(0)\n",
    "df_users_go = df_users_go.drop_duplicates()"
   ]
  },
  {
   "cell_type": "markdown",
   "metadata": {
    "deletable": false,
    "editable": false,
    "id": "kAGj3NxDsK7z",
    "tags": [
     "start_task"
    ]
   },
   "source": [
    "### 2.6 Округление длительности поездки"
   ]
  },
  {
   "cell_type": "code",
   "execution_count": null,
   "metadata": {
    "deletable": false,
    "id": "pm5FYnl_HlSd"
   },
   "outputs": [],
   "source": [
    "# Округление значения в столбце 'duration' до ближайшего целого\n",
    "df_rides_go['duration'] = df_rides_go['duration'].apply(round)\n",
    "\n",
    "# Приведение типа к целочисленному\n",
    "df_rides_go['duration'] = df_rides_go['duration'].astype(int)"
   ]
  },
  {
   "cell_type": "markdown",
   "metadata": {
    "deletable": false,
    "editable": false,
    "id": "r5kzIOGGsK7z"
   },
   "source": [
    "\n",
    "## 3. Исследовательский анализ данных (EDA)\n"
   ]
  },
  {
   "cell_type": "markdown",
   "metadata": {
    "deletable": false,
    "editable": false,
    "id": "v4xEIrk1sK70",
    "tags": [
     "start_task"
    ]
   },
   "source": [
    "### Задача 3.1 Количество пользователей по городам.\n"
   ]
  },
  {
   "cell_type": "code",
   "execution_count": null,
   "metadata": {
    "deletable": false,
    "id": "rkqVGZ9HHoXm"
   },
   "outputs": [
    {
     "name": "stdout",
     "output_type": "stream",
     "text": [
      "Пятигорск         219\n",
      "Екатеринбург      204\n",
      "Ростов-на-Дону    198\n",
      "Краснодар         193\n",
      "Сочи              189\n",
      "Омск              183\n",
      "Тюмень            180\n",
      "Москва            168\n",
      "Name: city, dtype: int64\n"
     ]
    }
   ],
   "source": [
    "# Подсчет количества уникальных пользователей в каждом городе\n",
    "#users_by_city_count = df_users_go.groupby('city')['user_id'].nunique()\n",
    "# Сортировка по убыванию\n",
    "#users_by_city_count = users_by_city_count.sort_values(ascending=False)\n",
    "# Вывод результата\n",
    "#print(users_by_city_count)\n",
    "# value_counts() считает количество вхождений каждого значения, \n",
    "# и правильнее сначала посчитать уникальных пользователей по каждому городу, если есть дубликаты\n",
    "# и если одно и тоже id может встречаться в нескольких городах в конкретных данных\n",
    "\n",
    "users_by_city_count = df_users_go['city'].value_counts()\n",
    "print(users_by_city_count)"
   ]
  },
  {
   "cell_type": "markdown",
   "metadata": {
    "deletable": false,
    "editable": false,
    "id": "T4MURCh8sK76",
    "tags": [
     "start_task"
    ]
   },
   "source": [
    "### 3.2 Количество пользователей подписки"
   ]
  },
  {
   "cell_type": "code",
   "execution_count": null,
   "metadata": {
    "deletable": false,
    "id": "Fc_B3eFvHpum"
   },
   "outputs": [
    {
     "name": "stdout",
     "output_type": "stream",
     "text": [
      "free     835\n",
      "ultra    699\n",
      "Name: subscription_type, dtype: int64\n"
     ]
    }
   ],
   "source": [
    "# с помощью value_counts() считаем какие (free и ultra)\n",
    "# и сколько встречается значений в столбце subscription_type\n",
    "subscription_type_count = df_users_go['subscription_type'].value_counts()\n",
    "print(subscription_type_count)"
   ]
  },
  {
   "cell_type": "markdown",
   "metadata": {
    "deletable": false,
    "editable": false,
    "id": "O3lz5rR4sK77",
    "tags": [
     "start_task"
    ]
   },
   "source": [
    "### 3.3 Круговая диаграмма\n",
    "С процентом пользователей с `free` и `ultra` подпиской. \n",
    "\n",
    "- **Заголовок.**  `title`- `'Соотношение пользователей с подпиской и без подписки'`.\n",
    "- **Процентные метки.**  `autopct='%.0f%%'` для отображения процентных значений на диаграмме. \n",
    "- **Подпись оси Y.**  `(ylabel='')`\n",
    "- **Цвета секторов.**  `colors`\n"
   ]
  },
  {
   "cell_type": "code",
   "execution_count": null,
   "metadata": {
    "deletable": false,
    "id": "xdIJI_KoHr7b"
   },
   "outputs": [
    {
     "data": {
      "image/png": "[encoded data removed]",
      "text/plain": [
       "<Figure size 432x288 with 1 Axes>"
      ]
     },
     "metadata": {},
     "output_type": "display_data"
    }
   ],
   "source": [
    "subscription_type_count.plot(\n",
    "    kind= 'pie',\n",
    "    title='Соотношение пользователей с подпиской и без подписки',\n",
    "    autopct='%.0f%%',\n",
    "    ylabel='',\n",
    "    colors= ['red', 'green']\n",
    ")\n",
    "\n",
    "plt.show()\n"
   ]
  },
  {
   "cell_type": "markdown",
   "metadata": {
    "deletable": false,
    "editable": false,
    "id": "AghuPrntsK78",
    "tags": [
     "start_task"
    ]
   },
   "source": [
    "### 3.4 Гистограмма возрастов\n",
    "\n",
    "\n",
    "1. Определить количество бинов `n_bins` как разницу между максимальным и минимальным значениями в столбце `age`.\n",
    "2. Использовать метод `hist()` для столбца `df_users_go['age']`.\n",
    "3. Установить количество бинов через параметр `bins=n_bins`.\n",
    "4. Назначить заголовок графика как `'Возраст пользователей'` с помощью `plt.title()`.\n",
    "5. Установить подпись оси X как `'Возраст'` с помощью `plt.xlabel()`.\n",
    "6. Вызвать `plt.show()` для визуального отображения гистограммы."
   ]
  },
  {
   "cell_type": "code",
   "execution_count": null,
   "metadata": {
    "deletable": false,
    "id": "E-0ubIOKmbCR"
   },
   "outputs": [
    {
     "data": {
      "image/png": "[encoded data removed]",
      "text/plain": [
       "<Figure size 432x288 with 1 Axes>"
      ]
     },
     "metadata": {
      "needs_background": "light"
     },
     "output_type": "display_data"
    }
   ],
   "source": [
    "# Определить количество бинов n_bins, \n",
    "# как разницу между максимальным и минимальным значениями в столбце age.\n",
    "n_bins = int(df_users_go['age'].max() - df_users_go['age'].min())\n",
    "df_users_go['age'].hist(bins=n_bins)\n",
    "\n",
    "plt.title('Возраст пользователей')\n",
    "plt.xlabel('Возраст')\n",
    "plt.show()\n",
    "# Строим гистограмму по-другому\n",
    "#df_users_go['age'].plot(kind='hist', bins=n_bins)\n",
    "#plt.title('Возраст пользователей')\n",
    "#plt.xlabel('Возраст')\n",
    "#plt.ylabel('Количество')\n",
    "#plt.show()"
   ]
  },
  {
   "cell_type": "markdown",
   "metadata": {
    "deletable": false,
    "editable": false,
    "id": "s0gjcXIasK7-",
    "tags": [
     "start_task"
    ]
   },
   "source": [
    "### 3.5 Несовершеннолетние пользователи\n"
   ]
  },
  {
   "cell_type": "code",
   "execution_count": null,
   "metadata": {
    "deletable": false,
    "id": "OR-1q5LJI9UK"
   },
   "outputs": [
    {
     "name": "stdout",
     "output_type": "stream",
     "text": [
      "Доля несовершеннолетних пользователей самокатов составляет 5%.\n"
     ]
    }
   ],
   "source": [
    "# Создание логической маски\n",
    "mask =df_users_go['age'] < 18\n",
    "# Подсчет количества пользователей < 18\n",
    "count_users = mask.sum()\n",
    "#print(count_users)\n",
    "# Подстчет общего числа пользователей\n",
    "total_users = df_users_go.shape[0]\n",
    "#print(total_users)\n",
    "# Расчет доли\n",
    "users_under_18_ratio = int((count_users / total_users)*100)\n",
    "\n",
    "print(f'Доля несовершеннолетних пользователей самокатов составляет {users_under_18_ratio}%.')"
   ]
  },
  {
   "cell_type": "markdown",
   "metadata": {
    "deletable": false,
    "editable": false,
    "id": "FK3h1H-nP5NW",
    "tags": [
     "start_task"
    ]
   },
   "source": [
    "### 3.6 Характеристики длительности поездки\n",
    "Длительность поездки является важной метрикой в работе сервиса проката самокатов. Если средняя длительность поездок будет слишком высокой, самокаты будут быстрее выходить из строя. Если слишком низкой, значит, клиентам что-то не нравится в сервисе.\n",
    "\n",
    "\n",
    "1. Расчитать среднее значение и стандартное отклонение длительности поездки. \n",
    "2. Рассчитать 25-й и 75-й процентили длительности поездки.\n",
    "\n"
   ]
  },
  {
   "cell_type": "code",
   "execution_count": null,
   "metadata": {
    "deletable": false,
    "id": "Gnhi9BqZKr3-"
   },
   "outputs": [
    {
     "name": "stdout",
     "output_type": "stream",
     "text": [
      "Средняя длительность поездки 18 минут со стандартным отклонением 6. Основная часть поездок занимает от 14 до 22 минут.\n"
     ]
    }
   ],
   "source": [
    "duration_mean = int(round(df_rides_go['duration'].mean(),0))\n",
    "duration_std = int(df_rides_go['duration'].std())\n",
    "\n",
    "duration_pct25 = int(df_rides_go['duration'].quantile(0.25))\n",
    "duration_pct75 = int(df_rides_go['duration'].quantile(0.75))\n",
    "\n",
    "print(f'Средняя длительность поездки {duration_mean} минут со стандартным отклонением {duration_std}. Основная часть поездок занимает от {duration_pct25} до {duration_pct75} минут.')"
   ]
  },
  {
   "cell_type": "markdown",
   "metadata": {
    "deletable": false,
    "editable": false,
    "id": "tyrEdxs0sK8C"
   },
   "source": [
    "\n",
    "## 4. Объединение данных\n"
   ]
  },
  {
   "cell_type": "markdown",
   "metadata": {
    "deletable": false,
    "editable": false,
    "id": "diTj4AtBsK8C",
    "tags": [
     "start_task"
    ]
   },
   "source": [
    "### 4.1 Объединение таблицы пользователей и поездок\n",
    "Объединить датафреймы с информацией о пользователях `df_users_go` и поездках `df_rides_go`"
   ]
  },
  {
   "cell_type": "code",
   "execution_count": 18,
   "metadata": {
    "deletable": false,
    "id": "WwPCouN0nhPk"
   },
   "outputs": [],
   "source": [
    "df=df_users_go.merge(df_rides_go, on='user_id', how='left')"
   ]
  },
  {
   "cell_type": "markdown",
   "metadata": {
    "deletable": false,
    "editable": false,
    "id": "-RP6pSRQsK8D",
    "tags": [
     "start_task"
    ]
   },
   "source": [
    "### 4.2 Присоединение информации о подписках\n",
    "Присоединить информацию о подписках из `df_subscriptions_go`\n"
   ]
  },
  {
   "cell_type": "code",
   "execution_count": 19,
   "metadata": {
    "deletable": false,
    "id": "G2coeCg2n6oe"
   },
   "outputs": [],
   "source": [
    "df= df.merge(df_subscriptions_go, on='subscription_type', how ='left')"
   ]
  },
  {
   "cell_type": "markdown",
   "metadata": {
    "deletable": false,
    "editable": false,
    "id": "RGrvW_QIsK8D",
    "tags": [
     "start_task"
    ]
   },
   "source": [
    "### 4.3. Размеры объединённого датафрейма"
   ]
  },
  {
   "cell_type": "code",
   "execution_count": 20,
   "metadata": {
    "deletable": false,
    "id": "9isF62fNLWAD"
   },
   "outputs": [
    {
     "data": {
      "text/html": [
       "<div>\n",
       "<style scoped>\n",
       "    .dataframe tbody tr th:only-of-type {\n",
       "        vertical-align: middle;\n",
       "    }\n",
       "\n",
       "    .dataframe tbody tr th {\n",
       "        vertical-align: top;\n",
       "    }\n",
       "\n",
       "    .dataframe thead th {\n",
       "        text-align: right;\n",
       "    }\n",
       "</style>\n",
       "<table border=\"1\" class=\"dataframe\">\n",
       "  <thead>\n",
       "    <tr style=\"text-align: right;\">\n",
       "      <th></th>\n",
       "      <th>user_id</th>\n",
       "      <th>name</th>\n",
       "      <th>age</th>\n",
       "      <th>city</th>\n",
       "      <th>subscription_type</th>\n",
       "      <th>distance</th>\n",
       "      <th>duration</th>\n",
       "      <th>date</th>\n",
       "      <th>month</th>\n",
       "      <th>minute_price</th>\n",
       "      <th>start_ride_price</th>\n",
       "      <th>subscription_fee</th>\n",
       "    </tr>\n",
       "  </thead>\n",
       "  <tbody>\n",
       "    <tr>\n",
       "      <th>0</th>\n",
       "      <td>1</td>\n",
       "      <td>Кира</td>\n",
       "      <td>22</td>\n",
       "      <td>Тюмень</td>\n",
       "      <td>ultra</td>\n",
       "      <td>4409.919140</td>\n",
       "      <td>26</td>\n",
       "      <td>2021-01-01</td>\n",
       "      <td>1</td>\n",
       "      <td>6</td>\n",
       "      <td>0</td>\n",
       "      <td>199</td>\n",
       "    </tr>\n",
       "    <tr>\n",
       "      <th>1</th>\n",
       "      <td>1</td>\n",
       "      <td>Кира</td>\n",
       "      <td>22</td>\n",
       "      <td>Тюмень</td>\n",
       "      <td>ultra</td>\n",
       "      <td>2617.592153</td>\n",
       "      <td>16</td>\n",
       "      <td>2021-01-18</td>\n",
       "      <td>1</td>\n",
       "      <td>6</td>\n",
       "      <td>0</td>\n",
       "      <td>199</td>\n",
       "    </tr>\n",
       "    <tr>\n",
       "      <th>2</th>\n",
       "      <td>1</td>\n",
       "      <td>Кира</td>\n",
       "      <td>22</td>\n",
       "      <td>Тюмень</td>\n",
       "      <td>ultra</td>\n",
       "      <td>754.159807</td>\n",
       "      <td>6</td>\n",
       "      <td>2021-04-20</td>\n",
       "      <td>4</td>\n",
       "      <td>6</td>\n",
       "      <td>0</td>\n",
       "      <td>199</td>\n",
       "    </tr>\n",
       "    <tr>\n",
       "      <th>3</th>\n",
       "      <td>1</td>\n",
       "      <td>Кира</td>\n",
       "      <td>22</td>\n",
       "      <td>Тюмень</td>\n",
       "      <td>ultra</td>\n",
       "      <td>2694.783254</td>\n",
       "      <td>19</td>\n",
       "      <td>2021-08-11</td>\n",
       "      <td>8</td>\n",
       "      <td>6</td>\n",
       "      <td>0</td>\n",
       "      <td>199</td>\n",
       "    </tr>\n",
       "    <tr>\n",
       "      <th>4</th>\n",
       "      <td>1</td>\n",
       "      <td>Кира</td>\n",
       "      <td>22</td>\n",
       "      <td>Тюмень</td>\n",
       "      <td>ultra</td>\n",
       "      <td>4028.687306</td>\n",
       "      <td>26</td>\n",
       "      <td>2021-08-28</td>\n",
       "      <td>8</td>\n",
       "      <td>6</td>\n",
       "      <td>0</td>\n",
       "      <td>199</td>\n",
       "    </tr>\n",
       "  </tbody>\n",
       "</table>\n",
       "</div>"
      ],
      "text/plain": [
       "   user_id  name  age    city subscription_type     distance  duration  \\\n",
       "0        1  Кира   22  Тюмень             ultra  4409.919140        26   \n",
       "1        1  Кира   22  Тюмень             ultra  2617.592153        16   \n",
       "2        1  Кира   22  Тюмень             ultra   754.159807         6   \n",
       "3        1  Кира   22  Тюмень             ultra  2694.783254        19   \n",
       "4        1  Кира   22  Тюмень             ultra  4028.687306        26   \n",
       "\n",
       "        date  month  minute_price  start_ride_price  subscription_fee  \n",
       "0 2021-01-01      1             6                 0               199  \n",
       "1 2021-01-18      1             6                 0               199  \n",
       "2 2021-04-20      4             6                 0               199  \n",
       "3 2021-08-11      8             6                 0               199  \n",
       "4 2021-08-28      8             6                 0               199  "
      ]
     },
     "metadata": {},
     "output_type": "display_data"
    },
    {
     "name": "stdout",
     "output_type": "stream",
     "text": [
      "В полученном датафрейме 18068 строк и 12 столбцов.\n"
     ]
    }
   ],
   "source": [
    "# Выводим первые строки датафрейма\n",
    "display(df.head())\n",
    "\n",
    "# Выводим количество строк и столбцов в объединённом датафрейме\n",
    "n_rows, n_cols = df.shape\n",
    "print(f'В полученном датафрейме {n_rows} строк и {n_cols} столбцов.')"
   ]
  },
  {
   "cell_type": "markdown",
   "metadata": {
    "deletable": false,
    "editable": false,
    "id": "j4fAbR0dsK8E",
    "tags": [
     "start_task"
    ]
   },
   "source": [
    "### 4.4 Отдельные датафреймы для пользователей с подпиской и без\n",
    "Два вспомогательных датафрейма на основе `df`: первый только для пользователей с подпиской `df_ultra` и второй только для пользователей без подписки `df_free`"
   ]
  },
  {
   "cell_type": "code",
   "execution_count": 21,
   "metadata": {
    "deletable": false,
    "id": "sKY6MwNNosYg"
   },
   "outputs": [],
   "source": [
    "# Для подписок \"free\"\n",
    "df_free = df[df['subscription_type'] == 'free']\n",
    "\n",
    "# Для подписок \"ultra\"\n",
    "df_ultra = df[df['subscription_type'] == 'ultra']"
   ]
  },
  {
   "cell_type": "markdown",
   "metadata": {
    "deletable": false,
    "editable": false,
    "id": "EsOUpiJ1sK8F",
    "tags": [
     "start_task"
    ]
   },
   "source": [
    "### 4.5 Гистограмма длительности поездок для обоих групп\n",
    "\n",
    "\n",
    "1. Размер графика: 15 по горизонтали и 5 по вертикали. Использовать `plt.figure(figsize=(15, 5))`.\n",
    "2. Отобразить данные из столбца `duration` датафрейма `df_free` с помощью метода `hist()`, задав количество бинов `bins=30` и метку `label='free'`.\n",
    "3. Отобразить данные из столбца `duration` датафрейма `df_ultra` с помощью метода `hist()`, также задав количество бинов `bins=30` и метку `label='ultra'`.\n",
    "4. Установить подпись оси X как `'Длительность поездки, мин.'`, используя `plt.xlabel()`.\n",
    "5. Задать заголовок графика как `'Гистограмма распределения длительности поездок'` методом `plt.title()`.\n",
    "6. Добавить легенду для различения категорий на графике с использованием `plt.legend()`.\n",
    "7. Вызвать `plt.show()` для показа графика пользователю.\n"
   ]
  },
  {
   "cell_type": "code",
   "execution_count": 22,
   "metadata": {
    "deletable": false,
    "id": "qw6ZmTHspFbc"
   },
   "outputs": [
    {
     "data": {
      "image/png": "[encoded data removed]",
      "text/plain": [
       "<Figure size 1080x360 with 1 Axes>"
      ]
     },
     "metadata": {
      "needs_background": "light"
     },
     "output_type": "display_data"
    },
    {
     "name": "stdout",
     "output_type": "stream",
     "text": [
      "Средняя длительность поездки для пользователей без подписки 17 мин, а для пользователей с подпиской 19 мин\n"
     ]
    }
   ],
   "source": [
    "# Гистограмма длительности поездки для пользователей с подпиской и без\n",
    "plt.figure(figsize=(15, 5))\n",
    "df_free['duration'].hist(bins=30, label='free')\n",
    "df_ultra['duration'].hist(bins=30, label='ultra')\n",
    "plt.title('Гистограмма распределения длительности поездок')\n",
    "plt.xlabel('Длительность поездки, мин.')\n",
    "plt.legend(loc='upper right')  #'upper left', 'lower right', 'center'\n",
    "plt.show() \n",
    "\n",
    "# Расчет и вывод на экран средней длительности поездки для пользователей с подпиской и без\n",
    "mean_duration_free = int(round(df_free['duration'].mean(),0))\n",
    "mean_duration_ultra = int(round(df_ultra['duration'].mean(),0))\n",
    "print(f'Средняя длительность поездки для пользователей без подписки {mean_duration_free} мин, а для пользователей с подпиской {mean_duration_ultra} мин')"
   ]
  },
  {
   "cell_type": "markdown",
   "metadata": {},
   "source": [
    "На графике видно, что профили длительности поездок у пользователей с разной подпиской схожи. У пользователей без платной подписки бОльший разброс по времени поездок, чем у пользователей с платной подпиской Ultra."
   ]
  },
  {
   "cell_type": "markdown",
   "metadata": {
    "deletable": false,
    "editable": false,
    "id": "oasgRJ_osK8G"
   },
   "source": [
    "---\n",
    "## 5. Подсчёт выручки\n",
    "Данные о количестве и длительности поездок объединены с ценами и тарифами, а значит, теперь есть всё необходимое, чтобы рассчитать выручку."
   ]
  },
  {
   "cell_type": "markdown",
   "metadata": {
    "deletable": false,
    "editable": false,
    "id": "LVBMnLV0sK8G",
    "tags": [
     "start_task"
    ]
   },
   "source": [
    "### 5.1 Данные сгруппированные по нужным колонкам\n",
    "не должны использоваться групповые индексы (опция `as_index=False`).\n"
   ]
  },
  {
   "cell_type": "code",
   "execution_count": 23,
   "metadata": {
    "deletable": false,
    "id": "Ij2VX1plpVQI"
   },
   "outputs": [],
   "source": [
    "df_gp = df.groupby(['user_id', 'name', 'subscription_type', 'month'], as_index=False)"
   ]
  },
  {
   "cell_type": "markdown",
   "metadata": {
    "deletable": false,
    "editable": false,
    "id": "UVBq7IWjsK8H",
    "tags": [
     "start_task"
    ]
   },
   "source": [
    "### 5.2 Подсчёт агрегированных метрик\n",
    "`df_agg`:\n",
    "- `total_distance` — сумма значений в столбце `distance`.\n",
    "- `total_duration` — сумма значений в столбце `duration`.\n",
    "- `rides_count` — количество элементов в столбце `duration`.\n",
    "- `subscription_type` — первое значение в группе для столбца `subscription_type`.\n",
    "- `minute_price` — первое значение в группе для столбца `minute_price`.\n",
    "- `start_ride_price` — первое значение в группе для столбца `start_ride_price`.\n",
    "- `subscription_fee` — первое значение в группе для столбца `subscription_fee`."
   ]
  },
  {
   "cell_type": "code",
   "execution_count": 24,
   "metadata": {
    "deletable": false,
    "id": "8NEOkiIONXHF"
   },
   "outputs": [],
   "source": [
    "df_agg = df_gp.agg( \n",
    "    total_distance=('distance', 'sum'),\n",
    "    total_duration=('duration', 'sum'),\n",
    "    rides_count= ('duration', 'count'),\n",
    "    #первое значение в группе для столбца\n",
    "    subscription_type= ('subscription_type', 'first'),\n",
    "    minute_price=('minute_price', 'first'),\n",
    "    start_ride_price=('start_ride_price', 'first'),\n",
    "    subscription_fee=('subscription_fee', 'first')\n",
    ")"
   ]
  },
  {
   "cell_type": "markdown",
   "metadata": {
    "deletable": false,
    "editable": false,
    "id": "l6uH5vWSsK8H",
    "tags": [
     "start_task"
    ]
   },
   "source": [
    "###5.3 Функция для подсчёта выручки\n",
    "calculate_monthly_revenue(row) для расчёта месячной выручки по формуле:\n",
    "\n",
    "`monthly_revenue` = `start_ride_price` * `rides_count` + `minute_price` * `total_duration` + `subscription_fee`\n",
    "\n",
    "В качестве входных данных функция будет принимать одну строку `row` дф\n",
    "\n",
    "Здесь:\n",
    "- `start_ride_price * rides_count` — выручка от начала каждой поездки.\n",
    "- `minute_price * total_duration` — выручка за время использования.\n",
    "- `subscription_fee` — фиксированная выручка от подписок."
   ]
  },
  {
   "cell_type": "code",
   "execution_count": 25,
   "metadata": {
    "deletable": false,
    "id": "4nzdjVb8qDds"
   },
   "outputs": [],
   "source": [
    "def calculate_monthly_revenue(row):\n",
    "    # расчёт месячной выручки по формуле:\n",
    "    monthly_revenue = (\n",
    "        row['start_ride_price'] * row['rides_count'] +\n",
    "        row['minute_price'] * row['total_duration'] +\n",
    "        row['subscription_fee']\n",
    "    )\n",
    "    #Внутри ф-и обращаемся к значениям стб через row['название_столбца']\n",
    "    return monthly_revenue"
   ]
  },
  {
   "cell_type": "markdown",
   "metadata": {
    "deletable": false,
    "editable": false,
    "id": "bH0zftBAsK8I",
    "tags": [
     "start_task"
    ]
   },
   "source": [
    "### 5.4 Создание столбца с месячной выручкой на пользователя\n",
    "Новый стб с месячной выручкой на пользователя `monthly_revenue`"
   ]
  },
  {
   "cell_type": "code",
   "execution_count": 26,
   "metadata": {
    "deletable": false,
    "id": "iUo_b7nmqVL3"
   },
   "outputs": [],
   "source": [
    "# Исп-м .apply() с аргументом axis=1, чтобы применить ф-ию к каждой строке DF\n",
    "df_agg['monthly_revenue']=df_agg.apply(calculate_monthly_revenue, axis=1)"
   ]
  },
  {
   "cell_type": "markdown",
   "metadata": {
    "deletable": false,
    "editable": false,
    "id": "HTbnNX3msK8I",
    "tags": [
     "start_task"
    ]
   },
   "source": [
    "### 5.5 Поиск пользователя с максимальной выручкой\n"
   ]
  },
  {
   "cell_type": "code",
   "execution_count": 27,
   "metadata": {
    "deletable": false,
    "id": "G93dZkJgqozi"
   },
   "outputs": [
    {
     "data": {
      "text/html": [
       "<div>\n",
       "<style scoped>\n",
       "    .dataframe tbody tr th:only-of-type {\n",
       "        vertical-align: middle;\n",
       "    }\n",
       "\n",
       "    .dataframe tbody tr th {\n",
       "        vertical-align: top;\n",
       "    }\n",
       "\n",
       "    .dataframe thead th {\n",
       "        text-align: right;\n",
       "    }\n",
       "</style>\n",
       "<table border=\"1\" class=\"dataframe\">\n",
       "  <thead>\n",
       "    <tr style=\"text-align: right;\">\n",
       "      <th></th>\n",
       "      <th>user_id</th>\n",
       "      <th>name</th>\n",
       "      <th>month</th>\n",
       "      <th>rides_count</th>\n",
       "      <th>monthly_revenue</th>\n",
       "    </tr>\n",
       "  </thead>\n",
       "  <tbody>\n",
       "    <tr>\n",
       "      <th>8877</th>\n",
       "      <td>1236</td>\n",
       "      <td>Александр</td>\n",
       "      <td>1</td>\n",
       "      <td>2</td>\n",
       "      <td>228</td>\n",
       "    </tr>\n",
       "    <tr>\n",
       "      <th>8878</th>\n",
       "      <td>1236</td>\n",
       "      <td>Александр</td>\n",
       "      <td>2</td>\n",
       "      <td>3</td>\n",
       "      <td>614</td>\n",
       "    </tr>\n",
       "    <tr>\n",
       "      <th>8879</th>\n",
       "      <td>1236</td>\n",
       "      <td>Александр</td>\n",
       "      <td>3</td>\n",
       "      <td>5</td>\n",
       "      <td>762</td>\n",
       "    </tr>\n",
       "    <tr>\n",
       "      <th>8880</th>\n",
       "      <td>1236</td>\n",
       "      <td>Александр</td>\n",
       "      <td>4</td>\n",
       "      <td>1</td>\n",
       "      <td>202</td>\n",
       "    </tr>\n",
       "    <tr>\n",
       "      <th>8881</th>\n",
       "      <td>1236</td>\n",
       "      <td>Александр</td>\n",
       "      <td>5</td>\n",
       "      <td>3</td>\n",
       "      <td>574</td>\n",
       "    </tr>\n",
       "    <tr>\n",
       "      <th>8882</th>\n",
       "      <td>1236</td>\n",
       "      <td>Александр</td>\n",
       "      <td>6</td>\n",
       "      <td>1</td>\n",
       "      <td>282</td>\n",
       "    </tr>\n",
       "    <tr>\n",
       "      <th>8883</th>\n",
       "      <td>1236</td>\n",
       "      <td>Александр</td>\n",
       "      <td>7</td>\n",
       "      <td>1</td>\n",
       "      <td>290</td>\n",
       "    </tr>\n",
       "    <tr>\n",
       "      <th>8884</th>\n",
       "      <td>1236</td>\n",
       "      <td>Александр</td>\n",
       "      <td>8</td>\n",
       "      <td>2</td>\n",
       "      <td>452</td>\n",
       "    </tr>\n",
       "    <tr>\n",
       "      <th>8885</th>\n",
       "      <td>1236</td>\n",
       "      <td>Александр</td>\n",
       "      <td>9</td>\n",
       "      <td>1</td>\n",
       "      <td>122</td>\n",
       "    </tr>\n",
       "    <tr>\n",
       "      <th>8886</th>\n",
       "      <td>1236</td>\n",
       "      <td>Александр</td>\n",
       "      <td>10</td>\n",
       "      <td>3</td>\n",
       "      <td>430</td>\n",
       "    </tr>\n",
       "    <tr>\n",
       "      <th>8887</th>\n",
       "      <td>1236</td>\n",
       "      <td>Александр</td>\n",
       "      <td>11</td>\n",
       "      <td>3</td>\n",
       "      <td>494</td>\n",
       "    </tr>\n",
       "    <tr>\n",
       "      <th>8888</th>\n",
       "      <td>1236</td>\n",
       "      <td>Александр</td>\n",
       "      <td>12</td>\n",
       "      <td>2</td>\n",
       "      <td>476</td>\n",
       "    </tr>\n",
       "  </tbody>\n",
       "</table>\n",
       "</div>"
      ],
      "text/plain": [
       "      user_id       name  month  rides_count  monthly_revenue\n",
       "8877     1236  Александр      1            2              228\n",
       "8878     1236  Александр      2            3              614\n",
       "8879     1236  Александр      3            5              762\n",
       "8880     1236  Александр      4            1              202\n",
       "8881     1236  Александр      5            3              574\n",
       "8882     1236  Александр      6            1              282\n",
       "8883     1236  Александр      7            1              290\n",
       "8884     1236  Александр      8            2              452\n",
       "8885     1236  Александр      9            1              122\n",
       "8886     1236  Александр     10            3              430\n",
       "8887     1236  Александр     11            3              494\n",
       "8888     1236  Александр     12            2              476"
      ]
     },
     "metadata": {},
     "output_type": "display_data"
    }
   ],
   "source": [
    "# Найти user_id с максимальной суммарной выручкой\n",
    "top_user = df_agg.groupby('user_id')['monthly_revenue'].sum().idxmax()\n",
    "\n",
    "# 2. Получить все записи этого пользователя\n",
    "user_info = df_agg.query('user_id == @top_user')[['user_id', 'name', 'month', 'rides_count'\n",
    "                                                   , 'monthly_revenue']]\n",
    "display(user_info)"
   ]
  },
  {
   "cell_type": "markdown",
   "metadata": {
    "deletable": false,
    "editable": false,
    "id": "pTYLbBZEsK8J"
   },
   "source": [
    "\n",
    "## 6. Проверка гипотез"
   ]
  },
  {
   "cell_type": "markdown",
   "metadata": {
    "deletable": false,
    "editable": false,
    "id": "kiNRoB5zsK8K",
    "tags": [
     "start_task"
    ]
   },
   "source": [
    "### 6.1 Вспомогательная функция для интерпретации результатов\n",
    " `print_stattest_results(p_value, alpha)` будет интерпретировать результаты статистического теста на основе p-value и заданного уровня значимости (α-уровня). \n"
   ]
  },
  {
   "cell_type": "code",
   "execution_count": null,
   "metadata": {
    "deletable": false,
    "id": "xRuwp-yeQwTD"
   },
   "outputs": [
    {
     "name": "stdout",
     "output_type": "stream",
     "text": [
      "Полученное значение p_value=0.0001 меньше критического уровня alpha=0.05. Принимаем альтернативную гипотезу.\n",
      "Полученное значение p_value=0.1 больше критического уровня alpha=0.05. Опровергнуть нулевую гипотезу нельзя.\n"
     ]
    }
   ],
   "source": [
    "def print_stattest_results(p_value:float, alpha:float = 0.05):\n",
    "    if p_value < alpha:\n",
    "        print(f'Полученное значение p_value={p_value} меньше критического уровня alpha={alpha}. Принимаем альтернативную гипотезу.')\n",
    "    else:\n",
    "        print(f'Полученное значение p_value={p_value} больше критического уровня alpha={alpha}. Опровергнуть нулевую гипотезу нельзя.')\n",
    "print_stattest_results(p_value=0.0001)\n",
    "print_stattest_results(p_value=0.1)"
   ]
  },
  {
   "cell_type": "markdown",
   "metadata": {
    "deletable": false,
    "editable": false,
    "id": "6sLXAPjjsK8K",
    "tags": [
     "start_task"
    ]
   },
   "source": [
    "### 6.2 Длительность для пользователей с подпиской и без\n",
    "\n",
    "Важно понять, тратят ли пользователи с подпиской больше времени на поездки?\n",
    "- Нулевая гипотеза (Н0): Среднее время поездки у пользователей с подпиской и без подписки одинаковое.\n",
    "- Альтернативная гипотеза (Н1): Среднее время поездки у пользователей с подпиской больше, чем у пользователей без подписки.\n",
    "\n",
    "1. Используем `df_ultra` и `df_free` стб `duration` \n",
    "2. Рассчитать значение `p_value` для выбранной гипотезы, используя функции модуля `scipy.stats` и односторонний t-тест.\n",
    "3. В конце дополнительно рассчитайте среднюю длительность поездки для тарифов `ultra` и `free`, округлив её до двух знаков после точки стандартной функцией `round()`."
   ]
  },
  {
   "cell_type": "code",
   "execution_count": null,
   "metadata": {
    "deletable": false,
    "id": "DJ1nCMZQRfFX"
   },
   "outputs": [
    {
     "name": "stdout",
     "output_type": "stream",
     "text": [
      "Полученное значение p_value=3.1600689435611813e-35 меньше критического уровня alpha=0.05. Принимаем альтернативную гипотезу.\n",
      "Средняя длительность поездки тарифа Ultra 18.55\n",
      "Средняя длительность поездки тарифа Free 17.39\n"
     ]
    }
   ],
   "source": [
    "ultra_duration = df_ultra['duration']\n",
    "free_duration =df_free['duration']\n",
    "\n",
    "results = st.ttest_ind(ultra_duration, free_duration, alternative = 'greater')\n",
    "p_value = results.pvalue\n",
    "print_stattest_results(p_value, alpha=0.05)\n",
    "\n",
    "ultra_mean_duration =round(df_ultra['duration'].mean(),2)\n",
    "free_mean_duration = round(df_free['duration'].mean(),2)\n",
    "\n",
    "print(f'Средняя длительность поездки тарифа Ultra {ultra_mean_duration}')\n",
    "print(f'Средняя длительность поездки тарифа Free {free_mean_duration}')"
   ]
  },
  {
   "cell_type": "markdown",
   "metadata": {
    "deletable": false,
    "editable": false,
    "id": "HLlf6BYfsK8L",
    "tags": [
     "start_task"
    ]
   },
   "source": [
    "### 6.3 Длительность поездки: больше или меньше критического значения\n",
    "\n",
    "Расстояние одной поездки в 3130 метров — оптимальное с точки зрения износа самоката. Можно ли сказать, что расстояние, которое проезжают пользователи с подпиской за одну поездку, меньше 3130 метров?\n",
    "\n",
    "- Нулевая гипотеза (Н0): Средняя дистанция поездки у пользователей с подпиской равна 3130 м.\n",
    "- Альтернативная гипотеза (Н1): Средняя дистанция поездки у пользователей с подпиской больше 3130 м."
   ]
  },
  {
   "cell_type": "code",
   "execution_count": null,
   "metadata": {
    "deletable": false,
    "id": "sXgKlO-bSJI-"
   },
   "outputs": [
    {
     "name": "stdout",
     "output_type": "stream",
     "text": [
      "Полученное значение p_value=0.9195368847849785 больше критического уровня alpha=0.05. Опровергнуть нулевую гипотезу нельзя.\n"
     ]
    }
   ],
   "source": [
    "# Определяем нулевую гипотезу - крит. знач. для проверки\n",
    "null_hypothesis = 3130\n",
    "# Получаем данные о дистанциях поездок пользователей с подпиской\n",
    "ultra_distance = df_ultra['distance']\n",
    "# Уровень значимости \n",
    "alpha = 0.05\n",
    "# Выполняем односторонний t-тест\n",
    "# lternative ='greater' - правосторонняя гипотеза, когда H1 > Больше H0\n",
    "results = st.ttest_1samp(ultra_distance, null_hypothesis, alternative ='greater')\n",
    "p_value = results.pvalue\n",
    "# Ф-я для интерпритации результатов\n",
    "print_stattest_results(p_value, alpha)"
   ]
  },
  {
   "cell_type": "markdown",
   "metadata": {
    "deletable": false,
    "editable": false,
    "id": "5TmnT74FsK8L",
    "tags": [
     "start_task"
    ]
   },
   "source": [
    "### 6.4 Прибыль от пользователей с подпиской и без\n",
    "\n",
    "- Нулевая гипотеза (Н0): Средняя месячная выручка у пользователей с подпиской и без подписки одинаковая.\n",
    "- Альтернативная гипотеза (Н1): Средняя месячная выручка у пользователей с подпиской выше, чем у пользователей без подписки.\n",
    "\n",
    "\n",
    "1. Используем агрегированные данные из датафрейма `df_agg` данные о месячной выручке от каждого пользователя — `monthly_revenue`.\n",
    "2. Рассчет `p_value` односторонний t-тест.\n",
    "3. Средняя выручку для тарифов `ultra` и `free`, округлив её до целого стандартной функцией `round()`."
   ]
  },
  {
   "cell_type": "code",
   "execution_count": null,
   "metadata": {
    "deletable": false,
    "id": "Gvfo6GlvSrHl"
   },
   "outputs": [
    {
     "name": "stdout",
     "output_type": "stream",
     "text": [
      "Полученное значение p_value=1.7274069878387966e-37 меньше критического уровня alpha=0.05. Принимаем альтернативную гипотезу.\n",
      "Средняя выручка подписчиков Ultra 359.0 руб\n",
      "Средняя выручка подписчиков Free 322.0 руб\n"
     ]
    }
   ],
   "source": [
    "# Данные о месячной выручке от каждого пользователя с условием, что в стб значение ultra или free\n",
    "revenue_ultra = df_agg[df_agg['subscription_type']== 'ultra']['monthly_revenue']\n",
    "revenue_free = df_agg[df_agg['subscription_type']== 'free']['monthly_revenue']\n",
    "# применяем тест для проверки 2-х  не зав ? гипотез\n",
    "results = st.ttest_ind(revenue_ultra, revenue_free, alternative ='greater')\n",
    "p_value = results.pvalue\n",
    "print_stattest_results(p_value)\n",
    "\n",
    "mean_revenue_ultra = round(df_agg[df_agg['subscription_type']== 'ultra']['monthly_revenue'].mean())\n",
    "mean_revenue_free = round(df_agg[df_agg['subscription_type']== 'free']['monthly_revenue'].mean())\n",
    "\n",
    "print(f'Средняя выручка подписчиков Ultra {mean_revenue_ultra} руб')\n",
    "print(f'Средняя выручка подписчиков Free {mean_revenue_free} руб')"
   ]
  },
  {
   "cell_type": "markdown",
   "metadata": {
    "deletable": false,
    "editable": false,
    "id": "C3EoEcibyzeu"
   },
   "source": [
    "\n",
    "## 7. Распределения"
   ]
  },
  {
   "cell_type": "markdown",
   "metadata": {
    "deletable": false,
    "editable": false,
    "id": "ibnzyqiCz0i2"
   },
   "source": [
    "В компании возникла идея предлагать дополнительную скидку подписчикам, совершающим длительные поездки продолжительностью более 30 минут. Нужно оценить долю таких поездок."
   ]
  },
  {
   "cell_type": "markdown",
   "metadata": {
    "deletable": false,
    "editable": false,
    "id": "C2C1nTJx5Hf_",
    "tags": [
     "start_task"
    ]
   },
   "source": [
    "### 7.1 Расчёт выборочного среднего и стандартного отклонения"
   ]
  },
  {
   "cell_type": "code",
   "execution_count": 38,
   "metadata": {
    "deletable": false,
    "id": "LNVfLHzUTkAJ"
   },
   "outputs": [
    {
     "name": "stdout",
     "output_type": "stream",
     "text": [
      "Средняя длительность поездки 18.5, стандартное отклонение 6.\n"
     ]
    }
   ],
   "source": [
    "# Вычисляем среднее значение\n",
    "mu = df_ultra['duration'].mean()\n",
    "\n",
    "# Вычисляем стандартное отклонение\n",
    "sigma = df_ultra['duration'].std()\n",
    "\n",
    "# Задаём целевое время\n",
    "target_time = 30\n",
    "\n",
    "# Делаем вывод\n",
    "print(f'Средняя длительность поездки {round(mu, 1)}, стандартное отклонение {round(sigma)}.')"
   ]
  },
  {
   "cell_type": "markdown",
   "metadata": {
    "deletable": false,
    "editable": false,
    "id": "M65RN8Ic6ozL",
    "tags": [
     "start_task"
    ]
   },
   "source": [
    "### 7.2 Вычисление значения функции распределения в точке (CDF)\n",
    "Если вычислить значение функции распределения в точке, это позволит узнать вероятность того, что случайная величина примет значение меньше заданного либо равное ему. Соответственно, если вы хотите ответить на вопрос о вероятности поездки более 30 минут, потребуется использовать CDF.\n",
    "\n",
    "1. функция `norm()` из библиотеки SciPy для создания нормального распределения с параметрами `mu` и `sigma`.\n",
    "\n",
    "2. Метод `cdf()` применяется ко времени `target_time` для получения вероятности того, что случайная величина будет меньше этого значения или равна ему. "
   ]
  },
  {
   "cell_type": "code",
   "execution_count": 41,
   "metadata": {
    "deletable": false,
    "id": "l3kJCKfvUQMP"
   },
   "outputs": [
    {
     "name": "stdout",
     "output_type": "stream",
     "text": [
      "Вероятность поездки более 30 минут 0.02\n"
     ]
    }
   ],
   "source": [
    "# Вычисляем вероятность того, что случайная величина будет меньше указанного значения или равна ему\n",
    "\n",
    "duration_norm_dist  = st.norm(loc=mu, scale=sigma)\n",
    "prob = round(1- duration_norm_dist.cdf(target_time), 3) # Используем CDF для нахождения накопленной вероятности\n",
    "\n",
    "print(f'Вероятность поездки более 30 минут {prob}')"
   ]
  },
  {
   "cell_type": "markdown",
   "metadata": {
    "deletable": false,
    "editable": false,
    "id": "G6r8KA03IrNe",
    "tags": [
     "start_task"
    ]
   },
   "source": [
    "### 7.3 Вероятность для интервала (CDF)\n",
    "Коллеги посчитали, что процент пользователей, для которых будет показана скидка, недостаточно большой и вряд ли поможет в увеличении лояльности клиентов. Дополнительно вас просят проверить, какой процент пользователей совершает поездки в интервале от 20 до 30 минут. Возможно, именно для них стоит провести промоакцию?\n",
    "\n",
    " `low` и `high`, указывают на начало и конец интересующего временного интервала. \n",
    "2. Используем кумулятивную функцию распределения (CDF) для объекта `duration_norm_dist`, чтобы вычислить вероятность достижения верхней границы (`high`) и нижней границы (`low`).\n",
    "3. Вычисляем вероятность попадания в интервал"
   ]
  },
  {
   "cell_type": "code",
   "execution_count": 44,
   "metadata": {
    "deletable": false,
    "id": "aujB5fDhU15e"
   },
   "outputs": [
    {
     "name": "stdout",
     "output_type": "stream",
     "text": [
      "Вероятность того, что пользователь совершит поездку длительностью от 20 до 30 минут: 0.377\n"
     ]
    }
   ],
   "source": [
    "# Определяем границы интервала\n",
    "low = 20\n",
    "high = 30\n",
    "\n",
    "# Вычисляем вероятность попадания в интервал\n",
    "prob_low = duration_norm_dist.cdf(low)\n",
    "prob_high = duration_norm_dist.cdf(high)\n",
    "prob_interval  = round(prob_high - prob_low, 3)\n",
    "\n",
    "\n",
    "# Выводим результат\n",
    "print(f'Вероятность того, что пользователь совершит поездку длительностью от {low} до {high} минут: {prob_interval}')"
   ]
  },
  {
   "cell_type": "markdown",
   "metadata": {
    "deletable": false,
    "editable": false,
    "id": "HDjUsAV8VB_t",
    "tags": [
     "start_task"
    ]
   },
   "source": [
    "### 7.4 Определение критической дистанции поездок (PPF)\n",
    "Длительные поездки могут негативно сказываться на сроке службы самоката. В связи с этим принято решение установить критическую дистанцию, превышение которой будет сопровождаться дополнительной платой. Для этого необходимо определить расстояние, которое превышается только в 10% поездок (90-й процентиль).\n",
    "\n",
    "Нужно смоделировать распределение длительности поездок, предполагая, что оно подчиняется нормальному закону, и рассчитать критическую дистанцию, ниже которой находится 90% всех поездок.\n",
    "\n",
    "Для этого:\n",
    "1. Рассчитать среднюю дистанцию поездки для всех пользователей из датафрейма `df` (с подпиской и без)\n",
    "2. Вычислить стд отклонение дистанции поездки `distance` \n",
    "3. Задайть значение переменной `target_prob`, равное `0.90`\n",
    "4. Создать объект нормального распределения `distance_norm` с заданными значениями `mu` и `sigma`.\n",
    "5. Применить к созданному нормальному распределению `distance_norm` метод `ppf()` \n",
    "\n"
   ]
  },
  {
   "cell_type": "code",
   "execution_count": 48,
   "metadata": {
    "deletable": false,
    "id": "uviLDRSKVkho"
   },
   "outputs": [
    {
     "name": "stdout",
     "output_type": "stream",
     "text": [
      "90.0 % поездок имеют дистанцию ниже критического значения 4501.94 М.\n"
     ]
    }
   ],
   "source": [
    "# Вычисляем среднее значение\n",
    "mu = df['distance'].mean()\n",
    "\n",
    "# Вычисляем стандартное отклонение\n",
    "sigma = df['distance'].std()\n",
    "\n",
    "# Вероятность, для которой хотим найти значение (90% случаев)\n",
    "target_prob = 0.90\n",
    "\n",
    "# Создаём объект нормального распределения\n",
    "distance_norm = st.norm(loc=mu, scale=sigma)\n",
    "\n",
    "# Рассчитываем критическую дистанцию для заданного процентиля поездок\n",
    "critical_distance = distance_norm.ppf(target_prob)\n",
    "\n",
    "print(f'{100 * target_prob} % поездок имеют дистанцию ниже критического значения {critical_distance:.2f} М.')"
   ]
  }
 ],
 "metadata": {
  "ExecuteTimeLog": [
   {
    "duration": 110,
    "start_time": "2025-05-13T16:20:14.315Z"
   },
   {
    "duration": 49,
    "start_time": "2025-05-13T16:20:25.134Z"
   },
   {
    "duration": 438,
    "start_time": "2025-05-13T16:20:32.872Z"
   },
   {
    "duration": 2,
    "start_time": "2025-05-13T16:20:50.975Z"
   },
   {
    "duration": 73,
    "start_time": "2025-05-13T16:20:53.726Z"
   },
   {
    "duration": 142,
    "start_time": "2025-05-13T16:22:33.562Z"
   },
   {
    "duration": 68,
    "start_time": "2025-05-13T16:22:39.686Z"
   },
   {
    "duration": 27,
    "start_time": "2025-05-13T16:22:53.327Z"
   },
   {
    "duration": 5,
    "start_time": "2025-05-13T16:25:02.439Z"
   },
   {
    "duration": 4,
    "start_time": "2025-05-13T16:25:25.599Z"
   },
   {
    "duration": 8,
    "start_time": "2025-05-13T16:26:13.652Z"
   },
   {
    "duration": 6,
    "start_time": "2025-05-13T16:26:45.438Z"
   },
   {
    "duration": 11,
    "start_time": "2025-05-13T16:27:48.137Z"
   },
   {
    "duration": 9,
    "start_time": "2025-05-13T16:28:51.875Z"
   },
   {
    "duration": 8,
    "start_time": "2025-05-13T16:28:56.021Z"
   },
   {
    "duration": 8,
    "start_time": "2025-05-13T16:29:20.475Z"
   },
   {
    "duration": 6,
    "start_time": "2025-05-13T16:30:44.584Z"
   },
   {
    "duration": 7,
    "start_time": "2025-05-13T16:39:58.718Z"
   },
   {
    "duration": 10,
    "start_time": "2025-05-13T16:41:24.784Z"
   },
   {
    "duration": 16,
    "start_time": "2025-05-13T16:41:52.201Z"
   },
   {
    "duration": 9,
    "start_time": "2025-05-13T16:42:23.072Z"
   },
   {
    "duration": 8,
    "start_time": "2025-05-13T16:42:28.831Z"
   },
   {
    "duration": 21,
    "start_time": "2025-05-13T16:43:03.941Z"
   },
   {
    "duration": 19,
    "start_time": "2025-05-13T16:43:34.644Z"
   },
   {
    "duration": 4,
    "start_time": "2025-05-13T16:44:09.114Z"
   },
   {
    "duration": 8,
    "start_time": "2025-05-13T16:44:26.970Z"
   },
   {
    "duration": 6,
    "start_time": "2025-05-13T16:44:32.195Z"
   },
   {
    "duration": 21,
    "start_time": "2025-05-13T16:54:27.969Z"
   },
   {
    "duration": 20,
    "start_time": "2025-05-13T17:10:52.361Z"
   },
   {
    "duration": 8,
    "start_time": "2025-05-13T17:13:39.002Z"
   },
   {
    "duration": 6,
    "start_time": "2025-05-13T17:14:36.240Z"
   },
   {
    "duration": 7,
    "start_time": "2025-05-13T17:14:56.551Z"
   },
   {
    "duration": 72,
    "start_time": "2025-05-13T17:15:33.207Z"
   },
   {
    "duration": 9,
    "start_time": "2025-05-13T17:15:39.643Z"
   },
   {
    "duration": 75,
    "start_time": "2025-05-13T17:15:56.411Z"
   },
   {
    "duration": 9,
    "start_time": "2025-05-13T17:16:02.740Z"
   },
   {
    "duration": 9,
    "start_time": "2025-05-13T17:22:44.346Z"
   },
   {
    "duration": 10,
    "start_time": "2025-05-13T17:23:06.899Z"
   },
   {
    "duration": 8,
    "start_time": "2025-05-13T17:23:26.560Z"
   },
   {
    "duration": 14,
    "start_time": "2025-05-13T18:11:34.816Z"
   },
   {
    "duration": 72,
    "start_time": "2025-05-14T08:51:53.729Z"
   },
   {
    "duration": 459,
    "start_time": "2025-05-14T08:51:59.932Z"
   },
   {
    "duration": 137,
    "start_time": "2025-05-14T08:52:00.394Z"
   },
   {
    "duration": 41,
    "start_time": "2025-05-14T08:52:00.724Z"
   },
   {
    "duration": 9,
    "start_time": "2025-05-14T08:52:01.071Z"
   },
   {
    "duration": 8,
    "start_time": "2025-05-14T08:52:03.253Z"
   },
   {
    "duration": 14,
    "start_time": "2025-05-14T08:52:04.446Z"
   },
   {
    "duration": 7,
    "start_time": "2025-05-14T08:52:06.495Z"
   },
   {
    "duration": 22,
    "start_time": "2025-05-14T08:52:08.799Z"
   },
   {
    "duration": 19,
    "start_time": "2025-05-14T08:53:14.973Z"
   },
   {
    "duration": 27,
    "start_time": "2025-05-14T08:54:11.518Z"
   },
   {
    "duration": 1370,
    "start_time": "2025-05-14T08:56:16.537Z"
   },
   {
    "duration": 33,
    "start_time": "2025-05-14T08:56:51.701Z"
   },
   {
    "duration": 17,
    "start_time": "2025-05-14T09:01:00.098Z"
   },
   {
    "duration": 10,
    "start_time": "2025-05-14T09:03:34.239Z"
   },
   {
    "duration": 11,
    "start_time": "2025-05-14T09:09:21.792Z"
   },
   {
    "duration": 12,
    "start_time": "2025-05-14T09:10:05.932Z"
   },
   {
    "duration": 16,
    "start_time": "2025-05-14T09:10:12.395Z"
   },
   {
    "duration": 8,
    "start_time": "2025-05-14T09:13:07.245Z"
   },
   {
    "duration": 8,
    "start_time": "2025-05-14T09:16:42.318Z"
   },
   {
    "duration": 9,
    "start_time": "2025-05-14T09:17:02.946Z"
   },
   {
    "duration": 11,
    "start_time": "2025-05-14T09:17:55.898Z"
   },
   {
    "duration": 10,
    "start_time": "2025-05-14T09:18:27.676Z"
   },
   {
    "duration": 69,
    "start_time": "2025-05-14T09:52:21.915Z"
   },
   {
    "duration": 651,
    "start_time": "2025-05-14T09:53:44.037Z"
   },
   {
    "duration": 211,
    "start_time": "2025-05-14T10:00:16.033Z"
   },
   {
    "duration": 181,
    "start_time": "2025-05-14T10:01:16.050Z"
   },
   {
    "duration": 194,
    "start_time": "2025-05-14T10:02:43.639Z"
   },
   {
    "duration": 3,
    "start_time": "2025-05-14T10:03:12.649Z"
   },
   {
    "duration": 8,
    "start_time": "2025-05-14T10:03:13.468Z"
   },
   {
    "duration": 6,
    "start_time": "2025-05-14T10:03:13.949Z"
   },
   {
    "duration": 159,
    "start_time": "2025-05-14T10:03:14.292Z"
   },
   {
    "duration": 210,
    "start_time": "2025-05-14T10:03:17.757Z"
   },
   {
    "duration": 207,
    "start_time": "2025-05-14T10:04:43.593Z"
   },
   {
    "duration": 186,
    "start_time": "2025-05-14T10:05:46.978Z"
   },
   {
    "duration": 6,
    "start_time": "2025-05-14T10:13:11.317Z"
   },
   {
    "duration": 11,
    "start_time": "2025-05-14T10:18:01.881Z"
   },
   {
    "duration": 11,
    "start_time": "2025-05-14T10:18:11.575Z"
   },
   {
    "duration": 5,
    "start_time": "2025-05-14T10:18:22.587Z"
   },
   {
    "duration": 11,
    "start_time": "2025-05-14T10:19:06.397Z"
   },
   {
    "duration": 10,
    "start_time": "2025-05-14T10:19:38.215Z"
   },
   {
    "duration": 7,
    "start_time": "2025-05-14T10:20:47.571Z"
   },
   {
    "duration": 7,
    "start_time": "2025-05-14T10:21:01.414Z"
   },
   {
    "duration": 5,
    "start_time": "2025-05-14T10:21:53.295Z"
   },
   {
    "duration": 6,
    "start_time": "2025-05-14T10:22:20.590Z"
   },
   {
    "duration": 5,
    "start_time": "2025-05-14T10:22:37.134Z"
   },
   {
    "duration": 11,
    "start_time": "2025-05-14T10:32:56.076Z"
   },
   {
    "duration": 13,
    "start_time": "2025-05-14T10:39:25.390Z"
   },
   {
    "duration": 22,
    "start_time": "2025-05-14T10:42:36.581Z"
   },
   {
    "duration": 14,
    "start_time": "2025-05-14T10:43:27.042Z"
   },
   {
    "duration": 20,
    "start_time": "2025-05-14T10:54:25.669Z"
   },
   {
    "duration": 1698,
    "start_time": "2025-05-14T10:57:06.328Z"
   },
   {
    "duration": 11,
    "start_time": "2025-05-14T10:57:34.838Z"
   },
   {
    "duration": 76,
    "start_time": "2025-05-14T11:05:04.998Z"
   },
   {
    "duration": 6,
    "start_time": "2025-05-14T11:05:11.950Z"
   },
   {
    "duration": 289,
    "start_time": "2025-05-14T11:05:29.116Z"
   },
   {
    "duration": 73,
    "start_time": "2025-05-14T11:06:41.658Z"
   },
   {
    "duration": 458,
    "start_time": "2025-05-14T11:06:55.658Z"
   },
   {
    "duration": 243,
    "start_time": "2025-05-14T11:07:09.281Z"
   },
   {
    "duration": 278,
    "start_time": "2025-05-14T11:08:26.542Z"
   },
   {
    "duration": 410,
    "start_time": "2025-05-14T11:08:43.894Z"
   },
   {
    "duration": 4,
    "start_time": "2025-05-14T11:16:57.113Z"
   },
   {
    "duration": 52,
    "start_time": "2025-05-14T11:22:07.493Z"
   },
   {
    "duration": 13,
    "start_time": "2025-05-14T11:30:54.158Z"
   },
   {
    "duration": 5,
    "start_time": "2025-05-14T11:31:01.494Z"
   },
   {
    "duration": 12,
    "start_time": "2025-05-14T11:31:05.839Z"
   },
   {
    "duration": 5,
    "start_time": "2025-05-14T11:31:13.471Z"
   },
   {
    "duration": 10,
    "start_time": "2025-05-14T11:31:20.094Z"
   },
   {
    "duration": 51,
    "start_time": "2025-05-14T11:32:49.154Z"
   },
   {
    "duration": 11,
    "start_time": "2025-05-14T12:25:10.748Z"
   },
   {
    "duration": 16,
    "start_time": "2025-05-14T12:28:04.901Z"
   },
   {
    "duration": 12,
    "start_time": "2025-05-14T12:32:38.331Z"
   },
   {
    "duration": 21,
    "start_time": "2025-05-14T12:33:05.586Z"
   },
   {
    "duration": 3,
    "start_time": "2025-05-14T12:33:44.023Z"
   },
   {
    "duration": 200,
    "start_time": "2025-05-14T12:33:44.372Z"
   },
   {
    "duration": 20,
    "start_time": "2025-05-14T12:33:44.855Z"
   },
   {
    "duration": 7,
    "start_time": "2025-05-14T12:33:45.183Z"
   },
   {
    "duration": 5,
    "start_time": "2025-05-14T12:33:45.879Z"
   },
   {
    "duration": 9,
    "start_time": "2025-05-14T12:33:46.223Z"
   },
   {
    "duration": 6,
    "start_time": "2025-05-14T12:33:46.582Z"
   },
   {
    "duration": 11,
    "start_time": "2025-05-14T12:33:47.096Z"
   },
   {
    "duration": 8,
    "start_time": "2025-05-14T12:33:47.624Z"
   },
   {
    "duration": 12,
    "start_time": "2025-05-14T12:33:47.975Z"
   },
   {
    "duration": 3,
    "start_time": "2025-05-14T12:33:48.534Z"
   },
   {
    "duration": 8,
    "start_time": "2025-05-14T12:33:49.150Z"
   },
   {
    "duration": 7,
    "start_time": "2025-05-14T12:33:50.023Z"
   },
   {
    "duration": 95,
    "start_time": "2025-05-14T12:33:50.542Z"
   },
   {
    "duration": 173,
    "start_time": "2025-05-14T12:33:50.927Z"
   },
   {
    "duration": 6,
    "start_time": "2025-05-14T12:33:51.495Z"
   },
   {
    "duration": 10,
    "start_time": "2025-05-14T12:33:51.885Z"
   },
   {
    "duration": 13,
    "start_time": "2025-05-14T12:33:52.469Z"
   },
   {
    "duration": 12,
    "start_time": "2025-05-14T12:33:52.926Z"
   },
   {
    "duration": 14,
    "start_time": "2025-05-14T12:33:53.422Z"
   },
   {
    "duration": 12,
    "start_time": "2025-05-14T12:33:53.997Z"
   },
   {
    "duration": 275,
    "start_time": "2025-05-14T12:33:54.808Z"
   },
   {
    "duration": 3,
    "start_time": "2025-05-14T12:33:56.878Z"
   },
   {
    "duration": 69,
    "start_time": "2025-05-14T12:33:58.254Z"
   },
   {
    "duration": 3,
    "start_time": "2025-05-14T12:33:59.213Z"
   },
   {
    "duration": 212,
    "start_time": "2025-05-14T12:34:00.870Z"
   },
   {
    "duration": 15,
    "start_time": "2025-05-14T12:34:02.687Z"
   },
   {
    "duration": 21,
    "start_time": "2025-05-14T12:34:12.151Z"
   },
   {
    "duration": 480,
    "start_time": "2025-05-14T12:35:23.371Z"
   },
   {
    "duration": 92,
    "start_time": "2025-05-14T12:36:53.528Z"
   },
   {
    "duration": 37,
    "start_time": "2025-05-14T12:56:31.772Z"
   },
   {
    "duration": 11,
    "start_time": "2025-05-14T12:56:51.486Z"
   },
   {
    "duration": 7,
    "start_time": "2025-05-14T12:57:04.105Z"
   },
   {
    "duration": 7,
    "start_time": "2025-05-14T12:57:09.601Z"
   },
   {
    "duration": 3,
    "start_time": "2025-05-14T12:57:40.681Z"
   },
   {
    "duration": 3,
    "start_time": "2025-05-14T12:58:53.125Z"
   },
   {
    "duration": 4,
    "start_time": "2025-05-14T12:59:55.634Z"
   },
   {
    "duration": 101,
    "start_time": "2025-05-14T13:02:42.531Z"
   },
   {
    "duration": 5,
    "start_time": "2025-05-14T13:05:16.359Z"
   },
   {
    "duration": 6,
    "start_time": "2025-05-14T13:07:17.848Z"
   },
   {
    "duration": 65,
    "start_time": "2025-05-14T13:22:23.872Z"
   },
   {
    "duration": 9,
    "start_time": "2025-05-14T13:23:15.373Z"
   },
   {
    "duration": 8,
    "start_time": "2025-05-14T13:23:18.614Z"
   },
   {
    "duration": 92,
    "start_time": "2025-05-14T13:24:02.136Z"
   },
   {
    "duration": 88,
    "start_time": "2025-05-14T13:24:32.147Z"
   },
   {
    "duration": 8,
    "start_time": "2025-05-14T13:24:59.489Z"
   },
   {
    "duration": 81,
    "start_time": "2025-05-14T13:25:37.552Z"
   },
   {
    "duration": 8,
    "start_time": "2025-05-14T13:25:44.145Z"
   },
   {
    "duration": 5,
    "start_time": "2025-05-14T13:28:12.468Z"
   },
   {
    "duration": 71,
    "start_time": "2025-05-14T13:28:48.211Z"
   },
   {
    "duration": 5,
    "start_time": "2025-05-14T13:28:58.921Z"
   },
   {
    "duration": 461,
    "start_time": "2025-05-15T09:42:48.172Z"
   },
   {
    "duration": 119,
    "start_time": "2025-05-15T09:42:48.635Z"
   },
   {
    "duration": 25,
    "start_time": "2025-05-15T09:42:49.029Z"
   },
   {
    "duration": 7,
    "start_time": "2025-05-15T09:42:49.339Z"
   },
   {
    "duration": 6,
    "start_time": "2025-05-15T09:42:49.845Z"
   },
   {
    "duration": 8,
    "start_time": "2025-05-15T09:42:50.188Z"
   },
   {
    "duration": 6,
    "start_time": "2025-05-15T09:42:50.559Z"
   },
   {
    "duration": 8,
    "start_time": "2025-05-15T09:42:50.909Z"
   },
   {
    "duration": 7,
    "start_time": "2025-05-15T09:42:51.444Z"
   },
   {
    "duration": 11,
    "start_time": "2025-05-15T09:42:51.820Z"
   },
   {
    "duration": 520,
    "start_time": "2025-05-15T09:42:52.373Z"
   },
   {
    "duration": 7,
    "start_time": "2025-05-15T09:42:53.078Z"
   },
   {
    "duration": 5,
    "start_time": "2025-05-15T09:42:53.492Z"
   },
   {
    "duration": 109,
    "start_time": "2025-05-15T09:42:53.877Z"
   },
   {
    "duration": 179,
    "start_time": "2025-05-15T09:42:54.276Z"
   },
   {
    "duration": 5,
    "start_time": "2025-05-15T09:42:54.860Z"
   },
   {
    "duration": 9,
    "start_time": "2025-05-15T09:42:55.245Z"
   },
   {
    "duration": 12,
    "start_time": "2025-05-15T09:42:55.844Z"
   },
   {
    "duration": 11,
    "start_time": "2025-05-15T09:42:56.251Z"
   },
   {
    "duration": 14,
    "start_time": "2025-05-15T09:42:56.677Z"
   },
   {
    "duration": 10,
    "start_time": "2025-05-15T09:42:57.052Z"
   },
   {
    "duration": 247,
    "start_time": "2025-05-15T09:42:57.429Z"
   },
   {
    "duration": 3,
    "start_time": "2025-05-15T09:42:58.308Z"
   },
   {
    "duration": 117,
    "start_time": "2025-05-15T09:42:58.924Z"
   },
   {
    "duration": 3,
    "start_time": "2025-05-15T09:42:59.515Z"
   },
   {
    "duration": 206,
    "start_time": "2025-05-15T09:43:00.436Z"
   },
   {
    "duration": 15,
    "start_time": "2025-05-15T09:43:02.068Z"
   },
   {
    "duration": 477,
    "start_time": "2025-05-15T09:43:04.963Z"
   },
   {
    "duration": 5,
    "start_time": "2025-05-15T09:43:07.010Z"
   },
   {
    "duration": 7,
    "start_time": "2025-05-15T09:43:10.653Z"
   },
   {
    "duration": 6,
    "start_time": "2025-05-15T09:53:04.634Z"
   },
   {
    "duration": 6,
    "start_time": "2025-05-15T09:54:05.977Z"
   },
   {
    "duration": 7,
    "start_time": "2025-05-15T09:54:10.008Z"
   },
   {
    "duration": 71,
    "start_time": "2025-05-15T10:11:26.032Z"
   },
   {
    "duration": 71,
    "start_time": "2025-05-15T10:11:35.102Z"
   },
   {
    "duration": 17,
    "start_time": "2025-05-15T10:11:56.103Z"
   },
   {
    "duration": 151,
    "start_time": "2025-05-15T10:17:31.089Z"
   },
   {
    "duration": 5,
    "start_time": "2025-05-15T10:18:11.472Z"
   },
   {
    "duration": 286,
    "start_time": "2025-05-15T10:32:25.149Z"
   },
   {
    "duration": 10,
    "start_time": "2025-05-15T10:32:39.098Z"
   },
   {
    "duration": 6,
    "start_time": "2025-05-15T10:32:50.498Z"
   },
   {
    "duration": 15,
    "start_time": "2025-05-15T11:26:34.958Z"
   },
   {
    "duration": 9,
    "start_time": "2025-05-15T11:26:46.237Z"
   },
   {
    "duration": 5,
    "start_time": "2025-05-15T11:29:31.854Z"
   },
   {
    "duration": 6,
    "start_time": "2025-05-15T11:57:45.218Z"
   },
   {
    "duration": 7,
    "start_time": "2025-05-15T11:58:32.080Z"
   },
   {
    "duration": 7,
    "start_time": "2025-05-15T11:59:00.991Z"
   },
   {
    "duration": 6,
    "start_time": "2025-05-15T12:00:14.005Z"
   }
  ],
  "colab": {
   "provenance": [],
   "toc_visible": true
  },
  "kernelspec": {
   "display_name": "Python 3 (ipykernel)",
   "language": "python",
   "name": "python3"
  },
  "language_info": {
   "codemirror_mode": {
    "name": "ipython",
    "version": 3
   },
   "file_extension": ".py",
   "mimetype": "text/x-python",
   "name": "python",
   "nbconvert_exporter": "python",
   "pygments_lexer": "ipython3",
   "version": "3.9.5"
  },
  "toc": {
   "base_numbering": 1,
   "nav_menu": {},
   "number_sections": true,
   "sideBar": true,
   "skip_h1_title": true,
   "title_cell": "Table of Contents",
   "title_sidebar": "Contents",
   "toc_cell": false,
   "toc_position": {},
   "toc_section_display": true,
   "toc_window_display": false
  }
 },
 "nbformat": 4,
 "nbformat_minor": 1
}
