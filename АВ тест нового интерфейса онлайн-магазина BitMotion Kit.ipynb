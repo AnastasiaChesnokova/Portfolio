{
 "cells": [
  {
   "cell_type": "markdown",
   "id": "c3f2dd9c",
   "metadata": {},
   "source": [
    "# Анализ результатов A/B-тестирования\n",
    "Нужно проанализировать данные от интернет-магазина BitMotion Kit, в котором продаются геймифицированные товары для тех, кто ведёт здоровый образ жизни. \n",
    "У него есть своя целевая аудитория, даже появились хиты продаж: эспандер со счётчиком и напоминанием, так и подстольный велотренажёр с Bluetooth.\n",
    "В будущем компания хочет расширить ассортимент товаров. Но перед этим нужно решить одну проблему. Интерфейс онлайн-магазина слишком сложен для пользователей — об этом говорят отзывы.\n",
    "\n",
    "Чтобы привлечь новых клиентов и увеличить число продаж, владельцы магазина разработали новую версию сайта и протестировали его на части пользователей. По задумке, это решение доказуемо повысит количество пользователей, которые совершат покупку.\n",
    "\n",
    "## Цель исследования — \n",
    "провести оценку эффективности новой версии сайта интернет-магазина BitMotion Kit с помощью анализа результатов A/B-теста, определить, в какой степени новая версия способствует увеличению числа пользователей, совершающих покупку, и проверить статистическую значимость выявленных различий между группами.\n",
    "\n",
    "## Техническое задание.\n",
    "\n",
    "Оцените корректность проведения теста и проанализируйте его результаты. \n",
    "Данные  \n",
    "https://code.s3.yandex.net/datasets/ab_test_participants.csv — таблица участников тестов. \n",
    "\n",
    "Структура файла: \n",
    "- user_id — идентификатор пользователя; \n",
    "- group — группа пользователя;\n",
    "- ab_test — название теста; \n",
    "- device — устройство, с которого происходила регистрация.\n",
    "\n",
    "https://code.s3.yandex.net/datasets/ab_test_events.zip — архив с одним csv-файлом, в котором собраны события 2020 года; \n",
    "Структура файла: \n",
    "- user_id — идентификатор пользователя; \n",
    "- event_dt — дата и время события; \n",
    "- event_name — тип события;\n",
    "- details — дополнительные данные о событии."
   ]
  },
  {
   "cell_type": "markdown",
   "id": "f133d837",
   "metadata": {},
   "source": [
    "## Загрузка и знакомство с  данными"
   ]
  },
  {
   "cell_type": "code",
   "execution_count": 3,
   "id": "03025b25",
   "metadata": {},
   "outputs": [],
   "source": [
    "# Загрузка библиотек\n",
    "import pandas as pd\n",
    "from scipy import stats\n",
    "import matplotlib.pyplot as plt\n",
    "import seaborn as sns"
   ]
  },
  {
   "cell_type": "code",
   "execution_count": 4,
   "id": "74dd6ca9",
   "metadata": {},
   "outputs": [],
   "source": [
    "# Создание датафреймов\n",
    "participants = pd.read_csv('https://code.s3.yandex.net/datasets/ab_test_participants.csv')\n",
    "events = pd.read_csv('https://code.s3.yandex.net/datasets/ab_test_events.zip',\n",
    "                     parse_dates=['event_dt'], low_memory=False)"
   ]
  },
  {
   "cell_type": "code",
   "execution_count": 6,
   "id": "aad05382",
   "metadata": {},
   "outputs": [
    {
     "name": "stdout",
     "output_type": "stream",
     "text": [
      "<class 'pandas.core.frame.DataFrame'>\n",
      "RangeIndex: 14525 entries, 0 to 14524\n",
      "Data columns (total 4 columns):\n",
      " #   Column   Non-Null Count  Dtype \n",
      "---  ------   --------------  ----- \n",
      " 0   user_id  14525 non-null  object\n",
      " 1   group    14525 non-null  object\n",
      " 2   ab_test  14525 non-null  object\n",
      " 3   device   14525 non-null  object\n",
      "dtypes: object(4)\n",
      "memory usage: 454.0+ KB\n"
     ]
    },
    {
     "data": {
      "text/html": [
       "<div>\n",
       "<style scoped>\n",
       "    .dataframe tbody tr th:only-of-type {\n",
       "        vertical-align: middle;\n",
       "    }\n",
       "\n",
       "    .dataframe tbody tr th {\n",
       "        vertical-align: top;\n",
       "    }\n",
       "\n",
       "    .dataframe thead th {\n",
       "        text-align: right;\n",
       "    }\n",
       "</style>\n",
       "<table border=\"1\" class=\"dataframe\">\n",
       "  <thead>\n",
       "    <tr style=\"text-align: right;\">\n",
       "      <th></th>\n",
       "      <th>user_id</th>\n",
       "      <th>group</th>\n",
       "      <th>ab_test</th>\n",
       "      <th>device</th>\n",
       "    </tr>\n",
       "  </thead>\n",
       "  <tbody>\n",
       "    <tr>\n",
       "      <th>0</th>\n",
       "      <td>0002CE61FF2C4011</td>\n",
       "      <td>B</td>\n",
       "      <td>interface_eu_test</td>\n",
       "      <td>Mac</td>\n",
       "    </tr>\n",
       "    <tr>\n",
       "      <th>1</th>\n",
       "      <td>001064FEAAB631A1</td>\n",
       "      <td>B</td>\n",
       "      <td>recommender_system_test</td>\n",
       "      <td>Android</td>\n",
       "    </tr>\n",
       "    <tr>\n",
       "      <th>2</th>\n",
       "      <td>001064FEAAB631A1</td>\n",
       "      <td>A</td>\n",
       "      <td>interface_eu_test</td>\n",
       "      <td>Android</td>\n",
       "    </tr>\n",
       "    <tr>\n",
       "      <th>3</th>\n",
       "      <td>0010A1C096941592</td>\n",
       "      <td>A</td>\n",
       "      <td>recommender_system_test</td>\n",
       "      <td>Android</td>\n",
       "    </tr>\n",
       "    <tr>\n",
       "      <th>4</th>\n",
       "      <td>001E72F50D1C48FA</td>\n",
       "      <td>A</td>\n",
       "      <td>interface_eu_test</td>\n",
       "      <td>Mac</td>\n",
       "    </tr>\n",
       "  </tbody>\n",
       "</table>\n",
       "</div>"
      ],
      "text/plain": [
       "            user_id group                  ab_test   device\n",
       "0  0002CE61FF2C4011     B        interface_eu_test      Mac\n",
       "1  001064FEAAB631A1     B  recommender_system_test  Android\n",
       "2  001064FEAAB631A1     A        interface_eu_test  Android\n",
       "3  0010A1C096941592     A  recommender_system_test  Android\n",
       "4  001E72F50D1C48FA     A        interface_eu_test      Mac"
      ]
     },
     "execution_count": 6,
     "metadata": {},
     "output_type": "execute_result"
    }
   ],
   "source": [
    "# Обзор данных\n",
    "participants.info()\n",
    "participants.head()"
   ]
  },
  {
   "cell_type": "code",
   "execution_count": 8,
   "id": "2dd4c586",
   "metadata": {},
   "outputs": [
    {
     "name": "stdout",
     "output_type": "stream",
     "text": [
      "<class 'pandas.core.frame.DataFrame'>\n",
      "RangeIndex: 787286 entries, 0 to 787285\n",
      "Data columns (total 4 columns):\n",
      " #   Column      Non-Null Count   Dtype         \n",
      "---  ------      --------------   -----         \n",
      " 0   user_id     787286 non-null  object        \n",
      " 1   event_dt    787286 non-null  datetime64[ns]\n",
      " 2   event_name  787286 non-null  object        \n",
      " 3   details     249022 non-null  object        \n",
      "dtypes: datetime64[ns](1), object(3)\n",
      "memory usage: 24.0+ MB\n"
     ]
    },
    {
     "data": {
      "text/html": [
       "<div>\n",
       "<style scoped>\n",
       "    .dataframe tbody tr th:only-of-type {\n",
       "        vertical-align: middle;\n",
       "    }\n",
       "\n",
       "    .dataframe tbody tr th {\n",
       "        vertical-align: top;\n",
       "    }\n",
       "\n",
       "    .dataframe thead th {\n",
       "        text-align: right;\n",
       "    }\n",
       "</style>\n",
       "<table border=\"1\" class=\"dataframe\">\n",
       "  <thead>\n",
       "    <tr style=\"text-align: right;\">\n",
       "      <th></th>\n",
       "      <th>user_id</th>\n",
       "      <th>event_dt</th>\n",
       "      <th>event_name</th>\n",
       "      <th>details</th>\n",
       "    </tr>\n",
       "  </thead>\n",
       "  <tbody>\n",
       "    <tr>\n",
       "      <th>0</th>\n",
       "      <td>GLOBAL</td>\n",
       "      <td>2020-12-01 00:00:00</td>\n",
       "      <td>End of Black Friday Ads Campaign</td>\n",
       "      <td>ZONE_CODE15</td>\n",
       "    </tr>\n",
       "    <tr>\n",
       "      <th>1</th>\n",
       "      <td>CCBE9E7E99F94A08</td>\n",
       "      <td>2020-12-01 00:00:11</td>\n",
       "      <td>registration</td>\n",
       "      <td>0.0</td>\n",
       "    </tr>\n",
       "    <tr>\n",
       "      <th>2</th>\n",
       "      <td>GLOBAL</td>\n",
       "      <td>2020-12-01 00:00:25</td>\n",
       "      <td>product_page</td>\n",
       "      <td>NaN</td>\n",
       "    </tr>\n",
       "    <tr>\n",
       "      <th>3</th>\n",
       "      <td>CCBE9E7E99F94A08</td>\n",
       "      <td>2020-12-01 00:00:33</td>\n",
       "      <td>login</td>\n",
       "      <td>NaN</td>\n",
       "    </tr>\n",
       "    <tr>\n",
       "      <th>4</th>\n",
       "      <td>CCBE9E7E99F94A08</td>\n",
       "      <td>2020-12-01 00:00:52</td>\n",
       "      <td>product_page</td>\n",
       "      <td>NaN</td>\n",
       "    </tr>\n",
       "  </tbody>\n",
       "</table>\n",
       "</div>"
      ],
      "text/plain": [
       "            user_id            event_dt                        event_name  \\\n",
       "0            GLOBAL 2020-12-01 00:00:00  End of Black Friday Ads Campaign   \n",
       "1  CCBE9E7E99F94A08 2020-12-01 00:00:11                      registration   \n",
       "2            GLOBAL 2020-12-01 00:00:25                      product_page   \n",
       "3  CCBE9E7E99F94A08 2020-12-01 00:00:33                             login   \n",
       "4  CCBE9E7E99F94A08 2020-12-01 00:00:52                      product_page   \n",
       "\n",
       "       details  \n",
       "0  ZONE_CODE15  \n",
       "1          0.0  \n",
       "2          NaN  \n",
       "3          NaN  \n",
       "4          NaN  "
      ]
     },
     "execution_count": 8,
     "metadata": {},
     "output_type": "execute_result"
    }
   ],
   "source": [
    "events.info()\n",
    "events.head()"
   ]
  },
  {
   "cell_type": "code",
   "execution_count": 9,
   "id": "3a7d8ccc",
   "metadata": {},
   "outputs": [
    {
     "name": "stdout",
     "output_type": "stream",
     "text": [
      "Дубликаты по user_id в таблице с участниками:\n",
      "                user_id group                  ab_test   device\n",
      "1      001064FEAAB631A1     B  recommender_system_test  Android\n",
      "2      001064FEAAB631A1     A        interface_eu_test  Android\n",
      "9      00341D8401F0F665     A  recommender_system_test   iPhone\n",
      "10     00341D8401F0F665     B        interface_eu_test   iPhone\n",
      "25     0082295A41A867B5     A        interface_eu_test   iPhone\n",
      "...                 ...   ...                      ...      ...\n",
      "14490  FF2174A1AA0EAD20     A  recommender_system_test  Android\n",
      "14495  FF44696E39039D29     B        interface_eu_test      Mac\n",
      "14496  FF44696E39039D29     A  recommender_system_test      Mac\n",
      "14522  FFF28D02B1EACBE1     B  recommender_system_test       PC\n",
      "14523  FFF28D02B1EACBE1     B        interface_eu_test       PC\n",
      "\n",
      "[1774 rows x 4 columns]\n",
      "1774\n"
     ]
    }
   ],
   "source": [
    "# Проверка наличия дубликатов\n",
    "print(\"Дубликаты по user_id в таблице с участниками:\")\n",
    "duplicates = participants[participants.duplicated(subset='user_id', keep=False)]\n",
    "print(duplicates)\n",
    "print(len(duplicates))"
   ]
  },
  {
   "cell_type": "markdown",
   "id": "05311bd5",
   "metadata": {},
   "source": [
    "<div style=\"background-color: white; border: 2px solid black; border-radius: 20px; padding: 15px 25px; display: inline-block; color: black;\">\n",
    "    Имеется 1774 дубликата"
   ]
  },
  {
   "cell_type": "code",
   "execution_count": 10,
   "id": "5f790dff",
   "metadata": {},
   "outputs": [],
   "source": [
    "# Фильтрация: только тест interface_eu_test\n",
    "test_participants = participants[participants['ab_test'] == 'interface_eu_test']"
   ]
  },
  {
   "cell_type": "code",
   "execution_count": 11,
   "id": "0bbce38a",
   "metadata": {},
   "outputs": [
    {
     "name": "stdout",
     "output_type": "stream",
     "text": [
      "Наличие дубликатов после фильтрации по interface_eu_test):\n",
      "Количество дублированных строк: 0\n",
      "Дубликатов внутри test_participants нет\n"
     ]
    }
   ],
   "source": [
    "# Проверка дубликатов в test_participants в тестовых группах\n",
    "print(\"Наличие дубликатов после фильтрации по interface_eu_test):\")\n",
    "duplicates_test = test_participants[test_participants.duplicated(subset='user_id', keep=False)]\n",
    "print(f\"Количество дублированных строк: {len(duplicates_test)}\")\n",
    "if len(duplicates_test) == 0:\n",
    "    print(\"Дубликатов внутри test_participants нет\")\n",
    "else:\n",
    "    print(\"Пример дублированных строк в test_participants:\")\n",
    "    display(duplicates_test.sort_values(by='user_id').head())"
   ]
  },
  {
   "cell_type": "markdown",
   "id": "420234b7",
   "metadata": {},
   "source": [
    "## Оценка корректности проведения теста:\n",
    " - соответствие требованиям технического задания,\n",
    " - равномерность распределения пользователей по группам теста,\n",
    " - отсутствие пересечений с конкурирующим тестом (нет пользователей, участвующих одновременно в двух тестовых группах)."
   ]
  },
  {
   "cell_type": "code",
   "execution_count": 12,
   "id": "83446a7a",
   "metadata": {},
   "outputs": [
    {
     "name": "stdout",
     "output_type": "stream",
     "text": [
      "Количество пользователей после фильтрации: 10850\n"
     ]
    }
   ],
   "source": [
    "# Количество пользователей после фильтрации\n",
    "print(f\"Количество пользователей после фильтрации: {len(test_participants)}\")"
   ]
  },
  {
   "cell_type": "code",
   "execution_count": 13,
   "id": "287dda46",
   "metadata": {},
   "outputs": [
    {
     "name": "stdout",
     "output_type": "stream",
     "text": [
      "Количество пользователей в группе А 5383\n",
      "Количество пользователей в группе А 5467\n"
     ]
    }
   ],
   "source": [
    "# Разделение по группам\n",
    "a_group = test_participants[test_participants['group'] == 'A'].value_counts()\n",
    "b_group = test_participants[test_participants['group'] == 'B'].value_counts()\n",
    "print(f\"Количество пользователей в группе А {len(a_group)}\")\n",
    "print(f\"Количество пользователей в группе А {len(b_group)}\")"
   ]
  },
  {
   "cell_type": "code",
   "execution_count": 14,
   "id": "9c68871c",
   "metadata": {},
   "outputs": [
    {
     "name": "stdout",
     "output_type": "stream",
     "text": [
      "Пересечений между группами A и B нет.\n"
     ]
    }
   ],
   "source": [
    "# Проверяем пересечения пользователей между группами с помощью группировки\n",
    "intersection_count = test_participants.groupby('user_id').agg({'group': 'nunique'}).query('group > 1')\n",
    "# Выводим результат\n",
    "if not intersection_count.empty:\n",
    "    print(f\"Количество пользователей, попавших в обе группы: {intersection_count}\")\n",
    "    print(\"Пользователи в пересечении:\")\n",
    "    print(intersection_count)\n",
    "else:\n",
    "    print(\"Пересечений между группами A и B нет.\")"
   ]
  },
  {
   "cell_type": "code",
   "execution_count": 15,
   "id": "76198bf7",
   "metadata": {},
   "outputs": [
    {
     "name": "stdout",
     "output_type": "stream",
     "text": [
      "Статистика по группам (устройства):\n"
     ]
    },
    {
     "data": {
      "text/html": [
       "<div>\n",
       "<style scoped>\n",
       "    .dataframe tbody tr th:only-of-type {\n",
       "        vertical-align: middle;\n",
       "    }\n",
       "\n",
       "    .dataframe tbody tr th {\n",
       "        vertical-align: top;\n",
       "    }\n",
       "\n",
       "    .dataframe thead th {\n",
       "        text-align: right;\n",
       "    }\n",
       "</style>\n",
       "<table border=\"1\" class=\"dataframe\">\n",
       "  <thead>\n",
       "    <tr style=\"text-align: right;\">\n",
       "      <th></th>\n",
       "      <th>count</th>\n",
       "      <th>unique</th>\n",
       "      <th>top</th>\n",
       "      <th>freq</th>\n",
       "    </tr>\n",
       "    <tr>\n",
       "      <th>group</th>\n",
       "      <th></th>\n",
       "      <th></th>\n",
       "      <th></th>\n",
       "      <th></th>\n",
       "    </tr>\n",
       "  </thead>\n",
       "  <tbody>\n",
       "    <tr>\n",
       "      <th>A</th>\n",
       "      <td>5383</td>\n",
       "      <td>4</td>\n",
       "      <td>Android</td>\n",
       "      <td>2445</td>\n",
       "    </tr>\n",
       "    <tr>\n",
       "      <th>B</th>\n",
       "      <td>5467</td>\n",
       "      <td>4</td>\n",
       "      <td>Android</td>\n",
       "      <td>2414</td>\n",
       "    </tr>\n",
       "  </tbody>\n",
       "</table>\n",
       "</div>"
      ],
      "text/plain": [
       "      count unique      top  freq\n",
       "group                            \n",
       "A      5383      4  Android  2445\n",
       "B      5467      4  Android  2414"
      ]
     },
     "metadata": {},
     "output_type": "display_data"
    }
   ],
   "source": [
    "# Статистика по группам\n",
    "print(\"Статистика по группам (устройства):\")\n",
    "display(test_participants.groupby('group')['device'].describe())"
   ]
  },
  {
   "cell_type": "markdown",
   "id": "d998cccb",
   "metadata": {},
   "source": [
    "<div style=\"background-color: white; border: 2px solid black; border-radius: 20px; padding: 15px 25px; display: inline-block; color: black;\">\n",
    "- Общее количество наблюдений (count) для группы А - 5383  | для группы В - 5467\n",
    "- Количество уникальных значений (unique) для группы А и В = 4\n",
    "- Наиболее часто встречающееся значение (top)для группы А и В - Android\n",
    "- Частота наиболее популярного значения (freq)для группы А -\t2445  | для группы В - 2414\n",
    "\n",
    "Разница между группами небольшая (~84), что говорит о примерно равных размерах групп.\n",
    "В обеих группах по 4 уникальных значения, что указывает на одинаковое разнообразие категорий.\n",
    "В обеих группах наиболее часто встречается Android.\n",
    "Частоты очень близки: 2445 в группе A и 2414 в группе B\n",
    "Итог:\n",
    "На основании этих данных можно сделать вывод, что группы A и B примерно равномерны по размеру и имеют схожие распределения по категориям. Это говорит о хорошей сбалансированности для проведения А/В теста."
   ]
  },
  {
   "cell_type": "markdown",
   "id": "b57275b1",
   "metadata": {},
   "source": [
    "##  Анализ  пользовательской активности"
   ]
  },
  {
   "cell_type": "code",
   "execution_count": 16,
   "id": "330236b1",
   "metadata": {},
   "outputs": [],
   "source": [
    "# Анализ ативности пользователей\n",
    "# Оставляем только события пользователей, участвовавших в тесте.\n",
    "#И исключаем системных пользователей и события, связанные с завершением рекламной кампании\n",
    "unique_user = test_participants['user_id'].unique()\n",
    "test_events = events[events['user_id'].isin(unique_user)]\n",
    "test_events = test_events[test_events['user_id'] != 'GLOBAL']\n",
    "test_events = test_events[~test_events['event_name'].str.contains('End of Black Friday Ads Campaign')]\n",
    "test_events = test_events.merge(test_participants,on='user_id', how='left')"
   ]
  },
  {
   "cell_type": "markdown",
   "id": "12e3f1f1",
   "metadata": {},
   "source": [
    "#### Горизонт анализа:\n",
    "рассчитаем время совершения события пользователем после регистрации и оставим только те события, которые были выполнены в течение первых семи дней с момента регистрации"
   ]
  },
  {
   "cell_type": "code",
   "execution_count": 17,
   "id": "86a8c8f1",
   "metadata": {},
   "outputs": [],
   "source": [
    "# 1. Найти дату регистрации для каждого пользователя\n",
    "registrations = test_events[test_events['event_name'] == 'registration']\n",
    "# Получаем минимальную дату регистрации для каждого user_id\n",
    "registration_dates = registrations.groupby('user_id')['event_dt'].min().reset_index()\n",
    "registration_dates.rename(columns={'event_dt': 'registration_date'}, inplace=True)\n",
    "\n",
    "# 2. Объединяем с исходными событиями\n",
    "events_with_reg = events.merge(registration_dates, on='user_id', how='left')\n",
    "\n",
    "# 3. Рассчитываем лайфтайм (в днях)\n",
    "events_with_reg['days_since_registration'] = (\n",
    "    events_with_reg['event_dt'] - events_with_reg['registration_date']\n",
    ").dt.total_seconds() / (24 * 3600)\n",
    "\n",
    "# 4. Оставляем только события в первые 7 дней после регистрации\n",
    "# Исключаем события до регистрации (negative days)\n",
    "filtered_events = events_with_reg[\n",
    "    (events_with_reg['days_since_registration'] >= 0) &\n",
    "    (events_with_reg['days_since_registration'] <= 7)\n",
    "]\n",
    "\n",
    "# Теперь в `filtered_events` содержатся только события, произошедшие в первые 7 дней после регистрации"
   ]
  },
  {
   "cell_type": "code",
   "execution_count": 18,
   "id": "65d53c52",
   "metadata": {},
   "outputs": [],
   "source": [
    "# Подсчет количества событий на пользователя\n",
    "event_counts = filtered_events.groupby('user_id').size().reset_index(name='event_count')\n",
    "event_counts = event_counts.merge(test_participants[['user_id', 'group']], on='user_id', how='left')"
   ]
  },
  {
   "cell_type": "code",
   "execution_count": 19,
   "id": "db428ca2",
   "metadata": {},
   "outputs": [],
   "source": [
    "# Расчет времени активности (разница между первым и последним событием в часах)\n",
    "user_activity = filtered_events.groupby('user_id').agg(\n",
    "    first_event=('event_dt', 'min'),\n",
    "    last_event=('event_dt', 'max')\n",
    ").reset_index()\n",
    "user_activity['hours_active'] = (user_activity['last_event'] - user_activity['first_event']).dt.total_seconds() / 3600\n",
    "user_activity = user_activity.merge(test_participants[['user_id', 'group']], on='user_id', how='left')"
   ]
  },
  {
   "cell_type": "code",
   "execution_count": 20,
   "id": "e5f20036",
   "metadata": {},
   "outputs": [
    {
     "name": "stdout",
     "output_type": "stream",
     "text": [
      "Стат. данные о ко-ве событий в группах:\n"
     ]
    },
    {
     "data": {
      "text/html": [
       "<div>\n",
       "<style scoped>\n",
       "    .dataframe tbody tr th:only-of-type {\n",
       "        vertical-align: middle;\n",
       "    }\n",
       "\n",
       "    .dataframe tbody tr th {\n",
       "        vertical-align: top;\n",
       "    }\n",
       "\n",
       "    .dataframe thead th {\n",
       "        text-align: right;\n",
       "    }\n",
       "</style>\n",
       "<table border=\"1\" class=\"dataframe\">\n",
       "  <thead>\n",
       "    <tr style=\"text-align: right;\">\n",
       "      <th></th>\n",
       "      <th>count</th>\n",
       "      <th>mean</th>\n",
       "      <th>std</th>\n",
       "      <th>min</th>\n",
       "      <th>25%</th>\n",
       "      <th>50%</th>\n",
       "      <th>75%</th>\n",
       "      <th>max</th>\n",
       "    </tr>\n",
       "    <tr>\n",
       "      <th>group</th>\n",
       "      <th></th>\n",
       "      <th></th>\n",
       "      <th></th>\n",
       "      <th></th>\n",
       "      <th></th>\n",
       "      <th></th>\n",
       "      <th></th>\n",
       "      <th></th>\n",
       "    </tr>\n",
       "  </thead>\n",
       "  <tbody>\n",
       "    <tr>\n",
       "      <th>A</th>\n",
       "      <td>5383.0</td>\n",
       "      <td>6.271967</td>\n",
       "      <td>3.074688</td>\n",
       "      <td>2.0</td>\n",
       "      <td>4.0</td>\n",
       "      <td>6.0</td>\n",
       "      <td>8.0</td>\n",
       "      <td>23.0</td>\n",
       "    </tr>\n",
       "    <tr>\n",
       "      <th>B</th>\n",
       "      <td>5467.0</td>\n",
       "      <td>6.436254</td>\n",
       "      <td>3.170440</td>\n",
       "      <td>2.0</td>\n",
       "      <td>4.0</td>\n",
       "      <td>6.0</td>\n",
       "      <td>8.0</td>\n",
       "      <td>23.0</td>\n",
       "    </tr>\n",
       "  </tbody>\n",
       "</table>\n",
       "</div>"
      ],
      "text/plain": [
       "        count      mean       std  min  25%  50%  75%   max\n",
       "group                                                      \n",
       "A      5383.0  6.271967  3.074688  2.0  4.0  6.0  8.0  23.0\n",
       "B      5467.0  6.436254  3.170440  2.0  4.0  6.0  8.0  23.0"
      ]
     },
     "metadata": {},
     "output_type": "display_data"
    },
    {
     "name": "stdout",
     "output_type": "stream",
     "text": [
      "Часы активности по группам:\n"
     ]
    },
    {
     "data": {
      "text/html": [
       "<div>\n",
       "<style scoped>\n",
       "    .dataframe tbody tr th:only-of-type {\n",
       "        vertical-align: middle;\n",
       "    }\n",
       "\n",
       "    .dataframe tbody tr th {\n",
       "        vertical-align: top;\n",
       "    }\n",
       "\n",
       "    .dataframe thead th {\n",
       "        text-align: right;\n",
       "    }\n",
       "</style>\n",
       "<table border=\"1\" class=\"dataframe\">\n",
       "  <thead>\n",
       "    <tr style=\"text-align: right;\">\n",
       "      <th></th>\n",
       "      <th>count</th>\n",
       "      <th>mean</th>\n",
       "      <th>std</th>\n",
       "      <th>min</th>\n",
       "      <th>25%</th>\n",
       "      <th>50%</th>\n",
       "      <th>75%</th>\n",
       "      <th>max</th>\n",
       "    </tr>\n",
       "    <tr>\n",
       "      <th>group</th>\n",
       "      <th></th>\n",
       "      <th></th>\n",
       "      <th></th>\n",
       "      <th></th>\n",
       "      <th></th>\n",
       "      <th></th>\n",
       "      <th></th>\n",
       "      <th></th>\n",
       "    </tr>\n",
       "  </thead>\n",
       "  <tbody>\n",
       "    <tr>\n",
       "      <th>A</th>\n",
       "      <td>5383.0</td>\n",
       "      <td>68.638665</td>\n",
       "      <td>52.885183</td>\n",
       "      <td>0.0</td>\n",
       "      <td>20.319583</td>\n",
       "      <td>65.003333</td>\n",
       "      <td>113.688472</td>\n",
       "      <td>167.969444</td>\n",
       "    </tr>\n",
       "    <tr>\n",
       "      <th>B</th>\n",
       "      <td>5467.0</td>\n",
       "      <td>70.286110</td>\n",
       "      <td>53.008337</td>\n",
       "      <td>0.0</td>\n",
       "      <td>22.992500</td>\n",
       "      <td>67.228611</td>\n",
       "      <td>116.375278</td>\n",
       "      <td>167.952778</td>\n",
       "    </tr>\n",
       "  </tbody>\n",
       "</table>\n",
       "</div>"
      ],
      "text/plain": [
       "        count       mean        std  min        25%        50%         75%  \\\n",
       "group                                                                        \n",
       "A      5383.0  68.638665  52.885183  0.0  20.319583  65.003333  113.688472   \n",
       "B      5467.0  70.286110  53.008337  0.0  22.992500  67.228611  116.375278   \n",
       "\n",
       "              max  \n",
       "group              \n",
       "A      167.969444  \n",
       "B      167.952778  "
      ]
     },
     "metadata": {},
     "output_type": "display_data"
    }
   ],
   "source": [
    "# Статистика по количеству событий и времени активности\n",
    "print(\"Стат. данные о ко-ве событий в группах:\")\n",
    "display(event_counts.groupby('group')['event_count'].describe())\n",
    "print(\"Часы активности по группам:\")\n",
    "display(user_activity.groupby('group')['hours_active'].describe())"
   ]
  },
  {
   "cell_type": "markdown",
   "id": "35c3b752",
   "metadata": {},
   "source": [
    "<div style=\"background-color: white; border: 2px solid black; border-radius: 20px; padding: 15px 25px; display: inline-block; color: black;\">\n",
    "    \n",
    "Анализ по количеству событий (ко-во событий в группах):\n",
    "    \n",
    "    Среднее количество событий на пользователя в группе A — примерно 6.27, в группе B — около 6.44. Стандартные отклонения схожи (~3.07 и ~3.17), что говорит о схожести распределений. Максимальные значения (23) одинаковы, минимальные (2) тоже совпадают.\n",
    "    \n",
    "Анализ по времени активности:\n",
    "    \n",
    "    Среднее время активности в группе A — около 68.64 часов, в группе B — около 70.29 часов. Стандартные отклонения схожи (~52.89 и ~53.01). Максимальные значения (167.97 часов) одинаковы."
   ]
  },
  {
   "cell_type": "code",
   "execution_count": 21,
   "id": "540930f9",
   "metadata": {},
   "outputs": [
    {
     "data": {
      "image/png": "[encoded data removed]",
      "text/plain": [
       "<Figure size 720x432 with 1 Axes>"
      ]
     },
     "metadata": {},
     "output_type": "display_data"
    }
   ],
   "source": [
    "# Визуализация распределения времени активности\n",
    "# Настройка стиля графика\n",
    "# Определяем палитру цветов для групп\n",
    "palette = {\n",
    "    'A': 'orange',\n",
    "    'B': 'blue'\n",
    "}\n",
    "sns.set(style=\"whitegrid\")\n",
    "\n",
    "plt.figure(figsize=(10, 6))\n",
    "# Построение распределения по группам\n",
    "sns.histplot(\n",
    "    data=user_activity,\n",
    "    x='hours_active',\n",
    "    hue='group',\n",
    "    element='step',\n",
    "    stat='density',\n",
    "    common_norm=False,\n",
    "    bins=50,\n",
    "    palette=palette\n",
    ")\n",
    "\n",
    "#Вывод\n",
    "plt.title('Распределение времени активности пользователей по группам (в часах)')\n",
    "plt.xlabel('Часы активности')\n",
    "plt.ylabel('Плотность')\n",
    "plt.legend(title='Группа', labels=['Группа А', 'Группа В'])\n",
    "plt.show()\n"
   ]
  },
  {
   "cell_type": "markdown",
   "id": "ee13e264",
   "metadata": {},
   "source": [
    "<div style=\"background-color: white; border: 2px solid black; border-radius: 20px; padding: 15px 25px; display: inline-block; color: black;\">\n",
    "Для обеих групп характерна наибольшая плотность распределения около 0 часов активности, в районе 10 часов идет резкий спад и в целом после 25 часов стабильная плотность активности"
   ]
  },
  {
   "cell_type": "markdown",
   "id": "af83e079",
   "metadata": {},
   "source": [
    "Необходимо оценить достаточность выборки для получения статистически значимых результатов A/B-теста. \n",
    "\n",
    "- Заданные параметры:\n",
    "\n",
    "- базовый показатель конверсии — 30%,\n",
    "\n",
    "- мощность теста — 80%,\n",
    "\n",
    "- достоверность теста — 95%."
   ]
  },
  {
   "cell_type": "code",
   "execution_count": 24,
   "id": "44b1f9c0",
   "metadata": {},
   "outputs": [],
   "source": [
    "from statsmodels.stats.power import NormalIndPower"
   ]
  },
  {
   "cell_type": "code",
   "execution_count": 25,
   "id": "856e6786",
   "metadata": {},
   "outputs": [
    {
     "name": "stdout",
     "output_type": "stream",
     "text": [
      "Необходимый размер выборки для каждой группы: 174\n"
     ]
    }
   ],
   "source": [
    "# Задаём параметры\n",
    "alpha = 0.05  # Уровень значимости\n",
    "beta = 0.2  # Ошибка второго рода, часто 1 - мощность\n",
    "power = 0.8  # Мощность теста\n",
    "mde = 0.3  # Минимальный детектируемый эффект\n",
    "\n",
    "# Инициализируем класс NormalIndPower\n",
    "power_analysis = NormalIndPower()\n",
    "\n",
    "# Рассчитываем размер выборки\n",
    "sample_size = power_analysis.solve_power(\n",
    "    effect_size = mde,\n",
    "    power = power,\n",
    "    alpha = alpha,\n",
    "    ratio = 1 # Равномерное распределение выборок\n",
    ")\n",
    "\n",
    "print(f\"Необходимый размер выборки для каждой группы: {int(sample_size)}\")\n",
    "\n"
   ]
  },
  {
   "cell_type": "markdown",
   "id": "be380ead",
   "metadata": {},
   "source": [
    "<div style=\"background-color: white; border: 2px solid black; border-radius: 20px; padding: 15px 25px; display: inline-block; color: black;\">\n",
    "    Размер выборки более чем достаточный."
   ]
  },
  {
   "cell_type": "markdown",
   "id": "a9e0a267",
   "metadata": {},
   "source": [
    "### Рассчитаем  для каждой группы количество посетителей, сделавших покупку, и общее количество посетителей."
   ]
  },
  {
   "cell_type": "code",
   "execution_count": 26,
   "id": "98f0e899",
   "metadata": {},
   "outputs": [
    {
     "name": "stdout",
     "output_type": "stream",
     "text": [
      "  group  total_registrations  total_purchases  conversion_rate\n",
      "0     A                12129             5013         0.413307\n",
      "1     B                10925             4641         0.424805\n"
     ]
    }
   ],
   "source": [
    "#Объединение данных: определение регистраций\n",
    "registrations = events[events['event_name'] == 'registration']\n",
    "registrations = registrations[['user_id', 'event_dt']]\n",
    "registrations.columns = ['user_id', 'registration_date']\n",
    "\n",
    "# Объединение с участниками\n",
    "participants = participants.merge(registrations, on='user_id', how='inner')\n",
    "\n",
    "# Определение покупок в течение 7 дней после регистрации\n",
    "purchases = events[events['event_name'] == 'purchase']\n",
    "purchases = purchases[['user_id', 'event_dt']]\n",
    "purchases.columns = ['user_id', 'purchase_date']\n",
    "\n",
    "# Объединяем с регистрациями\n",
    "data = participants.merge(purchases, on='user_id', how='left')\n",
    "\n",
    "# Вычисляем разницу дат\n",
    "data['registration_date'] = pd.to_datetime(data['registration_date'])\n",
    "data['purchase_date'] = pd.to_datetime(data['purchase_date'])\n",
    "\n",
    "# Определяем совершили ли покупку в течение 7 дней\n",
    "data['made_purchase'] = ((data['purchase_date'] - data['registration_date']).dt.days <= 7) & (data['purchase_date'].notnull())\n",
    "\n",
    "# Группировка по группам теста\n",
    "grouped = data.groupby('group').agg(\n",
    "    total_registrations=('user_id', 'count'),\n",
    "    total_purchases=('made_purchase', 'sum')\n",
    ").reset_index()\n",
    "\n",
    "# Расчет конверсии\n",
    "grouped['conversion_rate'] = grouped['total_purchases'] / grouped['total_registrations']\n",
    "\n",
    "print(grouped)"
   ]
  },
  {
   "cell_type": "markdown",
   "id": "5543e3c9",
   "metadata": {},
   "source": [
    "<div style=\"background-color: white; border: 2px solid black; border-radius: 20px; padding: 15px 25px; display: inline-block; color: black;\">\n",
    "Группа A имеет больше регистраций (примерно на 1200 больше), чем группа B.\n",
    "Разница в размере групп небольшая, что хорошо для сравнения.\n",
    "Конверсия:\n",
    "Группа B показывает чуть более высокий показатель конверсии (42,48%) по сравнению с группой A (41,33%).\n",
    "Разница небошальшая.\n",
    "Итоговые выводы:\n",
    "Распределение регистраций и покупок между группами достаточно сбалансировано, хотя группа A немного больше по численности.\n",
    "Группа B показывает чуть более высокую конверсию, что может свидетельствовать о более успешной стратегии или особенностях тестируемого изменения.\n",
    "Для окончательных выводов необходимо провести тест , чтобы определить значимость разницы."
   ]
  },
  {
   "cell_type": "markdown",
   "id": "4c7e5c10",
   "metadata": {},
   "source": [
    "## Проводим оценку результатов A/B-тестирования\n"
   ]
  },
  {
   "cell_type": "code",
   "execution_count": 28,
   "id": "40ec8b96",
   "metadata": {},
   "outputs": [
    {
     "name": "stdout",
     "output_type": "stream",
     "text": [
      "Результаты U-тест Манна-Уитни:\n"
     ]
    },
    {
     "data": {
      "text/html": [
       "<div>\n",
       "<style scoped>\n",
       "    .dataframe tbody tr th:only-of-type {\n",
       "        vertical-align: middle;\n",
       "    }\n",
       "\n",
       "    .dataframe tbody tr th {\n",
       "        vertical-align: top;\n",
       "    }\n",
       "\n",
       "    .dataframe thead th {\n",
       "        text-align: right;\n",
       "    }\n",
       "</style>\n",
       "<table border=\"1\" class=\"dataframe\">\n",
       "  <thead>\n",
       "    <tr style=\"text-align: right;\">\n",
       "      <th></th>\n",
       "      <th>Статистика</th>\n",
       "      <th>p-value</th>\n",
       "    </tr>\n",
       "  </thead>\n",
       "  <tbody>\n",
       "    <tr>\n",
       "      <th>Результат</th>\n",
       "      <td>14714430.5</td>\n",
       "      <td>1.0</td>\n",
       "    </tr>\n",
       "  </tbody>\n",
       "</table>\n",
       "</div>"
      ],
      "text/plain": [
       "           Статистика  p-value\n",
       "Результат  14714430.5      1.0"
      ]
     },
     "metadata": {},
     "output_type": "display_data"
    },
    {
     "name": "stdout",
     "output_type": "stream",
     "text": [
      "P-value >= 0.05: Не отвергаем нулевую гипотезу: нет доказательств, что среднее время активности в группе B больше, чем в группе A.\n"
     ]
    }
   ],
   "source": [
    "# Разделение по группам\n",
    "#a_group = test_participants[test_participants['group'] == 'A'].value_counts()\n",
    "# b_group = test_participants[test_participants['group'] == 'B'].value_counts()\n",
    "# H0 Среднее время активности пользователей в группе B не больше, чем в группе A (B ≤ A).\n",
    "# H1 Среднее время активности пользователей в группе B больше, чем в группе A (B > A).\n",
    "\n",
    "u_stat, p_value = stats.mannwhitneyu(a_group, b_group, alternative='less')\n",
    "test_name = \"U-тест Манна-Уитни\"\n",
    "\n",
    "# Вывод результатов теста\n",
    "print(f\"Результаты {test_name}:\")\n",
    "display(pd.DataFrame({\n",
    "    'Статистика': [u_stat],\n",
    "    'p-value': [p_value]\n",
    "}, index=['Результат']))\n",
    "\n",
    "# Интерпретация\n",
    "alpha = 0.05\n",
    "if p_value < alpha:\n",
    "    print(f\"P-value < {alpha}: Отвергаем нулевую гипотезу: среднее время активности в группе B больше, чем в группе A.\")\n",
    "else:\n",
    "    print(f\"P-value >= {alpha}: Не отвергаем нулевую гипотезу: нет доказательств, что среднее время активности в группе B больше, чем в группе A.\")"
   ]
  },
  {
   "cell_type": "markdown",
   "id": "deeb8ade",
   "metadata": {},
   "source": [
    "<div style=\"background-color: white; border: 2px solid black; border-radius: 20px; padding: 15px 25px; display: inline-block; color: black;\">\n",
    "    \n",
    "Итоговые выводы: \n",
    "\n",
    "Нет достаточных оснований утверждать, что новая версия сайта (группа B) значительно улучшает показатели активности или конверсии по сравнению с текущей версией (группа A). Различия между группами являются статистически незначимыми. В целом, новая версия сайта не показала существенного преимущества в ключевых метриках на данном этапе тестирования.\n",
    "\n",
    "Рекомендация:\n",
    "Продолжить мониторинг и при необходимости провести дополнительные тесты или анализы для более точной оценки эффективности изменений."
   ]
  }
 ],
 "metadata": {
  "kernelspec": {
   "display_name": "Python 3 (ipykernel)",
   "language": "python",
   "name": "python3"
  },
  "language_info": {
   "codemirror_mode": {
    "name": "ipython",
    "version": 3
   },
   "file_extension": ".py",
   "mimetype": "text/x-python",
   "name": "python",
   "nbconvert_exporter": "python",
   "pygments_lexer": "ipython3",
   "version": "3.9.7"
  }
 },
 "nbformat": 4,
 "nbformat_minor": 5
}
