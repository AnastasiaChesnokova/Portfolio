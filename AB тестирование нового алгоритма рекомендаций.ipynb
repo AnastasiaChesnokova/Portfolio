{
 "cells": [
  {
   "cell_type": "markdown",
   "metadata": {
    "id": "u98L9TgH0eMk"
   },
   "source": [
    "# Разработка A/B-тестирования и анализ результатов\n",
    "\n",
    "Вы работаете продуктовым аналитиком в компании, которая разрабатывает развлекательное приложение с функцией «бесконечной» ленты, как, например, в приложениях с короткими видео. В вашем приложении существует две модели монетизации: первая — ежемесячная платная подписка, которая позволяет пользователям смотреть ленту без рекламы, вторая — демонстрация рекламы для пользователей, которые ещё не оформили подписку.\n",
    "\n",
    "Команда разработчиков рекомендательных систем создала новый алгоритм рекомендаций, который, по их мнению, будет показывать более интересный контент для каждого пользователя. Вас, как аналитика, просят помочь рассчитать параметры A/B-теста, который позволит проверить эту гипотезу, и проанализировать его результаты."
   ]
  },
  {
   "cell_type": "markdown",
   "metadata": {
    "id": "LJBRALHs0eMf"
   },
   "source": [
    "## Описание данных\n",
    "\n",
    "Вы будете работать с тремя таблицами:\n",
    "\n",
    "- `sessions_project_history.csv` — таблица с историческими данными по сессиям пользователей на период с 2025-08-15 по 2025-09-23. Путь к файлу: `/datasets/sessions_project_history.csv`.\n",
    "\n",
    "- `sessions_project_test_part.csv` — таблица с данными за первый день проведения A/B-теста, то есть за 2025-10-14. Путь к файлу: `/datasets/sessions_project_test_part.csv`.\n",
    "\n",
    "- `sessions_project_test.csv` — таблица с данными за весь период проведения A/B-теста, то есть с 2025-10-14 по 2025-11-02. Путь к файлу: `/datasets/sessions_project_test.csv`.\n",
    "\n",
    "У этих таблиц почти совпадает структура и содержание колонок, различаются лишь периоды наблюдения.\n",
    "\n",
    "Поля таблиц `sessions_project_history.csv`, `sessions_project_test.csv`, `sessions_project_test_part.csv`:\n",
    "\n",
    "- `user_id` — идентификатор пользователя;\n",
    "\n",
    "- `session_id` — идентификатор сессии в приложении;\n",
    "\n",
    "- `session_date` — дата сессии;\n",
    "\n",
    "- `session_start_ts` — дата и время начала сессии;\n",
    "\n",
    "- `install_date` — дата установки приложения;\n",
    "\n",
    "- `session_number` — порядковый номер сессии для конкретного пользователя;\n",
    "\n",
    "- `registration_flag` — является ли пользователь зарегистрированным;\n",
    "\n",
    "- `page_counter` — количество просмотренных страниц во время сессии;\n",
    "\n",
    "- `region` — регион пользователя;\n",
    "\n",
    "- `device` — тип устройства пользователя;\n",
    "\n",
    "- `test_group` — тестовая группа (в таблице с историческими данными этого столбца нет).\n",
    "\n",
    "\n",
    "## Что нужно сделать\n",
    "Ваши задачи: рассчитать параметры теста, оценить корректность его проведения и проанализировать результаты эксперимента."
   ]
  },
  {
   "cell_type": "markdown",
   "metadata": {
    "id": "UpOucjID0eMl"
   },
   "source": [
    "### 1. Работа с историческими данными (EDA)"
   ]
  },
  {
   "cell_type": "markdown",
   "metadata": {
    "id": "8iJMtL-30eMl"
   },
   "source": [
    "#### 1.1. Загрузка исторических данных\n",
    "На первом этапе поработайте с историческими данными приложения:\n",
    "\n",
    "- Импортируйте библиотеку pandas.\n",
    "\n",
    "- Считайте и сохраните в датафрейм `sessions_history` CSV-файл с историческими данными о сессиях пользователей `sessions_project_history.csv`.\n",
    "\n",
    "Выведите на экран первые пять строк полученного датафрейма."
   ]
  },
  {
   "cell_type": "code",
   "execution_count": 1,
   "metadata": {},
   "outputs": [],
   "source": [
    "import pandas as pd\n",
    "import matplotlib.pyplot as plt"
   ]
  },
  {
   "cell_type": "code",
   "execution_count": 2,
   "metadata": {
    "id": "6TPR2-1RPboT"
   },
   "outputs": [
    {
     "name": "stdout",
     "output_type": "stream",
     "text": [
      "<class 'pandas.core.frame.DataFrame'>\n",
      "RangeIndex: 435924 entries, 0 to 435923\n",
      "Data columns (total 10 columns):\n",
      " #   Column             Non-Null Count   Dtype \n",
      "---  ------             --------------   ----- \n",
      " 0   user_id            435924 non-null  object\n",
      " 1   session_id         435924 non-null  object\n",
      " 2   session_date       435924 non-null  object\n",
      " 3   session_start_ts   435924 non-null  object\n",
      " 4   install_date       435924 non-null  object\n",
      " 5   session_number     435924 non-null  int64 \n",
      " 6   registration_flag  435924 non-null  int64 \n",
      " 7   page_counter       435924 non-null  int64 \n",
      " 8   region             435924 non-null  object\n",
      " 9   device             435924 non-null  object\n",
      "dtypes: int64(3), object(7)\n",
      "memory usage: 33.3+ MB\n"
     ]
    },
    {
     "data": {
      "text/html": [
       "<div>\n",
       "<style scoped>\n",
       "    .dataframe tbody tr th:only-of-type {\n",
       "        vertical-align: middle;\n",
       "    }\n",
       "\n",
       "    .dataframe tbody tr th {\n",
       "        vertical-align: top;\n",
       "    }\n",
       "\n",
       "    .dataframe thead th {\n",
       "        text-align: right;\n",
       "    }\n",
       "</style>\n",
       "<table border=\"1\" class=\"dataframe\">\n",
       "  <thead>\n",
       "    <tr style=\"text-align: right;\">\n",
       "      <th></th>\n",
       "      <th>user_id</th>\n",
       "      <th>session_id</th>\n",
       "      <th>session_date</th>\n",
       "      <th>session_start_ts</th>\n",
       "      <th>install_date</th>\n",
       "      <th>session_number</th>\n",
       "      <th>registration_flag</th>\n",
       "      <th>page_counter</th>\n",
       "      <th>region</th>\n",
       "      <th>device</th>\n",
       "    </tr>\n",
       "  </thead>\n",
       "  <tbody>\n",
       "    <tr>\n",
       "      <th>0</th>\n",
       "      <td>E302123B7000BFE4</td>\n",
       "      <td>F9AF61A0C2023832</td>\n",
       "      <td>2025-08-15</td>\n",
       "      <td>2025-08-15 17:47:35</td>\n",
       "      <td>2025-08-15</td>\n",
       "      <td>1</td>\n",
       "      <td>0</td>\n",
       "      <td>3</td>\n",
       "      <td>CIS</td>\n",
       "      <td>iPhone</td>\n",
       "    </tr>\n",
       "    <tr>\n",
       "      <th>1</th>\n",
       "      <td>2530F72E221829FB</td>\n",
       "      <td>85003A206CBDAC6F</td>\n",
       "      <td>2025-08-15</td>\n",
       "      <td>2025-08-15 16:42:14</td>\n",
       "      <td>2025-08-15</td>\n",
       "      <td>1</td>\n",
       "      <td>0</td>\n",
       "      <td>4</td>\n",
       "      <td>MENA</td>\n",
       "      <td>Android</td>\n",
       "    </tr>\n",
       "    <tr>\n",
       "      <th>2</th>\n",
       "      <td>876E020A4FC512F5</td>\n",
       "      <td>3677423E49D72DEE</td>\n",
       "      <td>2025-08-15</td>\n",
       "      <td>2025-08-15 12:30:00</td>\n",
       "      <td>2025-08-15</td>\n",
       "      <td>1</td>\n",
       "      <td>0</td>\n",
       "      <td>4</td>\n",
       "      <td>EU</td>\n",
       "      <td>PC</td>\n",
       "    </tr>\n",
       "    <tr>\n",
       "      <th>3</th>\n",
       "      <td>2640B349E1D81584</td>\n",
       "      <td>956B45F5915CA225</td>\n",
       "      <td>2025-08-15</td>\n",
       "      <td>2025-08-15 15:31:31</td>\n",
       "      <td>2025-08-15</td>\n",
       "      <td>1</td>\n",
       "      <td>0</td>\n",
       "      <td>4</td>\n",
       "      <td>CIS</td>\n",
       "      <td>Android</td>\n",
       "    </tr>\n",
       "    <tr>\n",
       "      <th>4</th>\n",
       "      <td>94E1CBFAEF1F5EE9</td>\n",
       "      <td>83BF0DA35F9F1F40</td>\n",
       "      <td>2025-08-15</td>\n",
       "      <td>2025-08-15 21:33:53</td>\n",
       "      <td>2025-08-15</td>\n",
       "      <td>1</td>\n",
       "      <td>0</td>\n",
       "      <td>3</td>\n",
       "      <td>CIS</td>\n",
       "      <td>Android</td>\n",
       "    </tr>\n",
       "  </tbody>\n",
       "</table>\n",
       "</div>"
      ],
      "text/plain": [
       "            user_id        session_id session_date     session_start_ts  \\\n",
       "0  E302123B7000BFE4  F9AF61A0C2023832   2025-08-15  2025-08-15 17:47:35   \n",
       "1  2530F72E221829FB  85003A206CBDAC6F   2025-08-15  2025-08-15 16:42:14   \n",
       "2  876E020A4FC512F5  3677423E49D72DEE   2025-08-15  2025-08-15 12:30:00   \n",
       "3  2640B349E1D81584  956B45F5915CA225   2025-08-15  2025-08-15 15:31:31   \n",
       "4  94E1CBFAEF1F5EE9  83BF0DA35F9F1F40   2025-08-15  2025-08-15 21:33:53   \n",
       "\n",
       "  install_date  session_number  registration_flag  page_counter region  \\\n",
       "0   2025-08-15               1                  0             3    CIS   \n",
       "1   2025-08-15               1                  0             4   MENA   \n",
       "2   2025-08-15               1                  0             4     EU   \n",
       "3   2025-08-15               1                  0             4    CIS   \n",
       "4   2025-08-15               1                  0             3    CIS   \n",
       "\n",
       "    device  \n",
       "0   iPhone  \n",
       "1  Android  \n",
       "2       PC  \n",
       "3  Android  \n",
       "4  Android  "
      ]
     },
     "execution_count": 2,
     "metadata": {},
     "output_type": "execute_result"
    }
   ],
   "source": [
    "\n",
    "df_sessions_history = pd.read_csv('/datasets/sessions_project_history.csv')\n",
    "df_sessions_history.info()\n",
    "df_sessions_history.head()"
   ]
  },
  {
   "cell_type": "markdown",
   "metadata": {
    "id": "qTDoiODz0eMo"
   },
   "source": [
    "#### 1.2. Знакомство с данными\n",
    "- Для каждого уникального пользователя `user_id` рассчитайте количество уникальных сессий `session_id`.\n",
    "\n",
    "- Выведите на экран все данные из таблицы `sessions_history` для одного пользователя с наибольшим количеством сессий. Если таких пользователей несколько, выберите любого из них.\n",
    "\n",
    "- Изучите таблицу для одного пользователя, чтобы лучше понять логику формирования каждого столбца данных.\n",
    "\n"
   ]
  },
  {
   "cell_type": "code",
   "execution_count": 3,
   "metadata": {
    "id": "PWZO9vTIPbPN"
   },
   "outputs": [
    {
     "name": "stdout",
     "output_type": "stream",
     "text": [
      "Пользователь с наибольшим количеством сессий: 10E0DEFC1ABDBBE0\n",
      "Данные для выбранного пользователя:\n",
      "                 user_id        session_id session_date     session_start_ts  \\\n",
      "115558  10E0DEFC1ABDBBE0  B8F0423BBFFCF5DC   2025-08-14  2025-08-14 13:57:39   \n",
      "191751  10E0DEFC1ABDBBE0  87CA2FA549473837   2025-08-15  2025-08-15 16:42:10   \n",
      "239370  10E0DEFC1ABDBBE0  4ADD8011DCDCE318   2025-08-16  2025-08-16 19:53:21   \n",
      "274629  10E0DEFC1ABDBBE0  DF0FD0E09BF1F3D7   2025-08-17  2025-08-17 15:03:43   \n",
      "302501  10E0DEFC1ABDBBE0  3C221774B4DE6885   2025-08-18  2025-08-18 17:29:14   \n",
      "325557  10E0DEFC1ABDBBE0  031BD7A67048105B   2025-08-19  2025-08-19 13:23:55   \n",
      "345336  10E0DEFC1ABDBBE0  FF4315CF4AD4B100   2025-08-20  2025-08-20 19:31:54   \n",
      "377532  10E0DEFC1ABDBBE0  4045FEA0747203B4   2025-08-22  2025-08-22 17:54:13   \n",
      "403538  10E0DEFC1ABDBBE0  344B086C421C7F37   2025-08-24  2025-08-24 14:46:13   \n",
      "414743  10E0DEFC1ABDBBE0  054F20BA371E4C9D   2025-08-25  2025-08-25 18:36:41   \n",
      "\n",
      "       install_date  session_number  registration_flag  page_counter region  \\\n",
      "115558   2025-08-14               1                  0             4    CIS   \n",
      "191751   2025-08-14               2                  0             3    CIS   \n",
      "239370   2025-08-14               3                  0             3    CIS   \n",
      "274629   2025-08-14               4                  0             1    CIS   \n",
      "302501   2025-08-14               5                  0             4    CIS   \n",
      "325557   2025-08-14               6                  0             2    CIS   \n",
      "345336   2025-08-14               7                  0             2    CIS   \n",
      "377532   2025-08-14               8                  0             2    CIS   \n",
      "403538   2025-08-14               9                  0             2    CIS   \n",
      "414743   2025-08-14              10                  0             3    CIS   \n",
      "\n",
      "         device  \n",
      "115558  Android  \n",
      "191751  Android  \n",
      "239370  Android  \n",
      "274629  Android  \n",
      "302501  Android  \n",
      "325557  Android  \n",
      "345336  Android  \n",
      "377532  Android  \n",
      "403538  Android  \n",
      "414743  Android  \n"
     ]
    }
   ],
   "source": [
    "# 1. Группируем по user_id и считаем уникальные session_id\n",
    "sessions_count = df_sessions_history.groupby('user_id')['session_id'].nunique()\n",
    "\n",
    "# 2. Находим user_id с максимальным количеством сессий\n",
    "max_sessions_user = sessions_count.idxmax()\n",
    "\n",
    "print(f\"Пользователь с наибольшим количеством сессий: {max_sessions_user}\")\n",
    "\n",
    "# 3. Выводим все записи для этого пользователя\n",
    "user_sessions = df_sessions_history[df_sessions_history['user_id'] == max_sessions_user]\n",
    "\n",
    "print(\"Данные для выбранного пользователя:\")\n",
    "print(user_sessions)"
   ]
  },
  {
   "cell_type": "markdown",
   "metadata": {
    "id": "CmcGpJTP0eMq"
   },
   "source": [
    "#### 1.3. Анализ числа регистраций\n",
    "Одна из важнейших метрик продукта — число зарегистрированных пользователей. Используя исторические данные, визуализируйте, как менялось число регистраций в приложении за время его существования.\n",
    "\n",
    "- Агрегируйте исторические данные и рассчитайте число уникальных пользователей и число зарегистрированных пользователей для каждого дня наблюдения. Для простоты считайте, что у пользователя в течение дня бывает одна сессия максимум и статус регистрации в течение одного дня не может измениться.\n",
    "\n",
    "- Постройте линейные графики общего числа пользователей и общего числа зарегистрированных пользователей по дням. Отобразите их на одном графике.\n",
    "\n",
    "- Постройте отдельный линейный график доли зарегистрированных пользователей от всех пользователей по дням.\n",
    "\n",
    "- На обоих графиках должны быть заголовок, подписанные оси X и Y, сетка и легенда."
   ]
  },
  {
   "cell_type": "code",
   "execution_count": 4,
   "metadata": {
    "id": "tN_6Ml3EPatS"
   },
   "outputs": [
    {
     "data": {
      "image/png": "[encoded data removed]",
      "text/plain": [
       "<Figure size 864x432 with 1 Axes>"
      ]
     },
     "metadata": {
      "needs_background": "light"
     },
     "output_type": "display_data"
    },
    {
     "data": {
      "image/png": "[encoded data removed]",
      "text/plain": [
       "<Figure size 864x432 with 1 Axes>"
      ]
     },
     "metadata": {
      "needs_background": "light"
     },
     "output_type": "display_data"
    }
   ],
   "source": [
    "\n",
    "# Переводим стб с датой в нужный тип данных\n",
    "df_sessions_history['session_date'] = pd.to_datetime(df_sessions_history['session_date'])\n",
    "\n",
    "# 1. Получаем список уникальных пользователей за каждый день\n",
    "daily_unique_users = (\n",
    "    df_sessions_history.groupby('session_date')['user_id']\n",
    "    .nunique()\n",
    "    .reset_index(name='total_users')\n",
    ")\n",
    "# 2Получаем список зарегистрированных пользователей за каждый день\n",
    "registered_daily = (\n",
    "    df_sessions_history[df_sessions_history['registration_flag'] == 1]\n",
    "    .groupby('session_date')['user_id']\n",
    "    .nunique()\n",
    "    .reset_index(name='registered_users')\n",
    ")\n",
    "\n",
    "# 3. Объединяем данные по датам\n",
    "daily_stats = pd.merge(daily_unique_users, registered_daily, on='session_date', how='left')\n",
    "daily_stats['registered_users'] = daily_stats['registered_users'].fillna(0)\n",
    "\n",
    "# 4. Расчет доли зарегистрированных пользователей\n",
    "daily_stats['share_registered'] = daily_stats['registered_users'] / daily_stats['total_users']\n",
    "\n",
    "# Создаем таблицу с уникальными пользователями за каждый день\n",
    "daily_unique_users = df_sessions_history.groupby('session_date')['user_id'].nunique().reset_index(name='total_users')\n",
    "\n",
    "# Построение графиков\n",
    "\n",
    "# График 1: Общее число пользователей и зарегистрированных по дням\n",
    "plt.figure(figsize=(12, 6))\n",
    "plt.plot(daily_stats['session_date'], daily_stats['total_users'], label='Общее число пользователей')\n",
    "plt.plot(daily_stats['session_date'], daily_stats['registered_users'], label='Зарегистрированные пользователи')\n",
    "plt.title('Динамика количества регистраций и общего числа пользователей')\n",
    "plt.xlabel('Дата')\n",
    "plt.ylabel('Количество пользователей')\n",
    "plt.legend()\n",
    "plt.grid(True)\n",
    "plt.tight_layout()\n",
    "plt.show()\n",
    "\n",
    "# График 2: Доля зарегистрированных от всех по дням\n",
    "plt.figure(figsize=(12, 6))\n",
    "plt.plot(daily_stats['session_date'], daily_stats['share_registered'], label='Доля зарегистрированных', color='orange')\n",
    "plt.title('Доля зарегистрированных пользователей от всех по дням')\n",
    "plt.xlabel('Дата')\n",
    "plt.ylabel('Доля зарегистрированных')\n",
    "plt.legend()\n",
    "plt.grid(True)\n",
    "plt.tight_layout()\n",
    "plt.show()"
   ]
  },
  {
   "cell_type": "markdown",
   "metadata": {},
   "source": [
    "<div style=\"background-color: white; border: 2px solid black; border-radius: 20px; padding: 15px 25px; display: inline-block; color: black;\">\n",
    "Большинство пользователей, активно использующих приложение, не регистрируются. Нужно детальнее разобрать причину, придумать, что могло бы замотивироватьрегистрироваться.\n",
    "Однако доля зарегистрированных пользователей выросла с 4% до 12% за выбранный период, что указывает на улучшение конверсии в регистрацию. Рекомендовано провести исследование в этом направлении."
   ]
  },
  {
   "cell_type": "markdown",
   "metadata": {
    "id": "UR7D7RhF0eMr"
   },
   "source": [
    "#### 1.4. Анализ числа просмотренных страниц\n",
    "Другая важная метрика продукта — число просмотренных страниц в приложении. Чем больше страниц просмотрено, тем сильнее пользователь увлечён контентом, а значит, выше шансы на то, что он зарегистрируется и оплатит подписку.\n",
    "\n",
    "- Найдите количество сессий для каждого значения количества просмотренных страниц. Например: одну страницу просмотрели в 29160 сессиях, две страницы в 105536 сессиях и так далее.\n",
    "\n",
    "- Постройте столбчатую диаграмму, где по оси X будет число просмотренных страниц, по оси Y — количество сессий.\n",
    "\n",
    "- На диаграмме должны быть заголовок, подписанные оси X и Y."
   ]
  },
  {
   "cell_type": "code",
   "execution_count": 5,
   "metadata": {
    "id": "cb6hPlVzPaSf"
   },
   "outputs": [
    {
     "data": {
      "image/png": "[encoded data removed]",
      "text/plain": [
       "<Figure size 864x432 with 1 Axes>"
      ]
     },
     "metadata": {
      "needs_background": "light"
     },
     "output_type": "display_data"
    }
   ],
   "source": [
    " # 1. Группируем по количеству просмотренных страниц и считаем число сессий для каждого значения\n",
    "sessions_per_page_count = (\n",
    "    df_sessions_history.groupby('page_counter')['session_id']\n",
    "    .count()\n",
    "    .reset_index(name='session_count')\n",
    ")\n",
    "\n",
    "# 2. Сортируем по количеству просмотренных страниц для более читаемой визуализации (по желанию)\n",
    "sessions_per_page_count = sessions_per_page_count.sort_values('page_counter')\n",
    "\n",
    "# 3. Строим столбчатую диаграмму\n",
    "plt.figure(figsize=(12, 6))\n",
    "plt.bar(sessions_per_page_count['page_counter'], sessions_per_page_count['session_count'])\n",
    "plt.title('Количество сессий по числу просмотренных страниц')\n",
    "plt.xlabel('Число просмотренных страниц')\n",
    "plt.ylabel('Количество сессий')\n",
    "plt.grid(axis='y', linestyle='--', alpha=0.7)\n",
    "plt.tight_layout()\n",
    "plt.show()"
   ]
  },
  {
   "cell_type": "markdown",
   "metadata": {},
   "source": [
    "<div style=\"background-color: white; border: 2px solid black; border-radius: 20px; padding: 15px 25px; display: inline-block; color: black;\">\n",
    "Большинство сессий (около 160 000) имеют 3 просмотренные страницы, что указывает на низкую вовлеченность пользователей.\n",
    "\n",
    "Резкое снижение активности после 3 страниц - вероятно, что пользователи редко углубляются в контент."
   ]
  },
  {
   "cell_type": "markdown",
   "metadata": {
    "id": "xDltSpVP0eMr"
   },
   "source": [
    "#### 1.5. Доля пользователей, просмотревших более четырёх страниц\n",
    "Продуктовая команда продукта считает, что сессии, в рамках которых пользователь просмотрел 4 и более страниц, говорят об удовлетворённости контентом и алгоритмами рекомендаций. Этот показатель является важной прокси-метрикой для продукта.\n",
    "\n",
    "- В датафрейме `sessions_history` создайте дополнительный столбец `good_session`. В него войдёт значение `1`, если за одну сессию было просмотрено 4 и более страниц, и значение `0`, если было просмотрено меньше.\n",
    "\n",
    "- Постройте график со средним значением доли успешных сессий ко всем сессиям по дням за весь период наблюдения."
   ]
  },
  {
   "cell_type": "code",
   "execution_count": 6,
   "metadata": {
    "id": "iygaPfixPYMW"
   },
   "outputs": [
    {
     "data": {
      "image/png": "[encoded data removed]",
      "text/plain": [
       "<Figure size 864x432 with 1 Axes>"
      ]
     },
     "metadata": {
      "needs_background": "light"
     },
     "output_type": "display_data"
    }
   ],
   "source": [
    "# 1. Создаем столбец good_session: 1, если просмотрено 4 и более страниц, иначе 0\n",
    "df_sessions_history['good_session'] = (df_sessions_history['page_counter'] >= 4).astype(int)\n",
    "\n",
    "# 2. Убедимся, что дата в нужном формате\n",
    "df_sessions_history['session_date'] = pd.to_datetime(df_sessions_history['session_date'])\n",
    "\n",
    "# 3. Группируем по дате и считаем среднее значение good_session (доля успешных сессий)\n",
    "daily_good_session_ratio = (\n",
    "    df_sessions_history.groupby('session_date')['good_session']\n",
    "    .mean()\n",
    "    .reset_index(name='avg_good_session_ratio')\n",
    ")\n",
    "\n",
    "# 4. Строим график\n",
    "plt.figure(figsize=(12, 6))\n",
    "plt.plot(daily_good_session_ratio['session_date'], daily_good_session_ratio['avg_good_session_ratio'])\n",
    "plt.title('Доля успешных сессий (4 и более страниц) по дням')\n",
    "plt.xlabel('Дата')\n",
    "plt.ylabel('Доля успешных сессий')\n",
    "plt.grid(True)\n",
    "plt.tight_layout()\n",
    "plt.show()"
   ]
  },
  {
   "cell_type": "markdown",
   "metadata": {},
   "source": [
    "<div style=\"background-color: white; border: 2px solid black; border-radius: 20px; padding: 15px 25px; display: inline-block; color: black;\">\n",
    "Вовлеченность стабильно невысока. Доля сессий с 4+ просмотренными страницами колеблется в диапазоне 29–32% без явного тренда на рост или падение.\n",
    "Резкие скачки и падения могут быть связаны с изменениями в активности пользователей или качеством контента в отдельные дни.\n"
   ]
  },
  {
   "cell_type": "markdown",
   "metadata": {
    "id": "21JcG77Y0eMt"
   },
   "source": [
    "### 2. Подготовка к тесту\n",
    "При планировании теста необходимо проделать несколько важных шагов:\n",
    "\n",
    "- Определиться с целевой метрикой.\n",
    "\n",
    "- Рассчитать необходимый размер выборки.\n",
    "\n",
    "- Исходя из текущих значений трафика, рассчитать необходимую длительность проведения теста."
   ]
  },
  {
   "cell_type": "markdown",
   "metadata": {
    "id": "uzaeln270eMt"
   },
   "source": [
    "#### 2.1. Расчёт размера выборки\n",
    "В рамках курса вам уже приходилось рассчитывать размеры выборки, используя онлайн-калькуляторы. В этом задании предлагаем воспользоваться готовым кодом и рассчитать необходимое для вашего дизайна эксперимента количество пользователей.\n",
    "\n",
    "Для этого установите в коде ниже следующие параметры:\n",
    "\n",
    "- Уровень значимости — 0.05.\n",
    "\n",
    "- Вероятность ошибки второго рода — 0.2.\n",
    "\n",
    "- Мощность теста.\n",
    "\n",
    "- Минимальный детектируемый эффект, или MDE, — 3%. Обратите внимание, что здесь нужно указать десятичную дробь, а не процент.\n",
    "\n",
    "При расчёте размера выборки мы будем использовать метод `solve_power()` из класса `power.NormalIndPower` модуля `statsmodels.stats`.\n",
    "\n",
    "Запустите ячейку и изучите полученное значение."
   ]
  },
  {
   "cell_type": "code",
   "execution_count": 7,
   "metadata": {
    "id": "zSxJyPGPNdaI"
   },
   "outputs": [
    {
     "name": "stdout",
     "output_type": "stream",
     "text": [
      "Необходимый размер выборки для каждой группы: 17441\n"
     ]
    }
   ],
   "source": [
    "from statsmodels.stats.power import NormalIndPower\n",
    "\n",
    "# Задаём параметры\n",
    "alpha = 0.05  # Уровень значимости\n",
    "beta = 0.2  # Ошибка второго рода, часто 1 - мощность\n",
    "power = 0.8  # Мощность теста\n",
    "mde = 0.03  # Минимальный детектируемый эффект\n",
    "\n",
    "# Инициализируем класс NormalIndPower\n",
    "power_analysis = NormalIndPower()\n",
    "\n",
    "# Рассчитываем размер выборки\n",
    "sample_size = power_analysis.solve_power(\n",
    "    effect_size = mde,\n",
    "    power = power,\n",
    "    alpha = alpha,\n",
    "    ratio = 1 # Равномерное распределение выборок\n",
    ")\n",
    "\n",
    "print(f\"Необходимый размер выборки для каждой группы: {int(sample_size)}\")"
   ]
  },
  {
   "cell_type": "markdown",
   "metadata": {},
   "source": [
    "<div style=\"background-color: white; border: 2px solid black; border-radius: 20px; padding: 15px 25px; display: inline-block; color: black;\">\n",
    "    Необходимый размер выборки для каждой группы 17 441"
   ]
  },
  {
   "cell_type": "markdown",
   "metadata": {
    "id": "qLEv4RoV0eMu"
   },
   "source": [
    "#### 2.1. Расчёт длительности A/B-теста\n",
    "\n",
    "Используйте данные о количестве пользователей в каждой выборке и среднем количестве пользователей приложения. Рассчитайте длительность теста, разделив одно на другое.\n",
    "\n",
    "- Рассчитайте среднее количество уникальных пользователей приложения в день.\n",
    "\n",
    "- Определите длительность теста, исходя из рассчитанного значения размера выборок и среднего дневного трафика приложения. Количество дней округлите в большую сторону."
   ]
  },
  {
   "cell_type": "code",
   "execution_count": 8,
   "metadata": {},
   "outputs": [],
   "source": [
    "from math import ceil"
   ]
  },
  {
   "cell_type": "code",
   "execution_count": 9,
   "metadata": {
    "id": "KZDRbryDOGHa",
    "scrolled": true
   },
   "outputs": [
    {
     "name": "stdout",
     "output_type": "stream",
     "text": [
      "Рассчитанная длительность A/B-теста при текущем уровене трафика в 9907 пользователей в день составит 4 дней\n"
     ]
    },
    {
     "name": "stderr",
     "output_type": "stream",
     "text": [
      "/tmp/ipykernel_49/1682551173.py:2: FutureWarning: DataFrame.mean and DataFrame.median with numeric_only=None will include datetime64 and datetime64tz columns in a future version.\n",
      "  avg_unique_users = int(daily_unique_users.mean())\n"
     ]
    }
   ],
   "source": [
    "\n",
    "# Среднее количество пользователей приложения в день по историческим данным\n",
    "avg_unique_users = int(daily_unique_users.mean())\n",
    "\n",
    "# Размер выборки для обеих групп (17,441 для каждой, всего 34,882)\n",
    "total_sample_size = 17441 * 2\n",
    "# Рассчитываем длительность теста в днях как отношение размера выборки к среднему числу пользователей\n",
    "test_duration = ceil(total_sample_size / avg_unique_users)\n",
    "\n",
    "print(f\"Рассчитанная длительность A/B-теста при текущем уровене трафика в {avg_unique_users} пользователей в день составит {test_duration} дней\")"
   ]
  },
  {
   "attachments": {},
   "cell_type": "markdown",
   "metadata": {},
   "source": [
    "<div style=\"background-color: white; border: 2px solid black; border-radius: 20px; padding: 15px 25px; display: inline-block; color: black;\">\n",
    "\n",
    "Нкобходимый минимальный срок проведения теста - 4 дня , однако для повышения надёжности результатов теста желательно провести его дольше — 7 дней, чтобы сгладить возможные колебания в поведении пользователей по дням недели и собрать больше данных для анализа.      "
   ]
  },
  {
   "cell_type": "markdown",
   "metadata": {
    "id": "ZuvtAdha0eMv"
   },
   "source": [
    "### 3. Мониторинг А/В-теста"
   ]
  },
  {
   "cell_type": "markdown",
   "metadata": {
    "id": "jq5sE3Ya0eMv"
   },
   "source": [
    "#### 3.1. Проверка распределения пользователей\n",
    "\n",
    "A/B-тест успешно запущен, и уже доступны данные за первые три дня. На этом этапе нужно убедиться, что всё идёт хорошо: пользователи разделены правильным образом, а интересующие вас метрики корректно считаются.\n",
    "\n",
    "- Считайте и сохраните в датафрейм `sessions_test_part` CSV-файл с историческими данными о сессиях пользователей `sessions_project_test_part.csv`.\n",
    "\n",
    "- Рассчитайте количество уникальных пользователей в каждой из экспериментальных групп для одного дня наблюдения.\n",
    "\n",
    "- Рассчитайте и выведите на экран процентную разницу в количестве пользователей в группах A и B. Постройте любую удобную визуализацию, на которой можно было бы увидеть возможное различие двух групп.\n",
    "\n",
    "Для расчёта процентной разницы воспользуйтесь формулой:\n",
    "$$P = 100 \\cdot  \\frac{|A − B|}{A}$$"
   ]
  },
  {
   "cell_type": "code",
   "execution_count": 10,
   "metadata": {},
   "outputs": [
    {
     "name": "stdout",
     "output_type": "stream",
     "text": [
      "<class 'pandas.core.frame.DataFrame'>\n",
      "RangeIndex: 3130 entries, 0 to 3129\n",
      "Data columns (total 11 columns):\n",
      " #   Column             Non-Null Count  Dtype \n",
      "---  ------             --------------  ----- \n",
      " 0   user_id            3130 non-null   object\n",
      " 1   session_id         3130 non-null   object\n",
      " 2   session_date       3130 non-null   object\n",
      " 3   session_start_ts   3130 non-null   object\n",
      " 4   install_date       3130 non-null   object\n",
      " 5   session_number     3130 non-null   int64 \n",
      " 6   registration_flag  3130 non-null   int64 \n",
      " 7   page_counter       3130 non-null   int64 \n",
      " 8   region             3130 non-null   object\n",
      " 9   device             3130 non-null   object\n",
      " 10  test_group         3130 non-null   object\n",
      "dtypes: int64(3), object(8)\n",
      "memory usage: 269.1+ KB\n"
     ]
    },
    {
     "data": {
      "text/html": [
       "<div>\n",
       "<style scoped>\n",
       "    .dataframe tbody tr th:only-of-type {\n",
       "        vertical-align: middle;\n",
       "    }\n",
       "\n",
       "    .dataframe tbody tr th {\n",
       "        vertical-align: top;\n",
       "    }\n",
       "\n",
       "    .dataframe thead th {\n",
       "        text-align: right;\n",
       "    }\n",
       "</style>\n",
       "<table border=\"1\" class=\"dataframe\">\n",
       "  <thead>\n",
       "    <tr style=\"text-align: right;\">\n",
       "      <th></th>\n",
       "      <th>user_id</th>\n",
       "      <th>session_id</th>\n",
       "      <th>session_date</th>\n",
       "      <th>session_start_ts</th>\n",
       "      <th>install_date</th>\n",
       "      <th>session_number</th>\n",
       "      <th>registration_flag</th>\n",
       "      <th>page_counter</th>\n",
       "      <th>region</th>\n",
       "      <th>device</th>\n",
       "      <th>test_group</th>\n",
       "    </tr>\n",
       "  </thead>\n",
       "  <tbody>\n",
       "    <tr>\n",
       "      <th>0</th>\n",
       "      <td>3404844B53442747</td>\n",
       "      <td>B4901323BD537E45</td>\n",
       "      <td>2025-10-14</td>\n",
       "      <td>2025-10-14 19:28:49</td>\n",
       "      <td>2025-10-14</td>\n",
       "      <td>1</td>\n",
       "      <td>0</td>\n",
       "      <td>3</td>\n",
       "      <td>CIS</td>\n",
       "      <td>Android</td>\n",
       "      <td>B</td>\n",
       "    </tr>\n",
       "    <tr>\n",
       "      <th>1</th>\n",
       "      <td>3A2BF4D364E62D89</td>\n",
       "      <td>216FC619308F8788</td>\n",
       "      <td>2025-10-14</td>\n",
       "      <td>2025-10-14 21:11:04</td>\n",
       "      <td>2025-10-14</td>\n",
       "      <td>1</td>\n",
       "      <td>0</td>\n",
       "      <td>3</td>\n",
       "      <td>MENA</td>\n",
       "      <td>iPhone</td>\n",
       "      <td>A</td>\n",
       "    </tr>\n",
       "    <tr>\n",
       "      <th>2</th>\n",
       "      <td>79CDAE11E32B1597</td>\n",
       "      <td>EDFCE4AC1A504074</td>\n",
       "      <td>2025-10-14</td>\n",
       "      <td>2025-10-14 21:44:03</td>\n",
       "      <td>2025-10-14</td>\n",
       "      <td>1</td>\n",
       "      <td>0</td>\n",
       "      <td>3</td>\n",
       "      <td>CIS</td>\n",
       "      <td>iPhone</td>\n",
       "      <td>A</td>\n",
       "    </tr>\n",
       "    <tr>\n",
       "      <th>3</th>\n",
       "      <td>D6AF8D78297A931F</td>\n",
       "      <td>CF0AC0EEDE92C690</td>\n",
       "      <td>2025-10-14</td>\n",
       "      <td>2025-10-14 19:07:55</td>\n",
       "      <td>2025-10-14</td>\n",
       "      <td>1</td>\n",
       "      <td>0</td>\n",
       "      <td>4</td>\n",
       "      <td>CIS</td>\n",
       "      <td>PC</td>\n",
       "      <td>A</td>\n",
       "    </tr>\n",
       "    <tr>\n",
       "      <th>4</th>\n",
       "      <td>37E0CE723AE568E0</td>\n",
       "      <td>2E6ED45E8C86C4E9</td>\n",
       "      <td>2025-10-14</td>\n",
       "      <td>2025-10-14 15:39:44</td>\n",
       "      <td>2025-10-14</td>\n",
       "      <td>1</td>\n",
       "      <td>0</td>\n",
       "      <td>3</td>\n",
       "      <td>CIS</td>\n",
       "      <td>Mac</td>\n",
       "      <td>B</td>\n",
       "    </tr>\n",
       "  </tbody>\n",
       "</table>\n",
       "</div>"
      ],
      "text/plain": [
       "            user_id        session_id session_date     session_start_ts  \\\n",
       "0  3404844B53442747  B4901323BD537E45   2025-10-14  2025-10-14 19:28:49   \n",
       "1  3A2BF4D364E62D89  216FC619308F8788   2025-10-14  2025-10-14 21:11:04   \n",
       "2  79CDAE11E32B1597  EDFCE4AC1A504074   2025-10-14  2025-10-14 21:44:03   \n",
       "3  D6AF8D78297A931F  CF0AC0EEDE92C690   2025-10-14  2025-10-14 19:07:55   \n",
       "4  37E0CE723AE568E0  2E6ED45E8C86C4E9   2025-10-14  2025-10-14 15:39:44   \n",
       "\n",
       "  install_date  session_number  registration_flag  page_counter region  \\\n",
       "0   2025-10-14               1                  0             3    CIS   \n",
       "1   2025-10-14               1                  0             3   MENA   \n",
       "2   2025-10-14               1                  0             3    CIS   \n",
       "3   2025-10-14               1                  0             4    CIS   \n",
       "4   2025-10-14               1                  0             3    CIS   \n",
       "\n",
       "    device test_group  \n",
       "0  Android          B  \n",
       "1   iPhone          A  \n",
       "2   iPhone          A  \n",
       "3       PC          A  \n",
       "4      Mac          B  "
      ]
     },
     "execution_count": 10,
     "metadata": {},
     "output_type": "execute_result"
    }
   ],
   "source": [
    "# Загрузка данных\n",
    "df_sessions_test_part = pd.read_csv('/datasets/sessions_project_test_part.csv')\n",
    "df_sessions_test_part.info()\n",
    "df_sessions_test_part.head()"
   ]
  },
  {
   "cell_type": "code",
   "execution_count": 11,
   "metadata": {},
   "outputs": [],
   "source": [
    "# Преобразование столбца 'date' в тип datetime\n",
    "df_sessions_test_part['session_date'] = pd.to_datetime(df_sessions_test_part['session_date'])"
   ]
  },
  {
   "cell_type": "code",
   "execution_count": 12,
   "metadata": {},
   "outputs": [],
   "source": [
    "import seaborn as sns"
   ]
  },
  {
   "cell_type": "code",
   "execution_count": 13,
   "metadata": {
    "id": "G1bqIzDJOUiz"
   },
   "outputs": [
    {
     "name": "stdout",
     "output_type": "stream",
     "text": [
      "Количество уникальных пользователей в группе A 1477 и B 1466\n",
      "Процентная разница в количестве пользователей между группами A и B по дням: 0.74%\n"
     ]
    }
   ],
   "source": [
    "# Подсчет уникальных пользователей по группам\n",
    "users_a = df_sessions_test_part[df_sessions_test_part['test_group']== 'A']['user_id'].nunique()\n",
    "users_b = df_sessions_test_part[df_sessions_test_part['test_group']== 'B']['user_id'].nunique()\n",
    "\n",
    "# Вывод количества уникальных пользователей в каждой группе\n",
    "print(f'Количество уникальных пользователей в группе A {users_a} и B {users_b}')\n",
    "\n",
    "user_counts_diff = 100 * ((users_a -users_b)/ users_a)\n",
    "# Вывод процентной разницы\n",
    "print(f\"Процентная разница в количестве пользователей между группами A и B по дням: {user_counts_diff:.2f}%\")"
   ]
  },
  {
   "cell_type": "markdown",
   "metadata": {},
   "source": [
    "<div style=\"background-color: white; border: 2px solid black; border-radius: 20px; padding: 15px 25px; display: inline-block; color: black;\">\n",
    "Количество уникальных пользователей в группе A 1477 и B 1466\n",
    "Процентная разница в количестве пользователей между группами A и B по дням: 0.74%"
   ]
  },
  {
   "cell_type": "code",
   "execution_count": 14,
   "metadata": {},
   "outputs": [
    {
     "data": {
      "image/png": "[encoded data removed]",
      "text/plain": [
       "<Figure size 576x432 with 1 Axes>"
      ]
     },
     "metadata": {
      "needs_background": "light"
     },
     "output_type": "display_data"
    }
   ],
   "source": [
    "# Визуализация количества пользователей в группах A и B\n",
    "# Создаем агрегированный DataFrame\n",
    "df_unique_users = (\n",
    "    df_sessions_test_part.groupby(['session_date', 'test_group'])['user_id']\n",
    "    .nunique()\n",
    "    .reset_index()\n",
    "    .rename(columns={'user_id': 'unique_users'})\n",
    ")\n",
    "\n",
    "# Строим график с помощью seaborn\n",
    "plt.figure(figsize=(8, 6))\n",
    "sns.barplot(\n",
    "    data=df_unique_users,\n",
    "    x='session_date',\n",
    "    y='unique_users',\n",
    "    hue='test_group',\n",
    "    palette=['skyblue', 'green']\n",
    ")\n",
    "plt.title('Количество уникальных пользователей по датам и группам')\n",
    "plt.xlabel('Дата сессии')\n",
    "plt.ylabel('Количество уникальных пользователей')\n",
    "plt.xticks(rotation=45)\n",
    "plt.legend(title='Группа')\n",
    "plt.tight_layout()\n",
    "plt.show()"
   ]
  },
  {
   "cell_type": "markdown",
   "metadata": {
    "id": "sgpNY5bv0eM0"
   },
   "source": [
    "#### 3.2. Проверка пересечений пользователей\n",
    "Помимо проверки равенства количества пользователей в группах полезно убедиться в том, что группы независимы. Для этого нужно убедиться, что никто из пользователей случайно не попал в обе группы одновременно.\n",
    "\n",
    "- Рассчитайте количество пользователей, которые встречаются одновременно в группах A и B, или убедитесь, что таких нет."
   ]
  },
  {
   "cell_type": "code",
   "execution_count": 15,
   "metadata": {},
   "outputs": [
    {
     "name": "stdout",
     "output_type": "stream",
     "text": [
      "Пересечений между группами A и B нет.\n"
     ]
    }
   ],
   "source": [
    "# Проверяем пересечения пользователей между группами с помощью группировки\n",
    "intersection_count = df_sessions_test_part.groupby('user_id').agg({'test_group': 'nunique'}).query('test_group > 1')\n",
    "# Выводим результат\n",
    "if not intersection_count.empty:\n",
    "    print(f\"Количество пользователей, попавших в обе группы: {intersection_count}\")\n",
    "    print(\"Пользователи в пересечении:\")\n",
    "    print(intersection_count)\n",
    "else:\n",
    "    print(\"Пересечений между группами A и B нет.\")"
   ]
  },
  {
   "cell_type": "markdown",
   "metadata": {},
   "source": [
    "<div style=\"background-color: white; border: 2px solid black; border-radius: 20px; padding: 15px 25px; display: inline-block; color: black;\">\n",
    "\n",
    "Пересечений между группами A и B нет.\n"
   ]
  },
  {
   "cell_type": "markdown",
   "metadata": {
    "id": "6RvkNLrg0eM1"
   },
   "source": [
    "#### 3.3. Равномерность разделения пользователей по устройствам\n",
    "Полезно также убедиться в том, что пользователи равномерно распределены по всем доступным категориальным переменным — типам устройства и регионам.\n",
    "\n",
    "Постройте две диаграммы:\n",
    "\n",
    "- доля каждого типа устройства для пользователей из группы A,\n",
    "\n",
    "- доля каждого типа устройства для пользователей из группы B.\n",
    "\n",
    "Постарайтесь добавить на диаграммы все необходимые подписи, пояснения и заголовки, которые позволят сделать вывод о том, совпадает ли распределение устройств в группах A и B.\n"
   ]
  },
  {
   "cell_type": "code",
   "execution_count": 16,
   "metadata": {},
   "outputs": [
    {
     "name": "stderr",
     "output_type": "stream",
     "text": [
      "/tmp/ipykernel_49/1434576526.py:17: MatplotlibDeprecationWarning: normalize=None does not normalize if the sum is less than 1 but this behavior is deprecated since 3.3 until two minor releases later. After the deprecation period the default value will be normalize=True. To prevent normalization pass normalize=False \n",
      "  axes[0].pie(device_counts_a, labels=device_counts_a.index,\n"
     ]
    },
    {
     "data": {
      "image/png": "[encoded data removed]",
      "text/plain": [
       "<Figure size 1008x432 with 2 Axes>"
      ]
     },
     "metadata": {},
     "output_type": "display_data"
    }
   ],
   "source": [
    "# Фильтруем данные по группам\n",
    "group_a = df_sessions_test_part[df_sessions_test_part['test_group'] == 'A']\n",
    "group_b = df_sessions_test_part[df_sessions_test_part['test_group'] == 'B']\n",
    "\n",
    "# Получаем уникальные устройства для каждой группы\n",
    "unique_devices_a = group_a[['user_id', 'device']].drop_duplicates()\n",
    "unique_devices_b = group_b[['user_id', 'device']].drop_duplicates()\n",
    "\n",
    "# Расчет доли уникальных устройств каждого типа в группах\n",
    "device_counts_a = unique_devices_a['device'].value_counts(normalize=True)\n",
    "device_counts_b = unique_devices_b['device'].value_counts(normalize=True)\n",
    "\n",
    "# Создаем фигуру с двумя подграфиками\n",
    "fig, axes = plt.subplots(1, 2, figsize=(14, 6))\n",
    "\n",
    "# Диаграмма для группы A\n",
    "axes[0].pie(device_counts_a, labels=device_counts_a.index,\n",
    "            autopct='%1.1f%%', startangle=90,\n",
    "           explode=[0.05]*len(device_counts_a) # выделяем каждый сегмент для лучшей визуализации\n",
    "           )\n",
    "axes[0].set_title('Распределение уникальных устройств в группе A')\n",
    "axes[0].axis('equal')  # чтобы круг был кругом\n",
    "\n",
    "# Диаграмма для группы B\n",
    "axes[1].pie(device_counts_b, labels=device_counts_b.index,\n",
    "            autopct='%1.1f%%', startangle=90,\n",
    "           explode=[0.05]*len(device_counts_b) # выделяем каждый сегмент для лучшей визуализации\n",
    "           )\n",
    "axes[1].set_title('Распределение уникальных устройств в группе B')\n",
    "axes[1].axis('equal')\n",
    "\n",
    "# Общий заголовок\n",
    "plt.suptitle('Распределение типов устройств среди уникальных пользователей в группах A и B', fontsize=16)\n",
    "\n",
    "plt.show()"
   ]
  },
  {
   "cell_type": "markdown",
   "metadata": {
    "id": "gAgmP6vo0eM1"
   },
   "source": [
    "#### 3.4. Равномерность распределения пользователей по регионам\n",
    "Теперь убедитесь, что пользователи равномерно распределены по регионам.\n",
    "\n",
    "Постройте две диаграммы:\n",
    "\n",
    "- доля каждого региона для пользователей из группы A,\n",
    "\n",
    "- доля каждого региона для пользователей из группы B.\n",
    "\n",
    "Постарайтесь добавить на диаграммы все необходимые подписи, пояснения и заголовки, которые позволят сделать вывод о том, совпадает ли распределение регионов в группах A и B. Постарайтесь использовать другой тип диаграммы, не тот, что в прошлом задании.\n"
   ]
  },
  {
   "cell_type": "code",
   "execution_count": 17,
   "metadata": {
    "id": "3hAq-FG4OdYM"
   },
   "outputs": [
    {
     "data": {
      "image/png": "[encoded data removed]",
      "text/plain": [
       "<Figure size 1008x432 with 2 Axes>"
      ]
     },
     "metadata": {},
     "output_type": "display_data"
    }
   ],
   "source": [
    "# Фильтруем данные по группам\n",
    "group_a = df_sessions_test_part[df_sessions_test_part['test_group'] == 'A']\n",
    "group_b = df_sessions_test_part[df_sessions_test_part['test_group'] == 'B']\n",
    "\n",
    "# Получаем уникальные устройства для каждой группы\n",
    "unique_region_a = group_a[['user_id', 'region']].drop_duplicates()\n",
    "unique_region_b = group_b[['user_id', 'region' ]].drop_duplicates()\n",
    "\n",
    "# Расчет доли уникальных устройств каждого типа в группах\n",
    "region_dist_a = unique_region_a['region'].value_counts(normalize=True)\n",
    "region_dist_b = unique_region_b['region'].value_counts(normalize=True)\n",
    "# Получаем распределение устройств для каждой группы\n",
    "#region_dist_a =  df_sessions_test_part[df_sessions_test_part['test_group']== 'A']['region'].value_counts()\n",
    "#region_dist_b =  df_sessions_test_part[df_sessions_test_part['test_group']== 'B']['region'].value_counts()\n",
    "\n",
    "# Создаем фигуру с двумя подграфиками\n",
    "fig, axes = plt.subplots(1, 2, figsize=(14, 6))\n",
    "\n",
    "# Диаграмма для группы A\n",
    "axes[0].pie(region_dist_a, labels=region_dist_a.index, autopct='%1.1f%%', startangle=90, explode=[0.05]*len(region_dist_a))\n",
    "axes[0].set_title('Распределение пользователей в группе A по регионам')\n",
    "axes[0].axis('equal')  # чтобы круг был кругом\n",
    "\n",
    "# Диаграмма для группы B\n",
    "axes[1].pie(region_dist_b, labels=region_dist_b.index, autopct='%1.1f%%', startangle=90, explode=[0.05]*len(region_dist_b))\n",
    "axes[1].set_title('Распределение пользователей в группе B по регионам')\n",
    "axes[1].axis('equal')\n",
    "\n",
    "# Добавляем общий заголовок\n",
    "plt.suptitle('Сравнение распределения по регионам между группами A и B', fontsize=16)\n",
    "\n",
    "# Показываем графики\n",
    "plt.show()"
   ]
  },
  {
   "cell_type": "markdown",
   "metadata": {
    "id": "X2WSZ-sDrSUi"
   },
   "source": [
    "#### 3.5. Вывод после проверки A/B-теста\n",
    "\n",
    "На основе проведённого анализа A/B-теста сформулируйте и запишите свои выводы. В выводе обязательно укажите:\n",
    "\n",
    "- Были ли обнаружено различие в количестве пользователей в двух группах.\n",
    "\n",
    "- Являются ли выборки независимыми. Было ли обнаружено пересечение пользователей из тестовой и контрольной групп.\n",
    "\n",
    "- Сохраняется ли равномерное распределение пользователей тестовой и контрольной групп по категориальным переменным: устройствам и регионам.\n",
    "\n",
    "Сделайте заключение о том, корректно ли проходит A/B-тест или наблюдаются какие-либо нарушения."
   ]
  },
  {
   "cell_type": "markdown",
   "metadata": {
    "id": "dDELHlAcOi8d"
   },
   "source": []
  },
  {
   "cell_type": "markdown",
   "metadata": {},
   "source": [
    "<div style=\"background-color: white; border: 2px solid black; border-radius: 20px; padding: 15px 25px; display: inline-block; color: black;\">\n",
    "###### Различие в количестве пользователей между группами :\n",
    "\n",
    "Количество уникальных пользователей в группах A и B 1477 и 1466 соответственно - различие в численности групп минимально. Разделение пользователей между группами выполнено корректно. \n",
    "Пересечений  между группами A и B нет. \n",
    "\n",
    "Распределение типов устройств в группах A и B практически с незначительной разницей\n",
    "--------группа A |группа B\n",
    "\n",
    " Android:   44.4% | 45.6%\n",
    " \n",
    " iPhone:    20.0% | 18.3%\n",
    " \n",
    " Mac:       10.6% | 10.1% \n",
    " \n",
    " PC:        25.0% | 26.0% \n",
    " \n",
    "\n",
    "Распределение регионов: \n",
    "---- группа A |группа B\n",
    "\n",
    "CIS:   43.6%  | 44.0%\n",
    "\n",
    "EU:    15.2%  | 14.8%\n",
    "\n",
    "MENA:  41.2%  | 41.2%\n",
    "Распределение по регионам относительно равномерное\n",
    "A/B-тест проходит корректно, нарушений не выявлено.\n",
    "Тест проходит корректно"
   ]
  },
  {
   "cell_type": "markdown",
   "metadata": {
    "id": "nudRr_BQ0eM2"
   },
   "source": [
    "### 4. Проверка результатов A/B-теста\n",
    "\n",
    "A/B-тест завершён, и у вас есть результаты за все дни проведения эксперимента. Необходимо убедиться в корректности теста и верно интерпретировать результаты."
   ]
  },
  {
   "cell_type": "markdown",
   "metadata": {
    "id": "JVve-YBB0eM2"
   },
   "source": [
    "#### 4.1. Получение результатов теста и подсчёт основной метрики\n",
    "\n",
    "- Считайте и сохраните в датафрейм `sessions_test` CSV-файл с историческими данными о сессиях пользователей `sessions_project_test.csv`.\n",
    "\n",
    "- В датафрейме `sessions_test` создайте дополнительный столбец `good_session`. В него войдёт значение `1`, если за одну сессию было просмотрено 4 и более страниц, и значение `0`, если просмотрено меньше."
   ]
  },
  {
   "cell_type": "code",
   "execution_count": 18,
   "metadata": {
    "id": "EqRlwMtKPTir"
   },
   "outputs": [
    {
     "name": "stdout",
     "output_type": "stream",
     "text": [
      "<class 'pandas.core.frame.DataFrame'>\n",
      "RangeIndex: 100005 entries, 0 to 100004\n",
      "Data columns (total 11 columns):\n",
      " #   Column             Non-Null Count   Dtype \n",
      "---  ------             --------------   ----- \n",
      " 0   user_id            100005 non-null  object\n",
      " 1   session_id         100005 non-null  object\n",
      " 2   session_date       100005 non-null  object\n",
      " 3   session_start_ts   100005 non-null  object\n",
      " 4   install_date       100005 non-null  object\n",
      " 5   session_number     100005 non-null  int64 \n",
      " 6   registration_flag  100005 non-null  int64 \n",
      " 7   page_counter       100005 non-null  int64 \n",
      " 8   region             100005 non-null  object\n",
      " 9   device             100005 non-null  object\n",
      " 10  test_group         100005 non-null  object\n",
      "dtypes: int64(3), object(8)\n",
      "memory usage: 8.4+ MB\n"
     ]
    }
   ],
   "source": [
    "df_sessions_test = pd.read_csv('/datasets/sessions_project_test.csv')\n",
    "df_sessions_test.info()"
   ]
  },
  {
   "cell_type": "code",
   "execution_count": 19,
   "metadata": {},
   "outputs": [
    {
     "data": {
      "text/html": [
       "<div>\n",
       "<style scoped>\n",
       "    .dataframe tbody tr th:only-of-type {\n",
       "        vertical-align: middle;\n",
       "    }\n",
       "\n",
       "    .dataframe tbody tr th {\n",
       "        vertical-align: top;\n",
       "    }\n",
       "\n",
       "    .dataframe thead th {\n",
       "        text-align: right;\n",
       "    }\n",
       "</style>\n",
       "<table border=\"1\" class=\"dataframe\">\n",
       "  <thead>\n",
       "    <tr style=\"text-align: right;\">\n",
       "      <th></th>\n",
       "      <th>user_id</th>\n",
       "      <th>session_id</th>\n",
       "      <th>session_date</th>\n",
       "      <th>session_start_ts</th>\n",
       "      <th>install_date</th>\n",
       "      <th>session_number</th>\n",
       "      <th>registration_flag</th>\n",
       "      <th>page_counter</th>\n",
       "      <th>region</th>\n",
       "      <th>device</th>\n",
       "      <th>test_group</th>\n",
       "      <th>good_session</th>\n",
       "    </tr>\n",
       "  </thead>\n",
       "  <tbody>\n",
       "    <tr>\n",
       "      <th>0</th>\n",
       "      <td>6DAE3B3654DA738E</td>\n",
       "      <td>C69249E26E58F6E2</td>\n",
       "      <td>2025-10-26</td>\n",
       "      <td>2025-10-26 18:15:05</td>\n",
       "      <td>2025-10-16</td>\n",
       "      <td>3</td>\n",
       "      <td>0</td>\n",
       "      <td>3</td>\n",
       "      <td>MENA</td>\n",
       "      <td>Android</td>\n",
       "      <td>A</td>\n",
       "      <td>0</td>\n",
       "    </tr>\n",
       "    <tr>\n",
       "      <th>1</th>\n",
       "      <td>0A3FE5D1DD59110A</td>\n",
       "      <td>66D66D7C9F5181B7</td>\n",
       "      <td>2025-10-21</td>\n",
       "      <td>2025-10-21 17:04:53</td>\n",
       "      <td>2025-10-15</td>\n",
       "      <td>2</td>\n",
       "      <td>1</td>\n",
       "      <td>2</td>\n",
       "      <td>CIS</td>\n",
       "      <td>Android</td>\n",
       "      <td>B</td>\n",
       "      <td>0</td>\n",
       "    </tr>\n",
       "    <tr>\n",
       "      <th>2</th>\n",
       "      <td>2041F1D7AA740B88</td>\n",
       "      <td>50DE51D42215E74C</td>\n",
       "      <td>2025-10-23</td>\n",
       "      <td>2025-10-23 17:39:29</td>\n",
       "      <td>2025-10-19</td>\n",
       "      <td>3</td>\n",
       "      <td>0</td>\n",
       "      <td>2</td>\n",
       "      <td>MENA</td>\n",
       "      <td>Android</td>\n",
       "      <td>A</td>\n",
       "      <td>0</td>\n",
       "    </tr>\n",
       "    <tr>\n",
       "      <th>3</th>\n",
       "      <td>43D7585009168086</td>\n",
       "      <td>5763C0C353C22263</td>\n",
       "      <td>2025-10-24</td>\n",
       "      <td>2025-10-24 15:01:57</td>\n",
       "      <td>2025-10-18</td>\n",
       "      <td>4</td>\n",
       "      <td>0</td>\n",
       "      <td>1</td>\n",
       "      <td>CIS</td>\n",
       "      <td>iPhone</td>\n",
       "      <td>B</td>\n",
       "      <td>0</td>\n",
       "    </tr>\n",
       "    <tr>\n",
       "      <th>4</th>\n",
       "      <td>15AD68B14D62D88C</td>\n",
       "      <td>B1AD09F93C1053BC</td>\n",
       "      <td>2025-10-17</td>\n",
       "      <td>2025-10-17 17:34:39</td>\n",
       "      <td>2025-10-17</td>\n",
       "      <td>1</td>\n",
       "      <td>0</td>\n",
       "      <td>2</td>\n",
       "      <td>MENA</td>\n",
       "      <td>Android</td>\n",
       "      <td>B</td>\n",
       "      <td>0</td>\n",
       "    </tr>\n",
       "  </tbody>\n",
       "</table>\n",
       "</div>"
      ],
      "text/plain": [
       "            user_id        session_id session_date     session_start_ts  \\\n",
       "0  6DAE3B3654DA738E  C69249E26E58F6E2   2025-10-26  2025-10-26 18:15:05   \n",
       "1  0A3FE5D1DD59110A  66D66D7C9F5181B7   2025-10-21  2025-10-21 17:04:53   \n",
       "2  2041F1D7AA740B88  50DE51D42215E74C   2025-10-23  2025-10-23 17:39:29   \n",
       "3  43D7585009168086  5763C0C353C22263   2025-10-24  2025-10-24 15:01:57   \n",
       "4  15AD68B14D62D88C  B1AD09F93C1053BC   2025-10-17  2025-10-17 17:34:39   \n",
       "\n",
       "  install_date  session_number  registration_flag  page_counter region  \\\n",
       "0   2025-10-16               3                  0             3   MENA   \n",
       "1   2025-10-15               2                  1             2    CIS   \n",
       "2   2025-10-19               3                  0             2   MENA   \n",
       "3   2025-10-18               4                  0             1    CIS   \n",
       "4   2025-10-17               1                  0             2   MENA   \n",
       "\n",
       "    device test_group  good_session  \n",
       "0  Android          A             0  \n",
       "1  Android          B             0  \n",
       "2  Android          A             0  \n",
       "3   iPhone          B             0  \n",
       "4  Android          B             0  "
      ]
     },
     "execution_count": 19,
     "metadata": {},
     "output_type": "execute_result"
    }
   ],
   "source": [
    "# Преобразуем session_date в формат даты \n",
    "df_sessions_test['session_date'] = pd.to_datetime(df_sessions_test['session_date'])\n",
    "\n",
    "# Создаем стб good_session: 1, если page_counter >= 4, иначе 0\n",
    "df_sessions_test['good_session'] = (df_sessions_test['page_counter'] >= 4).astype(int)\n",
    "# Выводим первые строки датафрейма для проверки\n",
    "df_sessions_test.head()"
   ]
  },
  {
   "cell_type": "markdown",
   "metadata": {
    "id": "aeYhrMYy0eM2"
   },
   "source": [
    "#### 4.2. Проверка корректности результатов теста\n",
    "\n",
    "Прежде чем приступать к анализу ключевых продуктовых метрик, необходимо убедиться, что тест проведён корректно и вы будете сравнивать две сопоставимые группы.\n",
    "\n",
    "- Рассчитайте количество уникальных сессий для каждого дня и обеих тестовых групп, используя группировку.\n",
    "\n",
    "- Проверьте, что количество уникальных дневных сессий в двух выборках не различается или различия не статистически значимы. Используйте статистический тест, который позволит сделать вывод о равенстве средних двух выборок.\n",
    "\n",
    "- В качестве ответа выведите на экран полученное значение p-value и интерпретируйте его."
   ]
  },
  {
   "cell_type": "code",
   "execution_count": 20,
   "metadata": {},
   "outputs": [],
   "source": [
    "from scipy.stats import ttest_ind\n",
    "import numpy as np\n",
    "from statsmodels.stats.proportion import proportions_ztest"
   ]
  },
  {
   "cell_type": "code",
   "execution_count": 21,
   "metadata": {
    "id": "5NUlcltkTTSU"
   },
   "outputs": [
    {
     "name": "stdout",
     "output_type": "stream",
     "text": [
      "P-value: 0.9382\n",
      "P-value >= 0.05: Нет значимых различий в количестве уникальных дневных сессий между группами\n",
      "Группы сопоставимы по количеству сессий, тест проведен корректно\n"
     ]
    }
   ],
   "source": [
    "\n",
    "# Рассчитываем количество уникальных сессий для каждого дня и группы\n",
    "unique_sessions = df_sessions_test.groupby(['session_date', 'test_group'])['session_id'].nunique().reset_index()\n",
    "unique_sessions.columns = ['session_date', 'test_group', 'session_count']\n",
    "\n",
    "# Разделение по группам\n",
    "a_sessions = unique_sessions[unique_sessions['test_group'] == 'A']['session_count']\n",
    "b_sessions = unique_sessions[unique_sessions['test_group'] == 'B']['session_count']\n",
    "\n",
    "# Формулировка гипотез:\n",
    "# H0: Количество уникальных дневных сессий не различается между группами A и B (μ_A = μ_B)\n",
    "# H1: Количество уникальных дневных сессий различается между группами A и B (μ_A != μ_B)\n",
    "\n",
    "# Проводим t-тест для проверки равенства средних\n",
    "t_stat, p_value = ttest_ind(a_sessions, b_sessions, equal_var=False)\n",
    "\n",
    "# Выводим p-value и интерпретируем результат\n",
    "print(f'P-value: {p_value:.4f}')\n",
    "if p_value < 0.05:\n",
    "    print('P-value < 0.05: Есть значитпльные различия в количестве уникальных дневных сессий между группами')\n",
    "    print('Возможно есть проблема в распределении пользователей и\\или сессий')\n",
    "else:\n",
    "    print('P-value >= 0.05: Нет значимых различий в количестве уникальных дневных сессий между группами')\n",
    "    print('Группы сопоставимы по количеству сессий, тест проведен корректно')"
   ]
  },
  {
   "cell_type": "markdown",
   "metadata": {},
   "source": [
    "<div style=\"background-color: white; border: 2px solid black; border-radius: 20px; padding: 15px 25px; display: inline-block; color: black;\">\n",
    "\n",
    "P-value: 0.9382\n",
    "P-value >= 0.05: Нет значимых различий в количестве уникальных дневных сессий между группами\n",
    "Группы сопоставимы по количеству сессий, тест проведен корректно\n"
   ]
  },
  {
   "cell_type": "markdown",
   "metadata": {
    "id": "7kwRxzg70eM3"
   },
   "source": [
    "#### 4.3. Сравнение доли успешных сессий\n",
    "\n",
    "Когда вы убедились, что количество сессий в обеих выборках не различалось, можно переходить к анализу ключевой метрики — доли успешных сессий.\n",
    "\n",
    "Используйте созданный на первом шаге задания столбец `good_session` и рассчитайте долю успешных сессий для выборок A и B, а также разницу в этом показателе. Полученный вывод отобразите на экране."
   ]
  },
  {
   "cell_type": "code",
   "execution_count": 22,
   "metadata": {
    "id": "Uku-V1CpPRCz"
   },
   "outputs": [
    {
     "name": "stdout",
     "output_type": "stream",
     "text": [
      "Доля успешных сессий в группе A: 0.3077\n",
      "Доля успешных сессий в группе B: 0.3183\n",
      "Разница в доле успешных сессий (B - A): 0.0106 (1.06%)\n"
     ]
    }
   ],
   "source": [
    "# Рассчет ко-ва успешных сессий и общее ко-во сессий для каждой группы\n",
    "sessions_group = df_sessions_test.groupby('test_group').agg(\n",
    "    total_sessions=('session_id', 'count'),\n",
    "    good_sessions=('good_session', 'sum')\n",
    ").reset_index()\n",
    "# Доля успешных сессий\n",
    "sessions_group['good_session_share'] = sessions_group['good_sessions'] / sessions_group['total_sessions']\n",
    "# Извлекаем доли для групп A и B\n",
    "share_a = sessions_group[sessions_group['test_group'] == 'A']['good_session_share'].iloc[0]\n",
    "share_b = sessions_group[sessions_group['test_group'] == 'B']['good_session_share'].iloc[0]\n",
    "# Разница в долях (B - A)\n",
    "diff_share = share_b - share_a\n",
    "# Выводим результаты\n",
    "print(f\"Доля успешных сессий в группе A: {share_a:.4f}\")\n",
    "print(f\"Доля успешных сессий в группе B: {share_b:.4f}\")\n",
    "print(f\"Разница в доле успешных сессий (B - A): {diff_share:.4f} ({diff_share * 100:.2f}%)\")"
   ]
  },
  {
   "cell_type": "markdown",
   "metadata": {},
   "source": [
    "<div style=\"background-color: white; border: 2px solid black; border-radius: 20px; padding: 15px 25px; display: inline-block; color: black;\">\n",
    "\n",
    "Доля успешных сессий в группе A: 0.3077\n",
    "Доля успешных сессий в группе B: 0.3183\n",
    "Разница в доле успешных сессий (B - A): 0.0106 (1.06%)"
   ]
  },
  {
   "cell_type": "markdown",
   "metadata": {
    "id": "9fMFuja10eM4"
   },
   "source": [
    "#### 4.4. Насколько статистически значимо изменение ключевой метрики\n",
    "\n",
    "На предыдущем шаге вы убедились, что количество успешных сессий в тестовой выборке примерно на 1.1% выше, чем в контрольной, но делать выводы только на основе этого значения будет некорректно. Для принятия решения всегда необходимо отвечать на вопрос: является ли это изменение статистически значимым.\n",
    "\n",
    "- Используя статистический тест, рассчитайте, является ли изменение в метрике доли успешных сессий статистически значимым.\n",
    "\n",
    "- Выведите на экран полученное значение p-value и свои выводы о статистической значимости. Напомним, что уровень значимости в эксперименте был выбран на уровне 0.05."
   ]
  },
  {
   "cell_type": "code",
   "execution_count": 23,
   "metadata": {
    "id": "gFvhRGwlPLS0"
   },
   "outputs": [
    {
     "name": "stdout",
     "output_type": "stream",
     "text": [
      "P-value: 0.0003\n",
      "P-value < 0.05: Есть статистически значимые основания отвергнуть H0\n",
      "Различие в доле успешных сессий между группами A и B является статистически значимым.\n",
      "Агрегированные данные по группам:\n",
      "  test_group  total_sessions  good_sessions  good_session_share\n",
      "0          A           49551          15248            0.307723\n",
      "1          B           50454          16059            0.318290\n"
     ]
    }
   ],
   "source": [
    "# Формулировка гипотез:\n",
    "# H0: Доля успешных сессий в группе A равна доле в группе B (p_A = p_B)\n",
    "# H1: Доля успешных сессий различается между группами A и B (μ_A != μ_B)\n",
    "\n",
    "# Проводим z-тест для пропорций\n",
    "stat, p_value = proportions_ztest(\n",
    "    count=sessions_group['good_sessions'],  # Количество успехов: [good_sessions_a, good_sessions_b]\n",
    "    nobs=sessions_group['total_sessions'],  # Общее количество: [total_sessions_a, total_sessions_b]\n",
    "    alternative='two-sided'  # Проверяем, что доля в A отличается от B (H1: (μ_A != μ_B))\n",
    ")\n",
    "# Выводим p-value и интерпретируем результат\n",
    "print(f\"P-value: {p_value:.4f}\")\n",
    "if p_value < 0.05:\n",
    "    print(\"P-value < 0.05: Есть статистически значимые основания отвергнуть H0\")\n",
    "    print(\"Различие в доле успешных сессий между группами A и B является статистически значимым.\")\n",
    "else:\n",
    "    print(\"P-value >= 0.05: Нет статистически значимых оснований отвергнуть H0\")\n",
    "    print(\"Различие в доле успешных сессий между группами A и B не является статистически значимым.\")\n",
    "\n",
    "# Выводим агрегированные данные для проверки\n",
    "print(\"Агрегированные данные по группам:\")\n",
    "print(sessions_group)"
   ]
  },
  {
   "cell_type": "markdown",
   "metadata": {},
   "source": [
    "<div style=\"background-color: white; border: 2px solid black; border-radius: 20px; padding: 15px 25px; display: inline-block; color: black;\">\n",
    "P-value: 0.0003\n",
    "P-value < 0.05: Есть статистически значимые основания отвергнуть H0\n",
    "Различие в доле успешных сессий между группами A и B является статистически значимым.\n",
    "Агрегированные данные по группам:\n",
    "               \n",
    "-------test_group|total_sessions | good_sessions|  good_session_share\n",
    "               \n",
    "---0      |   A     |    49551      |    15248     |    0.307723\n",
    "               \n",
    "---1      |   B     |    50454      |    16059     |      0.318290\n",
    "\n"
   ]
  },
  {
   "cell_type": "markdown",
   "metadata": {
    "id": "GnJrkY9Q63zS"
   },
   "source": [
    "#### 4.5. Вывод по результатам A/B-эксперимента\n",
    "\n",
    "На основе проведённого анализа результатов теста сформулируйте и запишите свои выводы для команды разработки приложения. В выводе обязательно укажите:\n",
    "\n",
    "- Характеристики проведённого эксперимента, количество задействованных пользователей и длительность эксперимента.\n",
    "\n",
    "- Повлияло ли внедрение нового алгоритма рекомендаций на рост ключевой метрики и как.\n",
    "\n",
    "- Каким получилось значение p-value для оценки статистической значимости выявленного эффекта.\n",
    "\n",
    "- Стоит ли внедрять новоовведение в приложение."
   ]
  },
  {
   "cell_type": "markdown",
   "metadata": {
    "id": "rri8KRIgPMrW"
   },
   "source": [
    "<div style=\"background-color: white; border: 2px solid black; border-radius: 20px; padding: 15px 25px; display: inline-block; color: black;\">\n",
    "    Характеристики эксперимента:\n",
    "\n",
    "A/B-тест проводился для понимания влияет ли новый алгоритм рекомендаций на ключевую метрику  (доля успешных сессий 4+ просмотр.стр).\n",
    "В эксперименте участвовало по 17 441 уникальных пользователяв каждой группе, что соответствует рассчетам размера выборки с парамертами MDE 3%, alpha = 0.05, мощность 0.8.\n",
    "Минимально необходимая длительность эксперимента составила 4 дня, исходя из среднего дневного трафика в 9 907 уникальных пользователей. Рекомендуемое время проведения теста 7 дней, для учета колебаний активности в будние и выходные.\n",
    "\n",
    "Влияние нового алгоритма:\n",
    "Новый алгоритм рекомендаций (группа B) увеличил долю успешных сессий на 1.1% по сравнению с контрольной группой. \n",
    "Это улучшение указывает на рост вовлеченности пользователей, так как они чаще просматривают 4 и более страниц за сессию, что соответствует цели эксперимента — повысить удовлетворенность контентом.\n",
    "\n",
    "Для оценки статистической значимости использовался z-тест для пропорций. Полученное значение p-value составило 0.0003.\n",
    "P-value < 0.05, что позволяет отвергнуть нулевую гипотезу(доли успешных сессий равны)- новый алгоритм действительно увеличивает просмотр страниц.\n",
    "\n",
    "Рекомендация по внедрению:\n",
    "Эффект от новго алгоритма (1.1%) меньше ожидаемого минимального детектируемого эффекта (MDE = 3%), для которого рассчитывался размер выборки. Это говорит о том, что улучшение относительно небольшое. \n",
    "Нужно уточнить  был ли расчёт MDE основан на финансовом обосновании или задан приблизительно.\n",
    "Если же расчёт MDE был ориентировочным, у нас есть основание для внедрения нововведения без повторного тестирования.\n",
    "Если расчет MDE был точным необходимо оценить экономическую целесообразность введения алгоритма, будет ли он влиять, на доходность, окупится ли изменение.\n",
    "Возможно, следует провести дополнительный анализ, например, по устройствам или регионам."
   ]
  }
 ],
 "metadata": {
  "ExecuteTimeLog": [
   {
    "duration": 1529,
    "start_time": "2025-06-11T08:02:42.284Z"
   },
   {
    "duration": 953,
    "start_time": "2025-06-11T08:04:36.688Z"
   },
   {
    "duration": 888,
    "start_time": "2025-06-11T08:04:47.928Z"
   },
   {
    "duration": 867,
    "start_time": "2025-06-11T08:05:12.430Z"
   },
   {
    "duration": 8,
    "start_time": "2025-06-11T08:10:01.686Z"
   },
   {
    "duration": 429,
    "start_time": "2025-06-11T08:10:25.059Z"
   },
   {
    "duration": 471,
    "start_time": "2025-06-11T08:10:47.043Z"
   },
   {
    "duration": 965,
    "start_time": "2025-06-11T08:37:03.644Z"
   },
   {
    "duration": 1544,
    "start_time": "2025-06-11T10:31:07.308Z"
   },
   {
    "duration": 551,
    "start_time": "2025-06-11T10:31:09.009Z"
   },
   {
    "duration": 167,
    "start_time": "2025-06-11T10:31:11.730Z"
   },
   {
    "duration": 72,
    "start_time": "2025-06-11T10:31:48.226Z"
   },
   {
    "duration": 635,
    "start_time": "2025-06-11T10:41:48.463Z"
   },
   {
    "duration": 198,
    "start_time": "2025-06-11T10:42:12.640Z"
   },
   {
    "duration": 1159,
    "start_time": "2025-06-11T10:42:50.463Z"
   },
   {
    "duration": 321,
    "start_time": "2025-06-11T10:44:17.300Z"
   },
   {
    "duration": 328,
    "start_time": "2025-06-11T10:44:50.840Z"
   },
   {
    "duration": 464,
    "start_time": "2025-06-11T10:51:57.472Z"
   },
   {
    "duration": 65,
    "start_time": "2025-06-11T11:33:48.763Z"
   },
   {
    "duration": 4,
    "start_time": "2025-06-11T11:37:01.365Z"
   },
   {
    "duration": 35,
    "start_time": "2025-06-11T11:37:06.414Z"
   },
   {
    "duration": 14,
    "start_time": "2025-06-11T11:37:26.476Z"
   },
   {
    "duration": 7,
    "start_time": "2025-06-11T11:40:23.940Z"
   },
   {
    "duration": 74,
    "start_time": "2025-06-11T11:49:32.374Z"
   },
   {
    "duration": 34,
    "start_time": "2025-06-11T11:51:48.796Z"
   },
   {
    "duration": 31,
    "start_time": "2025-06-11T11:52:23.663Z"
   },
   {
    "duration": 1337,
    "start_time": "2025-06-11T13:28:21.647Z"
   },
   {
    "duration": 45,
    "start_time": "2025-06-12T06:21:00.328Z"
   },
   {
    "duration": 1276,
    "start_time": "2025-06-12T06:21:44.248Z"
   },
   {
    "duration": 423,
    "start_time": "2025-06-12T06:22:06.291Z"
   },
   {
    "duration": 8,
    "start_time": "2025-06-12T06:26:16.164Z"
   },
   {
    "duration": 6,
    "start_time": "2025-06-12T06:26:42.000Z"
   },
   {
    "duration": 1590,
    "start_time": "2025-06-12T09:24:43.127Z"
   },
   {
    "duration": 72,
    "start_time": "2025-06-12T09:32:00.739Z"
   },
   {
    "duration": 19,
    "start_time": "2025-06-12T09:32:17.146Z"
   },
   {
    "duration": 78,
    "start_time": "2025-06-12T09:33:00.985Z"
   },
   {
    "duration": 69,
    "start_time": "2025-06-12T09:33:21.496Z"
   },
   {
    "duration": 11,
    "start_time": "2025-06-12T09:34:02.951Z"
   },
   {
    "duration": 80,
    "start_time": "2025-06-12T09:34:35.572Z"
   },
   {
    "duration": 16,
    "start_time": "2025-06-12T09:35:01.676Z"
   },
   {
    "duration": 12,
    "start_time": "2025-06-12T09:35:23.234Z"
   },
   {
    "duration": 11,
    "start_time": "2025-06-12T09:36:48.384Z"
   },
   {
    "duration": 384,
    "start_time": "2025-06-12T09:42:20.826Z"
   },
   {
    "duration": 1426,
    "start_time": "2025-06-12T09:42:43.153Z"
   },
   {
    "duration": 174,
    "start_time": "2025-06-12T10:17:37.028Z"
   },
   {
    "duration": 70,
    "start_time": "2025-06-12T10:17:51.277Z"
   },
   {
    "duration": 10,
    "start_time": "2025-06-12T10:18:00.155Z"
   },
   {
    "duration": 44,
    "start_time": "2025-06-12T14:20:26.897Z"
   },
   {
    "duration": 7,
    "start_time": "2025-06-12T14:20:40.222Z"
   },
   {
    "duration": 6,
    "start_time": "2025-06-12T14:20:40.692Z"
   },
   {
    "duration": 1439,
    "start_time": "2025-06-12T14:20:48.775Z"
   },
   {
    "duration": 499,
    "start_time": "2025-06-12T14:20:50.216Z"
   },
   {
    "duration": 1566,
    "start_time": "2025-06-12T14:20:50.717Z"
   },
   {
    "duration": 336,
    "start_time": "2025-06-12T14:20:52.286Z"
   },
   {
    "duration": 397,
    "start_time": "2025-06-12T14:20:52.624Z"
   },
   {
    "duration": 428,
    "start_time": "2025-06-12T14:20:53.022Z"
   },
   {
    "duration": 10,
    "start_time": "2025-06-12T14:20:53.452Z"
   },
   {
    "duration": 64,
    "start_time": "2025-06-12T14:20:53.464Z"
   },
   {
    "duration": 4,
    "start_time": "2025-06-12T14:20:53.529Z"
   },
   {
    "duration": 62,
    "start_time": "2025-06-12T14:20:53.535Z"
   },
   {
    "duration": 413,
    "start_time": "2025-06-12T14:20:53.599Z"
   },
   {
    "duration": 80,
    "start_time": "2025-06-12T14:20:54.014Z"
   },
   {
    "duration": 5,
    "start_time": "2025-06-12T14:34:00.870Z"
   },
   {
    "duration": 1529,
    "start_time": "2025-06-12T14:55:44.115Z"
   },
   {
    "duration": 167,
    "start_time": "2025-06-12T14:57:02.361Z"
   },
   {
    "duration": 149,
    "start_time": "2025-06-12T14:59:27.194Z"
   },
   {
    "duration": 97,
    "start_time": "2025-06-12T15:14:25.654Z"
   },
   {
    "duration": 88,
    "start_time": "2025-06-12T15:14:33.061Z"
   },
   {
    "duration": 9,
    "start_time": "2025-06-12T15:15:10.360Z"
   },
   {
    "duration": 7,
    "start_time": "2025-06-12T15:15:27.812Z"
   },
   {
    "duration": 12,
    "start_time": "2025-06-12T15:19:34.836Z"
   },
   {
    "duration": 238,
    "start_time": "2025-06-12T15:20:47.781Z"
   },
   {
    "duration": 235,
    "start_time": "2025-06-12T15:21:15.583Z"
   },
   {
    "duration": 246,
    "start_time": "2025-06-12T15:23:19.561Z"
   },
   {
    "duration": 239,
    "start_time": "2025-06-12T15:25:08.540Z"
   },
   {
    "duration": 267,
    "start_time": "2025-06-12T15:25:16.319Z"
   },
   {
    "duration": 1439,
    "start_time": "2025-06-12T18:10:51.796Z"
   },
   {
    "duration": 558,
    "start_time": "2025-06-12T18:10:53.237Z"
   },
   {
    "duration": 1290,
    "start_time": "2025-06-12T18:10:53.796Z"
   },
   {
    "duration": 341,
    "start_time": "2025-06-12T18:10:55.088Z"
   },
   {
    "duration": 389,
    "start_time": "2025-06-12T18:10:55.432Z"
   },
   {
    "duration": 374,
    "start_time": "2025-06-12T18:10:55.823Z"
   },
   {
    "duration": 6,
    "start_time": "2025-06-12T18:10:56.199Z"
   },
   {
    "duration": 38,
    "start_time": "2025-06-12T18:10:56.206Z"
   },
   {
    "duration": 4,
    "start_time": "2025-06-12T18:10:56.246Z"
   },
   {
    "duration": 66,
    "start_time": "2025-06-12T18:10:56.252Z"
   },
   {
    "duration": 289,
    "start_time": "2025-06-12T18:10:56.319Z"
   },
   {
    "duration": 99,
    "start_time": "2025-06-12T18:10:56.610Z"
   },
   {
    "duration": 0,
    "start_time": "2025-06-12T18:10:56.710Z"
   },
   {
    "duration": 0,
    "start_time": "2025-06-12T18:10:56.711Z"
   },
   {
    "duration": 0,
    "start_time": "2025-06-12T18:10:56.712Z"
   },
   {
    "duration": 1419,
    "start_time": "2025-06-12T18:27:16.129Z"
   },
   {
    "duration": 513,
    "start_time": "2025-06-12T18:27:17.549Z"
   },
   {
    "duration": 1301,
    "start_time": "2025-06-12T18:27:18.064Z"
   },
   {
    "duration": 273,
    "start_time": "2025-06-12T18:27:19.367Z"
   },
   {
    "duration": 364,
    "start_time": "2025-06-12T18:27:19.661Z"
   },
   {
    "duration": 444,
    "start_time": "2025-06-12T18:27:20.027Z"
   },
   {
    "duration": 6,
    "start_time": "2025-06-12T18:27:20.472Z"
   },
   {
    "duration": 84,
    "start_time": "2025-06-12T18:27:20.480Z"
   },
   {
    "duration": 4,
    "start_time": "2025-06-12T18:27:20.566Z"
   },
   {
    "duration": 57,
    "start_time": "2025-06-12T18:27:20.571Z"
   },
   {
    "duration": 274,
    "start_time": "2025-06-12T18:27:20.629Z"
   },
   {
    "duration": 10,
    "start_time": "2025-06-12T18:27:20.904Z"
   },
   {
    "duration": 18,
    "start_time": "2025-06-12T18:27:20.915Z"
   },
   {
    "duration": 178,
    "start_time": "2025-06-12T18:27:20.936Z"
   },
   {
    "duration": 219,
    "start_time": "2025-06-12T18:27:21.116Z"
   },
   {
    "duration": 242,
    "start_time": "2025-06-12T18:27:21.337Z"
   },
   {
    "duration": 126,
    "start_time": "2025-06-12T18:27:21.580Z"
   },
   {
    "duration": 0,
    "start_time": "2025-06-12T18:27:21.707Z"
   },
   {
    "duration": 0,
    "start_time": "2025-06-12T18:27:21.708Z"
   },
   {
    "duration": 267,
    "start_time": "2025-06-12T18:27:25.110Z"
   },
   {
    "duration": 9,
    "start_time": "2025-06-12T18:27:26.750Z"
   },
   {
    "duration": 12,
    "start_time": "2025-06-12T18:27:27.310Z"
   },
   {
    "duration": 168,
    "start_time": "2025-06-12T18:27:30.909Z"
   },
   {
    "duration": 48,
    "start_time": "2025-06-13T07:08:50.632Z"
   },
   {
    "duration": 6,
    "start_time": "2025-06-13T07:09:03.490Z"
   },
   {
    "duration": 1647,
    "start_time": "2025-06-13T07:09:11.624Z"
   },
   {
    "duration": 570,
    "start_time": "2025-06-13T07:09:13.272Z"
   },
   {
    "duration": 1727,
    "start_time": "2025-06-13T07:09:13.844Z"
   },
   {
    "duration": 364,
    "start_time": "2025-06-13T07:09:15.573Z"
   },
   {
    "duration": 405,
    "start_time": "2025-06-13T07:09:15.940Z"
   },
   {
    "duration": 452,
    "start_time": "2025-06-13T07:09:16.347Z"
   },
   {
    "duration": 7,
    "start_time": "2025-06-13T07:09:16.800Z"
   },
   {
    "duration": 81,
    "start_time": "2025-06-13T07:09:16.809Z"
   },
   {
    "duration": 5,
    "start_time": "2025-06-13T07:09:16.891Z"
   },
   {
    "duration": 66,
    "start_time": "2025-06-13T07:09:16.897Z"
   },
   {
    "duration": 262,
    "start_time": "2025-06-13T07:09:16.965Z"
   },
   {
    "duration": 12,
    "start_time": "2025-06-13T07:09:17.228Z"
   },
   {
    "duration": 83,
    "start_time": "2025-06-13T07:09:17.241Z"
   },
   {
    "duration": 204,
    "start_time": "2025-06-13T07:09:17.326Z"
   },
   {
    "duration": 186,
    "start_time": "2025-06-13T07:09:17.531Z"
   },
   {
    "duration": 105,
    "start_time": "2025-06-13T07:09:17.997Z"
   },
   {
    "duration": 0,
    "start_time": "2025-06-13T07:09:18.103Z"
   },
   {
    "duration": 0,
    "start_time": "2025-06-13T07:09:18.104Z"
   },
   {
    "duration": 0,
    "start_time": "2025-06-13T07:09:18.106Z"
   },
   {
    "duration": 0,
    "start_time": "2025-06-13T07:09:18.107Z"
   },
   {
    "duration": 290,
    "start_time": "2025-06-13T07:09:21.045Z"
   },
   {
    "duration": 10,
    "start_time": "2025-06-13T07:10:04.226Z"
   },
   {
    "duration": 9,
    "start_time": "2025-06-13T07:10:24.752Z"
   },
   {
    "duration": 10,
    "start_time": "2025-06-13T07:10:30.358Z"
   },
   {
    "duration": 33,
    "start_time": "2025-06-13T07:10:38.810Z"
   },
   {
    "duration": 48,
    "start_time": "2025-06-13T08:44:35.527Z"
   },
   {
    "duration": 62,
    "start_time": "2025-06-13T09:25:39.873Z"
   },
   {
    "duration": 1790,
    "start_time": "2025-06-13T09:25:44.962Z"
   },
   {
    "duration": 685,
    "start_time": "2025-06-13T09:25:46.757Z"
   },
   {
    "duration": 1658,
    "start_time": "2025-06-13T09:25:47.444Z"
   },
   {
    "duration": 363,
    "start_time": "2025-06-13T09:25:49.104Z"
   },
   {
    "duration": 430,
    "start_time": "2025-06-13T09:25:49.469Z"
   },
   {
    "duration": 463,
    "start_time": "2025-06-13T09:25:49.901Z"
   },
   {
    "duration": 9,
    "start_time": "2025-06-13T09:25:50.367Z"
   },
   {
    "duration": 43,
    "start_time": "2025-06-13T09:25:50.378Z"
   },
   {
    "duration": 69,
    "start_time": "2025-06-13T09:25:50.423Z"
   },
   {
    "duration": 60,
    "start_time": "2025-06-13T09:25:50.495Z"
   },
   {
    "duration": 285,
    "start_time": "2025-06-13T09:25:50.556Z"
   },
   {
    "duration": 11,
    "start_time": "2025-06-13T09:25:50.843Z"
   },
   {
    "duration": 42,
    "start_time": "2025-06-13T09:25:50.861Z"
   },
   {
    "duration": 221,
    "start_time": "2025-06-13T09:25:50.905Z"
   },
   {
    "duration": 289,
    "start_time": "2025-06-13T09:25:51.127Z"
   },
   {
    "duration": 370,
    "start_time": "2025-06-13T09:25:51.418Z"
   },
   {
    "duration": 36,
    "start_time": "2025-06-13T09:25:51.790Z"
   },
   {
    "duration": 0,
    "start_time": "2025-06-13T09:25:52.005Z"
   },
   {
    "duration": 0,
    "start_time": "2025-06-13T09:25:52.007Z"
   },
   {
    "duration": 0,
    "start_time": "2025-06-13T09:25:52.007Z"
   },
   {
    "duration": 43,
    "start_time": "2025-06-13T09:25:55.481Z"
   },
   {
    "duration": 54,
    "start_time": "2025-06-13T09:27:55.946Z"
   },
   {
    "duration": 31,
    "start_time": "2025-06-13T09:31:23.178Z"
   },
   {
    "duration": 27,
    "start_time": "2025-06-13T09:31:31.281Z"
   },
   {
    "duration": 252,
    "start_time": "2025-06-13T09:31:54.000Z"
   },
   {
    "duration": 139,
    "start_time": "2025-06-13T09:34:15.058Z"
   },
   {
    "duration": 64,
    "start_time": "2025-06-13T09:34:41.370Z"
   },
   {
    "duration": 10,
    "start_time": "2025-06-13T09:42:44.606Z"
   },
   {
    "duration": 46,
    "start_time": "2025-06-13T09:43:38.750Z"
   },
   {
    "duration": 27,
    "start_time": "2025-06-13T09:43:40.851Z"
   },
   {
    "duration": 13,
    "start_time": "2025-06-13T09:59:27.775Z"
   },
   {
    "duration": 10,
    "start_time": "2025-06-13T09:59:35.812Z"
   },
   {
    "duration": 13,
    "start_time": "2025-06-13T10:07:45.659Z"
   },
   {
    "duration": 7,
    "start_time": "2025-06-13T10:08:35.567Z"
   },
   {
    "duration": 1129,
    "start_time": "2025-06-13T10:11:21.537Z"
   },
   {
    "duration": 1270,
    "start_time": "2025-06-13T10:11:34.856Z"
   },
   {
    "duration": 7,
    "start_time": "2025-06-13T10:12:02.134Z"
   },
   {
    "duration": 1628,
    "start_time": "2025-06-13T13:06:59.888Z"
   },
   {
    "duration": 673,
    "start_time": "2025-06-13T13:07:01.518Z"
   },
   {
    "duration": 1471,
    "start_time": "2025-06-13T13:07:02.193Z"
   },
   {
    "duration": 375,
    "start_time": "2025-06-13T13:07:03.667Z"
   },
   {
    "duration": 408,
    "start_time": "2025-06-13T13:07:04.043Z"
   },
   {
    "duration": 616,
    "start_time": "2025-06-13T13:07:04.457Z"
   },
   {
    "duration": 216,
    "start_time": "2025-06-13T13:07:05.074Z"
   },
   {
    "duration": 0,
    "start_time": "2025-06-13T13:07:05.292Z"
   },
   {
    "duration": 0,
    "start_time": "2025-06-13T13:07:05.294Z"
   },
   {
    "duration": 0,
    "start_time": "2025-06-13T13:07:05.295Z"
   },
   {
    "duration": 0,
    "start_time": "2025-06-13T13:07:05.296Z"
   },
   {
    "duration": 0,
    "start_time": "2025-06-13T13:07:05.297Z"
   },
   {
    "duration": 0,
    "start_time": "2025-06-13T13:07:05.299Z"
   },
   {
    "duration": 0,
    "start_time": "2025-06-13T13:07:05.300Z"
   },
   {
    "duration": 0,
    "start_time": "2025-06-13T13:07:05.357Z"
   },
   {
    "duration": 0,
    "start_time": "2025-06-13T13:07:05.359Z"
   },
   {
    "duration": 0,
    "start_time": "2025-06-13T13:07:05.360Z"
   },
   {
    "duration": 0,
    "start_time": "2025-06-13T13:07:05.361Z"
   },
   {
    "duration": 0,
    "start_time": "2025-06-13T13:07:05.363Z"
   },
   {
    "duration": 68,
    "start_time": "2025-06-13T13:07:09.368Z"
   },
   {
    "duration": 417,
    "start_time": "2025-06-13T17:06:45.777Z"
   },
   {
    "duration": 1235,
    "start_time": "2025-06-13T17:06:46.664Z"
   },
   {
    "duration": 608,
    "start_time": "2025-06-13T17:06:48.702Z"
   },
   {
    "duration": 1770,
    "start_time": "2025-06-13T17:06:51.313Z"
   },
   {
    "duration": 76,
    "start_time": "2025-06-13T17:17:05.419Z"
   },
   {
    "duration": 6,
    "start_time": "2025-06-13T17:17:40.701Z"
   },
   {
    "duration": 9,
    "start_time": "2025-06-13T17:18:04.500Z"
   },
   {
    "duration": 43,
    "start_time": "2025-06-13T17:19:15.346Z"
   },
   {
    "duration": 5,
    "start_time": "2025-06-13T17:19:18.270Z"
   },
   {
    "duration": 556,
    "start_time": "2025-06-13T17:19:20.697Z"
   },
   {
    "duration": 9,
    "start_time": "2025-06-13T17:19:21.328Z"
   },
   {
    "duration": 281,
    "start_time": "2025-06-13T17:19:22.282Z"
   },
   {
    "duration": 11,
    "start_time": "2025-06-13T17:19:25.577Z"
   },
   {
    "duration": 195,
    "start_time": "2025-06-13T17:19:27.105Z"
   },
   {
    "duration": 180,
    "start_time": "2025-06-13T17:19:27.736Z"
   },
   {
    "duration": 330,
    "start_time": "2025-06-13T17:19:31.225Z"
   },
   {
    "duration": 36,
    "start_time": "2025-06-13T17:19:31.753Z"
   },
   {
    "duration": 52,
    "start_time": "2025-06-13T17:19:36.737Z"
   },
   {
    "duration": 27,
    "start_time": "2025-06-13T17:19:39.368Z"
   },
   {
    "duration": 9,
    "start_time": "2025-06-13T17:19:41.840Z"
   },
   {
    "duration": 422,
    "start_time": "2025-06-14T10:55:12.740Z"
   },
   {
    "duration": 2586,
    "start_time": "2025-06-14T10:55:13.164Z"
   },
   {
    "duration": 591,
    "start_time": "2025-06-14T10:55:15.751Z"
   },
   {
    "duration": 1483,
    "start_time": "2025-06-14T10:55:16.344Z"
   },
   {
    "duration": 335,
    "start_time": "2025-06-14T10:55:17.829Z"
   },
   {
    "duration": 386,
    "start_time": "2025-06-14T10:55:18.167Z"
   },
   {
    "duration": 429,
    "start_time": "2025-06-14T10:55:18.555Z"
   },
   {
    "duration": 6,
    "start_time": "2025-06-14T10:55:18.986Z"
   },
   {
    "duration": 45,
    "start_time": "2025-06-14T10:55:18.993Z"
   },
   {
    "duration": 65,
    "start_time": "2025-06-14T10:55:19.040Z"
   },
   {
    "duration": 62,
    "start_time": "2025-06-14T10:55:19.107Z"
   },
   {
    "duration": 9,
    "start_time": "2025-06-14T10:55:19.171Z"
   },
   {
    "duration": 331,
    "start_time": "2025-06-14T10:55:19.182Z"
   },
   {
    "duration": 27,
    "start_time": "2025-06-14T10:55:19.514Z"
   },
   {
    "duration": 210,
    "start_time": "2025-06-14T10:55:19.542Z"
   },
   {
    "duration": 243,
    "start_time": "2025-06-14T10:55:19.753Z"
   },
   {
    "duration": 379,
    "start_time": "2025-06-14T10:55:19.998Z"
   },
   {
    "duration": 34,
    "start_time": "2025-06-14T10:55:20.378Z"
   },
   {
    "duration": 65,
    "start_time": "2025-06-14T10:55:20.413Z"
   },
   {
    "duration": 26,
    "start_time": "2025-06-14T10:55:20.480Z"
   },
   {
    "duration": 34,
    "start_time": "2025-06-14T10:55:20.508Z"
   },
   {
    "duration": 452,
    "start_time": "2025-06-14T13:36:32.652Z"
   },
   {
    "duration": 1661,
    "start_time": "2025-06-14T13:36:33.106Z"
   },
   {
    "duration": 635,
    "start_time": "2025-06-14T13:36:34.769Z"
   },
   {
    "duration": 1865,
    "start_time": "2025-06-14T13:36:35.406Z"
   },
   {
    "duration": 398,
    "start_time": "2025-06-14T13:36:37.273Z"
   },
   {
    "duration": 431,
    "start_time": "2025-06-14T13:36:37.673Z"
   },
   {
    "duration": 472,
    "start_time": "2025-06-14T13:36:38.105Z"
   },
   {
    "duration": 6,
    "start_time": "2025-06-14T13:36:38.578Z"
   },
   {
    "duration": 45,
    "start_time": "2025-06-14T13:36:38.586Z"
   },
   {
    "duration": 16,
    "start_time": "2025-06-14T13:36:38.633Z"
   },
   {
    "duration": 58,
    "start_time": "2025-06-14T13:36:38.653Z"
   },
   {
    "duration": 9,
    "start_time": "2025-06-14T13:36:38.713Z"
   },
   {
    "duration": 292,
    "start_time": "2025-06-14T13:36:38.724Z"
   },
   {
    "duration": 31,
    "start_time": "2025-06-14T13:36:39.017Z"
   },
   {
    "duration": 284,
    "start_time": "2025-06-14T13:36:39.055Z"
   },
   {
    "duration": 205,
    "start_time": "2025-06-14T13:36:39.343Z"
   },
   {
    "duration": 313,
    "start_time": "2025-06-14T13:36:39.551Z"
   },
   {
    "duration": 39,
    "start_time": "2025-06-14T13:36:39.866Z"
   },
   {
    "duration": 74,
    "start_time": "2025-06-14T13:36:39.907Z"
   },
   {
    "duration": 28,
    "start_time": "2025-06-14T13:36:39.982Z"
   },
   {
    "duration": 18,
    "start_time": "2025-06-14T13:36:40.012Z"
   },
   {
    "duration": 292,
    "start_time": "2025-06-14T13:37:02.551Z"
   },
   {
    "duration": 14,
    "start_time": "2025-06-14T13:37:19.202Z"
   },
   {
    "duration": 14,
    "start_time": "2025-06-14T13:37:30.963Z"
   },
   {
    "duration": 275,
    "start_time": "2025-06-14T13:38:56.696Z"
   },
   {
    "duration": 225,
    "start_time": "2025-06-14T13:39:13.307Z"
   },
   {
    "duration": 215,
    "start_time": "2025-06-14T13:45:28.631Z"
   },
   {
    "duration": 218,
    "start_time": "2025-06-14T13:46:08.552Z"
   },
   {
    "duration": 206,
    "start_time": "2025-06-14T13:49:35.249Z"
   },
   {
    "duration": 206,
    "start_time": "2025-06-14T13:49:40.172Z"
   },
   {
    "duration": 14,
    "start_time": "2025-06-14T13:50:36.177Z"
   },
   {
    "duration": 13,
    "start_time": "2025-06-14T13:50:54.011Z"
   },
   {
    "duration": 233,
    "start_time": "2025-06-14T14:03:12.221Z"
   },
   {
    "duration": 232,
    "start_time": "2025-06-14T14:07:22.476Z"
   },
   {
    "duration": 326,
    "start_time": "2025-06-14T14:07:27.130Z"
   },
   {
    "duration": 238,
    "start_time": "2025-06-14T14:07:59.219Z"
   },
   {
    "duration": 204,
    "start_time": "2025-06-14T14:12:07.967Z"
   },
   {
    "duration": 204,
    "start_time": "2025-06-14T14:14:34.841Z"
   },
   {
    "duration": 15,
    "start_time": "2025-06-14T14:15:00.881Z"
   },
   {
    "duration": 187,
    "start_time": "2025-06-14T14:15:33.312Z"
   },
   {
    "duration": 212,
    "start_time": "2025-06-14T14:16:10.856Z"
   },
   {
    "duration": 186,
    "start_time": "2025-06-14T14:17:12.059Z"
   },
   {
    "duration": 314,
    "start_time": "2025-06-14T14:18:01.264Z"
   },
   {
    "duration": 23,
    "start_time": "2025-06-14T14:19:08.198Z"
   },
   {
    "duration": 15,
    "start_time": "2025-06-14T14:19:24.222Z"
   },
   {
    "duration": 25,
    "start_time": "2025-06-14T14:20:05.148Z"
   },
   {
    "duration": 23,
    "start_time": "2025-06-14T14:20:25.060Z"
   },
   {
    "duration": 11,
    "start_time": "2025-06-14T14:20:52.230Z"
   },
   {
    "duration": 318,
    "start_time": "2025-06-14T14:21:49.328Z"
   },
   {
    "duration": 407,
    "start_time": "2025-06-14T14:22:11.006Z"
   },
   {
    "duration": 187,
    "start_time": "2025-06-14T14:22:43.710Z"
   },
   {
    "duration": 1476,
    "start_time": "2025-06-14T14:24:41.777Z"
   },
   {
    "duration": 196,
    "start_time": "2025-06-14T14:24:59.263Z"
   },
   {
    "duration": 215,
    "start_time": "2025-06-14T14:36:07.069Z"
   },
   {
    "duration": 66,
    "start_time": "2025-06-14T14:38:16.679Z"
   },
   {
    "duration": 84,
    "start_time": "2025-06-14T14:38:41.797Z"
   },
   {
    "duration": 198,
    "start_time": "2025-06-14T14:39:14.805Z"
   },
   {
    "duration": 62,
    "start_time": "2025-06-14T14:42:47.997Z"
   },
   {
    "duration": 181,
    "start_time": "2025-06-14T14:43:09.222Z"
   },
   {
    "duration": 177,
    "start_time": "2025-06-14T14:43:59.425Z"
   },
   {
    "duration": 3,
    "start_time": "2025-06-14T14:47:09.970Z"
   },
   {
    "duration": 45,
    "start_time": "2025-06-14T14:47:10.586Z"
   },
   {
    "duration": 204,
    "start_time": "2025-06-14T14:49:01.791Z"
   },
   {
    "duration": 2,
    "start_time": "2025-06-14T14:49:26.245Z"
   },
   {
    "duration": 6,
    "start_time": "2025-06-14T14:49:26.799Z"
   },
   {
    "duration": 3,
    "start_time": "2025-06-14T14:49:54.498Z"
   },
   {
    "duration": 804,
    "start_time": "2025-06-15T08:30:00.492Z"
   },
   {
    "duration": 1244,
    "start_time": "2025-06-15T08:30:01.298Z"
   },
   {
    "duration": 581,
    "start_time": "2025-06-15T08:30:02.544Z"
   },
   {
    "duration": 1971,
    "start_time": "2025-06-15T08:30:03.127Z"
   },
   {
    "duration": 358,
    "start_time": "2025-06-15T08:30:05.100Z"
   },
   {
    "duration": 414,
    "start_time": "2025-06-15T08:30:05.459Z"
   },
   {
    "duration": 435,
    "start_time": "2025-06-15T08:30:05.875Z"
   },
   {
    "duration": 2,
    "start_time": "2025-06-15T08:30:06.312Z"
   },
   {
    "duration": 34,
    "start_time": "2025-06-15T08:30:06.316Z"
   },
   {
    "duration": 52,
    "start_time": "2025-06-15T08:30:06.352Z"
   },
   {
    "duration": 5,
    "start_time": "2025-06-15T08:30:06.405Z"
   },
   {
    "duration": 62,
    "start_time": "2025-06-15T08:30:06.411Z"
   },
   {
    "duration": 8,
    "start_time": "2025-06-15T08:30:06.474Z"
   },
   {
    "duration": 302,
    "start_time": "2025-06-15T08:30:06.484Z"
   },
   {
    "duration": 11,
    "start_time": "2025-06-15T08:30:06.787Z"
   },
   {
    "duration": 219,
    "start_time": "2025-06-15T08:30:06.800Z"
   },
   {
    "duration": 254,
    "start_time": "2025-06-15T08:30:07.021Z"
   },
   {
    "duration": 290,
    "start_time": "2025-06-15T08:30:07.277Z"
   },
   {
    "duration": 34,
    "start_time": "2025-06-15T08:30:07.568Z"
   },
   {
    "duration": 45,
    "start_time": "2025-06-15T08:30:07.603Z"
   },
   {
    "duration": 46,
    "start_time": "2025-06-15T08:30:07.650Z"
   },
   {
    "duration": 26,
    "start_time": "2025-06-15T08:30:07.697Z"
   },
   {
    "duration": 7,
    "start_time": "2025-06-15T08:30:07.724Z"
   }
  ],
  "colab": {
   "provenance": []
  },
  "kernelspec": {
   "display_name": "Python 3 (ipykernel)",
   "language": "python",
   "name": "python3"
  },
  "language_info": {
   "codemirror_mode": {
    "name": "ipython",
    "version": 3
   },
   "file_extension": ".py",
   "mimetype": "text/x-python",
   "name": "python",
   "nbconvert_exporter": "python",
   "pygments_lexer": "ipython3",
   "version": "3.9.5"
  },
  "toc": {
   "base_numbering": 1,
   "nav_menu": {},
   "number_sections": true,
   "sideBar": true,
   "skip_h1_title": true,
   "title_cell": "Table of Contents",
   "title_sidebar": "Contents",
   "toc_cell": false,
   "toc_position": {
    "height": "calc(100% - 180px)",
    "left": "10px",
    "top": "150px",
    "width": "305.404388px"
   },
   "toc_section_display": true,
   "toc_window_display": true
  }
 },
 "nbformat": 4,
 "nbformat_minor": 1
}
