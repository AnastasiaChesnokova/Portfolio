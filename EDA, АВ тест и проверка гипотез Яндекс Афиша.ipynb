{
 "cells": [
  {
   "cell_type": "markdown",
   "id": "cfde20b7",
   "metadata": {},
   "source": [
    "# Исследовательский анализ данных Яндекс Афиша в Python и проверка гипотез. "
   ]
  },
  {
   "cell_type": "markdown",
   "id": "7ef32008",
   "metadata": {},
   "source": [
    "Дата: 04.07.25\n",
    "\n",
    "Автор: Анастасия"
   ]
  },
  {
   "cell_type": "markdown",
   "id": "f22f4c39",
   "metadata": {},
   "source": [
    "## Цели и задачи проекта\n",
    "- Цель проекта:\n",
    "    - Провести исследовательский анализ данных о бронировании билетов на сервисе Яндекс.Афиша за период с 1 июня по 31 октября 2024 года. Выявить сезонные изменения в поведении пользователей, популярные события, регионы и партнёры, а также проверить гипотезы о различиях в поведении пользователей мобильных и стационарных устройств.\n",
    "\n",
    "- Задачи:\n",
    "\n",
    "- Провести предобработку данных\n",
    "- Выполнить исследовательский анализ данных (EDA)\n",
    "- Проверить гипотезы\n",
    "- Подвести общий вывод и дать рекомендации"
   ]
  },
  {
   "cell_type": "markdown",
   "id": "409319e1",
   "metadata": {},
   "source": [
    "## Содержание данных\n",
    "Первый датасет final_tickets_orders_df.csv включает информацию обо всех заказах билетов, совершённых с двух типов устройств — мобильных и стационарных. Поля датасета соответствуют таблице purchases:\n",
    "\n",
    "•\torder_id — уникальный идентификатор заказа.\n",
    "\n",
    "•\tuser_id — уникальный идентификатор пользователя.\n",
    "\n",
    "•\tcreated_dt_msk — дата создания заказа (московское время).\n",
    "\n",
    "•\tcreated_ts_msk — дата и время создания заказа (московское время).\n",
    "\n",
    "•\tevent_id — идентификатор мероприятия из таблицы events.\n",
    "\n",
    "•\tcinema_circuit — сеть кинотеатров. Если не применимо, то здесь будет значение 'нет'.\n",
    "\n",
    "•\tage_limit — возрастное ограничение мероприятия.\n",
    "\n",
    "•\tcurrency_code — валюта оплаты, например rub для российских рублей.\n",
    "\n",
    "•\tdevice_type_canonical — тип устройства, с которого был оформлен заказ, например mobile для мобильных устройств, desktop для стационарных;\n",
    "\n",
    "•\trevenue — выручка от заказа.\n",
    "\n",
    "•\tservice_name — название билетного оператора.\n",
    "\n",
    "•\ttickets_count — количество купленных билетов.\n",
    "\n",
    "•\ttotal — общая сумма заказа.\n",
    "\n",
    "В данные также был добавлен столбец days_since_prev с количеством дней с предыдущей покупки для каждого пользователя. Если покупки не было, то данные содержат пропуск.\n",
    "\n",
    "Второй датасет final_tickets_events_df.csv содержит информацию о событиях, включая город и регион события, а также информацию о площадке проведения мероприятия. Датасет содержит такие поля:\n",
    "\n",
    "•\tevent_id — уникальный идентификатор мероприятия.\n",
    "\n",
    "•\tevent_name — название мероприятия. Аналог поля event_name_code из исходной базы данных.\n",
    "\n",
    "•\tevent_type_description — описание типа мероприятия.\n",
    "\n",
    "•\tevent_type_main — основной тип мероприятия: театральная постановка, концерт и так далее.\n",
    "\n",
    "•\torganizers — организаторы мероприятия.\n",
    "\n",
    "•\tregion_name — название региона.\n",
    "\n",
    "•\tcity_name — название города.\n",
    "\n",
    "•\tvenue_id — уникальный идентификатор площадки.\n",
    "\n",
    "•\tvenue_name — название площадки.\n",
    "\n",
    "•\tvenue_address — адрес площадки.\n",
    "\n",
    "Выручка от заказов может бы представлена в разных валютах. \n",
    "Удобно будет привести данные к одной — к российским рублям.\n",
    "В Есть датасет final_tickets_tenge_df.csv с информацией о курсе тенге к российскому рублю за 2024 год. Значения в рублях представлено для 100 тенге. Датасет содержит такие поля:\n",
    "\n",
    "•\tnominal — номинал (100 тенге);\n",
    "\n",
    "•\tdata — дата;\n",
    "\n",
    "•\tcurs — курс тенге к рублю;\n",
    "\n",
    "•\tcdx — обозначение валюты (kzt).\n",
    "\n"
   ]
  },
  {
   "cell_type": "markdown",
   "id": "f66adce1",
   "metadata": {},
   "source": [
    "# Содержание проекта\n",
    "### 1. Загрузка данных и знакомство с ними\n",
    "\n",
    "  - Загрузка датасетов\n",
    "  - Первичный осмотр\n",
    "  - Предобработка данных и подготовка к исследованию\n",
    "\n",
    "### 2. Проверка данных:\n",
    "\n",
    "- Наличие пропусков\n",
    "- Проверка дубликатов\n",
    "- Обработка ошибок\n",
    "- Преобразование типов данных\n",
    "- Создание новых столбцов:\n",
    "    - revenue_rub — выручка в рублях\n",
    "    - one_ticket_revenue_rub — средняя стоимость одного билета\n",
    "    - month — месяц оформления заказа\n",
    "    - season — сезонность (лето, осень, зима, весна)\n",
    "- Объединение датасетов\n",
    "\n",
    "## 3. Исследовательский анализ данных (EDA)\n",
    "\n",
    "### 3.1. Анализ распределения заказов по сегментам и их сезонные изменения\n",
    "\n",
    "    Анализ дашборда показал, что в данных наблюдается сезонность — осенью количество заказов увеличивается. На стадии исследовательского анализа необходимо проследить изменение пользовательской активности или пользовательского интереса в связи с сезонностью:\n",
    "\n",
    " - Распределение числа заказов по месяцам (для каждого месяца найти ко-во заказов, построить график) \n",
    " - Распределение долей заказов (летом и осенью) по:\n",
    "        типам мероприятия event_type_main;\n",
    "        типам устройства device_type_canonical;\n",
    "        категория мероприятий по возрастному рейтингу age_limit.\n",
    "- Для каждого типа мероприятия рассчитайть среднее значение выручки с одного билета, затем найти относительное изменение осенних значений по сравнению с летними. Результат сопроводите подходящей визуализацией.\n",
    "- Вывод о том, как меняется распределение заказов в каждой категории с наступлением осени. Было ли изменение средней стоимости одного билета в разрезе разных типов мероприятий?\n",
    "\n",
    "### 3.2 Осенняя активность пользователей\n",
    "\n",
    "- Динамика заказов по дням\n",
    "- DAU и среднее число заказов на пользователя\n",
    "- Средняя стоимость билета\n",
    "- Недельная цикличность (будни vs. выходные)\n",
    "- Вывод\n",
    "\n",
    "### 3.3. Популярные события и партнёры\n",
    "\n",
    "- Регионы с наибольшим количеством заказов и разнообразием мероприятий\n",
    "- Лидеры среди билетных партнёров по выручке и количеству заказов\n",
    "- Расчет долей в процентах\n",
    "- Вывод\n",
    "\n",
    "## 4. Статистический анализ данных и проверка гипотез\n",
    "\n",
    "#### 4.1. Гипотеза 1: Среднее количество заказов на одного пользователя выше у мобильных устройств\n",
    "#### 4.2. Гипотеза 2: Среднее время между заказами больше у пользователей мобильных устройств\n",
    "Используйте данные только за осенний период.\n",
    "## Общий вывод и рекомендации\n",
    "Краткий обзор данных и аналитических находок\n",
    "Ответы на вопросы продуктовой команды:\n",
    "Как изменились пользовательские предпочтения осенью\n",
    "Какие мероприятия стали популярнее\n",
    "Есть ли различия в поведении пользователей разных устройств\n",
    "Рекомендации по развитию продукта на основе полученных инсайтов"
   ]
  },
  {
   "cell_type": "markdown",
   "id": "9dee965e",
   "metadata": {},
   "source": [
    "## 1. Загрузка данных и знакомство с ними"
   ]
  },
  {
   "cell_type": "code",
   "execution_count": 1,
   "id": "1c85ba93",
   "metadata": {},
   "outputs": [],
   "source": [
    "import pandas as pd\n",
    "import numpy as np\n",
    "import matplotlib.pyplot as plt\n",
    "import seaborn as sns\n",
    "from scipy.stats import mannwhitneyu"
   ]
  },
  {
   "cell_type": "code",
   "execution_count": 2,
   "id": "71a38495",
   "metadata": {
    "scrolled": true
   },
   "outputs": [],
   "source": [
    "# Создаем датафреймы\n",
    "try:\n",
    "    df_orders = pd.read_csv(\"C:...final_tickets_orders_df.csv\")\n",
    "    df_events = pd.read_csv(\"C:...final_tickets_events_df.csv\")\n",
    "    df_tenge = pd.read_csv(\"C:...final_tickets_tenge_df.csv\")\n",
    "except FileNotFoundError:\n",
    "    df_orders = pd.read_csv('/datasets/final_tickets_orders_df.csv')\n",
    "    df_events = pd.read_csv('/datasets/final_tickets_events_df.csv')\n",
    "    df_tenge = pd.read_csv('/datasets/final_tickets_tenge_df.csv')"
   ]
  },
  {
   "cell_type": "code",
   "execution_count": 3,
   "id": "119d7f21",
   "metadata": {},
   "outputs": [
    {
     "name": "stdout",
     "output_type": "stream",
     "text": [
      "<class 'pandas.core.frame.DataFrame'>\n",
      "RangeIndex: 290849 entries, 0 to 290848\n",
      "Data columns (total 14 columns):\n",
      " #   Column                 Non-Null Count   Dtype  \n",
      "---  ------                 --------------   -----  \n",
      " 0   order_id               290849 non-null  int64  \n",
      " 1   user_id                290849 non-null  object \n",
      " 2   created_dt_msk         290849 non-null  object \n",
      " 3   created_ts_msk         290849 non-null  object \n",
      " 4   event_id               290849 non-null  int64  \n",
      " 5   cinema_circuit         290849 non-null  object \n",
      " 6   age_limit              290849 non-null  int64  \n",
      " 7   currency_code          290849 non-null  object \n",
      " 8   device_type_canonical  290849 non-null  object \n",
      " 9   revenue                290849 non-null  float64\n",
      " 10  service_name           290849 non-null  object \n",
      " 11  tickets_count          290849 non-null  int64  \n",
      " 12  total                  290849 non-null  float64\n",
      " 13  days_since_prev        268909 non-null  float64\n",
      "dtypes: float64(3), int64(4), object(7)\n",
      "memory usage: 31.1+ MB\n"
     ]
    },
    {
     "data": {
      "text/html": [
       "<div>\n",
       "<style scoped>\n",
       "    .dataframe tbody tr th:only-of-type {\n",
       "        vertical-align: middle;\n",
       "    }\n",
       "\n",
       "    .dataframe tbody tr th {\n",
       "        vertical-align: top;\n",
       "    }\n",
       "\n",
       "    .dataframe thead th {\n",
       "        text-align: right;\n",
       "    }\n",
       "</style>\n",
       "<table border=\"1\" class=\"dataframe\">\n",
       "  <thead>\n",
       "    <tr style=\"text-align: right;\">\n",
       "      <th></th>\n",
       "      <th>order_id</th>\n",
       "      <th>user_id</th>\n",
       "      <th>created_dt_msk</th>\n",
       "      <th>created_ts_msk</th>\n",
       "      <th>event_id</th>\n",
       "      <th>cinema_circuit</th>\n",
       "      <th>age_limit</th>\n",
       "      <th>currency_code</th>\n",
       "      <th>device_type_canonical</th>\n",
       "      <th>revenue</th>\n",
       "      <th>service_name</th>\n",
       "      <th>tickets_count</th>\n",
       "      <th>total</th>\n",
       "      <th>days_since_prev</th>\n",
       "    </tr>\n",
       "  </thead>\n",
       "  <tbody>\n",
       "    <tr>\n",
       "      <th>0</th>\n",
       "      <td>4359165</td>\n",
       "      <td>0002849b70a3ce2</td>\n",
       "      <td>2024-08-20</td>\n",
       "      <td>2024-08-20 16:08:03</td>\n",
       "      <td>169230</td>\n",
       "      <td>нет</td>\n",
       "      <td>16</td>\n",
       "      <td>rub</td>\n",
       "      <td>mobile</td>\n",
       "      <td>1521.94</td>\n",
       "      <td>Край билетов</td>\n",
       "      <td>4</td>\n",
       "      <td>10870.99</td>\n",
       "      <td>NaN</td>\n",
       "    </tr>\n",
       "    <tr>\n",
       "      <th>1</th>\n",
       "      <td>7965605</td>\n",
       "      <td>0005ca5e93f2cf4</td>\n",
       "      <td>2024-07-23</td>\n",
       "      <td>2024-07-23 18:36:24</td>\n",
       "      <td>237325</td>\n",
       "      <td>нет</td>\n",
       "      <td>0</td>\n",
       "      <td>rub</td>\n",
       "      <td>mobile</td>\n",
       "      <td>289.45</td>\n",
       "      <td>Мой билет</td>\n",
       "      <td>2</td>\n",
       "      <td>2067.51</td>\n",
       "      <td>NaN</td>\n",
       "    </tr>\n",
       "    <tr>\n",
       "      <th>2</th>\n",
       "      <td>7292370</td>\n",
       "      <td>0005ca5e93f2cf4</td>\n",
       "      <td>2024-10-06</td>\n",
       "      <td>2024-10-06 13:56:02</td>\n",
       "      <td>578454</td>\n",
       "      <td>нет</td>\n",
       "      <td>0</td>\n",
       "      <td>rub</td>\n",
       "      <td>mobile</td>\n",
       "      <td>1258.57</td>\n",
       "      <td>За билетом!</td>\n",
       "      <td>4</td>\n",
       "      <td>13984.16</td>\n",
       "      <td>75.0</td>\n",
       "    </tr>\n",
       "    <tr>\n",
       "      <th>3</th>\n",
       "      <td>1139875</td>\n",
       "      <td>000898990054619</td>\n",
       "      <td>2024-07-13</td>\n",
       "      <td>2024-07-13 19:40:48</td>\n",
       "      <td>387271</td>\n",
       "      <td>нет</td>\n",
       "      <td>0</td>\n",
       "      <td>rub</td>\n",
       "      <td>mobile</td>\n",
       "      <td>8.49</td>\n",
       "      <td>Лови билет!</td>\n",
       "      <td>2</td>\n",
       "      <td>212.28</td>\n",
       "      <td>NaN</td>\n",
       "    </tr>\n",
       "    <tr>\n",
       "      <th>4</th>\n",
       "      <td>972400</td>\n",
       "      <td>000898990054619</td>\n",
       "      <td>2024-10-04</td>\n",
       "      <td>2024-10-04 22:33:15</td>\n",
       "      <td>509453</td>\n",
       "      <td>нет</td>\n",
       "      <td>18</td>\n",
       "      <td>rub</td>\n",
       "      <td>mobile</td>\n",
       "      <td>1390.41</td>\n",
       "      <td>Билеты без проблем</td>\n",
       "      <td>3</td>\n",
       "      <td>10695.43</td>\n",
       "      <td>83.0</td>\n",
       "    </tr>\n",
       "  </tbody>\n",
       "</table>\n",
       "</div>"
      ],
      "text/plain": [
       "   order_id          user_id created_dt_msk       created_ts_msk  event_id  \\\n",
       "0   4359165  0002849b70a3ce2     2024-08-20  2024-08-20 16:08:03    169230   \n",
       "1   7965605  0005ca5e93f2cf4     2024-07-23  2024-07-23 18:36:24    237325   \n",
       "2   7292370  0005ca5e93f2cf4     2024-10-06  2024-10-06 13:56:02    578454   \n",
       "3   1139875  000898990054619     2024-07-13  2024-07-13 19:40:48    387271   \n",
       "4    972400  000898990054619     2024-10-04  2024-10-04 22:33:15    509453   \n",
       "\n",
       "  cinema_circuit  age_limit currency_code device_type_canonical  revenue  \\\n",
       "0            нет         16           rub                mobile  1521.94   \n",
       "1            нет          0           rub                mobile   289.45   \n",
       "2            нет          0           rub                mobile  1258.57   \n",
       "3            нет          0           rub                mobile     8.49   \n",
       "4            нет         18           rub                mobile  1390.41   \n",
       "\n",
       "         service_name  tickets_count     total  days_since_prev  \n",
       "0        Край билетов              4  10870.99              NaN  \n",
       "1           Мой билет              2   2067.51              NaN  \n",
       "2         За билетом!              4  13984.16             75.0  \n",
       "3         Лови билет!              2    212.28              NaN  \n",
       "4  Билеты без проблем              3  10695.43             83.0  "
      ]
     },
     "execution_count": 3,
     "metadata": {},
     "output_type": "execute_result"
    }
   ],
   "source": [
    "# Обзор данных\n",
    "df_orders.info()\n",
    "df_orders.head()"
   ]
  },
  {
   "cell_type": "markdown",
   "id": "9a849eb0",
   "metadata": {},
   "source": [
    "<div style=\"background-color: white; border: 2px solid black; border-radius: 20px; padding: 15px 25px; display: inline-block; color: black;\">\n",
    "    Столбцы с датой нужно будет превести к соотвествующему типу данных."
   ]
  },
  {
   "cell_type": "code",
   "execution_count": 4,
   "id": "2b5007df",
   "metadata": {},
   "outputs": [
    {
     "name": "stdout",
     "output_type": "stream",
     "text": [
      "<class 'pandas.core.frame.DataFrame'>\n",
      "RangeIndex: 22427 entries, 0 to 22426\n",
      "Data columns (total 11 columns):\n",
      " #   Column                  Non-Null Count  Dtype \n",
      "---  ------                  --------------  ----- \n",
      " 0   event_id                22427 non-null  int64 \n",
      " 1   event_name              22427 non-null  object\n",
      " 2   event_type_description  22427 non-null  object\n",
      " 3   event_type_main         22427 non-null  object\n",
      " 4   organizers              22427 non-null  object\n",
      " 5   region_name             22427 non-null  object\n",
      " 6   city_name               22427 non-null  object\n",
      " 7   city_id                 22427 non-null  int64 \n",
      " 8   venue_id                22427 non-null  int64 \n",
      " 9   venue_name              22427 non-null  object\n",
      " 10  venue_address           22427 non-null  object\n",
      "dtypes: int64(3), object(8)\n",
      "memory usage: 1.9+ MB\n"
     ]
    },
    {
     "data": {
      "text/html": [
       "<div>\n",
       "<style scoped>\n",
       "    .dataframe tbody tr th:only-of-type {\n",
       "        vertical-align: middle;\n",
       "    }\n",
       "\n",
       "    .dataframe tbody tr th {\n",
       "        vertical-align: top;\n",
       "    }\n",
       "\n",
       "    .dataframe thead th {\n",
       "        text-align: right;\n",
       "    }\n",
       "</style>\n",
       "<table border=\"1\" class=\"dataframe\">\n",
       "  <thead>\n",
       "    <tr style=\"text-align: right;\">\n",
       "      <th></th>\n",
       "      <th>event_id</th>\n",
       "      <th>event_name</th>\n",
       "      <th>event_type_description</th>\n",
       "      <th>event_type_main</th>\n",
       "      <th>organizers</th>\n",
       "      <th>region_name</th>\n",
       "      <th>city_name</th>\n",
       "      <th>city_id</th>\n",
       "      <th>venue_id</th>\n",
       "      <th>venue_name</th>\n",
       "      <th>venue_address</th>\n",
       "    </tr>\n",
       "  </thead>\n",
       "  <tbody>\n",
       "    <tr>\n",
       "      <th>0</th>\n",
       "      <td>4436</td>\n",
       "      <td>e4f26fba-da77-4c61-928a-6c3e434d793f</td>\n",
       "      <td>спектакль</td>\n",
       "      <td>театр</td>\n",
       "      <td>№4893</td>\n",
       "      <td>Североярская область</td>\n",
       "      <td>Озёрск</td>\n",
       "      <td>2</td>\n",
       "      <td>1600</td>\n",
       "      <td>Кладбище искусств \"Проблема\" и партнеры</td>\n",
       "      <td>наб. Загородная, д. 785</td>\n",
       "    </tr>\n",
       "    <tr>\n",
       "      <th>1</th>\n",
       "      <td>5785</td>\n",
       "      <td>5cc08a60-fdea-4186-9bb2-bffc3603fb77</td>\n",
       "      <td>спектакль</td>\n",
       "      <td>театр</td>\n",
       "      <td>№1931</td>\n",
       "      <td>Светополянский округ</td>\n",
       "      <td>Глиноград</td>\n",
       "      <td>54</td>\n",
       "      <td>2196</td>\n",
       "      <td>Лекции по искусству \"Свет\" Групп</td>\n",
       "      <td>ул. Ягодная, д. 942</td>\n",
       "    </tr>\n",
       "    <tr>\n",
       "      <th>2</th>\n",
       "      <td>8817</td>\n",
       "      <td>8e379a89-3a10-4811-ba06-ec22ebebe989</td>\n",
       "      <td>спектакль</td>\n",
       "      <td>театр</td>\n",
       "      <td>№4896</td>\n",
       "      <td>Североярская область</td>\n",
       "      <td>Озёрск</td>\n",
       "      <td>2</td>\n",
       "      <td>4043</td>\n",
       "      <td>Кинокомитет \"Золотая\" Инк</td>\n",
       "      <td>ш. Коммуны, д. 92 стр. 6</td>\n",
       "    </tr>\n",
       "    <tr>\n",
       "      <th>3</th>\n",
       "      <td>8849</td>\n",
       "      <td>682e3129-6a32-4952-9d8a-ef7f60d4c247</td>\n",
       "      <td>спектакль</td>\n",
       "      <td>театр</td>\n",
       "      <td>№4960</td>\n",
       "      <td>Каменевский регион</td>\n",
       "      <td>Глиногорск</td>\n",
       "      <td>213</td>\n",
       "      <td>1987</td>\n",
       "      <td>Выставка ремесел \"Свет\" Лтд</td>\n",
       "      <td>пер. Набережный, д. 35</td>\n",
       "    </tr>\n",
       "    <tr>\n",
       "      <th>4</th>\n",
       "      <td>8850</td>\n",
       "      <td>d6e99176-c77f-4af0-9222-07c571f6c624</td>\n",
       "      <td>спектакль</td>\n",
       "      <td>театр</td>\n",
       "      <td>№4770</td>\n",
       "      <td>Лесодальний край</td>\n",
       "      <td>Родниковец</td>\n",
       "      <td>55</td>\n",
       "      <td>4230</td>\n",
       "      <td>Фестивальный проект \"Листья\" Групп</td>\n",
       "      <td>пер. Проезжий, д. 9</td>\n",
       "    </tr>\n",
       "  </tbody>\n",
       "</table>\n",
       "</div>"
      ],
      "text/plain": [
       "   event_id                            event_name event_type_description  \\\n",
       "0      4436  e4f26fba-da77-4c61-928a-6c3e434d793f              спектакль   \n",
       "1      5785  5cc08a60-fdea-4186-9bb2-bffc3603fb77              спектакль   \n",
       "2      8817  8e379a89-3a10-4811-ba06-ec22ebebe989              спектакль   \n",
       "3      8849  682e3129-6a32-4952-9d8a-ef7f60d4c247              спектакль   \n",
       "4      8850  d6e99176-c77f-4af0-9222-07c571f6c624              спектакль   \n",
       "\n",
       "  event_type_main organizers           region_name   city_name  city_id  \\\n",
       "0           театр      №4893  Североярская область      Озёрск        2   \n",
       "1           театр      №1931  Светополянский округ   Глиноград       54   \n",
       "2           театр      №4896  Североярская область      Озёрск        2   \n",
       "3           театр      №4960    Каменевский регион  Глиногорск      213   \n",
       "4           театр      №4770      Лесодальний край  Родниковец       55   \n",
       "\n",
       "   venue_id                               venue_name             venue_address  \n",
       "0      1600  Кладбище искусств \"Проблема\" и партнеры   наб. Загородная, д. 785  \n",
       "1      2196         Лекции по искусству \"Свет\" Групп       ул. Ягодная, д. 942  \n",
       "2      4043                Кинокомитет \"Золотая\" Инк  ш. Коммуны, д. 92 стр. 6  \n",
       "3      1987              Выставка ремесел \"Свет\" Лтд    пер. Набережный, д. 35  \n",
       "4      4230       Фестивальный проект \"Листья\" Групп       пер. Проезжий, д. 9  "
      ]
     },
     "execution_count": 4,
     "metadata": {},
     "output_type": "execute_result"
    }
   ],
   "source": [
    "df_events.info()\n",
    "df_events.head()"
   ]
  },
  {
   "cell_type": "code",
   "execution_count": 5,
   "id": "525444dc",
   "metadata": {},
   "outputs": [
    {
     "name": "stdout",
     "output_type": "stream",
     "text": [
      "<class 'pandas.core.frame.DataFrame'>\n",
      "RangeIndex: 357 entries, 0 to 356\n",
      "Data columns (total 4 columns):\n",
      " #   Column   Non-Null Count  Dtype  \n",
      "---  ------   --------------  -----  \n",
      " 0   data     357 non-null    object \n",
      " 1   nominal  357 non-null    int64  \n",
      " 2   curs     357 non-null    float64\n",
      " 3   cdx      357 non-null    object \n",
      "dtypes: float64(1), int64(1), object(2)\n",
      "memory usage: 11.3+ KB\n"
     ]
    },
    {
     "data": {
      "text/html": [
       "<div>\n",
       "<style scoped>\n",
       "    .dataframe tbody tr th:only-of-type {\n",
       "        vertical-align: middle;\n",
       "    }\n",
       "\n",
       "    .dataframe tbody tr th {\n",
       "        vertical-align: top;\n",
       "    }\n",
       "\n",
       "    .dataframe thead th {\n",
       "        text-align: right;\n",
       "    }\n",
       "</style>\n",
       "<table border=\"1\" class=\"dataframe\">\n",
       "  <thead>\n",
       "    <tr style=\"text-align: right;\">\n",
       "      <th></th>\n",
       "      <th>data</th>\n",
       "      <th>nominal</th>\n",
       "      <th>curs</th>\n",
       "      <th>cdx</th>\n",
       "    </tr>\n",
       "  </thead>\n",
       "  <tbody>\n",
       "    <tr>\n",
       "      <th>0</th>\n",
       "      <td>2024-01-10</td>\n",
       "      <td>100</td>\n",
       "      <td>19.9391</td>\n",
       "      <td>kzt</td>\n",
       "    </tr>\n",
       "    <tr>\n",
       "      <th>1</th>\n",
       "      <td>2024-01-11</td>\n",
       "      <td>100</td>\n",
       "      <td>19.7255</td>\n",
       "      <td>kzt</td>\n",
       "    </tr>\n",
       "    <tr>\n",
       "      <th>2</th>\n",
       "      <td>2024-01-12</td>\n",
       "      <td>100</td>\n",
       "      <td>19.5839</td>\n",
       "      <td>kzt</td>\n",
       "    </tr>\n",
       "    <tr>\n",
       "      <th>3</th>\n",
       "      <td>2024-01-13</td>\n",
       "      <td>100</td>\n",
       "      <td>19.4501</td>\n",
       "      <td>kzt</td>\n",
       "    </tr>\n",
       "    <tr>\n",
       "      <th>4</th>\n",
       "      <td>2024-01-14</td>\n",
       "      <td>100</td>\n",
       "      <td>19.4501</td>\n",
       "      <td>kzt</td>\n",
       "    </tr>\n",
       "  </tbody>\n",
       "</table>\n",
       "</div>"
      ],
      "text/plain": [
       "         data  nominal     curs  cdx\n",
       "0  2024-01-10      100  19.9391  kzt\n",
       "1  2024-01-11      100  19.7255  kzt\n",
       "2  2024-01-12      100  19.5839  kzt\n",
       "3  2024-01-13      100  19.4501  kzt\n",
       "4  2024-01-14      100  19.4501  kzt"
      ]
     },
     "execution_count": 5,
     "metadata": {},
     "output_type": "execute_result"
    }
   ],
   "source": [
    "df_tenge.info()\n",
    "df_tenge.head()"
   ]
  },
  {
   "cell_type": "markdown",
   "id": "04dabf4e",
   "metadata": {},
   "source": [
    "<div style=\"background-color: white; border: 2px solid black; border-radius: 20px; padding: 15px 25px; display: inline-block; color: black;\">\n",
    "    На первый взгляд данные хорошего качества, серьезных проблем не ждем"
   ]
  },
  {
   "cell_type": "markdown",
   "id": "3e83c240",
   "metadata": {},
   "source": [
    "## 2. Проверка данных"
   ]
  },
  {
   "cell_type": "code",
   "execution_count": 6,
   "id": "a128a2af",
   "metadata": {},
   "outputs": [
    {
     "data": {
      "text/plain": [
       "order_id                     0\n",
       "user_id                      0\n",
       "created_dt_msk               0\n",
       "created_ts_msk               0\n",
       "event_id                     0\n",
       "cinema_circuit               0\n",
       "age_limit                    0\n",
       "currency_code                0\n",
       "device_type_canonical        0\n",
       "revenue                      0\n",
       "service_name                 0\n",
       "tickets_count                0\n",
       "total                        0\n",
       "days_since_prev          21940\n",
       "dtype: int64"
      ]
     },
     "metadata": {},
     "output_type": "display_data"
    }
   ],
   "source": [
    "#Предобработка данных и подготовка к исследованию\n",
    "# Проверка пропусков\n",
    "display(df_orders.isnull().sum())"
   ]
  },
  {
   "cell_type": "code",
   "execution_count": 7,
   "id": "8820d3e8",
   "metadata": {},
   "outputs": [
    {
     "data": {
      "text/plain": [
       "event_id                  0\n",
       "event_name                0\n",
       "event_type_description    0\n",
       "event_type_main           0\n",
       "organizers                0\n",
       "region_name               0\n",
       "city_name                 0\n",
       "city_id                   0\n",
       "venue_id                  0\n",
       "venue_name                0\n",
       "venue_address             0\n",
       "dtype: int64"
      ]
     },
     "metadata": {},
     "output_type": "display_data"
    }
   ],
   "source": [
    "display(df_events.isnull().sum())"
   ]
  },
  {
   "cell_type": "markdown",
   "id": "bcbe0e38",
   "metadata": {},
   "source": [
    "<div style=\"background-color: white; border: 2px solid black; border-radius: 20px; padding: 15px 25px; display: inline-block; color: black;\">\n",
    "    Пропуски только в 1 столбце датафрейма с заказами. Посмотрим на количество уникальных значений столбцов"
   ]
  },
  {
   "cell_type": "code",
   "execution_count": 8,
   "id": "f1c0fa6f",
   "metadata": {},
   "outputs": [
    {
     "data": {
      "text/plain": [
       "order_id                 290849\n",
       "user_id                   21940\n",
       "created_dt_msk              153\n",
       "created_ts_msk           280986\n",
       "event_id                  22446\n",
       "cinema_circuit                6\n",
       "age_limit                     5\n",
       "currency_code                 2\n",
       "device_type_canonical         2\n",
       "revenue                   42528\n",
       "service_name                 36\n",
       "tickets_count                22\n",
       "total                     55473\n",
       "days_since_prev             149\n",
       "dtype: int64"
      ]
     },
     "metadata": {},
     "output_type": "display_data"
    }
   ],
   "source": [
    "#Уникальные значения \n",
    "display(df_orders.nunique())"
   ]
  },
  {
   "cell_type": "code",
   "execution_count": 9,
   "id": "c440f9bf",
   "metadata": {},
   "outputs": [
    {
     "data": {
      "text/plain": [
       "event_id                  22427\n",
       "event_name                15248\n",
       "event_type_description       20\n",
       "event_type_main               7\n",
       "organizers                 4293\n",
       "region_name                  81\n",
       "city_name                   352\n",
       "city_id                     353\n",
       "venue_id                   3225\n",
       "venue_name                 3217\n",
       "venue_address              3225\n",
       "dtype: int64"
      ]
     },
     "metadata": {},
     "output_type": "display_data"
    }
   ],
   "source": [
    "display(df_events.nunique())"
   ]
  },
  {
   "cell_type": "code",
   "execution_count": 10,
   "id": "57c17656",
   "metadata": {},
   "outputs": [
    {
     "name": "stdout",
     "output_type": "stream",
     "text": [
      "0.0      184226\n",
      "1.0       30496\n",
      "2.0        9953\n",
      "3.0        6181\n",
      "4.0        4421\n",
      "          ...  \n",
      "144.0         4\n",
      "145.0         3\n",
      "146.0         6\n",
      "147.0         3\n",
      "148.0         3\n",
      "Name: days_since_prev, Length: 149, dtype: int64\n"
     ]
    }
   ],
   "source": [
    "# Смотрим на распределение количествa дней с предыдущей покупки \n",
    "print(df_orders['days_since_prev'].value_counts(dropna=True).sort_index())"
   ]
  },
  {
   "cell_type": "markdown",
   "id": "ef0e36ab",
   "metadata": {},
   "source": [
    "<div style=\"background-color: white; border: 2px solid black; border-radius: 20px; padding: 15px 25px; display: inline-block; color: black;\">\n",
    "    Можно предположить, что пользователи чаще совершают покупки сразу после предыдущей, и только небольшая часть возвращается спустя длительное время. Это обычная ситуация у сервисов с высокой вовлеченностью или постоянной клиентской базой. \n",
    "    Количество пропусков в days_since_prev соответствует числу пользователй, а значит это отправные точки для пользователей - дни начала активности\\регистрации"
   ]
  },
  {
   "cell_type": "code",
   "execution_count": 11,
   "id": "8c99061f",
   "metadata": {},
   "outputs": [
    {
     "data": {
      "text/plain": [
       "array([ nan,  75.,  83.,  19.,  16.,   0.,   1.,  74.,  13.,  25.,  30.,\n",
       "        29.,  23.,  63.,  14.,  11.,   7.,   5.,  26.,  10.,  15.,   3.,\n",
       "         4.,  70.,  20.,  35.,  33.,  22.,  53.,  39.,  31.,  17.,  27.,\n",
       "        40.,  24.,  12.,  47.,   9.,   2.,   6.,  51.,  55.,  18.,  68.,\n",
       "        52.,   8.,  71.,  28.,  46., 134.,  41.,  79.,  86.,  60.,  49.,\n",
       "       122.,  32.,  78.,  80.,  38.,  37.,  85.,  88.,  43., 128.,  61.,\n",
       "       108.,  21.,  50.,  81., 137.,  48.,  45.,  94.,  34.,  84., 107.,\n",
       "        42.,  44.,  56.,  82., 123., 101.,  69., 115.,  97.,  36., 112.,\n",
       "        65.,  99.,  67.,  91.,  95.,  57.,  77.,  58.,  73.,  59., 132.,\n",
       "        93.,  72., 129.,  62., 118.,  96., 100., 105.,  54.,  76., 131.,\n",
       "       104.,  92., 114., 127., 109., 121.,  66.,  64., 110., 103., 148.,\n",
       "        90.,  98.,  89., 120., 139., 144., 102.,  87., 135., 116., 141.,\n",
       "       111., 124., 106., 113., 145., 117., 142., 130., 126., 146., 140.,\n",
       "       125., 136., 133., 147., 119., 138., 143.])"
      ]
     },
     "execution_count": 11,
     "metadata": {},
     "output_type": "execute_result"
    }
   ],
   "source": [
    "df_orders['days_since_prev'].unique()"
   ]
  },
  {
   "cell_type": "code",
   "execution_count": 13,
   "id": "267bbc8d",
   "metadata": {},
   "outputs": [
    {
     "name": "stdout",
     "output_type": "stream",
     "text": [
      "<class 'pandas.core.frame.DataFrame'>\n",
      "RangeIndex: 290849 entries, 0 to 290848\n",
      "Data columns (total 14 columns):\n",
      " #   Column                 Non-Null Count   Dtype         \n",
      "---  ------                 --------------   -----         \n",
      " 0   order_id               290849 non-null  int64         \n",
      " 1   user_id                290849 non-null  object        \n",
      " 2   created_dt_msk         290849 non-null  datetime64[ns]\n",
      " 3   created_ts_msk         290849 non-null  datetime64[ns]\n",
      " 4   event_id               290849 non-null  int64         \n",
      " 5   cinema_circuit         290849 non-null  object        \n",
      " 6   age_limit              290849 non-null  int64         \n",
      " 7   currency_code          290849 non-null  object        \n",
      " 8   device_type_canonical  290849 non-null  object        \n",
      " 9   revenue                290849 non-null  float64       \n",
      " 10  service_name           290849 non-null  object        \n",
      " 11  tickets_count          290849 non-null  int64         \n",
      " 12  total                  290849 non-null  float64       \n",
      " 13  days_since_prev        268909 non-null  float64       \n",
      "dtypes: datetime64[ns](2), float64(3), int64(4), object(5)\n",
      "memory usage: 31.1+ MB\n"
     ]
    }
   ],
   "source": [
    "#стб с датами нужно привести к типу дата\n",
    "df_orders['created_dt_msk'] = pd.to_datetime(df_orders['created_dt_msk'])     \n",
    "df_orders['created_ts_msk'] = pd.to_datetime(df_orders['created_ts_msk'])\n",
    "df_orders.info()"
   ]
  },
  {
   "cell_type": "code",
   "execution_count": 14,
   "id": "1b473ebf",
   "metadata": {},
   "outputs": [
    {
     "name": "stdout",
     "output_type": "stream",
     "text": [
      "0\n",
      "0\n"
     ]
    }
   ],
   "source": [
    "# Проверка на явные дубликаты\n",
    "print(df_orders.duplicated().sum())\n",
    "print(df_events.duplicated().sum())"
   ]
  },
  {
   "cell_type": "code",
   "execution_count": 15,
   "id": "0a6b9136",
   "metadata": {},
   "outputs": [
    {
     "name": "stdout",
     "output_type": "stream",
     "text": [
      "Количество неявных дубликатов: 81\n"
     ]
    }
   ],
   "source": [
    "# Проверка на неявные дубликаты\n",
    "diplicates =df_orders[df_orders.duplicated(subset=['user_id', 'created_ts_msk', 'device_type_canonical',\n",
    "    'service_name', 'event_id',\n",
    "    'revenue', 'total', 'event_id'], keep=False)]\n",
    "print(f\"Количество неявных дубликатов: {diplicates.shape[0]}\")"
   ]
  },
  {
   "cell_type": "code",
   "execution_count": 16,
   "id": "ba0b2eee",
   "metadata": {},
   "outputs": [],
   "source": [
    "# Удаляем неявные дубликаты\n",
    "df_orders = df_orders.drop_duplicates(subset=['user_id', 'created_ts_msk', 'device_type_canonical',\n",
    "                                             'service_name', 'event_id',\n",
    "                                             'revenue', 'total', 'event_id'], keep=False)\n"
   ]
  },
  {
   "cell_type": "code",
   "execution_count": 17,
   "id": "4faeae25",
   "metadata": {},
   "outputs": [
    {
     "name": "stdout",
     "output_type": "stream",
     "text": [
      "Количество неявных дубликатов: 81\n"
     ]
    }
   ],
   "source": [
    "#Проверяем еще раз на дубли\n",
    "diplicates_new =df_orders[df_orders.duplicated(subset=['user_id', 'created_ts_msk', 'device_type_canonical',\n",
    "    'service_name', 'event_id',\n",
    "    'revenue', 'total', 'event_id'], keep=False)]\n",
    "print(f\"Количество неявных дубликатов: {diplicates.shape[0]}\")"
   ]
  },
  {
   "cell_type": "markdown",
   "id": "a620a323",
   "metadata": {},
   "source": [
    "Создание новых столбцов:\n",
    "- revenue_rub — выручка в рублях\n",
    "- one_ticket_revenue_rub — средняя стоимость одного билета\n",
    "- month — месяц оформления заказа\n",
    "- season — сезонность (лето, осень, зима, весна)"
   ]
  },
  {
   "cell_type": "code",
   "execution_count": 18,
   "id": "ecb2fed8",
   "metadata": {},
   "outputs": [],
   "source": [
    "# Создание новых столбцов:\n",
    "    # revenue_rub  — выручка в рублях\n",
    "def convert(row):\n",
    "    #если валюта указана в тенге\n",
    "    if row['currency_code'] == 'ktz':\n",
    "        # то находим курс заказа в этот день\n",
    "        rate_date = row['created_dt_msk'].date()\n",
    "        rate = df_tenge[df_tenge['data'] == str(rate_date)]['curs'].values\n",
    "        if len(rate) > 0:\n",
    "            return row['revenue'] * rate[0] / 100  # Конвертируем тенге в рубли\n",
    "    elif row['currency_code'] == 'rub':\n",
    "        return row['revenue']\n",
    "    else:\n",
    "        return np.nan\n",
    " "
   ]
  },
  {
   "cell_type": "code",
   "execution_count": 19,
   "id": "e119f252",
   "metadata": {},
   "outputs": [],
   "source": [
    "# Применяем функцию на df\n",
    "df_orders['revenue_rub'] = df_orders.apply(convert, axis=1)"
   ]
  },
  {
   "cell_type": "code",
   "execution_count": 20,
   "id": "e7132201",
   "metadata": {},
   "outputs": [
    {
     "name": "stdout",
     "output_type": "stream",
     "text": [
      "<class 'pandas.core.frame.DataFrame'>\n",
      "Int64Index: 290768 entries, 0 to 290848\n",
      "Data columns (total 15 columns):\n",
      " #   Column                 Non-Null Count   Dtype         \n",
      "---  ------                 --------------   -----         \n",
      " 0   order_id               290768 non-null  int64         \n",
      " 1   user_id                290768 non-null  object        \n",
      " 2   created_dt_msk         290768 non-null  datetime64[ns]\n",
      " 3   created_ts_msk         290768 non-null  datetime64[ns]\n",
      " 4   event_id               290768 non-null  int64         \n",
      " 5   cinema_circuit         290768 non-null  object        \n",
      " 6   age_limit              290768 non-null  int64         \n",
      " 7   currency_code          290768 non-null  object        \n",
      " 8   device_type_canonical  290768 non-null  object        \n",
      " 9   revenue                290768 non-null  float64       \n",
      " 10  service_name           290768 non-null  object        \n",
      " 11  tickets_count          290768 non-null  int64         \n",
      " 12  total                  290768 non-null  float64       \n",
      " 13  days_since_prev        268829 non-null  float64       \n",
      " 14  revenue_rub            285701 non-null  float64       \n",
      "dtypes: datetime64[ns](2), float64(4), int64(4), object(5)\n",
      "memory usage: 35.5+ MB\n"
     ]
    }
   ],
   "source": [
    "df_orders.info()"
   ]
  },
  {
   "cell_type": "code",
   "execution_count": 21,
   "id": "cb450612",
   "metadata": {},
   "outputs": [
    {
     "data": {
      "text/html": [
       "<div>\n",
       "<style scoped>\n",
       "    .dataframe tbody tr th:only-of-type {\n",
       "        vertical-align: middle;\n",
       "    }\n",
       "\n",
       "    .dataframe tbody tr th {\n",
       "        vertical-align: top;\n",
       "    }\n",
       "\n",
       "    .dataframe thead th {\n",
       "        text-align: right;\n",
       "    }\n",
       "</style>\n",
       "<table border=\"1\" class=\"dataframe\">\n",
       "  <thead>\n",
       "    <tr style=\"text-align: right;\">\n",
       "      <th></th>\n",
       "      <th>order_id</th>\n",
       "      <th>user_id</th>\n",
       "      <th>created_dt_msk</th>\n",
       "      <th>created_ts_msk</th>\n",
       "      <th>event_id</th>\n",
       "      <th>cinema_circuit</th>\n",
       "      <th>age_limit</th>\n",
       "      <th>currency_code</th>\n",
       "      <th>device_type_canonical</th>\n",
       "      <th>revenue</th>\n",
       "      <th>service_name</th>\n",
       "      <th>tickets_count</th>\n",
       "      <th>total</th>\n",
       "      <th>days_since_prev</th>\n",
       "      <th>revenue_rub</th>\n",
       "    </tr>\n",
       "  </thead>\n",
       "  <tbody>\n",
       "    <tr>\n",
       "      <th>0</th>\n",
       "      <td>4359165</td>\n",
       "      <td>0002849b70a3ce2</td>\n",
       "      <td>2024-08-20</td>\n",
       "      <td>2024-08-20 16:08:03</td>\n",
       "      <td>169230</td>\n",
       "      <td>нет</td>\n",
       "      <td>16</td>\n",
       "      <td>rub</td>\n",
       "      <td>mobile</td>\n",
       "      <td>1521.94</td>\n",
       "      <td>Край билетов</td>\n",
       "      <td>4</td>\n",
       "      <td>10870.99</td>\n",
       "      <td>NaN</td>\n",
       "      <td>1521.94</td>\n",
       "    </tr>\n",
       "    <tr>\n",
       "      <th>1</th>\n",
       "      <td>7965605</td>\n",
       "      <td>0005ca5e93f2cf4</td>\n",
       "      <td>2024-07-23</td>\n",
       "      <td>2024-07-23 18:36:24</td>\n",
       "      <td>237325</td>\n",
       "      <td>нет</td>\n",
       "      <td>0</td>\n",
       "      <td>rub</td>\n",
       "      <td>mobile</td>\n",
       "      <td>289.45</td>\n",
       "      <td>Мой билет</td>\n",
       "      <td>2</td>\n",
       "      <td>2067.51</td>\n",
       "      <td>NaN</td>\n",
       "      <td>289.45</td>\n",
       "    </tr>\n",
       "    <tr>\n",
       "      <th>2</th>\n",
       "      <td>7292370</td>\n",
       "      <td>0005ca5e93f2cf4</td>\n",
       "      <td>2024-10-06</td>\n",
       "      <td>2024-10-06 13:56:02</td>\n",
       "      <td>578454</td>\n",
       "      <td>нет</td>\n",
       "      <td>0</td>\n",
       "      <td>rub</td>\n",
       "      <td>mobile</td>\n",
       "      <td>1258.57</td>\n",
       "      <td>За билетом!</td>\n",
       "      <td>4</td>\n",
       "      <td>13984.16</td>\n",
       "      <td>75.0</td>\n",
       "      <td>1258.57</td>\n",
       "    </tr>\n",
       "    <tr>\n",
       "      <th>3</th>\n",
       "      <td>1139875</td>\n",
       "      <td>000898990054619</td>\n",
       "      <td>2024-07-13</td>\n",
       "      <td>2024-07-13 19:40:48</td>\n",
       "      <td>387271</td>\n",
       "      <td>нет</td>\n",
       "      <td>0</td>\n",
       "      <td>rub</td>\n",
       "      <td>mobile</td>\n",
       "      <td>8.49</td>\n",
       "      <td>Лови билет!</td>\n",
       "      <td>2</td>\n",
       "      <td>212.28</td>\n",
       "      <td>NaN</td>\n",
       "      <td>8.49</td>\n",
       "    </tr>\n",
       "    <tr>\n",
       "      <th>4</th>\n",
       "      <td>972400</td>\n",
       "      <td>000898990054619</td>\n",
       "      <td>2024-10-04</td>\n",
       "      <td>2024-10-04 22:33:15</td>\n",
       "      <td>509453</td>\n",
       "      <td>нет</td>\n",
       "      <td>18</td>\n",
       "      <td>rub</td>\n",
       "      <td>mobile</td>\n",
       "      <td>1390.41</td>\n",
       "      <td>Билеты без проблем</td>\n",
       "      <td>3</td>\n",
       "      <td>10695.43</td>\n",
       "      <td>83.0</td>\n",
       "      <td>1390.41</td>\n",
       "    </tr>\n",
       "  </tbody>\n",
       "</table>\n",
       "</div>"
      ],
      "text/plain": [
       "   order_id          user_id created_dt_msk      created_ts_msk  event_id  \\\n",
       "0   4359165  0002849b70a3ce2     2024-08-20 2024-08-20 16:08:03    169230   \n",
       "1   7965605  0005ca5e93f2cf4     2024-07-23 2024-07-23 18:36:24    237325   \n",
       "2   7292370  0005ca5e93f2cf4     2024-10-06 2024-10-06 13:56:02    578454   \n",
       "3   1139875  000898990054619     2024-07-13 2024-07-13 19:40:48    387271   \n",
       "4    972400  000898990054619     2024-10-04 2024-10-04 22:33:15    509453   \n",
       "\n",
       "  cinema_circuit  age_limit currency_code device_type_canonical  revenue  \\\n",
       "0            нет         16           rub                mobile  1521.94   \n",
       "1            нет          0           rub                mobile   289.45   \n",
       "2            нет          0           rub                mobile  1258.57   \n",
       "3            нет          0           rub                mobile     8.49   \n",
       "4            нет         18           rub                mobile  1390.41   \n",
       "\n",
       "         service_name  tickets_count     total  days_since_prev  revenue_rub  \n",
       "0        Край билетов              4  10870.99              NaN      1521.94  \n",
       "1           Мой билет              2   2067.51              NaN       289.45  \n",
       "2         За билетом!              4  13984.16             75.0      1258.57  \n",
       "3         Лови билет!              2    212.28              NaN         8.49  \n",
       "4  Билеты без проблем              3  10695.43             83.0      1390.41  "
      ]
     },
     "execution_count": 21,
     "metadata": {},
     "output_type": "execute_result"
    }
   ],
   "source": [
    "df_orders.head()"
   ]
  },
  {
   "cell_type": "code",
   "execution_count": 22,
   "id": "827ed12e",
   "metadata": {},
   "outputs": [],
   "source": [
    "    #one_ticket_revenue_rub — средняя стоимость одного билета\n",
    "df_orders['one_ticket_revenue_rub'] = df_orders['revenue_rub'] / df_orders['tickets_count']"
   ]
  },
  {
   "cell_type": "code",
   "execution_count": 23,
   "id": "ea6aa8be",
   "metadata": {},
   "outputs": [
    {
     "name": "stdout",
     "output_type": "stream",
     "text": [
      "<class 'pandas.core.frame.DataFrame'>\n",
      "Int64Index: 290768 entries, 0 to 290848\n",
      "Data columns (total 16 columns):\n",
      " #   Column                  Non-Null Count   Dtype         \n",
      "---  ------                  --------------   -----         \n",
      " 0   order_id                290768 non-null  int64         \n",
      " 1   user_id                 290768 non-null  object        \n",
      " 2   created_dt_msk          290768 non-null  datetime64[ns]\n",
      " 3   created_ts_msk          290768 non-null  datetime64[ns]\n",
      " 4   event_id                290768 non-null  int64         \n",
      " 5   cinema_circuit          290768 non-null  object        \n",
      " 6   age_limit               290768 non-null  int64         \n",
      " 7   currency_code           290768 non-null  object        \n",
      " 8   device_type_canonical   290768 non-null  object        \n",
      " 9   revenue                 290768 non-null  float64       \n",
      " 10  service_name            290768 non-null  object        \n",
      " 11  tickets_count           290768 non-null  int64         \n",
      " 12  total                   290768 non-null  float64       \n",
      " 13  days_since_prev         268829 non-null  float64       \n",
      " 14  revenue_rub             285701 non-null  float64       \n",
      " 15  one_ticket_revenue_rub  285701 non-null  float64       \n",
      "dtypes: datetime64[ns](2), float64(5), int64(4), object(5)\n",
      "memory usage: 37.7+ MB\n"
     ]
    },
    {
     "data": {
      "text/html": [
       "<div>\n",
       "<style scoped>\n",
       "    .dataframe tbody tr th:only-of-type {\n",
       "        vertical-align: middle;\n",
       "    }\n",
       "\n",
       "    .dataframe tbody tr th {\n",
       "        vertical-align: top;\n",
       "    }\n",
       "\n",
       "    .dataframe thead th {\n",
       "        text-align: right;\n",
       "    }\n",
       "</style>\n",
       "<table border=\"1\" class=\"dataframe\">\n",
       "  <thead>\n",
       "    <tr style=\"text-align: right;\">\n",
       "      <th></th>\n",
       "      <th>order_id</th>\n",
       "      <th>user_id</th>\n",
       "      <th>created_dt_msk</th>\n",
       "      <th>created_ts_msk</th>\n",
       "      <th>event_id</th>\n",
       "      <th>cinema_circuit</th>\n",
       "      <th>age_limit</th>\n",
       "      <th>currency_code</th>\n",
       "      <th>device_type_canonical</th>\n",
       "      <th>revenue</th>\n",
       "      <th>service_name</th>\n",
       "      <th>tickets_count</th>\n",
       "      <th>total</th>\n",
       "      <th>days_since_prev</th>\n",
       "      <th>revenue_rub</th>\n",
       "      <th>one_ticket_revenue_rub</th>\n",
       "    </tr>\n",
       "  </thead>\n",
       "  <tbody>\n",
       "    <tr>\n",
       "      <th>0</th>\n",
       "      <td>4359165</td>\n",
       "      <td>0002849b70a3ce2</td>\n",
       "      <td>2024-08-20</td>\n",
       "      <td>2024-08-20 16:08:03</td>\n",
       "      <td>169230</td>\n",
       "      <td>нет</td>\n",
       "      <td>16</td>\n",
       "      <td>rub</td>\n",
       "      <td>mobile</td>\n",
       "      <td>1521.94</td>\n",
       "      <td>Край билетов</td>\n",
       "      <td>4</td>\n",
       "      <td>10870.99</td>\n",
       "      <td>NaN</td>\n",
       "      <td>1521.94</td>\n",
       "      <td>380.4850</td>\n",
       "    </tr>\n",
       "    <tr>\n",
       "      <th>1</th>\n",
       "      <td>7965605</td>\n",
       "      <td>0005ca5e93f2cf4</td>\n",
       "      <td>2024-07-23</td>\n",
       "      <td>2024-07-23 18:36:24</td>\n",
       "      <td>237325</td>\n",
       "      <td>нет</td>\n",
       "      <td>0</td>\n",
       "      <td>rub</td>\n",
       "      <td>mobile</td>\n",
       "      <td>289.45</td>\n",
       "      <td>Мой билет</td>\n",
       "      <td>2</td>\n",
       "      <td>2067.51</td>\n",
       "      <td>NaN</td>\n",
       "      <td>289.45</td>\n",
       "      <td>144.7250</td>\n",
       "    </tr>\n",
       "    <tr>\n",
       "      <th>2</th>\n",
       "      <td>7292370</td>\n",
       "      <td>0005ca5e93f2cf4</td>\n",
       "      <td>2024-10-06</td>\n",
       "      <td>2024-10-06 13:56:02</td>\n",
       "      <td>578454</td>\n",
       "      <td>нет</td>\n",
       "      <td>0</td>\n",
       "      <td>rub</td>\n",
       "      <td>mobile</td>\n",
       "      <td>1258.57</td>\n",
       "      <td>За билетом!</td>\n",
       "      <td>4</td>\n",
       "      <td>13984.16</td>\n",
       "      <td>75.0</td>\n",
       "      <td>1258.57</td>\n",
       "      <td>314.6425</td>\n",
       "    </tr>\n",
       "    <tr>\n",
       "      <th>3</th>\n",
       "      <td>1139875</td>\n",
       "      <td>000898990054619</td>\n",
       "      <td>2024-07-13</td>\n",
       "      <td>2024-07-13 19:40:48</td>\n",
       "      <td>387271</td>\n",
       "      <td>нет</td>\n",
       "      <td>0</td>\n",
       "      <td>rub</td>\n",
       "      <td>mobile</td>\n",
       "      <td>8.49</td>\n",
       "      <td>Лови билет!</td>\n",
       "      <td>2</td>\n",
       "      <td>212.28</td>\n",
       "      <td>NaN</td>\n",
       "      <td>8.49</td>\n",
       "      <td>4.2450</td>\n",
       "    </tr>\n",
       "    <tr>\n",
       "      <th>4</th>\n",
       "      <td>972400</td>\n",
       "      <td>000898990054619</td>\n",
       "      <td>2024-10-04</td>\n",
       "      <td>2024-10-04 22:33:15</td>\n",
       "      <td>509453</td>\n",
       "      <td>нет</td>\n",
       "      <td>18</td>\n",
       "      <td>rub</td>\n",
       "      <td>mobile</td>\n",
       "      <td>1390.41</td>\n",
       "      <td>Билеты без проблем</td>\n",
       "      <td>3</td>\n",
       "      <td>10695.43</td>\n",
       "      <td>83.0</td>\n",
       "      <td>1390.41</td>\n",
       "      <td>463.4700</td>\n",
       "    </tr>\n",
       "  </tbody>\n",
       "</table>\n",
       "</div>"
      ],
      "text/plain": [
       "   order_id          user_id created_dt_msk      created_ts_msk  event_id  \\\n",
       "0   4359165  0002849b70a3ce2     2024-08-20 2024-08-20 16:08:03    169230   \n",
       "1   7965605  0005ca5e93f2cf4     2024-07-23 2024-07-23 18:36:24    237325   \n",
       "2   7292370  0005ca5e93f2cf4     2024-10-06 2024-10-06 13:56:02    578454   \n",
       "3   1139875  000898990054619     2024-07-13 2024-07-13 19:40:48    387271   \n",
       "4    972400  000898990054619     2024-10-04 2024-10-04 22:33:15    509453   \n",
       "\n",
       "  cinema_circuit  age_limit currency_code device_type_canonical  revenue  \\\n",
       "0            нет         16           rub                mobile  1521.94   \n",
       "1            нет          0           rub                mobile   289.45   \n",
       "2            нет          0           rub                mobile  1258.57   \n",
       "3            нет          0           rub                mobile     8.49   \n",
       "4            нет         18           rub                mobile  1390.41   \n",
       "\n",
       "         service_name  tickets_count     total  days_since_prev  revenue_rub  \\\n",
       "0        Край билетов              4  10870.99              NaN      1521.94   \n",
       "1           Мой билет              2   2067.51              NaN       289.45   \n",
       "2         За билетом!              4  13984.16             75.0      1258.57   \n",
       "3         Лови билет!              2    212.28              NaN         8.49   \n",
       "4  Билеты без проблем              3  10695.43             83.0      1390.41   \n",
       "\n",
       "   one_ticket_revenue_rub  \n",
       "0                380.4850  \n",
       "1                144.7250  \n",
       "2                314.6425  \n",
       "3                  4.2450  \n",
       "4                463.4700  "
      ]
     },
     "execution_count": 23,
     "metadata": {},
     "output_type": "execute_result"
    }
   ],
   "source": [
    "df_orders.info()\n",
    "df_orders.head()"
   ]
  },
  {
   "cell_type": "code",
   "execution_count": 24,
   "id": "84fa6039",
   "metadata": {},
   "outputs": [],
   "source": [
    "    #month месяц оформления заказа\n",
    "df_orders['month'] = pd.DatetimeIndex(df_orders['created_dt_msk']).month"
   ]
  },
  {
   "cell_type": "code",
   "execution_count": 25,
   "id": "6bccf347",
   "metadata": {
    "scrolled": true
   },
   "outputs": [
    {
     "name": "stdout",
     "output_type": "stream",
     "text": [
      "<class 'pandas.core.frame.DataFrame'>\n",
      "Int64Index: 290768 entries, 0 to 290848\n",
      "Data columns (total 17 columns):\n",
      " #   Column                  Non-Null Count   Dtype         \n",
      "---  ------                  --------------   -----         \n",
      " 0   order_id                290768 non-null  int64         \n",
      " 1   user_id                 290768 non-null  object        \n",
      " 2   created_dt_msk          290768 non-null  datetime64[ns]\n",
      " 3   created_ts_msk          290768 non-null  datetime64[ns]\n",
      " 4   event_id                290768 non-null  int64         \n",
      " 5   cinema_circuit          290768 non-null  object        \n",
      " 6   age_limit               290768 non-null  int64         \n",
      " 7   currency_code           290768 non-null  object        \n",
      " 8   device_type_canonical   290768 non-null  object        \n",
      " 9   revenue                 290768 non-null  float64       \n",
      " 10  service_name            290768 non-null  object        \n",
      " 11  tickets_count           290768 non-null  int64         \n",
      " 12  total                   290768 non-null  float64       \n",
      " 13  days_since_prev         268829 non-null  float64       \n",
      " 14  revenue_rub             285701 non-null  float64       \n",
      " 15  one_ticket_revenue_rub  285701 non-null  float64       \n",
      " 16  month                   290768 non-null  int64         \n",
      "dtypes: datetime64[ns](2), float64(5), int64(5), object(5)\n",
      "memory usage: 39.9+ MB\n"
     ]
    },
    {
     "data": {
      "text/html": [
       "<div>\n",
       "<style scoped>\n",
       "    .dataframe tbody tr th:only-of-type {\n",
       "        vertical-align: middle;\n",
       "    }\n",
       "\n",
       "    .dataframe tbody tr th {\n",
       "        vertical-align: top;\n",
       "    }\n",
       "\n",
       "    .dataframe thead th {\n",
       "        text-align: right;\n",
       "    }\n",
       "</style>\n",
       "<table border=\"1\" class=\"dataframe\">\n",
       "  <thead>\n",
       "    <tr style=\"text-align: right;\">\n",
       "      <th></th>\n",
       "      <th>order_id</th>\n",
       "      <th>user_id</th>\n",
       "      <th>created_dt_msk</th>\n",
       "      <th>created_ts_msk</th>\n",
       "      <th>event_id</th>\n",
       "      <th>cinema_circuit</th>\n",
       "      <th>age_limit</th>\n",
       "      <th>currency_code</th>\n",
       "      <th>device_type_canonical</th>\n",
       "      <th>revenue</th>\n",
       "      <th>service_name</th>\n",
       "      <th>tickets_count</th>\n",
       "      <th>total</th>\n",
       "      <th>days_since_prev</th>\n",
       "      <th>revenue_rub</th>\n",
       "      <th>one_ticket_revenue_rub</th>\n",
       "      <th>month</th>\n",
       "    </tr>\n",
       "  </thead>\n",
       "  <tbody>\n",
       "    <tr>\n",
       "      <th>0</th>\n",
       "      <td>4359165</td>\n",
       "      <td>0002849b70a3ce2</td>\n",
       "      <td>2024-08-20</td>\n",
       "      <td>2024-08-20 16:08:03</td>\n",
       "      <td>169230</td>\n",
       "      <td>нет</td>\n",
       "      <td>16</td>\n",
       "      <td>rub</td>\n",
       "      <td>mobile</td>\n",
       "      <td>1521.94</td>\n",
       "      <td>Край билетов</td>\n",
       "      <td>4</td>\n",
       "      <td>10870.99</td>\n",
       "      <td>NaN</td>\n",
       "      <td>1521.94</td>\n",
       "      <td>380.4850</td>\n",
       "      <td>8</td>\n",
       "    </tr>\n",
       "    <tr>\n",
       "      <th>1</th>\n",
       "      <td>7965605</td>\n",
       "      <td>0005ca5e93f2cf4</td>\n",
       "      <td>2024-07-23</td>\n",
       "      <td>2024-07-23 18:36:24</td>\n",
       "      <td>237325</td>\n",
       "      <td>нет</td>\n",
       "      <td>0</td>\n",
       "      <td>rub</td>\n",
       "      <td>mobile</td>\n",
       "      <td>289.45</td>\n",
       "      <td>Мой билет</td>\n",
       "      <td>2</td>\n",
       "      <td>2067.51</td>\n",
       "      <td>NaN</td>\n",
       "      <td>289.45</td>\n",
       "      <td>144.7250</td>\n",
       "      <td>7</td>\n",
       "    </tr>\n",
       "    <tr>\n",
       "      <th>2</th>\n",
       "      <td>7292370</td>\n",
       "      <td>0005ca5e93f2cf4</td>\n",
       "      <td>2024-10-06</td>\n",
       "      <td>2024-10-06 13:56:02</td>\n",
       "      <td>578454</td>\n",
       "      <td>нет</td>\n",
       "      <td>0</td>\n",
       "      <td>rub</td>\n",
       "      <td>mobile</td>\n",
       "      <td>1258.57</td>\n",
       "      <td>За билетом!</td>\n",
       "      <td>4</td>\n",
       "      <td>13984.16</td>\n",
       "      <td>75.0</td>\n",
       "      <td>1258.57</td>\n",
       "      <td>314.6425</td>\n",
       "      <td>10</td>\n",
       "    </tr>\n",
       "    <tr>\n",
       "      <th>3</th>\n",
       "      <td>1139875</td>\n",
       "      <td>000898990054619</td>\n",
       "      <td>2024-07-13</td>\n",
       "      <td>2024-07-13 19:40:48</td>\n",
       "      <td>387271</td>\n",
       "      <td>нет</td>\n",
       "      <td>0</td>\n",
       "      <td>rub</td>\n",
       "      <td>mobile</td>\n",
       "      <td>8.49</td>\n",
       "      <td>Лови билет!</td>\n",
       "      <td>2</td>\n",
       "      <td>212.28</td>\n",
       "      <td>NaN</td>\n",
       "      <td>8.49</td>\n",
       "      <td>4.2450</td>\n",
       "      <td>7</td>\n",
       "    </tr>\n",
       "    <tr>\n",
       "      <th>4</th>\n",
       "      <td>972400</td>\n",
       "      <td>000898990054619</td>\n",
       "      <td>2024-10-04</td>\n",
       "      <td>2024-10-04 22:33:15</td>\n",
       "      <td>509453</td>\n",
       "      <td>нет</td>\n",
       "      <td>18</td>\n",
       "      <td>rub</td>\n",
       "      <td>mobile</td>\n",
       "      <td>1390.41</td>\n",
       "      <td>Билеты без проблем</td>\n",
       "      <td>3</td>\n",
       "      <td>10695.43</td>\n",
       "      <td>83.0</td>\n",
       "      <td>1390.41</td>\n",
       "      <td>463.4700</td>\n",
       "      <td>10</td>\n",
       "    </tr>\n",
       "  </tbody>\n",
       "</table>\n",
       "</div>"
      ],
      "text/plain": [
       "   order_id          user_id created_dt_msk      created_ts_msk  event_id  \\\n",
       "0   4359165  0002849b70a3ce2     2024-08-20 2024-08-20 16:08:03    169230   \n",
       "1   7965605  0005ca5e93f2cf4     2024-07-23 2024-07-23 18:36:24    237325   \n",
       "2   7292370  0005ca5e93f2cf4     2024-10-06 2024-10-06 13:56:02    578454   \n",
       "3   1139875  000898990054619     2024-07-13 2024-07-13 19:40:48    387271   \n",
       "4    972400  000898990054619     2024-10-04 2024-10-04 22:33:15    509453   \n",
       "\n",
       "  cinema_circuit  age_limit currency_code device_type_canonical  revenue  \\\n",
       "0            нет         16           rub                mobile  1521.94   \n",
       "1            нет          0           rub                mobile   289.45   \n",
       "2            нет          0           rub                mobile  1258.57   \n",
       "3            нет          0           rub                mobile     8.49   \n",
       "4            нет         18           rub                mobile  1390.41   \n",
       "\n",
       "         service_name  tickets_count     total  days_since_prev  revenue_rub  \\\n",
       "0        Край билетов              4  10870.99              NaN      1521.94   \n",
       "1           Мой билет              2   2067.51              NaN       289.45   \n",
       "2         За билетом!              4  13984.16             75.0      1258.57   \n",
       "3         Лови билет!              2    212.28              NaN         8.49   \n",
       "4  Билеты без проблем              3  10695.43             83.0      1390.41   \n",
       "\n",
       "   one_ticket_revenue_rub  month  \n",
       "0                380.4850      8  \n",
       "1                144.7250      7  \n",
       "2                314.6425     10  \n",
       "3                  4.2450      7  \n",
       "4                463.4700     10  "
      ]
     },
     "execution_count": 25,
     "metadata": {},
     "output_type": "execute_result"
    }
   ],
   "source": [
    "df_orders.info()\n",
    "df_orders.head()"
   ]
  },
  {
   "cell_type": "code",
   "execution_count": 26,
   "id": "aa5cd449",
   "metadata": {},
   "outputs": [],
   "source": [
    "    # season — сезонность (лето, осень, зима, весна)\n",
    "# Функция, распределяющая месяца по сезонам\n",
    "def season(month):\n",
    "    \n",
    "        if month in [12, 1, 2]:\n",
    "            return 'зима'\n",
    "        elif month in [3, 4, 5]:\n",
    "            return 'весна'\n",
    "        elif month in [6, 7, 8]:\n",
    "            return 'лето'\n",
    "        elif month in [9, 10, 11]:\n",
    "            return 'осень'\n",
    "        else:\n",
    "            return 'Некорректный месяц' \n"
   ]
  },
  {
   "cell_type": "code",
   "execution_count": 27,
   "id": "4cfa8139",
   "metadata": {},
   "outputs": [],
   "source": [
    "df_orders['season'] = df_orders['month'].apply(season)"
   ]
  },
  {
   "cell_type": "code",
   "execution_count": 28,
   "id": "2ecf32f6",
   "metadata": {
    "scrolled": true
   },
   "outputs": [
    {
     "name": "stdout",
     "output_type": "stream",
     "text": [
      "<class 'pandas.core.frame.DataFrame'>\n",
      "Int64Index: 290768 entries, 0 to 290848\n",
      "Data columns (total 18 columns):\n",
      " #   Column                  Non-Null Count   Dtype         \n",
      "---  ------                  --------------   -----         \n",
      " 0   order_id                290768 non-null  int64         \n",
      " 1   user_id                 290768 non-null  object        \n",
      " 2   created_dt_msk          290768 non-null  datetime64[ns]\n",
      " 3   created_ts_msk          290768 non-null  datetime64[ns]\n",
      " 4   event_id                290768 non-null  int64         \n",
      " 5   cinema_circuit          290768 non-null  object        \n",
      " 6   age_limit               290768 non-null  int64         \n",
      " 7   currency_code           290768 non-null  object        \n",
      " 8   device_type_canonical   290768 non-null  object        \n",
      " 9   revenue                 290768 non-null  float64       \n",
      " 10  service_name            290768 non-null  object        \n",
      " 11  tickets_count           290768 non-null  int64         \n",
      " 12  total                   290768 non-null  float64       \n",
      " 13  days_since_prev         268829 non-null  float64       \n",
      " 14  revenue_rub             285701 non-null  float64       \n",
      " 15  one_ticket_revenue_rub  285701 non-null  float64       \n",
      " 16  month                   290768 non-null  int64         \n",
      " 17  season                  290768 non-null  object        \n",
      "dtypes: datetime64[ns](2), float64(5), int64(5), object(6)\n",
      "memory usage: 42.1+ MB\n"
     ]
    },
    {
     "data": {
      "text/html": [
       "<div>\n",
       "<style scoped>\n",
       "    .dataframe tbody tr th:only-of-type {\n",
       "        vertical-align: middle;\n",
       "    }\n",
       "\n",
       "    .dataframe tbody tr th {\n",
       "        vertical-align: top;\n",
       "    }\n",
       "\n",
       "    .dataframe thead th {\n",
       "        text-align: right;\n",
       "    }\n",
       "</style>\n",
       "<table border=\"1\" class=\"dataframe\">\n",
       "  <thead>\n",
       "    <tr style=\"text-align: right;\">\n",
       "      <th></th>\n",
       "      <th>order_id</th>\n",
       "      <th>user_id</th>\n",
       "      <th>created_dt_msk</th>\n",
       "      <th>created_ts_msk</th>\n",
       "      <th>event_id</th>\n",
       "      <th>cinema_circuit</th>\n",
       "      <th>age_limit</th>\n",
       "      <th>currency_code</th>\n",
       "      <th>device_type_canonical</th>\n",
       "      <th>revenue</th>\n",
       "      <th>service_name</th>\n",
       "      <th>tickets_count</th>\n",
       "      <th>total</th>\n",
       "      <th>days_since_prev</th>\n",
       "      <th>revenue_rub</th>\n",
       "      <th>one_ticket_revenue_rub</th>\n",
       "      <th>month</th>\n",
       "      <th>season</th>\n",
       "    </tr>\n",
       "  </thead>\n",
       "  <tbody>\n",
       "    <tr>\n",
       "      <th>0</th>\n",
       "      <td>4359165</td>\n",
       "      <td>0002849b70a3ce2</td>\n",
       "      <td>2024-08-20</td>\n",
       "      <td>2024-08-20 16:08:03</td>\n",
       "      <td>169230</td>\n",
       "      <td>нет</td>\n",
       "      <td>16</td>\n",
       "      <td>rub</td>\n",
       "      <td>mobile</td>\n",
       "      <td>1521.94</td>\n",
       "      <td>Край билетов</td>\n",
       "      <td>4</td>\n",
       "      <td>10870.99</td>\n",
       "      <td>NaN</td>\n",
       "      <td>1521.94</td>\n",
       "      <td>380.4850</td>\n",
       "      <td>8</td>\n",
       "      <td>лето</td>\n",
       "    </tr>\n",
       "    <tr>\n",
       "      <th>1</th>\n",
       "      <td>7965605</td>\n",
       "      <td>0005ca5e93f2cf4</td>\n",
       "      <td>2024-07-23</td>\n",
       "      <td>2024-07-23 18:36:24</td>\n",
       "      <td>237325</td>\n",
       "      <td>нет</td>\n",
       "      <td>0</td>\n",
       "      <td>rub</td>\n",
       "      <td>mobile</td>\n",
       "      <td>289.45</td>\n",
       "      <td>Мой билет</td>\n",
       "      <td>2</td>\n",
       "      <td>2067.51</td>\n",
       "      <td>NaN</td>\n",
       "      <td>289.45</td>\n",
       "      <td>144.7250</td>\n",
       "      <td>7</td>\n",
       "      <td>лето</td>\n",
       "    </tr>\n",
       "    <tr>\n",
       "      <th>2</th>\n",
       "      <td>7292370</td>\n",
       "      <td>0005ca5e93f2cf4</td>\n",
       "      <td>2024-10-06</td>\n",
       "      <td>2024-10-06 13:56:02</td>\n",
       "      <td>578454</td>\n",
       "      <td>нет</td>\n",
       "      <td>0</td>\n",
       "      <td>rub</td>\n",
       "      <td>mobile</td>\n",
       "      <td>1258.57</td>\n",
       "      <td>За билетом!</td>\n",
       "      <td>4</td>\n",
       "      <td>13984.16</td>\n",
       "      <td>75.0</td>\n",
       "      <td>1258.57</td>\n",
       "      <td>314.6425</td>\n",
       "      <td>10</td>\n",
       "      <td>осень</td>\n",
       "    </tr>\n",
       "    <tr>\n",
       "      <th>3</th>\n",
       "      <td>1139875</td>\n",
       "      <td>000898990054619</td>\n",
       "      <td>2024-07-13</td>\n",
       "      <td>2024-07-13 19:40:48</td>\n",
       "      <td>387271</td>\n",
       "      <td>нет</td>\n",
       "      <td>0</td>\n",
       "      <td>rub</td>\n",
       "      <td>mobile</td>\n",
       "      <td>8.49</td>\n",
       "      <td>Лови билет!</td>\n",
       "      <td>2</td>\n",
       "      <td>212.28</td>\n",
       "      <td>NaN</td>\n",
       "      <td>8.49</td>\n",
       "      <td>4.2450</td>\n",
       "      <td>7</td>\n",
       "      <td>лето</td>\n",
       "    </tr>\n",
       "    <tr>\n",
       "      <th>4</th>\n",
       "      <td>972400</td>\n",
       "      <td>000898990054619</td>\n",
       "      <td>2024-10-04</td>\n",
       "      <td>2024-10-04 22:33:15</td>\n",
       "      <td>509453</td>\n",
       "      <td>нет</td>\n",
       "      <td>18</td>\n",
       "      <td>rub</td>\n",
       "      <td>mobile</td>\n",
       "      <td>1390.41</td>\n",
       "      <td>Билеты без проблем</td>\n",
       "      <td>3</td>\n",
       "      <td>10695.43</td>\n",
       "      <td>83.0</td>\n",
       "      <td>1390.41</td>\n",
       "      <td>463.4700</td>\n",
       "      <td>10</td>\n",
       "      <td>осень</td>\n",
       "    </tr>\n",
       "  </tbody>\n",
       "</table>\n",
       "</div>"
      ],
      "text/plain": [
       "   order_id          user_id created_dt_msk      created_ts_msk  event_id  \\\n",
       "0   4359165  0002849b70a3ce2     2024-08-20 2024-08-20 16:08:03    169230   \n",
       "1   7965605  0005ca5e93f2cf4     2024-07-23 2024-07-23 18:36:24    237325   \n",
       "2   7292370  0005ca5e93f2cf4     2024-10-06 2024-10-06 13:56:02    578454   \n",
       "3   1139875  000898990054619     2024-07-13 2024-07-13 19:40:48    387271   \n",
       "4    972400  000898990054619     2024-10-04 2024-10-04 22:33:15    509453   \n",
       "\n",
       "  cinema_circuit  age_limit currency_code device_type_canonical  revenue  \\\n",
       "0            нет         16           rub                mobile  1521.94   \n",
       "1            нет          0           rub                mobile   289.45   \n",
       "2            нет          0           rub                mobile  1258.57   \n",
       "3            нет          0           rub                mobile     8.49   \n",
       "4            нет         18           rub                mobile  1390.41   \n",
       "\n",
       "         service_name  tickets_count     total  days_since_prev  revenue_rub  \\\n",
       "0        Край билетов              4  10870.99              NaN      1521.94   \n",
       "1           Мой билет              2   2067.51              NaN       289.45   \n",
       "2         За билетом!              4  13984.16             75.0      1258.57   \n",
       "3         Лови билет!              2    212.28              NaN         8.49   \n",
       "4  Билеты без проблем              3  10695.43             83.0      1390.41   \n",
       "\n",
       "   one_ticket_revenue_rub  month season  \n",
       "0                380.4850      8   лето  \n",
       "1                144.7250      7   лето  \n",
       "2                314.6425     10  осень  \n",
       "3                  4.2450      7   лето  \n",
       "4                463.4700     10  осень  "
      ]
     },
     "execution_count": 28,
     "metadata": {},
     "output_type": "execute_result"
    }
   ],
   "source": [
    "df_orders.info()\n",
    "df_orders.head()"
   ]
  },
  {
   "cell_type": "code",
   "execution_count": 29,
   "id": "9fc8c834",
   "metadata": {},
   "outputs": [],
   "source": [
    "# Объединение дф\n",
    "df = pd.merge(df_orders, df_events, on='event_id', how='left')"
   ]
  },
  {
   "cell_type": "code",
   "execution_count": 30,
   "id": "0d78991f",
   "metadata": {},
   "outputs": [
    {
     "name": "stdout",
     "output_type": "stream",
     "text": [
      "<class 'pandas.core.frame.DataFrame'>\n",
      "Int64Index: 290768 entries, 0 to 290767\n",
      "Data columns (total 28 columns):\n",
      " #   Column                  Non-Null Count   Dtype         \n",
      "---  ------                  --------------   -----         \n",
      " 0   order_id                290768 non-null  int64         \n",
      " 1   user_id                 290768 non-null  object        \n",
      " 2   created_dt_msk          290768 non-null  datetime64[ns]\n",
      " 3   created_ts_msk          290768 non-null  datetime64[ns]\n",
      " 4   event_id                290768 non-null  int64         \n",
      " 5   cinema_circuit          290768 non-null  object        \n",
      " 6   age_limit               290768 non-null  int64         \n",
      " 7   currency_code           290768 non-null  object        \n",
      " 8   device_type_canonical   290768 non-null  object        \n",
      " 9   revenue                 290768 non-null  float64       \n",
      " 10  service_name            290768 non-null  object        \n",
      " 11  tickets_count           290768 non-null  int64         \n",
      " 12  total                   290768 non-null  float64       \n",
      " 13  days_since_prev         268829 non-null  float64       \n",
      " 14  revenue_rub             285701 non-null  float64       \n",
      " 15  one_ticket_revenue_rub  285701 non-null  float64       \n",
      " 16  month                   290768 non-null  int64         \n",
      " 17  season                  290768 non-null  object        \n",
      " 18  event_name              290530 non-null  object        \n",
      " 19  event_type_description  290530 non-null  object        \n",
      " 20  event_type_main         290530 non-null  object        \n",
      " 21  organizers              290530 non-null  object        \n",
      " 22  region_name             290530 non-null  object        \n",
      " 23  city_name               290530 non-null  object        \n",
      " 24  city_id                 290530 non-null  float64       \n",
      " 25  venue_id                290530 non-null  float64       \n",
      " 26  venue_name              290530 non-null  object        \n",
      " 27  venue_address           290530 non-null  object        \n",
      "dtypes: datetime64[ns](2), float64(7), int64(5), object(14)\n",
      "memory usage: 64.3+ MB\n"
     ]
    },
    {
     "data": {
      "text/html": [
       "<div>\n",
       "<style scoped>\n",
       "    .dataframe tbody tr th:only-of-type {\n",
       "        vertical-align: middle;\n",
       "    }\n",
       "\n",
       "    .dataframe tbody tr th {\n",
       "        vertical-align: top;\n",
       "    }\n",
       "\n",
       "    .dataframe thead th {\n",
       "        text-align: right;\n",
       "    }\n",
       "</style>\n",
       "<table border=\"1\" class=\"dataframe\">\n",
       "  <thead>\n",
       "    <tr style=\"text-align: right;\">\n",
       "      <th></th>\n",
       "      <th>order_id</th>\n",
       "      <th>user_id</th>\n",
       "      <th>created_dt_msk</th>\n",
       "      <th>created_ts_msk</th>\n",
       "      <th>event_id</th>\n",
       "      <th>cinema_circuit</th>\n",
       "      <th>age_limit</th>\n",
       "      <th>currency_code</th>\n",
       "      <th>device_type_canonical</th>\n",
       "      <th>revenue</th>\n",
       "      <th>...</th>\n",
       "      <th>event_name</th>\n",
       "      <th>event_type_description</th>\n",
       "      <th>event_type_main</th>\n",
       "      <th>organizers</th>\n",
       "      <th>region_name</th>\n",
       "      <th>city_name</th>\n",
       "      <th>city_id</th>\n",
       "      <th>venue_id</th>\n",
       "      <th>venue_name</th>\n",
       "      <th>venue_address</th>\n",
       "    </tr>\n",
       "  </thead>\n",
       "  <tbody>\n",
       "    <tr>\n",
       "      <th>0</th>\n",
       "      <td>4359165</td>\n",
       "      <td>0002849b70a3ce2</td>\n",
       "      <td>2024-08-20</td>\n",
       "      <td>2024-08-20 16:08:03</td>\n",
       "      <td>169230</td>\n",
       "      <td>нет</td>\n",
       "      <td>16</td>\n",
       "      <td>rub</td>\n",
       "      <td>mobile</td>\n",
       "      <td>1521.94</td>\n",
       "      <td>...</td>\n",
       "      <td>f0f7b271-04eb-4af6-bcb8-8f05cf46d6ad</td>\n",
       "      <td>спектакль</td>\n",
       "      <td>театр</td>\n",
       "      <td>№3322</td>\n",
       "      <td>Каменевский регион</td>\n",
       "      <td>Глиногорск</td>\n",
       "      <td>213.0</td>\n",
       "      <td>3972.0</td>\n",
       "      <td>Сценический центр \"Деталь\" Групп</td>\n",
       "      <td>алл. Машиностроителей, д. 19 стр. 6</td>\n",
       "    </tr>\n",
       "    <tr>\n",
       "      <th>1</th>\n",
       "      <td>7965605</td>\n",
       "      <td>0005ca5e93f2cf4</td>\n",
       "      <td>2024-07-23</td>\n",
       "      <td>2024-07-23 18:36:24</td>\n",
       "      <td>237325</td>\n",
       "      <td>нет</td>\n",
       "      <td>0</td>\n",
       "      <td>rub</td>\n",
       "      <td>mobile</td>\n",
       "      <td>289.45</td>\n",
       "      <td>...</td>\n",
       "      <td>40efeb04-81b7-4135-b41f-708ff00cc64c</td>\n",
       "      <td>событие</td>\n",
       "      <td>выставки</td>\n",
       "      <td>№4850</td>\n",
       "      <td>Каменевский регион</td>\n",
       "      <td>Глиногорск</td>\n",
       "      <td>213.0</td>\n",
       "      <td>2941.0</td>\n",
       "      <td>Музыкальная школа для детей \"Аккаунт\" Лтд</td>\n",
       "      <td>алл. Шмидта, д. 9 стр. 4</td>\n",
       "    </tr>\n",
       "    <tr>\n",
       "      <th>2</th>\n",
       "      <td>7292370</td>\n",
       "      <td>0005ca5e93f2cf4</td>\n",
       "      <td>2024-10-06</td>\n",
       "      <td>2024-10-06 13:56:02</td>\n",
       "      <td>578454</td>\n",
       "      <td>нет</td>\n",
       "      <td>0</td>\n",
       "      <td>rub</td>\n",
       "      <td>mobile</td>\n",
       "      <td>1258.57</td>\n",
       "      <td>...</td>\n",
       "      <td>01f3fb7b-ed07-4f94-b1d3-9a2e1ee5a8ca</td>\n",
       "      <td>цирковое шоу</td>\n",
       "      <td>другое</td>\n",
       "      <td>№1540</td>\n",
       "      <td>Каменевский регион</td>\n",
       "      <td>Глиногорск</td>\n",
       "      <td>213.0</td>\n",
       "      <td>4507.0</td>\n",
       "      <td>Училище искусств \"Нирвана\" Инк</td>\n",
       "      <td>алл. Юбилейная, д. 5/6</td>\n",
       "    </tr>\n",
       "    <tr>\n",
       "      <th>3</th>\n",
       "      <td>1139875</td>\n",
       "      <td>000898990054619</td>\n",
       "      <td>2024-07-13</td>\n",
       "      <td>2024-07-13 19:40:48</td>\n",
       "      <td>387271</td>\n",
       "      <td>нет</td>\n",
       "      <td>0</td>\n",
       "      <td>rub</td>\n",
       "      <td>mobile</td>\n",
       "      <td>8.49</td>\n",
       "      <td>...</td>\n",
       "      <td>2f638715-8844-466c-b43f-378a627c419f</td>\n",
       "      <td>выставка</td>\n",
       "      <td>другое</td>\n",
       "      <td>№5049</td>\n",
       "      <td>Североярская область</td>\n",
       "      <td>Озёрск</td>\n",
       "      <td>2.0</td>\n",
       "      <td>3574.0</td>\n",
       "      <td>Театр альтернативного искусства \"Ода\" Лимитед</td>\n",
       "      <td>алл. Есенина, д. 243 к. 3/8</td>\n",
       "    </tr>\n",
       "    <tr>\n",
       "      <th>4</th>\n",
       "      <td>972400</td>\n",
       "      <td>000898990054619</td>\n",
       "      <td>2024-10-04</td>\n",
       "      <td>2024-10-04 22:33:15</td>\n",
       "      <td>509453</td>\n",
       "      <td>нет</td>\n",
       "      <td>18</td>\n",
       "      <td>rub</td>\n",
       "      <td>mobile</td>\n",
       "      <td>1390.41</td>\n",
       "      <td>...</td>\n",
       "      <td>10d805d3-9809-4d8a-834e-225b7d03f95d</td>\n",
       "      <td>шоу</td>\n",
       "      <td>стендап</td>\n",
       "      <td>№832</td>\n",
       "      <td>Озернинский край</td>\n",
       "      <td>Родниковецк</td>\n",
       "      <td>240.0</td>\n",
       "      <td>1896.0</td>\n",
       "      <td>Театр кукол \"Огни\" Инкорпорэйтед</td>\n",
       "      <td>ш. Набережное, д. 595 стр. 8</td>\n",
       "    </tr>\n",
       "  </tbody>\n",
       "</table>\n",
       "<p>5 rows × 28 columns</p>\n",
       "</div>"
      ],
      "text/plain": [
       "   order_id          user_id created_dt_msk      created_ts_msk  event_id  \\\n",
       "0   4359165  0002849b70a3ce2     2024-08-20 2024-08-20 16:08:03    169230   \n",
       "1   7965605  0005ca5e93f2cf4     2024-07-23 2024-07-23 18:36:24    237325   \n",
       "2   7292370  0005ca5e93f2cf4     2024-10-06 2024-10-06 13:56:02    578454   \n",
       "3   1139875  000898990054619     2024-07-13 2024-07-13 19:40:48    387271   \n",
       "4    972400  000898990054619     2024-10-04 2024-10-04 22:33:15    509453   \n",
       "\n",
       "  cinema_circuit  age_limit currency_code device_type_canonical  revenue  ...  \\\n",
       "0            нет         16           rub                mobile  1521.94  ...   \n",
       "1            нет          0           rub                mobile   289.45  ...   \n",
       "2            нет          0           rub                mobile  1258.57  ...   \n",
       "3            нет          0           rub                mobile     8.49  ...   \n",
       "4            нет         18           rub                mobile  1390.41  ...   \n",
       "\n",
       "                             event_name  event_type_description  \\\n",
       "0  f0f7b271-04eb-4af6-bcb8-8f05cf46d6ad               спектакль   \n",
       "1  40efeb04-81b7-4135-b41f-708ff00cc64c                 событие   \n",
       "2  01f3fb7b-ed07-4f94-b1d3-9a2e1ee5a8ca            цирковое шоу   \n",
       "3  2f638715-8844-466c-b43f-378a627c419f                выставка   \n",
       "4  10d805d3-9809-4d8a-834e-225b7d03f95d                     шоу   \n",
       "\n",
       "   event_type_main  organizers           region_name    city_name  city_id  \\\n",
       "0            театр       №3322    Каменевский регион   Глиногорск    213.0   \n",
       "1         выставки       №4850    Каменевский регион   Глиногорск    213.0   \n",
       "2           другое       №1540    Каменевский регион   Глиногорск    213.0   \n",
       "3           другое       №5049  Североярская область       Озёрск      2.0   \n",
       "4          стендап        №832      Озернинский край  Родниковецк    240.0   \n",
       "\n",
       "  venue_id                                     venue_name  \\\n",
       "0   3972.0               Сценический центр \"Деталь\" Групп   \n",
       "1   2941.0      Музыкальная школа для детей \"Аккаунт\" Лтд   \n",
       "2   4507.0                 Училище искусств \"Нирвана\" Инк   \n",
       "3   3574.0  Театр альтернативного искусства \"Ода\" Лимитед   \n",
       "4   1896.0               Театр кукол \"Огни\" Инкорпорэйтед   \n",
       "\n",
       "                         venue_address  \n",
       "0  алл. Машиностроителей, д. 19 стр. 6  \n",
       "1             алл. Шмидта, д. 9 стр. 4  \n",
       "2               алл. Юбилейная, д. 5/6  \n",
       "3          алл. Есенина, д. 243 к. 3/8  \n",
       "4         ш. Набережное, д. 595 стр. 8  \n",
       "\n",
       "[5 rows x 28 columns]"
      ]
     },
     "execution_count": 30,
     "metadata": {},
     "output_type": "execute_result"
    }
   ],
   "source": [
    "# Обзор нового дф\n",
    "df.info()\n",
    "df.head()"
   ]
  },
  {
   "cell_type": "code",
   "execution_count": 31,
   "id": "1c69d81c",
   "metadata": {},
   "outputs": [
    {
     "name": "stdout",
     "output_type": "stream",
     "text": [
      "Пропуски\n"
     ]
    },
    {
     "data": {
      "text/plain": [
       "order_id                      0\n",
       "user_id                       0\n",
       "created_dt_msk                0\n",
       "created_ts_msk                0\n",
       "event_id                      0\n",
       "cinema_circuit                0\n",
       "age_limit                     0\n",
       "currency_code                 0\n",
       "device_type_canonical         0\n",
       "revenue                       0\n",
       "service_name                  0\n",
       "tickets_count                 0\n",
       "total                         0\n",
       "days_since_prev           21939\n",
       "revenue_rub                5067\n",
       "one_ticket_revenue_rub     5067\n",
       "month                         0\n",
       "season                        0\n",
       "event_name                  238\n",
       "event_type_description      238\n",
       "event_type_main             238\n",
       "organizers                  238\n",
       "region_name                 238\n",
       "city_name                   238\n",
       "city_id                     238\n",
       "venue_id                    238\n",
       "venue_name                  238\n",
       "venue_address               238\n",
       "dtype: int64"
      ]
     },
     "metadata": {},
     "output_type": "display_data"
    }
   ],
   "source": [
    "# Обзор объединенного df\n",
    "print('Пропуски')\n",
    "display(df.isnull().sum())"
   ]
  },
  {
   "cell_type": "code",
   "execution_count": 32,
   "id": "c0221b39",
   "metadata": {},
   "outputs": [
    {
     "data": {
      "text/html": [
       "<div>\n",
       "<style scoped>\n",
       "    .dataframe tbody tr th:only-of-type {\n",
       "        vertical-align: middle;\n",
       "    }\n",
       "\n",
       "    .dataframe tbody tr th {\n",
       "        vertical-align: top;\n",
       "    }\n",
       "\n",
       "    .dataframe thead th {\n",
       "        text-align: right;\n",
       "    }\n",
       "</style>\n",
       "<table border=\"1\" class=\"dataframe\">\n",
       "  <thead>\n",
       "    <tr style=\"text-align: right;\">\n",
       "      <th></th>\n",
       "      <th>order_id</th>\n",
       "      <th>user_id</th>\n",
       "      <th>created_dt_msk</th>\n",
       "      <th>created_ts_msk</th>\n",
       "      <th>event_id</th>\n",
       "      <th>cinema_circuit</th>\n",
       "      <th>age_limit</th>\n",
       "      <th>currency_code</th>\n",
       "      <th>device_type_canonical</th>\n",
       "      <th>revenue</th>\n",
       "      <th>...</th>\n",
       "      <th>event_name</th>\n",
       "      <th>event_type_description</th>\n",
       "      <th>event_type_main</th>\n",
       "      <th>organizers</th>\n",
       "      <th>region_name</th>\n",
       "      <th>city_name</th>\n",
       "      <th>city_id</th>\n",
       "      <th>venue_id</th>\n",
       "      <th>venue_name</th>\n",
       "      <th>venue_address</th>\n",
       "    </tr>\n",
       "  </thead>\n",
       "  <tbody>\n",
       "    <tr>\n",
       "      <th>73</th>\n",
       "      <td>7850214</td>\n",
       "      <td>0033403583a55ed</td>\n",
       "      <td>2024-09-17</td>\n",
       "      <td>2024-09-17 16:52:06</td>\n",
       "      <td>559919</td>\n",
       "      <td>нет</td>\n",
       "      <td>6</td>\n",
       "      <td>kzt</td>\n",
       "      <td>mobile</td>\n",
       "      <td>518.10</td>\n",
       "      <td>...</td>\n",
       "      <td>f5ec2467-ee48-42f3-89a0-a2d90d1d6fce</td>\n",
       "      <td>событие</td>\n",
       "      <td>другое</td>\n",
       "      <td>№5088</td>\n",
       "      <td>Верхоречная область</td>\n",
       "      <td>Серебрянка</td>\n",
       "      <td>163.0</td>\n",
       "      <td>1533.0</td>\n",
       "      <td>Клуб настольного тенниса \"Фазенда\" Инк</td>\n",
       "      <td>пер. Семашко, д. 8/7 стр. 7</td>\n",
       "    </tr>\n",
       "    <tr>\n",
       "      <th>92</th>\n",
       "      <td>8634925</td>\n",
       "      <td>0040e12d70fae81</td>\n",
       "      <td>2024-09-02</td>\n",
       "      <td>2024-09-02 19:49:14</td>\n",
       "      <td>559476</td>\n",
       "      <td>нет</td>\n",
       "      <td>6</td>\n",
       "      <td>kzt</td>\n",
       "      <td>desktop</td>\n",
       "      <td>347.18</td>\n",
       "      <td>...</td>\n",
       "      <td>61ec7c0e-ea0c-4a3e-a63a-09cbe1bc6177</td>\n",
       "      <td>событие</td>\n",
       "      <td>другое</td>\n",
       "      <td>№5088</td>\n",
       "      <td>Верхоречная область</td>\n",
       "      <td>Серебрянка</td>\n",
       "      <td>163.0</td>\n",
       "      <td>1533.0</td>\n",
       "      <td>Клуб настольного тенниса \"Фазенда\" Инк</td>\n",
       "      <td>пер. Семашко, д. 8/7 стр. 7</td>\n",
       "    </tr>\n",
       "    <tr>\n",
       "      <th>99</th>\n",
       "      <td>7625522</td>\n",
       "      <td>0054b38b2653e6e</td>\n",
       "      <td>2024-09-09</td>\n",
       "      <td>2024-09-09 18:06:04</td>\n",
       "      <td>559582</td>\n",
       "      <td>нет</td>\n",
       "      <td>6</td>\n",
       "      <td>kzt</td>\n",
       "      <td>mobile</td>\n",
       "      <td>328.77</td>\n",
       "      <td>...</td>\n",
       "      <td>524f434e-0381-4f47-9688-7c4e41961b65</td>\n",
       "      <td>событие</td>\n",
       "      <td>другое</td>\n",
       "      <td>№5088</td>\n",
       "      <td>Верхоречная область</td>\n",
       "      <td>Серебрянка</td>\n",
       "      <td>163.0</td>\n",
       "      <td>1533.0</td>\n",
       "      <td>Клуб настольного тенниса \"Фазенда\" Инк</td>\n",
       "      <td>пер. Семашко, д. 8/7 стр. 7</td>\n",
       "    </tr>\n",
       "    <tr>\n",
       "      <th>289</th>\n",
       "      <td>720419</td>\n",
       "      <td>00f4f5244501ce6</td>\n",
       "      <td>2024-06-11</td>\n",
       "      <td>2024-06-11 20:15:57</td>\n",
       "      <td>536826</td>\n",
       "      <td>нет</td>\n",
       "      <td>12</td>\n",
       "      <td>kzt</td>\n",
       "      <td>mobile</td>\n",
       "      <td>22021.55</td>\n",
       "      <td>...</td>\n",
       "      <td>76af4f88-c554-4e9e-9df4-1cc8aeec8959</td>\n",
       "      <td>концерт</td>\n",
       "      <td>концерты</td>\n",
       "      <td>№4950</td>\n",
       "      <td>Верхоречная область</td>\n",
       "      <td>Серебрянка</td>\n",
       "      <td>163.0</td>\n",
       "      <td>2066.0</td>\n",
       "      <td>Архитектурное бюро \"Секрет\" Инк</td>\n",
       "      <td>пер. Проточный, д. 70 к. 881</td>\n",
       "    </tr>\n",
       "    <tr>\n",
       "      <th>472</th>\n",
       "      <td>5227657</td>\n",
       "      <td>01370a0e9c1a7d5</td>\n",
       "      <td>2024-06-04</td>\n",
       "      <td>2024-06-04 13:28:17</td>\n",
       "      <td>533803</td>\n",
       "      <td>нет</td>\n",
       "      <td>16</td>\n",
       "      <td>kzt</td>\n",
       "      <td>desktop</td>\n",
       "      <td>7397.66</td>\n",
       "      <td>...</td>\n",
       "      <td>0686ac7b-6f3e-4177-bb73-16b54acd1223</td>\n",
       "      <td>фестиваль</td>\n",
       "      <td>концерты</td>\n",
       "      <td>№4950</td>\n",
       "      <td>Шанырский регион</td>\n",
       "      <td>Широковка</td>\n",
       "      <td>162.0</td>\n",
       "      <td>3407.0</td>\n",
       "      <td>Арт-кафе \"Речка\" Лимитед</td>\n",
       "      <td>алл. Путейская, д. 548 стр. 7</td>\n",
       "    </tr>\n",
       "    <tr>\n",
       "      <th>473</th>\n",
       "      <td>2229782</td>\n",
       "      <td>01370a0e9c1a7d5</td>\n",
       "      <td>2024-06-04</td>\n",
       "      <td>2024-06-04 13:17:35</td>\n",
       "      <td>533803</td>\n",
       "      <td>нет</td>\n",
       "      <td>16</td>\n",
       "      <td>kzt</td>\n",
       "      <td>mobile</td>\n",
       "      <td>3698.83</td>\n",
       "      <td>...</td>\n",
       "      <td>0686ac7b-6f3e-4177-bb73-16b54acd1223</td>\n",
       "      <td>фестиваль</td>\n",
       "      <td>концерты</td>\n",
       "      <td>№4950</td>\n",
       "      <td>Шанырский регион</td>\n",
       "      <td>Широковка</td>\n",
       "      <td>162.0</td>\n",
       "      <td>3407.0</td>\n",
       "      <td>Арт-кафе \"Речка\" Лимитед</td>\n",
       "      <td>алл. Путейская, д. 548 стр. 7</td>\n",
       "    </tr>\n",
       "    <tr>\n",
       "      <th>474</th>\n",
       "      <td>2229811</td>\n",
       "      <td>01370a0e9c1a7d5</td>\n",
       "      <td>2024-06-04</td>\n",
       "      <td>2024-06-04 13:19:47</td>\n",
       "      <td>533803</td>\n",
       "      <td>нет</td>\n",
       "      <td>16</td>\n",
       "      <td>kzt</td>\n",
       "      <td>mobile</td>\n",
       "      <td>7397.66</td>\n",
       "      <td>...</td>\n",
       "      <td>0686ac7b-6f3e-4177-bb73-16b54acd1223</td>\n",
       "      <td>фестиваль</td>\n",
       "      <td>концерты</td>\n",
       "      <td>№4950</td>\n",
       "      <td>Шанырский регион</td>\n",
       "      <td>Широковка</td>\n",
       "      <td>162.0</td>\n",
       "      <td>3407.0</td>\n",
       "      <td>Арт-кафе \"Речка\" Лимитед</td>\n",
       "      <td>алл. Путейская, д. 548 стр. 7</td>\n",
       "    </tr>\n",
       "    <tr>\n",
       "      <th>475</th>\n",
       "      <td>2229753</td>\n",
       "      <td>01370a0e9c1a7d5</td>\n",
       "      <td>2024-06-04</td>\n",
       "      <td>2024-06-04 13:26:32</td>\n",
       "      <td>533803</td>\n",
       "      <td>нет</td>\n",
       "      <td>16</td>\n",
       "      <td>kzt</td>\n",
       "      <td>mobile</td>\n",
       "      <td>5548.24</td>\n",
       "      <td>...</td>\n",
       "      <td>0686ac7b-6f3e-4177-bb73-16b54acd1223</td>\n",
       "      <td>фестиваль</td>\n",
       "      <td>концерты</td>\n",
       "      <td>№4950</td>\n",
       "      <td>Шанырский регион</td>\n",
       "      <td>Широковка</td>\n",
       "      <td>162.0</td>\n",
       "      <td>3407.0</td>\n",
       "      <td>Арт-кафе \"Речка\" Лимитед</td>\n",
       "      <td>алл. Путейская, д. 548 стр. 7</td>\n",
       "    </tr>\n",
       "    <tr>\n",
       "      <th>476</th>\n",
       "      <td>2229724</td>\n",
       "      <td>01370a0e9c1a7d5</td>\n",
       "      <td>2024-06-04</td>\n",
       "      <td>2024-06-04 13:25:28</td>\n",
       "      <td>533803</td>\n",
       "      <td>нет</td>\n",
       "      <td>16</td>\n",
       "      <td>kzt</td>\n",
       "      <td>mobile</td>\n",
       "      <td>7397.66</td>\n",
       "      <td>...</td>\n",
       "      <td>0686ac7b-6f3e-4177-bb73-16b54acd1223</td>\n",
       "      <td>фестиваль</td>\n",
       "      <td>концерты</td>\n",
       "      <td>№4950</td>\n",
       "      <td>Шанырский регион</td>\n",
       "      <td>Широковка</td>\n",
       "      <td>162.0</td>\n",
       "      <td>3407.0</td>\n",
       "      <td>Арт-кафе \"Речка\" Лимитед</td>\n",
       "      <td>алл. Путейская, д. 548 стр. 7</td>\n",
       "    </tr>\n",
       "    <tr>\n",
       "      <th>528</th>\n",
       "      <td>2044327</td>\n",
       "      <td>01370a0e9c1a7d5</td>\n",
       "      <td>2024-09-05</td>\n",
       "      <td>2024-09-05 16:13:00</td>\n",
       "      <td>561747</td>\n",
       "      <td>нет</td>\n",
       "      <td>16</td>\n",
       "      <td>kzt</td>\n",
       "      <td>mobile</td>\n",
       "      <td>361.08</td>\n",
       "      <td>...</td>\n",
       "      <td>27956246-d4a5-4b76-b5db-719831c41591</td>\n",
       "      <td>событие</td>\n",
       "      <td>другое</td>\n",
       "      <td>№4950</td>\n",
       "      <td>Шанырский регион</td>\n",
       "      <td>Синеводск</td>\n",
       "      <td>29463.0</td>\n",
       "      <td>3407.0</td>\n",
       "      <td>Арт-кафе \"Речка\" Лимитед</td>\n",
       "      <td>алл. Путейская, д. 548 стр. 7</td>\n",
       "    </tr>\n",
       "    <tr>\n",
       "      <th>529</th>\n",
       "      <td>2044298</td>\n",
       "      <td>01370a0e9c1a7d5</td>\n",
       "      <td>2024-09-05</td>\n",
       "      <td>2024-09-05 16:15:58</td>\n",
       "      <td>561747</td>\n",
       "      <td>нет</td>\n",
       "      <td>16</td>\n",
       "      <td>kzt</td>\n",
       "      <td>mobile</td>\n",
       "      <td>361.08</td>\n",
       "      <td>...</td>\n",
       "      <td>27956246-d4a5-4b76-b5db-719831c41591</td>\n",
       "      <td>событие</td>\n",
       "      <td>другое</td>\n",
       "      <td>№4950</td>\n",
       "      <td>Шанырский регион</td>\n",
       "      <td>Синеводск</td>\n",
       "      <td>29463.0</td>\n",
       "      <td>3407.0</td>\n",
       "      <td>Арт-кафе \"Речка\" Лимитед</td>\n",
       "      <td>алл. Путейская, д. 548 стр. 7</td>\n",
       "    </tr>\n",
       "    <tr>\n",
       "      <th>720</th>\n",
       "      <td>6250980</td>\n",
       "      <td>0186f6e000b581c</td>\n",
       "      <td>2024-09-06</td>\n",
       "      <td>2024-09-06 14:17:56</td>\n",
       "      <td>559550</td>\n",
       "      <td>нет</td>\n",
       "      <td>6</td>\n",
       "      <td>kzt</td>\n",
       "      <td>mobile</td>\n",
       "      <td>466.45</td>\n",
       "      <td>...</td>\n",
       "      <td>b627fc32-1aeb-4a25-bfe4-3957c999379e</td>\n",
       "      <td>событие</td>\n",
       "      <td>другое</td>\n",
       "      <td>№5088</td>\n",
       "      <td>Верхоречная область</td>\n",
       "      <td>Серебрянка</td>\n",
       "      <td>163.0</td>\n",
       "      <td>1533.0</td>\n",
       "      <td>Клуб настольного тенниса \"Фазенда\" Инк</td>\n",
       "      <td>пер. Семашко, д. 8/7 стр. 7</td>\n",
       "    </tr>\n",
       "    <tr>\n",
       "      <th>822</th>\n",
       "      <td>4451269</td>\n",
       "      <td>019fa401ddb00aa</td>\n",
       "      <td>2024-06-11</td>\n",
       "      <td>2024-06-11 12:33:38</td>\n",
       "      <td>536826</td>\n",
       "      <td>нет</td>\n",
       "      <td>12</td>\n",
       "      <td>kzt</td>\n",
       "      <td>mobile</td>\n",
       "      <td>22021.55</td>\n",
       "      <td>...</td>\n",
       "      <td>76af4f88-c554-4e9e-9df4-1cc8aeec8959</td>\n",
       "      <td>концерт</td>\n",
       "      <td>концерты</td>\n",
       "      <td>№4950</td>\n",
       "      <td>Верхоречная область</td>\n",
       "      <td>Серебрянка</td>\n",
       "      <td>163.0</td>\n",
       "      <td>2066.0</td>\n",
       "      <td>Архитектурное бюро \"Секрет\" Инк</td>\n",
       "      <td>пер. Проточный, д. 70 к. 881</td>\n",
       "    </tr>\n",
       "    <tr>\n",
       "      <th>1072</th>\n",
       "      <td>2658895</td>\n",
       "      <td>019fa401ddb00aa</td>\n",
       "      <td>2024-08-27</td>\n",
       "      <td>2024-08-27 08:35:49</td>\n",
       "      <td>561747</td>\n",
       "      <td>нет</td>\n",
       "      <td>16</td>\n",
       "      <td>kzt</td>\n",
       "      <td>mobile</td>\n",
       "      <td>270.81</td>\n",
       "      <td>...</td>\n",
       "      <td>27956246-d4a5-4b76-b5db-719831c41591</td>\n",
       "      <td>событие</td>\n",
       "      <td>другое</td>\n",
       "      <td>№4950</td>\n",
       "      <td>Шанырский регион</td>\n",
       "      <td>Синеводск</td>\n",
       "      <td>29463.0</td>\n",
       "      <td>3407.0</td>\n",
       "      <td>Арт-кафе \"Речка\" Лимитед</td>\n",
       "      <td>алл. Путейская, д. 548 стр. 7</td>\n",
       "    </tr>\n",
       "    <tr>\n",
       "      <th>1498</th>\n",
       "      <td>1083267</td>\n",
       "      <td>01c003868675f91</td>\n",
       "      <td>2024-09-03</td>\n",
       "      <td>2024-09-03 13:32:35</td>\n",
       "      <td>559476</td>\n",
       "      <td>нет</td>\n",
       "      <td>6</td>\n",
       "      <td>kzt</td>\n",
       "      <td>mobile</td>\n",
       "      <td>347.18</td>\n",
       "      <td>...</td>\n",
       "      <td>61ec7c0e-ea0c-4a3e-a63a-09cbe1bc6177</td>\n",
       "      <td>событие</td>\n",
       "      <td>другое</td>\n",
       "      <td>№5088</td>\n",
       "      <td>Верхоречная область</td>\n",
       "      <td>Серебрянка</td>\n",
       "      <td>163.0</td>\n",
       "      <td>1533.0</td>\n",
       "      <td>Клуб настольного тенниса \"Фазенда\" Инк</td>\n",
       "      <td>пер. Семашко, д. 8/7 стр. 7</td>\n",
       "    </tr>\n",
       "    <tr>\n",
       "      <th>1499</th>\n",
       "      <td>1083238</td>\n",
       "      <td>01c003868675f91</td>\n",
       "      <td>2024-09-05</td>\n",
       "      <td>2024-09-05 13:00:43</td>\n",
       "      <td>559550</td>\n",
       "      <td>нет</td>\n",
       "      <td>6</td>\n",
       "      <td>kzt</td>\n",
       "      <td>mobile</td>\n",
       "      <td>466.45</td>\n",
       "      <td>...</td>\n",
       "      <td>b627fc32-1aeb-4a25-bfe4-3957c999379e</td>\n",
       "      <td>событие</td>\n",
       "      <td>другое</td>\n",
       "      <td>№5088</td>\n",
       "      <td>Верхоречная область</td>\n",
       "      <td>Серебрянка</td>\n",
       "      <td>163.0</td>\n",
       "      <td>1533.0</td>\n",
       "      <td>Клуб настольного тенниса \"Фазенда\" Инк</td>\n",
       "      <td>пер. Семашко, д. 8/7 стр. 7</td>\n",
       "    </tr>\n",
       "    <tr>\n",
       "      <th>1500</th>\n",
       "      <td>4835026</td>\n",
       "      <td>01c003868675f91</td>\n",
       "      <td>2024-09-24</td>\n",
       "      <td>2024-09-24 17:58:05</td>\n",
       "      <td>559937</td>\n",
       "      <td>нет</td>\n",
       "      <td>6</td>\n",
       "      <td>kzt</td>\n",
       "      <td>mobile</td>\n",
       "      <td>414.43</td>\n",
       "      <td>...</td>\n",
       "      <td>83de0409-c9db-4f3f-816e-20af0e779a54</td>\n",
       "      <td>событие</td>\n",
       "      <td>другое</td>\n",
       "      <td>№5088</td>\n",
       "      <td>Верхоречная область</td>\n",
       "      <td>Серебрянка</td>\n",
       "      <td>163.0</td>\n",
       "      <td>1533.0</td>\n",
       "      <td>Клуб настольного тенниса \"Фазенда\" Инк</td>\n",
       "      <td>пер. Семашко, д. 8/7 стр. 7</td>\n",
       "    </tr>\n",
       "    <tr>\n",
       "      <th>1501</th>\n",
       "      <td>4049503</td>\n",
       "      <td>01c003868675f91</td>\n",
       "      <td>2024-10-16</td>\n",
       "      <td>2024-10-16 17:05:05</td>\n",
       "      <td>579640</td>\n",
       "      <td>нет</td>\n",
       "      <td>6</td>\n",
       "      <td>kzt</td>\n",
       "      <td>mobile</td>\n",
       "      <td>194.41</td>\n",
       "      <td>...</td>\n",
       "      <td>135646e0-3873-44b0-b1af-4502fdb72fdd</td>\n",
       "      <td>событие</td>\n",
       "      <td>другое</td>\n",
       "      <td>№5088</td>\n",
       "      <td>Верхоречная область</td>\n",
       "      <td>Серебрянка</td>\n",
       "      <td>163.0</td>\n",
       "      <td>1533.0</td>\n",
       "      <td>Клуб настольного тенниса \"Фазенда\" Инк</td>\n",
       "      <td>пер. Семашко, д. 8/7 стр. 7</td>\n",
       "    </tr>\n",
       "    <tr>\n",
       "      <th>1503</th>\n",
       "      <td>1083151</td>\n",
       "      <td>01c003868675f91</td>\n",
       "      <td>2024-10-29</td>\n",
       "      <td>2024-10-29 12:21:40</td>\n",
       "      <td>579640</td>\n",
       "      <td>нет</td>\n",
       "      <td>6</td>\n",
       "      <td>kzt</td>\n",
       "      <td>mobile</td>\n",
       "      <td>97.21</td>\n",
       "      <td>...</td>\n",
       "      <td>135646e0-3873-44b0-b1af-4502fdb72fdd</td>\n",
       "      <td>событие</td>\n",
       "      <td>другое</td>\n",
       "      <td>№5088</td>\n",
       "      <td>Верхоречная область</td>\n",
       "      <td>Серебрянка</td>\n",
       "      <td>163.0</td>\n",
       "      <td>1533.0</td>\n",
       "      <td>Клуб настольного тенниса \"Фазенда\" Инк</td>\n",
       "      <td>пер. Семашко, д. 8/7 стр. 7</td>\n",
       "    </tr>\n",
       "    <tr>\n",
       "      <th>1504</th>\n",
       "      <td>1083209</td>\n",
       "      <td>01c003868675f91</td>\n",
       "      <td>2024-10-29</td>\n",
       "      <td>2024-10-29 12:20:39</td>\n",
       "      <td>579640</td>\n",
       "      <td>нет</td>\n",
       "      <td>6</td>\n",
       "      <td>kzt</td>\n",
       "      <td>mobile</td>\n",
       "      <td>194.41</td>\n",
       "      <td>...</td>\n",
       "      <td>135646e0-3873-44b0-b1af-4502fdb72fdd</td>\n",
       "      <td>событие</td>\n",
       "      <td>другое</td>\n",
       "      <td>№5088</td>\n",
       "      <td>Верхоречная область</td>\n",
       "      <td>Серебрянка</td>\n",
       "      <td>163.0</td>\n",
       "      <td>1533.0</td>\n",
       "      <td>Клуб настольного тенниса \"Фазенда\" Инк</td>\n",
       "      <td>пер. Семашко, д. 8/7 стр. 7</td>\n",
       "    </tr>\n",
       "  </tbody>\n",
       "</table>\n",
       "<p>20 rows × 28 columns</p>\n",
       "</div>"
      ],
      "text/plain": [
       "      order_id          user_id created_dt_msk      created_ts_msk  event_id  \\\n",
       "73     7850214  0033403583a55ed     2024-09-17 2024-09-17 16:52:06    559919   \n",
       "92     8634925  0040e12d70fae81     2024-09-02 2024-09-02 19:49:14    559476   \n",
       "99     7625522  0054b38b2653e6e     2024-09-09 2024-09-09 18:06:04    559582   \n",
       "289     720419  00f4f5244501ce6     2024-06-11 2024-06-11 20:15:57    536826   \n",
       "472    5227657  01370a0e9c1a7d5     2024-06-04 2024-06-04 13:28:17    533803   \n",
       "473    2229782  01370a0e9c1a7d5     2024-06-04 2024-06-04 13:17:35    533803   \n",
       "474    2229811  01370a0e9c1a7d5     2024-06-04 2024-06-04 13:19:47    533803   \n",
       "475    2229753  01370a0e9c1a7d5     2024-06-04 2024-06-04 13:26:32    533803   \n",
       "476    2229724  01370a0e9c1a7d5     2024-06-04 2024-06-04 13:25:28    533803   \n",
       "528    2044327  01370a0e9c1a7d5     2024-09-05 2024-09-05 16:13:00    561747   \n",
       "529    2044298  01370a0e9c1a7d5     2024-09-05 2024-09-05 16:15:58    561747   \n",
       "720    6250980  0186f6e000b581c     2024-09-06 2024-09-06 14:17:56    559550   \n",
       "822    4451269  019fa401ddb00aa     2024-06-11 2024-06-11 12:33:38    536826   \n",
       "1072   2658895  019fa401ddb00aa     2024-08-27 2024-08-27 08:35:49    561747   \n",
       "1498   1083267  01c003868675f91     2024-09-03 2024-09-03 13:32:35    559476   \n",
       "1499   1083238  01c003868675f91     2024-09-05 2024-09-05 13:00:43    559550   \n",
       "1500   4835026  01c003868675f91     2024-09-24 2024-09-24 17:58:05    559937   \n",
       "1501   4049503  01c003868675f91     2024-10-16 2024-10-16 17:05:05    579640   \n",
       "1503   1083151  01c003868675f91     2024-10-29 2024-10-29 12:21:40    579640   \n",
       "1504   1083209  01c003868675f91     2024-10-29 2024-10-29 12:20:39    579640   \n",
       "\n",
       "     cinema_circuit  age_limit currency_code device_type_canonical   revenue  \\\n",
       "73              нет          6           kzt                mobile    518.10   \n",
       "92              нет          6           kzt               desktop    347.18   \n",
       "99              нет          6           kzt                mobile    328.77   \n",
       "289             нет         12           kzt                mobile  22021.55   \n",
       "472             нет         16           kzt               desktop   7397.66   \n",
       "473             нет         16           kzt                mobile   3698.83   \n",
       "474             нет         16           kzt                mobile   7397.66   \n",
       "475             нет         16           kzt                mobile   5548.24   \n",
       "476             нет         16           kzt                mobile   7397.66   \n",
       "528             нет         16           kzt                mobile    361.08   \n",
       "529             нет         16           kzt                mobile    361.08   \n",
       "720             нет          6           kzt                mobile    466.45   \n",
       "822             нет         12           kzt                mobile  22021.55   \n",
       "1072            нет         16           kzt                mobile    270.81   \n",
       "1498            нет          6           kzt                mobile    347.18   \n",
       "1499            нет          6           kzt                mobile    466.45   \n",
       "1500            нет          6           kzt                mobile    414.43   \n",
       "1501            нет          6           kzt                mobile    194.41   \n",
       "1503            нет          6           kzt                mobile     97.21   \n",
       "1504            нет          6           kzt                mobile    194.41   \n",
       "\n",
       "      ...                            event_name  event_type_description  \\\n",
       "73    ...  f5ec2467-ee48-42f3-89a0-a2d90d1d6fce                 событие   \n",
       "92    ...  61ec7c0e-ea0c-4a3e-a63a-09cbe1bc6177                 событие   \n",
       "99    ...  524f434e-0381-4f47-9688-7c4e41961b65                 событие   \n",
       "289   ...  76af4f88-c554-4e9e-9df4-1cc8aeec8959                 концерт   \n",
       "472   ...  0686ac7b-6f3e-4177-bb73-16b54acd1223               фестиваль   \n",
       "473   ...  0686ac7b-6f3e-4177-bb73-16b54acd1223               фестиваль   \n",
       "474   ...  0686ac7b-6f3e-4177-bb73-16b54acd1223               фестиваль   \n",
       "475   ...  0686ac7b-6f3e-4177-bb73-16b54acd1223               фестиваль   \n",
       "476   ...  0686ac7b-6f3e-4177-bb73-16b54acd1223               фестиваль   \n",
       "528   ...  27956246-d4a5-4b76-b5db-719831c41591                 событие   \n",
       "529   ...  27956246-d4a5-4b76-b5db-719831c41591                 событие   \n",
       "720   ...  b627fc32-1aeb-4a25-bfe4-3957c999379e                 событие   \n",
       "822   ...  76af4f88-c554-4e9e-9df4-1cc8aeec8959                 концерт   \n",
       "1072  ...  27956246-d4a5-4b76-b5db-719831c41591                 событие   \n",
       "1498  ...  61ec7c0e-ea0c-4a3e-a63a-09cbe1bc6177                 событие   \n",
       "1499  ...  b627fc32-1aeb-4a25-bfe4-3957c999379e                 событие   \n",
       "1500  ...  83de0409-c9db-4f3f-816e-20af0e779a54                 событие   \n",
       "1501  ...  135646e0-3873-44b0-b1af-4502fdb72fdd                 событие   \n",
       "1503  ...  135646e0-3873-44b0-b1af-4502fdb72fdd                 событие   \n",
       "1504  ...  135646e0-3873-44b0-b1af-4502fdb72fdd                 событие   \n",
       "\n",
       "      event_type_main  organizers          region_name   city_name  city_id  \\\n",
       "73             другое       №5088  Верхоречная область  Серебрянка    163.0   \n",
       "92             другое       №5088  Верхоречная область  Серебрянка    163.0   \n",
       "99             другое       №5088  Верхоречная область  Серебрянка    163.0   \n",
       "289          концерты       №4950  Верхоречная область  Серебрянка    163.0   \n",
       "472          концерты       №4950     Шанырский регион   Широковка    162.0   \n",
       "473          концерты       №4950     Шанырский регион   Широковка    162.0   \n",
       "474          концерты       №4950     Шанырский регион   Широковка    162.0   \n",
       "475          концерты       №4950     Шанырский регион   Широковка    162.0   \n",
       "476          концерты       №4950     Шанырский регион   Широковка    162.0   \n",
       "528            другое       №4950     Шанырский регион   Синеводск  29463.0   \n",
       "529            другое       №4950     Шанырский регион   Синеводск  29463.0   \n",
       "720            другое       №5088  Верхоречная область  Серебрянка    163.0   \n",
       "822          концерты       №4950  Верхоречная область  Серебрянка    163.0   \n",
       "1072           другое       №4950     Шанырский регион   Синеводск  29463.0   \n",
       "1498           другое       №5088  Верхоречная область  Серебрянка    163.0   \n",
       "1499           другое       №5088  Верхоречная область  Серебрянка    163.0   \n",
       "1500           другое       №5088  Верхоречная область  Серебрянка    163.0   \n",
       "1501           другое       №5088  Верхоречная область  Серебрянка    163.0   \n",
       "1503           другое       №5088  Верхоречная область  Серебрянка    163.0   \n",
       "1504           другое       №5088  Верхоречная область  Серебрянка    163.0   \n",
       "\n",
       "     venue_id                              venue_name  \\\n",
       "73     1533.0  Клуб настольного тенниса \"Фазенда\" Инк   \n",
       "92     1533.0  Клуб настольного тенниса \"Фазенда\" Инк   \n",
       "99     1533.0  Клуб настольного тенниса \"Фазенда\" Инк   \n",
       "289    2066.0         Архитектурное бюро \"Секрет\" Инк   \n",
       "472    3407.0                Арт-кафе \"Речка\" Лимитед   \n",
       "473    3407.0                Арт-кафе \"Речка\" Лимитед   \n",
       "474    3407.0                Арт-кафе \"Речка\" Лимитед   \n",
       "475    3407.0                Арт-кафе \"Речка\" Лимитед   \n",
       "476    3407.0                Арт-кафе \"Речка\" Лимитед   \n",
       "528    3407.0                Арт-кафе \"Речка\" Лимитед   \n",
       "529    3407.0                Арт-кафе \"Речка\" Лимитед   \n",
       "720    1533.0  Клуб настольного тенниса \"Фазенда\" Инк   \n",
       "822    2066.0         Архитектурное бюро \"Секрет\" Инк   \n",
       "1072   3407.0                Арт-кафе \"Речка\" Лимитед   \n",
       "1498   1533.0  Клуб настольного тенниса \"Фазенда\" Инк   \n",
       "1499   1533.0  Клуб настольного тенниса \"Фазенда\" Инк   \n",
       "1500   1533.0  Клуб настольного тенниса \"Фазенда\" Инк   \n",
       "1501   1533.0  Клуб настольного тенниса \"Фазенда\" Инк   \n",
       "1503   1533.0  Клуб настольного тенниса \"Фазенда\" Инк   \n",
       "1504   1533.0  Клуб настольного тенниса \"Фазенда\" Инк   \n",
       "\n",
       "                      venue_address  \n",
       "73      пер. Семашко, д. 8/7 стр. 7  \n",
       "92      пер. Семашко, д. 8/7 стр. 7  \n",
       "99      пер. Семашко, д. 8/7 стр. 7  \n",
       "289    пер. Проточный, д. 70 к. 881  \n",
       "472   алл. Путейская, д. 548 стр. 7  \n",
       "473   алл. Путейская, д. 548 стр. 7  \n",
       "474   алл. Путейская, д. 548 стр. 7  \n",
       "475   алл. Путейская, д. 548 стр. 7  \n",
       "476   алл. Путейская, д. 548 стр. 7  \n",
       "528   алл. Путейская, д. 548 стр. 7  \n",
       "529   алл. Путейская, д. 548 стр. 7  \n",
       "720     пер. Семашко, д. 8/7 стр. 7  \n",
       "822    пер. Проточный, д. 70 к. 881  \n",
       "1072  алл. Путейская, д. 548 стр. 7  \n",
       "1498    пер. Семашко, д. 8/7 стр. 7  \n",
       "1499    пер. Семашко, д. 8/7 стр. 7  \n",
       "1500    пер. Семашко, д. 8/7 стр. 7  \n",
       "1501    пер. Семашко, д. 8/7 стр. 7  \n",
       "1503    пер. Семашко, д. 8/7 стр. 7  \n",
       "1504    пер. Семашко, д. 8/7 стр. 7  \n",
       "\n",
       "[20 rows x 28 columns]"
      ]
     },
     "metadata": {},
     "output_type": "display_data"
    }
   ],
   "source": [
    "# строки с пропусками в revenue_rub\n",
    "display(df[df['revenue_rub'].isnull()].head(20))"
   ]
  },
  {
   "cell_type": "markdown",
   "id": "79e31801",
   "metadata": {},
   "source": [
    "<div style=\"background-color: white; border: 2px solid black; border-radius: 20px; padding: 15px 25px; display: inline-block; color: black;\">\n",
    "    Есть закономерность в пропусках, все они у 2-х мероприятий Верхоречная область\tСеребрянка Клуб настольного тенниса \"Фазенда\" Инк\tпер. Семашко, д. 8/7 стр. 7\t и Шанырский регион\tСиневодск\t29463.0\t3407.0\tАрт-кафе \"Речка\" Лимитед\tалл. Путейская, д. 548 стр. 7\t\n",
    "    \n",
    "    По какой-то причине для дат этих событий не был указан курс."
   ]
  },
  {
   "cell_type": "code",
   "execution_count": 33,
   "id": "53e2e9f1",
   "metadata": {
    "scrolled": true
   },
   "outputs": [
    {
     "name": "stdout",
     "output_type": "stream",
     "text": [
      "     order_id          user_id created_dt_msk      created_ts_msk  event_id  \\\n",
      "62    6493246  002ec276eee9b0b     2024-10-14 2024-10-14 16:27:53    533222   \n",
      "63    6493275  002ec276eee9b0b     2024-10-14 2024-10-14 16:22:38    533222   \n",
      "64    6493304  002ec276eee9b0b     2024-10-14 2024-10-14 16:29:20    533222   \n",
      "237   8272280  00da083909dc06b     2024-06-07 2024-06-07 17:50:50    530296   \n",
      "238   8272512  00da083909dc06b     2024-06-07 2024-06-07 17:49:16    530296   \n",
      "\n",
      "    cinema_circuit  age_limit currency_code device_type_canonical  revenue  \\\n",
      "62             нет          6           rub                mobile    78.75   \n",
      "63             нет          6           rub                mobile    78.75   \n",
      "64             нет          6           rub                mobile   118.12   \n",
      "237            нет         18           rub                mobile     0.00   \n",
      "238            нет         18           rub                mobile     0.00   \n",
      "\n",
      "     ... event_name  event_type_description  event_type_main  organizers  \\\n",
      "62   ...        NaN                     NaN              NaN         NaN   \n",
      "63   ...        NaN                     NaN              NaN         NaN   \n",
      "64   ...        NaN                     NaN              NaN         NaN   \n",
      "237  ...        NaN                     NaN              NaN         NaN   \n",
      "238  ...        NaN                     NaN              NaN         NaN   \n",
      "\n",
      "     region_name  city_name  city_id venue_id venue_name venue_address  \n",
      "62           NaN        NaN      NaN      NaN        NaN           NaN  \n",
      "63           NaN        NaN      NaN      NaN        NaN           NaN  \n",
      "64           NaN        NaN      NaN      NaN        NaN           NaN  \n",
      "237          NaN        NaN      NaN      NaN        NaN           NaN  \n",
      "238          NaN        NaN      NaN      NaN        NaN           NaN  \n",
      "\n",
      "[5 rows x 28 columns]\n"
     ]
    }
   ],
   "source": [
    "# строки с пропусками в event_name\n",
    "print(df[df['event_name'].isnull()].head())"
   ]
  },
  {
   "cell_type": "markdown",
   "id": "4cf1c43f",
   "metadata": {},
   "source": [
    "<div style=\"background-color: white; border: 2px solid black; border-radius: 20px; padding: 15px 25px; display: inline-block; color: black;\">\n",
    "Пропуски в ко-ве 238 строк по стб event_name    \n",
    "- event_type_description   \n",
    "- event_type_main              \n",
    "- organizers                 \n",
    "- region_name                \n",
    "- city_name                  \n",
    "- city_id                    \n",
    "- venue_id                   \n",
    "- venue_name                 \n",
    "- venue_address   \n",
    "Необходимо удалить те строки, где не известны данные о мероприятии, организации, регионе, городе, площадке и адресе площадки"
   ]
  },
  {
   "cell_type": "code",
   "execution_count": 34,
   "id": "00a4ad1c",
   "metadata": {},
   "outputs": [],
   "source": [
    "def delete_rows_with_na(df):\n",
    "    \"\"\"\n",
    "    Удаляет строки из DataFrame, содержащие пропуски в указанных столбцах.\n",
    "\n",
    "    Args:\n",
    "        df: Pandas DataFrame.\n",
    "\n",
    "    Returns:\n",
    "        Pandas DataFrame с удаленными строками.\n",
    "    \"\"\"\n",
    "\n",
    "    columns_with_na = [\n",
    "        'event_type_description',\n",
    "        'event_type_main',\n",
    "        'organizers',\n",
    "        'region_name',\n",
    "        'city_name',\n",
    "        'city_id',\n",
    "        'venue_id',\n",
    "        'venue_name',\n",
    "        'venue_address'\n",
    "    ]\n",
    "\n",
    "    # Удаляем строки, где есть NaN хотя бы в одном из указанных столбцов.\n",
    "    df_cleaned = df.dropna(subset=columns_with_na)\n",
    "\n",
    "    return df_cleaned\n",
    "\n",
    "\n",
    "df_cleaned = delete_rows_with_na(df)"
   ]
  },
  {
   "cell_type": "code",
   "execution_count": 35,
   "id": "9be2621b",
   "metadata": {},
   "outputs": [
    {
     "name": "stdout",
     "output_type": "stream",
     "text": [
      "Пропуски\n"
     ]
    },
    {
     "data": {
      "text/plain": [
       "order_id                      0\n",
       "user_id                       0\n",
       "created_dt_msk                0\n",
       "created_ts_msk                0\n",
       "event_id                      0\n",
       "cinema_circuit                0\n",
       "age_limit                     0\n",
       "currency_code                 0\n",
       "device_type_canonical         0\n",
       "revenue                       0\n",
       "service_name                  0\n",
       "tickets_count                 0\n",
       "total                         0\n",
       "days_since_prev           21912\n",
       "revenue_rub                5067\n",
       "one_ticket_revenue_rub     5067\n",
       "month                         0\n",
       "season                        0\n",
       "event_name                    0\n",
       "event_type_description        0\n",
       "event_type_main               0\n",
       "organizers                    0\n",
       "region_name                   0\n",
       "city_name                     0\n",
       "city_id                       0\n",
       "venue_id                      0\n",
       "venue_name                    0\n",
       "venue_address                 0\n",
       "dtype: int64"
      ]
     },
     "metadata": {},
     "output_type": "display_data"
    }
   ],
   "source": [
    "print('Пропуски')\n",
    "display(df_cleaned.isnull().sum())"
   ]
  },
  {
   "cell_type": "code",
   "execution_count": 36,
   "id": "be430cae",
   "metadata": {},
   "outputs": [
    {
     "name": "stdout",
     "output_type": "stream",
     "text": [
      "Уникальные значения\n"
     ]
    },
    {
     "data": {
      "text/plain": [
       "order_id                  290768\n",
       "user_id                    21940\n",
       "created_dt_msk               153\n",
       "created_ts_msk            280962\n",
       "event_id                   22446\n",
       "cinema_circuit                 6\n",
       "age_limit                      5\n",
       "currency_code                  2\n",
       "device_type_canonical          2\n",
       "revenue                    42528\n",
       "service_name                  36\n",
       "tickets_count                 22\n",
       "total                      55473\n",
       "days_since_prev              149\n",
       "revenue_rub                42308\n",
       "one_ticket_revenue_rub     39133\n",
       "month                          5\n",
       "season                         2\n",
       "event_name                 15248\n",
       "event_type_description        20\n",
       "event_type_main                7\n",
       "organizers                  4293\n",
       "region_name                   81\n",
       "city_name                    352\n",
       "city_id                      353\n",
       "venue_id                    3225\n",
       "venue_name                  3217\n",
       "venue_address               3225\n",
       "dtype: int64"
      ]
     },
     "metadata": {},
     "output_type": "display_data"
    }
   ],
   "source": [
    "print('Уникальные значения')\n",
    "display(df.nunique())"
   ]
  },
  {
   "cell_type": "code",
   "execution_count": 37,
   "id": "b43f0cc2",
   "metadata": {},
   "outputs": [
    {
     "data": {
      "text/plain": [
       "array(['mobile', 'desktop'], dtype=object)"
      ]
     },
     "metadata": {},
     "output_type": "display_data"
    }
   ],
   "source": [
    "# Проверяем уникальные значения в отдельных стб\n",
    "display(df['device_type_canonical'].unique())"
   ]
  },
  {
   "cell_type": "code",
   "execution_count": 38,
   "id": "ec427483",
   "metadata": {},
   "outputs": [
    {
     "data": {
      "text/plain": [
       "array(['театр', 'выставки', 'другое', 'стендап', 'концерты', 'спорт', nan,\n",
       "       'ёлки'], dtype=object)"
      ]
     },
     "metadata": {},
     "output_type": "display_data"
    }
   ],
   "source": [
    "display(df['event_type_main'].unique())"
   ]
  },
  {
   "cell_type": "code",
   "execution_count": 39,
   "id": "968bd5a4",
   "metadata": {
    "scrolled": true
   },
   "outputs": [
    {
     "data": {
      "text/plain": [
       "array([16,  0, 18, 12,  6])"
      ]
     },
     "metadata": {},
     "output_type": "display_data"
    }
   ],
   "source": [
    "display(df['age_limit'].unique())"
   ]
  },
  {
   "cell_type": "code",
   "execution_count": 40,
   "id": "a1f076ab",
   "metadata": {},
   "outputs": [
    {
     "data": {
      "text/plain": [
       "array(['нет', 'Другое', 'Киномакс', 'КиноСити', 'Москино', 'ЦентрФильм'],\n",
       "      dtype=object)"
      ]
     },
     "metadata": {},
     "output_type": "display_data"
    }
   ],
   "source": [
    "display(df['cinema_circuit'].unique())"
   ]
  },
  {
   "cell_type": "code",
   "execution_count": 41,
   "id": "0f51d437",
   "metadata": {},
   "outputs": [
    {
     "data": {
      "text/plain": [
       "array(['rub', 'kzt'], dtype=object)"
      ]
     },
     "metadata": {},
     "output_type": "display_data"
    }
   ],
   "source": [
    "display(df['currency_code'].unique())"
   ]
  },
  {
   "cell_type": "code",
   "execution_count": 42,
   "id": "c84c2d70",
   "metadata": {},
   "outputs": [
    {
     "data": {
      "text/plain": [
       "array(['Край билетов', 'Мой билет', 'За билетом!', 'Лови билет!',\n",
       "       'Билеты без проблем', 'Облачко', 'Лучшие билеты', 'Прачечная',\n",
       "       'Быстробилет', 'Дом культуры', 'Весь в билетах', 'Билеты в руки',\n",
       "       'Тебе билет!', 'Show_ticket', 'Городской дом культуры', 'Яблоко',\n",
       "       'Билет по телефону', 'Выступления.ру', 'Росбилет',\n",
       "       'Шоу начинается!', 'Мир касс', 'Восьмёрка', 'Телебилет',\n",
       "       'Crazy ticket!', 'Реестр', 'Быстрый кассир', 'КарандашРУ',\n",
       "       'Радио ticket', 'Дырокол', 'Вперёд!', 'Кино билет', 'Цвет и билет',\n",
       "       'Зе Бест!', 'Тех билет', 'Лимоны', 'Билеты в интернете'],\n",
       "      dtype=object)"
      ]
     },
     "metadata": {},
     "output_type": "display_data"
    }
   ],
   "source": [
    "display(df['service_name'].unique())"
   ]
  },
  {
   "cell_type": "code",
   "execution_count": 43,
   "id": "78d983c2",
   "metadata": {},
   "outputs": [
    {
     "data": {
      "text/plain": [
       "array(['спектакль', 'событие', 'цирковое шоу', 'выставка', 'шоу',\n",
       "       'концерт', 'спорт', 'мюзикл', 'фестиваль', nan, 'ёлка', 'балет',\n",
       "       'спортивное мероприятие', 'опера', 'музыкальный спектакль',\n",
       "       'кукольный спектакль', 'оперетта', 'снегурочка', 'рок-мюзикл',\n",
       "       'экскурсия', 'подарок'], dtype=object)"
      ]
     },
     "metadata": {},
     "output_type": "display_data"
    }
   ],
   "source": [
    "display(df['event_type_description'].unique())"
   ]
  },
  {
   "cell_type": "code",
   "execution_count": 44,
   "id": "09892e1c",
   "metadata": {},
   "outputs": [
    {
     "data": {
      "text/plain": [
       "array(['театр', 'выставки', 'другое', 'стендап', 'концерты', 'спорт', nan,\n",
       "       'ёлки'], dtype=object)"
      ]
     },
     "metadata": {},
     "output_type": "display_data"
    }
   ],
   "source": [
    "display(df['event_type_main'].unique())"
   ]
  },
  {
   "cell_type": "markdown",
   "id": "ceeba37e",
   "metadata": {},
   "source": [
    "<div style=\"background-color: white; border: 2px solid black; border-radius: 20px; padding: 15px 25px; display: inline-block; color: black;\">\n",
    "    \n",
    " - Дубликатов больше нет\n",
    "    \n",
    " - Принято решение удалитьстроки, где не известны данные о мероприятии, организации, регионе, городе, площадке и адресе площадки\n",
    "    \n",
    " - Столбцы с датой переведены в формат даты.\n",
    "    \n",
    " - Созданы новые столбцы согласно ТЗ\n",
    "\n",
    " - Объединили orders и events по event_id"
   ]
  },
  {
   "cell_type": "markdown",
   "id": "6cc10dd2",
   "metadata": {},
   "source": [
    "# Исследовательский анализ данных"
   ]
  },
  {
   "cell_type": "markdown",
   "id": "85b6eae5",
   "metadata": {},
   "source": [
    "## 3. Исследовательский анализ данных (EDA)\n",
    "3.1. Анализ распределения заказов по сегментам и их сезонные изменения\n",
    "    Анализ дашборда показал, что в данных наблюдается сезонность — осенью количество заказов увеличивается. На стадии исследовательского анализа необходимо проследить изменение пользовательской активности или пользовательского интереса в связи с сезонностью:\n",
    "- Распределение числа заказов по месяцам (для каждого месяца найти ко-во заказов, построить график)\n",
    "- Распределение долей заказов (летом и осенью) по:\n",
    "     типам мероприятия event_type_main;\n",
    "     типам устройства device_type_canonical;\n",
    "     категория мероприятий по возрастному рейтингу age_limit.\n",
    "- Для каждого типа мероприятия рассчитайть среднее значение выручки с одного билета, затем найти относительное изменение осенних значений по сравнению с летними. Результат сопроводите подходящей визуализацией.\n",
    "\n",
    "- Вывод о том, как меняется распределение заказов в каждой категории с наступлением осени. Было ли изменение средней стоимости одного билета в разрезе разных типов мероприятий?"
   ]
  },
  {
   "cell_type": "code",
   "execution_count": 45,
   "id": "80135564",
   "metadata": {},
   "outputs": [
    {
     "name": "stdout",
     "output_type": "stream",
     "text": [
      "Статистика по выручке, числу билетов и средней стоимости билета:\n"
     ]
    },
    {
     "data": {
      "text/html": [
       "<div>\n",
       "<style scoped>\n",
       "    .dataframe tbody tr th:only-of-type {\n",
       "        vertical-align: middle;\n",
       "    }\n",
       "\n",
       "    .dataframe tbody tr th {\n",
       "        vertical-align: top;\n",
       "    }\n",
       "\n",
       "    .dataframe thead th {\n",
       "        text-align: right;\n",
       "    }\n",
       "</style>\n",
       "<table border=\"1\" class=\"dataframe\">\n",
       "  <thead>\n",
       "    <tr style=\"text-align: right;\">\n",
       "      <th></th>\n",
       "      <th>revenue</th>\n",
       "      <th>tickets_count</th>\n",
       "      <th>one_ticket_revenue_rub</th>\n",
       "    </tr>\n",
       "  </thead>\n",
       "  <tbody>\n",
       "    <tr>\n",
       "      <th>count</th>\n",
       "      <td>290768.000000</td>\n",
       "      <td>290768.000000</td>\n",
       "      <td>285701.000000</td>\n",
       "    </tr>\n",
       "    <tr>\n",
       "      <th>mean</th>\n",
       "      <td>625.127163</td>\n",
       "      <td>2.754251</td>\n",
       "      <td>198.158426</td>\n",
       "    </tr>\n",
       "    <tr>\n",
       "      <th>std</th>\n",
       "      <td>1227.438020</td>\n",
       "      <td>1.170430</td>\n",
       "      <td>302.074578</td>\n",
       "    </tr>\n",
       "    <tr>\n",
       "      <th>min</th>\n",
       "      <td>-90.760000</td>\n",
       "      <td>1.000000</td>\n",
       "      <td>-18.152000</td>\n",
       "    </tr>\n",
       "    <tr>\n",
       "      <th>25%</th>\n",
       "      <td>116.790000</td>\n",
       "      <td>2.000000</td>\n",
       "      <td>46.820000</td>\n",
       "    </tr>\n",
       "    <tr>\n",
       "      <th>50%</th>\n",
       "      <td>355.340000</td>\n",
       "      <td>3.000000</td>\n",
       "      <td>147.625000</td>\n",
       "    </tr>\n",
       "    <tr>\n",
       "      <th>75%</th>\n",
       "      <td>809.712500</td>\n",
       "      <td>4.000000</td>\n",
       "      <td>306.336667</td>\n",
       "    </tr>\n",
       "    <tr>\n",
       "      <th>max</th>\n",
       "      <td>81174.540000</td>\n",
       "      <td>57.000000</td>\n",
       "      <td>21757.540000</td>\n",
       "    </tr>\n",
       "  </tbody>\n",
       "</table>\n",
       "</div>"
      ],
      "text/plain": [
       "             revenue  tickets_count  one_ticket_revenue_rub\n",
       "count  290768.000000  290768.000000           285701.000000\n",
       "mean      625.127163       2.754251              198.158426\n",
       "std      1227.438020       1.170430              302.074578\n",
       "min       -90.760000       1.000000              -18.152000\n",
       "25%       116.790000       2.000000               46.820000\n",
       "50%       355.340000       3.000000              147.625000\n",
       "75%       809.712500       4.000000              306.336667\n",
       "max     81174.540000      57.000000            21757.540000"
      ]
     },
     "metadata": {},
     "output_type": "display_data"
    }
   ],
   "source": [
    "# Статистика по количественным значениям\n",
    "print(\"Статистика по выручке, числу билетов и средней стоимости билета:\")\n",
    "display(df[['revenue', 'tickets_count', 'one_ticket_revenue_rub']].describe())"
   ]
  },
  {
   "cell_type": "code",
   "execution_count": 46,
   "id": "9e2ca480",
   "metadata": {},
   "outputs": [
    {
     "name": "stdout",
     "output_type": "stream",
     "text": [
      "99-й процентиль для выручки: 4000.19\n",
      "99-й процентиль для количества билетов: 6.0\n"
     ]
    }
   ],
   "source": [
    "# Расчёт 99-го процентиля для выручки и ко-ва билетов\n",
    "revenues = df['revenue'].quantile(0.99)\n",
    "print(f\"99-й процентиль для выручки: {revenues:.2f}\")\n",
    "tickets= df['tickets_count'].quantile(0.99)\n",
    "print(f\"99-й процентиль для количества билетов: {tickets}\")"
   ]
  },
  {
   "cell_type": "code",
   "execution_count": 47,
   "id": "b737b76c",
   "metadata": {},
   "outputs": [
    {
     "name": "stdout",
     "output_type": "stream",
     "text": [
      "Размер данных до фильтрации: 290768\n",
      "Размер данных после фильтрации: 287674\n",
      "Процент отфильтрованных записей: 1.06 %\n"
     ]
    }
   ],
   "source": [
    "# Ограничиваем значения 99-м процентилем\n",
    "df_filter = df[\n",
    "    (df['revenue'] <= revenues) &\n",
    "    (df['tickets_count'] <= tickets)\n",
    "]\n",
    "\n",
    "print(\"Размер данных до фильтрации:\", len(df))\n",
    "print(\"Размер данных после фильтрации:\", len(df_filter))\n",
    "print(\"Процент отфильтрованных записей:\", round((len(df) - len(df_filter)) / len(df) * 100, 2), \"%\")"
   ]
  },
  {
   "cell_type": "code",
   "execution_count": 48,
   "id": "c8c32d67",
   "metadata": {},
   "outputs": [
    {
     "data": {
      "text/html": [
       "<div>\n",
       "<style scoped>\n",
       "    .dataframe tbody tr th:only-of-type {\n",
       "        vertical-align: middle;\n",
       "    }\n",
       "\n",
       "    .dataframe tbody tr th {\n",
       "        vertical-align: top;\n",
       "    }\n",
       "\n",
       "    .dataframe thead th {\n",
       "        text-align: right;\n",
       "    }\n",
       "</style>\n",
       "<table border=\"1\" class=\"dataframe\">\n",
       "  <thead>\n",
       "    <tr style=\"text-align: right;\">\n",
       "      <th></th>\n",
       "      <th>revenue</th>\n",
       "      <th>tickets_count</th>\n",
       "      <th>one_ticket_revenue_rub</th>\n",
       "    </tr>\n",
       "  </thead>\n",
       "  <tbody>\n",
       "    <tr>\n",
       "      <th>count</th>\n",
       "      <td>287674.000000</td>\n",
       "      <td>287674.000000</td>\n",
       "      <td>284944.000000</td>\n",
       "    </tr>\n",
       "    <tr>\n",
       "      <th>mean</th>\n",
       "      <td>537.381596</td>\n",
       "      <td>2.744628</td>\n",
       "      <td>192.271959</td>\n",
       "    </tr>\n",
       "    <tr>\n",
       "      <th>std</th>\n",
       "      <td>563.985428</td>\n",
       "      <td>1.144376</td>\n",
       "      <td>171.527689</td>\n",
       "    </tr>\n",
       "    <tr>\n",
       "      <th>min</th>\n",
       "      <td>-90.760000</td>\n",
       "      <td>1.000000</td>\n",
       "      <td>-18.152000</td>\n",
       "    </tr>\n",
       "    <tr>\n",
       "      <th>25%</th>\n",
       "      <td>114.910000</td>\n",
       "      <td>2.000000</td>\n",
       "      <td>46.820000</td>\n",
       "    </tr>\n",
       "    <tr>\n",
       "      <th>50%</th>\n",
       "      <td>347.180000</td>\n",
       "      <td>3.000000</td>\n",
       "      <td>146.961250</td>\n",
       "    </tr>\n",
       "    <tr>\n",
       "      <th>75%</th>\n",
       "      <td>791.840000</td>\n",
       "      <td>3.000000</td>\n",
       "      <td>303.870000</td>\n",
       "    </tr>\n",
       "    <tr>\n",
       "      <th>max</th>\n",
       "      <td>4000.190000</td>\n",
       "      <td>6.000000</td>\n",
       "      <td>3328.470000</td>\n",
       "    </tr>\n",
       "  </tbody>\n",
       "</table>\n",
       "</div>"
      ],
      "text/plain": [
       "             revenue  tickets_count  one_ticket_revenue_rub\n",
       "count  287674.000000  287674.000000           284944.000000\n",
       "mean      537.381596       2.744628              192.271959\n",
       "std       563.985428       1.144376              171.527689\n",
       "min       -90.760000       1.000000              -18.152000\n",
       "25%       114.910000       2.000000               46.820000\n",
       "50%       347.180000       3.000000              146.961250\n",
       "75%       791.840000       3.000000              303.870000\n",
       "max      4000.190000       6.000000             3328.470000"
      ]
     },
     "metadata": {},
     "output_type": "display_data"
    }
   ],
   "source": [
    "display(df_filter[['revenue', 'tickets_count', 'one_ticket_revenue_rub']].describe())"
   ]
  },
  {
   "cell_type": "markdown",
   "id": "bcc67240",
   "metadata": {},
   "source": [
    "<div style=\"background-color: white; border: 2px solid black; border-radius: 20px; padding: 15px 25px; display: inline-block; color: black;\">\n",
    " \n",
    " - Выявяены выбросы в выручке (до 81 млн руб.) и числе билетов (до 57 шт.)\n",
    " - минимальное значение выручки уходит в минус 91 руб\n",
    " - 99-й процентиль для:\n",
    "    выручки 4000.19 р\n",
    "    количества билетов до 6 билетов.\n",
    "    Данные ограничены 99-м процентилем"
   ]
  },
  {
   "cell_type": "code",
   "execution_count": null,
   "id": "95dfb852",
   "metadata": {},
   "outputs": [],
   "source": [
    "def rename_month_and_plot_orders(df_filter):\n",
    "    \"\"\"\n",
    "    Переименовывает номер месяца в столбце 'month' в название месяца на русском языке.\n",
    "    \"\"\"\n",
    "    month_dict = {\n",
    "        1: 'Январь',\n",
    "        2: 'Февраль',\n",
    "        3: 'Март',\n",
    "        4: 'Апрель',\n",
    "        5: 'Май',\n",
    "        6: 'Июнь',\n",
    "        7: 'Июль',\n",
    "        8: 'Август',\n",
    "        9: 'Сентябрь',\n",
    "        10: 'Октябрь',\n",
    "        11: 'Ноябрь',\n",
    "        12: 'Декабрь'\n",
    "    }\n",
    "    # Переименование месяца\n",
    "    df_filter['month_name'] = df_filter['month'].map(month_dict)  # Создаем новый столбец с названиями\n",
    "\n",
    "# Вызов функции для переименования месяцев\n",
    "rename_month_and_plot_orders(df_filter)\n",
    "\n",
    "# Группировка по месяцам и подсчет количества заказов\n",
    "orders_per_month = df_filter.groupby('month_name')['order_id'].count().sort_values(ascending=True)  # Сортируем по названию месяца"
   ]
  },
  {
   "cell_type": "code",
   "execution_count": 50,
   "id": "ebebb209",
   "metadata": {},
   "outputs": [
    {
     "data": {
      "image/png": "[encoded data removed]",
      "text/plain": [
       "<Figure size 720x432 with 1 Axes>"
      ]
     },
     "metadata": {},
     "output_type": "display_data"
    }
   ],
   "source": [
    "# Визуализация распределения числа заказов по месяцам  \n",
    "# Создание столбчатой диаграммы\n",
    "# Настройка стиля графика\n",
    "sns.set(style=\"whitegrid\")\n",
    "plt.figure(figsize=(10, 6))\n",
    "# Построение распределения по месяцам\n",
    "orders_per_month.plot(kind='bar', color=['#FFA500','#FF8C00', '#FF4500','#FF6347', '#FF7F50'] )\n",
    "plt.title('Количество заказов по месяцам', fontsize=16)\n",
    "plt.xlabel('Месяц', fontsize=12)\n",
    "plt.ylabel('Количество заказов', fontsize=12)\n",
    "plt.xticks(rotation=45, ha='right') # Поворачиваем метки оси X для лучшей читаемости\n",
    "plt.grid(axis='y', linestyle='--') # Добавляем сетку по оси Y для удобства чтения\n",
    "# Добавление чисел на столбцы\n",
    "for i, v in enumerate(orders_per_month):\n",
    "    plt.text(i, v + 1, str(v),color='black', ha='center', va='bottom', fontsize=12)\n",
    "plt.tight_layout() # Автоматически корректирует параметры подграфика, чтобы он помещался в область фигуры.\n",
    "plt.show()"
   ]
  },
  {
   "cell_type": "markdown",
   "id": "708deaec",
   "metadata": {},
   "source": [
    "<div style=\"background-color: white; border: 2px solid black; border-radius: 20px; padding: 15px 25px; display: inline-block; color: black;\">\n",
    "    Прослеживается рост числа заказов от июня до октября включительно.\n",
    "    в июле прирост составил 18% по сравнению с июнем\n",
    "    в августе прирост составил 10% по сравнению с июлем\n",
    "    в сентябре прирост составил 55% по сравнению с августом\n",
    "    в октябре прирост составил 43% по сравнению с сентябрем\n",
    "Причиной может быть сезон отпусков. \n",
    "    Рекомендуется дополнительно выяснить до какого месяца идет подъем, а когда начинается спад активности"
   ]
  },
  {
   "cell_type": "markdown",
   "id": "eb3418da",
   "metadata": {},
   "source": [
    "Распределение долей заказов (летом и осенью) по:\n",
    " - типам мероприятия event_type_main;\n",
    " - типам устройства device_type_canonical;\n",
    " - категория мероприятий по возрастному рейтингу age_limit."
   ]
  },
  {
   "cell_type": "code",
   "execution_count": 51,
   "id": "a36d1441",
   "metadata": {},
   "outputs": [],
   "source": [
    "# Фильтрация данных по сезонам \n",
    "# Сортируем значения по убыванию\n",
    "summer = df_filter[df_filter['month'].isin([6, 7, 8])]\n",
    "autumn = df_filter[df_filter['month'].isin([9, 10])]"
   ]
  },
  {
   "cell_type": "code",
   "execution_count": 52,
   "id": "6f067d99",
   "metadata": {},
   "outputs": [],
   "source": [
    "summer_events =summer['event_type_main'].value_counts(normalize=True).sort_values(ascending=True)\n",
    "autumn_events =autumn['event_type_main'].value_counts(normalize=True).sort_values(ascending=True)"
   ]
  },
  {
   "cell_type": "code",
   "execution_count": 53,
   "id": "6a9e4891",
   "metadata": {},
   "outputs": [
    {
     "name": "stdout",
     "output_type": "stream",
     "text": [
      "ёлки        0.002331\n",
      "выставки    0.020466\n",
      "спорт       0.025492\n",
      "стендап     0.054076\n",
      "театр       0.204314\n",
      "Name: event_type_main, dtype: float64\n",
      "ёлки        0.010092\n",
      "выставки    0.014383\n",
      "стендап     0.040983\n",
      "спорт       0.111346\n",
      "другое      0.195974\n",
      "Name: event_type_main, dtype: float64\n"
     ]
    }
   ],
   "source": [
    "print(summer_events.head())\n",
    "print(autumn_events.head())"
   ]
  },
  {
   "cell_type": "code",
   "execution_count": 54,
   "id": "03c32759",
   "metadata": {},
   "outputs": [
    {
     "data": {
      "image/png": "[encoded data removed]",
      "text/plain": [
       "<Figure size 864x576 with 1 Axes>"
      ]
     },
     "metadata": {},
     "output_type": "display_data"
    }
   ],
   "source": [
    "sns.set(style=\"whitegrid\")\n",
    "plt.figure(figsize=(12, 8))\n",
    "#График для лета\n",
    "summer_events.plot(kind='bar', color='#FFA500' )\n",
    "plt.title('Распределение долей заказов летом',fontsize=16)\n",
    "plt.xlabel('Событие', fontsize=10)\n",
    "plt.ylabel('Доля', fontsize=10)\n",
    "plt.xticks(rotation=45, ha='right') # Поворачиваем метки оси X для лучшей читаемости\n",
    "# Добавление чисел на столбцы\n",
    "for i, v in enumerate(autumn_events):\n",
    "    plt.text(i, v + 0.1, f\"{v*100:.1f}%\",color='black', ha='center', va='bottom',fontsize=12)\n",
    "#ax = summer_events.plot()\n",
    "#x_offset = 0.05\n",
    "#y_offset = 0.05\n",
    "#for p in ax.patches:\n",
    "    #b = p.get_bbox()\n",
    "    #val = \"{:.2f}\".format(b.y1 + b.y0)        \n",
    "   # ax.annotate(val, (b.x1 + x_offset, b.y1 + y_offset))\n",
    "plt.show()"
   ]
  },
  {
   "cell_type": "markdown",
   "id": "1c6cc730",
   "metadata": {},
   "source": [
    "<div style=\"background-color: white; border: 2px solid black; border-radius: 20px; padding: 15px 25px; display: inline-block; color: black;\">\n",
    "    Концерты, театры и категория \"другое\" самые популярные. Учитывая летний сезон, можно предположить, что значимую часть в категории \"другое\" занимают различные фестивали.\n",
    "    Интересен момент, что елки имеют целый 1%. или это такие особенности графика, или кто-то празднует новый год летом. Может, это армяне празднуют Навасард 11 августа?"
   ]
  },
  {
   "cell_type": "code",
   "execution_count": 55,
   "id": "fa1202cc",
   "metadata": {},
   "outputs": [
    {
     "data": {
      "image/png": "[encoded data removed]",
      "text/plain": [
       "<Figure size 864x432 with 1 Axes>"
      ]
     },
     "metadata": {},
     "output_type": "display_data"
    }
   ],
   "source": [
    "# Осень\n",
    "sns.set(style=\"whitegrid\")\n",
    "plt.figure(figsize=(12, 6))\n",
    "#График для лета\n",
    "autumn_events.plot(kind='bar', color='#B8860B' )\n",
    "plt.title('Распределение долей заказов осенью',fontsize=16)\n",
    "plt.xlabel('Событие', fontsize=10)\n",
    "plt.ylabel('Доля', fontsize=10)\n",
    "plt.xticks(rotation=45, ha='right') # Поворачиваем метки оси X для лучшей читаемости\n",
    "# Добавление чисел на столбцы\n",
    "#ax = autumn_events.plot()\n",
    "#x_offset = 0.05\n",
    "#y_offset = 0.05\n",
    "#for p in ax.patches:\n",
    "    #b = p.get_bbox()\n",
    "    #val = \"{:.2%}\".format(b.y1 + b.y0)     \n",
    "    #ax.annotate(val, (b.x1 + x_offset, b.y1 + y_offset))\n",
    "for i, v in enumerate(autumn_events):\n",
    "    plt.text(i, v + 0.1, f\"{v*100:.1f}%\",color='black', ha='center', va='bottom',fontsize=12)\n",
    "plt.tight_layout() # Автоматически корректирует параметры подграфика, чтобы он помещался в область фигуры.\n",
    "plt.show()\n"
   ]
  },
  {
   "cell_type": "markdown",
   "id": "b6102ee3",
   "metadata": {},
   "source": [
    "<div style=\"background-color: white; border: 2px solid black; border-radius: 20px; padding: 15px 25px; display: inline-block; color: black;\">\n",
    "    Популярность категории другое уже ниже, но еще входит в топ-3. Так же популярны тетры и беспорное 1-е место за концертами\n",
    "    "
   ]
  },
  {
   "cell_type": "code",
   "execution_count": 56,
   "id": "ed433057",
   "metadata": {},
   "outputs": [
    {
     "data": {
      "image/png": "[encoded data removed]",
      "text/plain": [
       "<Figure size 1008x360 with 2 Axes>"
      ]
     },
     "metadata": {},
     "output_type": "display_data"
    }
   ],
   "source": [
    "# Распределение заказов по event_type_main летом и осенью\n",
    "fig, axes = plt.subplots(1, 2, figsize=(14, 5))\n",
    "\n",
    "# Лето\n",
    "summer_bars = summer_events.plot(kind='barh', ax=axes[0], title='Лето', color='#FFA500')\n",
    "axes[0].set_xlim(0, 1)\n",
    "axes[0].set_xlabel('Доля')  \n",
    "axes[0].set_ylabel('Тип мероприятия')  \n",
    "axes[0].grid(False)\n",
    "\n",
    "for i, v in enumerate(summer_events):\n",
    "    summer_bars.text(v + 0.01, i, f\"{v*100:.1f}%\", color='black', va='center', fontsize=10)\n",
    "\n",
    "# Осень\n",
    "autumn_bars = autumn_events.plot(kind='barh', ax=axes[1], title='Осень', color='#B8860B')\n",
    "axes[1].set_xlim(0, 1)\n",
    "axes[1].set_xlabel('Доля')  \n",
    "axes[1].set_ylabel('Тип мероприятия')  \n",
    "axes[1].grid(False)\n",
    "for i, v in enumerate(autumn_events):\n",
    "    autumn_bars.text(v + 0.01, i, f\"{v*100:.1f}%\", color='black', va='center', fontsize=10)\n",
    "\n",
    "plt.tight_layout()\n",
    "plt.show()"
   ]
  },
  {
   "cell_type": "code",
   "execution_count": 57,
   "id": "b75e41de",
   "metadata": {},
   "outputs": [],
   "source": [
    "# Распределение долей заказов (летом и осенью) по типам устройства device_type_canonical;\n",
    "summer_type =summer['device_type_canonical'].value_counts(normalize=True).sort_values(ascending=True)\n",
    "autumn_type =autumn['device_type_canonical'].value_counts(normalize=True).sort_values(ascending=True)"
   ]
  },
  {
   "cell_type": "code",
   "execution_count": 58,
   "id": "aa7d3c8a",
   "metadata": {},
   "outputs": [
    {
     "name": "stdout",
     "output_type": "stream",
     "text": [
      "desktop    0.19137\n",
      "mobile     0.80863\n",
      "Name: device_type_canonical, dtype: float64\n",
      "desktop    0.203578\n",
      "mobile     0.796422\n",
      "Name: device_type_canonical, dtype: float64\n"
     ]
    }
   ],
   "source": [
    "print(summer_type.head())\n",
    "print(autumn_type.head())"
   ]
  },
  {
   "cell_type": "code",
   "execution_count": 59,
   "id": "b033cc4f",
   "metadata": {},
   "outputs": [
    {
     "data": {
      "image/png": "[encoded data removed]",
      "text/plain": [
       "<Figure size 864x432 with 1 Axes>"
      ]
     },
     "metadata": {},
     "output_type": "display_data"
    }
   ],
   "source": [
    "sns.set(style=\"whitegrid\")\n",
    "plt.figure(figsize=(12, 6))\n",
    "#График для лета\n",
    "summer_type.plot(kind='bar', color=['#9ACD32','#006400'] )\n",
    "plt.title('Распределение долей заказов по типам устройства летом',fontsize=16)\n",
    "plt.xlabel('Событие', fontsize=10)\n",
    "plt.ylabel('Доля', fontsize=10)\n",
    "plt.xticks(rotation=45, ha='right') # Поворачиваем метки оси X для лучшей читаемости\n",
    "# Добавление чисел на столбцы\n",
    "for i, v in enumerate(summer_type):\n",
    "    plt.text(i, v + 0.1, f\"{v*100:.1f}%\",color='black', ha='center', va='top',fontsize=12)\n",
    "plt.tight_layout() # Автоматически корректирует параметры подграфика, чтобы он помещался в область фигуры.\n",
    "plt.show()\n"
   ]
  },
  {
   "cell_type": "markdown",
   "id": "5fcd96ae",
   "metadata": {},
   "source": [
    "<div style=\"background-color: white; border: 2px solid black; border-radius: 20px; padding: 15px 25px; display: inline-block; color: black;\">\n",
    "    Кто б сомневался, телефоны неша все 80.5% всех пользователей заказывают билеты через мобильные устройства."
   ]
  },
  {
   "cell_type": "code",
   "execution_count": 60,
   "id": "95efd851",
   "metadata": {},
   "outputs": [
    {
     "data": {
      "image/png": "[encoded data removed]",
      "text/plain": [
       "<Figure size 864x432 with 1 Axes>"
      ]
     },
     "metadata": {},
     "output_type": "display_data"
    }
   ],
   "source": [
    "sns.set(style=\"whitegrid\")\n",
    "plt.figure(figsize=(12, 6))\n",
    "#График для лета\n",
    "autumn_type.plot(kind='bar', color=['#9ACD32','#006400'] )\n",
    "plt.title('Распределение долей заказов по типам устройства осенью',fontsize=16)\n",
    "plt.xlabel('Событие', fontsize=10)\n",
    "plt.ylabel('Доля', fontsize=10)\n",
    "plt.xticks(rotation=45, ha='right') # Поворачиваем метки оси X для лучшей читаемости\n",
    "# Добавление чисел на столбцы\n",
    "for i, v in enumerate(autumn_type):\n",
    "    plt.text(i, v + 0.1, f\"{v*100:.1f}%\",color='black', ha='center', va='top',fontsize=12)\n",
    "plt.tight_layout() # Автоматически корректирует параметры подграфика, чтобы он помещался в область фигуры.\n",
    "plt.show()"
   ]
  },
  {
   "cell_type": "markdown",
   "id": "da2c83cb",
   "metadata": {},
   "source": [
    "<div style=\"background-color: white; border: 2px solid black; border-radius: 20px; padding: 15px 25px; display: inline-block; color: black;\">\n",
    "    Раз большинство заказывает через мобильные устройства летом, то неудивительно, что все так же и осенью."
   ]
  },
  {
   "cell_type": "code",
   "execution_count": 61,
   "id": "0125b3fd",
   "metadata": {},
   "outputs": [
    {
     "data": {
      "text/plain": [
       "array([16,  0, 18, 12,  6])"
      ]
     },
     "execution_count": 61,
     "metadata": {},
     "output_type": "execute_result"
    }
   ],
   "source": [
    "df['age_limit'].unique()"
   ]
  },
  {
   "cell_type": "code",
   "execution_count": 62,
   "id": "4caacfdd",
   "metadata": {},
   "outputs": [],
   "source": [
    "# Подсчёт количества заказов по возрастным ограничениям \n",
    "orders_per_age_limit = df.groupby('age_limit')['order_id'].count().sort_values(ascending=True)\n",
    "# Определяем палитру цветов для групп"
   ]
  },
  {
   "cell_type": "code",
   "execution_count": 63,
   "id": "34953f86",
   "metadata": {},
   "outputs": [
    {
     "data": {
      "image/png": "[encoded data removed]",
      "text/plain": [
       "<Figure size 864x576 with 1 Axes>"
      ]
     },
     "metadata": {},
     "output_type": "display_data"
    }
   ],
   "source": [
    "sns.set(style=\"whitegrid\")\n",
    "plt.figure(figsize=(12, 8))\n",
    "# Построение распределения по группам \n",
    "orders_per_age_limit.plot(kind='bar', color=['#FFA07A','#FF7F50','#FF8C00','#FF6347','#FF4500'])\n",
    "plt.title('Распределение количества заказов по возрастному рейтингу',fontsize=16)\n",
    "plt.xlabel('Возрастной рейтинг', fontsize=10)\n",
    "plt.ylabel('Количество заказов', fontsize=10)\n",
    "plt.xticks(rotation=45, ha='right') # Поворачиваем метки оси X для лучшей читаемости\n",
    "# Добавление чисел на столбцы\n",
    "for i, v in enumerate(orders_per_age_limit):\n",
    "    plt.text(i, v + 0.1, f\"{v*100:.1f}\",color='black', ha='center', va='bottom',fontsize=12)\n",
    "plt.tight_layout()\n",
    "plt.show()"
   ]
  },
  {
   "cell_type": "markdown",
   "id": "3c827ac5",
   "metadata": {},
   "source": [
    "<div style=\"background-color: white; border: 2px solid black; border-radius: 20px; padding: 15px 25px; display: inline-block; color: black;\">\n",
    "    Большая часть мероприятий для лиц от 16 лет, на 2-м месте от 12, 3-м от 0.... Все для детей и семей !"
   ]
  },
  {
   "cell_type": "code",
   "execution_count": 64,
   "id": "8ce99e00",
   "metadata": {},
   "outputs": [],
   "source": [
    "# Изменение средней стоимости билета по типам мероприятий\n",
    "summer_revenue = summer.groupby('event_type_main')['one_ticket_revenue_rub'].mean().sort_values(ascending=False)\n",
    "autumn_revenue = autumn.groupby('event_type_main')['one_ticket_revenue_rub'].mean().sort_values(ascending=False)"
   ]
  },
  {
   "cell_type": "code",
   "execution_count": 65,
   "id": "ca633689",
   "metadata": {},
   "outputs": [
    {
     "name": "stdout",
     "output_type": "stream",
     "text": [
      "Разница в средней стоимости билета\n"
     ]
    },
    {
     "data": {
      "text/html": [
       "<div>\n",
       "<style scoped>\n",
       "    .dataframe tbody tr th:only-of-type {\n",
       "        vertical-align: middle;\n",
       "    }\n",
       "\n",
       "    .dataframe tbody tr th {\n",
       "        vertical-align: top;\n",
       "    }\n",
       "\n",
       "    .dataframe thead th {\n",
       "        text-align: right;\n",
       "    }\n",
       "</style>\n",
       "<table border=\"1\" class=\"dataframe\">\n",
       "  <thead>\n",
       "    <tr style=\"text-align: right;\">\n",
       "      <th></th>\n",
       "      <th>summer</th>\n",
       "      <th>autumn</th>\n",
       "      <th>difference</th>\n",
       "    </tr>\n",
       "    <tr>\n",
       "      <th>event_type_main</th>\n",
       "      <th></th>\n",
       "      <th></th>\n",
       "      <th></th>\n",
       "    </tr>\n",
       "  </thead>\n",
       "  <tbody>\n",
       "    <tr>\n",
       "      <th>выставки</th>\n",
       "      <td>86.443811</td>\n",
       "      <td>91.066619</td>\n",
       "      <td>5.347760</td>\n",
       "    </tr>\n",
       "    <tr>\n",
       "      <th>стендап</th>\n",
       "      <td>221.284353</td>\n",
       "      <td>232.626359</td>\n",
       "      <td>5.125535</td>\n",
       "    </tr>\n",
       "    <tr>\n",
       "      <th>другое</th>\n",
       "      <td>81.161303</td>\n",
       "      <td>78.503606</td>\n",
       "      <td>-3.274587</td>\n",
       "    </tr>\n",
       "    <tr>\n",
       "      <th>спорт</th>\n",
       "      <td>51.621066</td>\n",
       "      <td>49.772992</td>\n",
       "      <td>-3.580077</td>\n",
       "    </tr>\n",
       "    <tr>\n",
       "      <th>концерты</th>\n",
       "      <td>295.860789</td>\n",
       "      <td>273.613408</td>\n",
       "      <td>-7.519544</td>\n",
       "    </tr>\n",
       "    <tr>\n",
       "      <th>ёлки</th>\n",
       "      <td>274.749549</td>\n",
       "      <td>234.200450</td>\n",
       "      <td>-14.758568</td>\n",
       "    </tr>\n",
       "    <tr>\n",
       "      <th>театр</th>\n",
       "      <td>218.791836</td>\n",
       "      <td>179.703461</td>\n",
       "      <td>-17.865555</td>\n",
       "    </tr>\n",
       "  </tbody>\n",
       "</table>\n",
       "</div>"
      ],
      "text/plain": [
       "                     summer      autumn  difference\n",
       "event_type_main                                    \n",
       "выставки          86.443811   91.066619    5.347760\n",
       "стендап          221.284353  232.626359    5.125535\n",
       "другое            81.161303   78.503606   -3.274587\n",
       "спорт             51.621066   49.772992   -3.580077\n",
       "концерты         295.860789  273.613408   -7.519544\n",
       "ёлки             274.749549  234.200450  -14.758568\n",
       "театр            218.791836  179.703461  -17.865555"
      ]
     },
     "metadata": {},
     "output_type": "display_data"
    }
   ],
   "source": [
    "# Создаем df из summer_revenue + autumn_revenue, и удаляем строки с пропусками.\n",
    "comparison = pd.DataFrame({\n",
    "    'summer': summer_revenue,\n",
    "    'autumn': autumn_revenue\n",
    "}).dropna()\n",
    "# Разница в среднем чеке летом и осенью \n",
    "comparison['difference'] = (comparison['autumn'] - comparison['summer']) / comparison['summer'] * 100\n",
    "print(\"Разница в средней стоимости билета\")\n",
    "display(comparison.sort_values(by='difference', ascending=False)) "
   ]
  },
  {
   "cell_type": "code",
   "execution_count": 66,
   "id": "18a4c5f8",
   "metadata": {},
   "outputs": [
    {
     "data": {
      "image/png": "[encoded data removed]",
      "text/plain": [
       "<Figure size 864x432 with 1 Axes>"
      ]
     },
     "metadata": {},
     "output_type": "display_data"
    }
   ],
   "source": [
    "# Визуализация с измененными названиями только в легенде\n",
    "ax = comparison[['summer', 'autumn']].plot(\n",
    "    kind='bar', \n",
    "    figsize=(12, 6), \n",
    "    color=['#9ACD32', '#FF4500']\n",
    ")\n",
    "plt.title('Средняя стоимость билета по типам мероприятий')\n",
    "plt.ylabel('Средняя стоимость билета (руб)')\n",
    "plt.xlabel('Тип мероприятия')\n",
    "plt.xticks(rotation=0)\n",
    "plt.tight_layout()\n",
    "\n",
    "# Добавляем подписи значений\n",
    "for p in ax.patches:\n",
    "    height = p.get_height()\n",
    "    ax.annotate(f'{height:.0f}', \n",
    "                (p.get_x() + p.get_width() / 2., height), \n",
    "                ha='center', va='bottom', \n",
    "                fontsize=10, color='black', rotation=0)\n",
    "plt.grid(True)\n",
    "plt.show()"
   ]
  },
  {
   "cell_type": "markdown",
   "id": "35f30e47",
   "metadata": {},
   "source": [
    "<div style=\"background-color: white; border: 2px solid black; border-radius: 20px; padding: 15px 25px; display: inline-block; color: black;\">\n",
    "    Есть небольшое снижение средней стоимости билета по большинству категорий к осени, а стендап и выставки показали рост цены."
   ]
  },
  {
   "cell_type": "code",
   "execution_count": 72,
   "id": "dc90c0fc",
   "metadata": {},
   "outputs": [],
   "source": [
    "# Найдем относительное изменение осенних значений по сравнению с летними. \n",
    "# Группируем данные по сезону и типу мероприятия\n",
    "season_event = df_filter.groupby(['season', 'event_type_main']).size().reset_index(name='order_count')"
   ]
  },
  {
   "cell_type": "code",
   "execution_count": 73,
   "id": "99fea2ee",
   "metadata": {},
   "outputs": [],
   "source": [
    "# Расспределение количества заказов по сезонам\n",
    "total_orders_by_season = season_event.groupby('season')['order_count'].sum()"
   ]
  },
  {
   "cell_type": "code",
   "execution_count": 74,
   "id": "a91be112",
   "metadata": {},
   "outputs": [
    {
     "data": {
      "text/html": [
       "<div>\n",
       "<style scoped>\n",
       "    .dataframe tbody tr th:only-of-type {\n",
       "        vertical-align: middle;\n",
       "    }\n",
       "\n",
       "    .dataframe tbody tr th {\n",
       "        vertical-align: top;\n",
       "    }\n",
       "\n",
       "    .dataframe thead th {\n",
       "        text-align: right;\n",
       "    }\n",
       "</style>\n",
       "<table border=\"1\" class=\"dataframe\">\n",
       "  <thead>\n",
       "    <tr style=\"text-align: right;\">\n",
       "      <th></th>\n",
       "      <th>season</th>\n",
       "      <th>event_type_main</th>\n",
       "      <th>order_count</th>\n",
       "      <th>part</th>\n",
       "    </tr>\n",
       "  </thead>\n",
       "  <tbody>\n",
       "    <tr>\n",
       "      <th>0</th>\n",
       "      <td>лето</td>\n",
       "      <td>выставки</td>\n",
       "      <td>2415</td>\n",
       "      <td>0.020466</td>\n",
       "    </tr>\n",
       "    <tr>\n",
       "      <th>1</th>\n",
       "      <td>лето</td>\n",
       "      <td>другое</td>\n",
       "      <td>32439</td>\n",
       "      <td>0.274907</td>\n",
       "    </tr>\n",
       "    <tr>\n",
       "      <th>2</th>\n",
       "      <td>лето</td>\n",
       "      <td>концерты</td>\n",
       "      <td>49373</td>\n",
       "      <td>0.418415</td>\n",
       "    </tr>\n",
       "    <tr>\n",
       "      <th>3</th>\n",
       "      <td>лето</td>\n",
       "      <td>спорт</td>\n",
       "      <td>3008</td>\n",
       "      <td>0.025492</td>\n",
       "    </tr>\n",
       "    <tr>\n",
       "      <th>4</th>\n",
       "      <td>лето</td>\n",
       "      <td>стендап</td>\n",
       "      <td>6381</td>\n",
       "      <td>0.054076</td>\n",
       "    </tr>\n",
       "    <tr>\n",
       "      <th>5</th>\n",
       "      <td>лето</td>\n",
       "      <td>театр</td>\n",
       "      <td>24109</td>\n",
       "      <td>0.204314</td>\n",
       "    </tr>\n",
       "    <tr>\n",
       "      <th>6</th>\n",
       "      <td>лето</td>\n",
       "      <td>ёлки</td>\n",
       "      <td>275</td>\n",
       "      <td>0.002331</td>\n",
       "    </tr>\n",
       "    <tr>\n",
       "      <th>7</th>\n",
       "      <td>осень</td>\n",
       "      <td>выставки</td>\n",
       "      <td>2437</td>\n",
       "      <td>0.014383</td>\n",
       "    </tr>\n",
       "    <tr>\n",
       "      <th>8</th>\n",
       "      <td>осень</td>\n",
       "      <td>другое</td>\n",
       "      <td>33205</td>\n",
       "      <td>0.195974</td>\n",
       "    </tr>\n",
       "    <tr>\n",
       "      <th>9</th>\n",
       "      <td>осень</td>\n",
       "      <td>концерты</td>\n",
       "      <td>63309</td>\n",
       "      <td>0.373646</td>\n",
       "    </tr>\n",
       "    <tr>\n",
       "      <th>10</th>\n",
       "      <td>осень</td>\n",
       "      <td>спорт</td>\n",
       "      <td>18866</td>\n",
       "      <td>0.111346</td>\n",
       "    </tr>\n",
       "    <tr>\n",
       "      <th>11</th>\n",
       "      <td>осень</td>\n",
       "      <td>стендап</td>\n",
       "      <td>6944</td>\n",
       "      <td>0.040983</td>\n",
       "    </tr>\n",
       "    <tr>\n",
       "      <th>12</th>\n",
       "      <td>осень</td>\n",
       "      <td>театр</td>\n",
       "      <td>42965</td>\n",
       "      <td>0.253577</td>\n",
       "    </tr>\n",
       "    <tr>\n",
       "      <th>13</th>\n",
       "      <td>осень</td>\n",
       "      <td>ёлки</td>\n",
       "      <td>1710</td>\n",
       "      <td>0.010092</td>\n",
       "    </tr>\n",
       "  </tbody>\n",
       "</table>\n",
       "</div>"
      ],
      "text/plain": [
       "   season event_type_main  order_count      part\n",
       "0    лето        выставки         2415  0.020466\n",
       "1    лето          другое        32439  0.274907\n",
       "2    лето        концерты        49373  0.418415\n",
       "3    лето           спорт         3008  0.025492\n",
       "4    лето         стендап         6381  0.054076\n",
       "5    лето           театр        24109  0.204314\n",
       "6    лето            ёлки          275  0.002331\n",
       "7   осень        выставки         2437  0.014383\n",
       "8   осень          другое        33205  0.195974\n",
       "9   осень        концерты        63309  0.373646\n",
       "10  осень           спорт        18866  0.111346\n",
       "11  осень         стендап         6944  0.040983\n",
       "12  осень           театр        42965  0.253577\n",
       "13  осень            ёлки         1710  0.010092"
      ]
     },
     "metadata": {},
     "output_type": "display_data"
    }
   ],
   "source": [
    "# Рассчет для каждого типа мероприятия в каждом сезоне\n",
    "season_event['part'] = season_event.apply(\n",
    "    lambda row: row['order_count'] / total_orders_by_season[row['season']], axis=1)\n",
    "\n",
    "display(season_event)"
   ]
  },
  {
   "cell_type": "markdown",
   "id": "3a132bac",
   "metadata": {},
   "source": [
    "<div style=\"background-color: white; border: 2px solid black; border-radius: 20px; padding: 15px 25px; display: inline-block; color: black;\">\n",
    "     осенью количество заказов растет, что указывает на сезонную зависимость спроса.\n",
    "Сезонные предпочтения:\n",
    "    летом преобладают концерты и театральные постановки и, вероятно, фестивали.\n",
    "    осенью наблюдается ростет интерес к спорту, а театр и концерты так же популярны.\n",
    "Происходит снижение средней стоимости билетов осенью, особенно заметна для концертов и театральных постановок.\n",
    "Для стендапа и выставок цена немного выросла. Есть тенденция к уменьшению доли мероприятий 18+"
   ]
  },
  {
   "cell_type": "markdown",
   "id": "1247af4a",
   "metadata": {},
   "source": [
    "## 3.2. Осенняя активность пользователей\n",
    "\n",
    "- Динамика заказов по дням\n",
    "- DAU и среднее число заказов на пользователя\n",
    "- Средняя стоимость билета\n",
    "- Недельная цикличность (будни vs. выходные)\n",
    "- Вывод\n"
   ]
  },
  {
   "cell_type": "code",
   "execution_count": 75,
   "id": "1128fd1b",
   "metadata": {},
   "outputs": [],
   "source": [
    "# Фильтруем данные только за осень\n",
    "autumn_season = df_filter[df_filter['season'].isin(['осень'])]"
   ]
  },
  {
   "cell_type": "code",
   "execution_count": 76,
   "id": "8f777ed1",
   "metadata": {},
   "outputs": [
    {
     "name": "stdout",
     "output_type": "stream",
     "text": [
      "<class 'pandas.core.frame.DataFrame'>\n",
      "Int64Index: 169458 entries, 2 to 290767\n",
      "Data columns (total 29 columns):\n",
      " #   Column                  Non-Null Count   Dtype         \n",
      "---  ------                  --------------   -----         \n",
      " 0   order_id                169458 non-null  int64         \n",
      " 1   user_id                 169458 non-null  object        \n",
      " 2   created_dt_msk          169458 non-null  datetime64[ns]\n",
      " 3   created_ts_msk          169458 non-null  datetime64[ns]\n",
      " 4   event_id                169458 non-null  int64         \n",
      " 5   cinema_circuit          169458 non-null  object        \n",
      " 6   age_limit               169458 non-null  int64         \n",
      " 7   currency_code           169458 non-null  object        \n",
      " 8   device_type_canonical   169458 non-null  object        \n",
      " 9   revenue                 169458 non-null  float64       \n",
      " 10  service_name            169458 non-null  object        \n",
      " 11  tickets_count           169458 non-null  int64         \n",
      " 12  total                   169458 non-null  float64       \n",
      " 13  days_since_prev         161101 non-null  float64       \n",
      " 14  revenue_rub             167998 non-null  float64       \n",
      " 15  one_ticket_revenue_rub  167998 non-null  float64       \n",
      " 16  month                   169458 non-null  int64         \n",
      " 17  season                  169458 non-null  object        \n",
      " 18  event_name              169436 non-null  object        \n",
      " 19  event_type_description  169436 non-null  object        \n",
      " 20  event_type_main         169436 non-null  object        \n",
      " 21  organizers              169436 non-null  object        \n",
      " 22  region_name             169436 non-null  object        \n",
      " 23  city_name               169436 non-null  object        \n",
      " 24  city_id                 169436 non-null  float64       \n",
      " 25  venue_id                169436 non-null  float64       \n",
      " 26  venue_name              169436 non-null  object        \n",
      " 27  venue_address           169436 non-null  object        \n",
      " 28  month_name              169458 non-null  object        \n",
      "dtypes: datetime64[ns](2), float64(7), int64(5), object(15)\n",
      "memory usage: 38.8+ MB\n"
     ]
    }
   ],
   "source": [
    "autumn_season.info()"
   ]
  },
  {
   "cell_type": "code",
   "execution_count": null,
   "id": "ec307277",
   "metadata": {},
   "outputs": [],
   "source": [
    "# autumn_season['created_dt_msk'] = pd.to_datetime(autumn_season['created_dt_msk'])\n",
    "# autumn_season['created_ts_msk'] = pd.to_datetime(autumn_season['created_ts_msk'])\n",
    "autumn_season = autumn_season.copy()\n",
    "    autumn_season['created_dt_msk'] = pd.to_datetime(autumn_season['created_dt_msk'])\n",
    "    autumn_season['created_ts_msk'] = pd.to_datetime(autumn_season['created_ts_msk'])"
   ]
  },
  {
   "cell_type": "code",
   "execution_count": null,
   "id": "8e890c6c",
   "metadata": {},
   "outputs": [],
   "source": [
    "# Добавляем день недели (1-пн,2-вт... 7 -вс)\n",
    "autumn_season['day_of_week'] = autumn_season['created_dt_msk'].dt.dayofweek + 1\n"
   ]
  },
  {
   "cell_type": "code",
   "execution_count": 80,
   "id": "608dbda7",
   "metadata": {},
   "outputs": [],
   "source": [
    "# Агрегируем данные по дням\n",
    "day_stats = autumn_season.groupby('created_dt_msk').agg(\n",
    "    order_count=('order_id', 'count'),\n",
    "    users=('user_id', 'nunique'),\n",
    "    avg_revenue_ticket=('one_ticket_revenue_rub', 'mean')\n",
    ").reset_index()"
   ]
  },
  {
   "cell_type": "code",
   "execution_count": 81,
   "id": "52be7076",
   "metadata": {},
   "outputs": [],
   "source": [
    "# Рассчет среднего количества заказов на 1 пользователя\n",
    "day_stats['orders_per_user'] = day_stats['order_count'] / day_stats['users']"
   ]
  },
  {
   "cell_type": "code",
   "execution_count": 82,
   "id": "0063a00d",
   "metadata": {},
   "outputs": [],
   "source": [
    "# Функция для добавления пиковых значений\n",
    "def add_peak_values(ax, data, x_col, y_col, color='black'):\n",
    "    peaks = data.nlargest(3, y_col)\n",
    "    for x, y in zip(peaks[x_col], peaks[y_col]):\n",
    "        ax.text(x, y, f'{int(y) if y_col != \"orders_per_user\" else f\"{y:.2f}\"}', \n",
    "                ha='center', va='bottom', fontsize=9,\n",
    "                bbox=dict(facecolor='white', alpha=0.8, edgecolor='none', pad=1),\n",
    "                color=color)"
   ]
  },
  {
   "cell_type": "code",
   "execution_count": 83,
   "id": "71757501",
   "metadata": {},
   "outputs": [
    {
     "data": {
      "image/png": "[encoded data removed]",
      "text/plain": [
       "<Figure size 1296x360 with 4 Axes>"
      ]
     },
     "metadata": {},
     "output_type": "display_data"
    }
   ],
   "source": [
    "# Визуализация динамики заказов по дням\n",
    "fig, axes = plt.subplots(1, 4, figsize=(18, 5))\n",
    "\n",
    "# Количество заказов в день\n",
    "sns.lineplot(data=day_stats, x='created_dt_msk', y='order_count', ax=axes[0], color='#98FB98')\n",
    "axes[0].set_xlabel('Дата', labelpad=10)\n",
    "axes[0].set_ylabel('Количество заказов', labelpad=10)\n",
    "axes[0].grid(True)\n",
    "add_peak_values(axes[0], day_stats, 'created_dt_msk', 'order_count', '#98FB98')\n",
    "axes[0].set_title('Количество заказов по дням', pad=15)\n",
    "\n",
    "# DAU\n",
    "sns.lineplot(data=day_stats, x='created_dt_msk', y='users', ax=axes[1], color='#32CD32')\n",
    "axes[1].set_xlabel('Дата', labelpad=10)\n",
    "axes[1].set_ylabel('Количество пользователей', labelpad=10)\n",
    "axes[1].grid(True)\n",
    "add_peak_values(axes[1], day_stats, 'created_dt_msk', 'users', '#32CD32')\n",
    "axes[1].set_title('Количество уникальных пользователей по дням', pad=15)\n",
    "\n",
    "# Среднее количество заказов на пользователя\n",
    "sns.lineplot(data=day_stats, x='created_dt_msk', y='orders_per_user', ax=axes[2], color='#DAA520')\n",
    "axes[2].set_xlabel('Дата', labelpad=10)\n",
    "axes[2].set_ylabel('Ко-во заказов на пользователя', labelpad=10)\n",
    "axes[2].grid(True)\n",
    "add_peak_values(axes[2], day_stats, 'created_dt_msk', 'orders_per_user', '#DAA520')\n",
    "axes[2].set_title('Среднее количество заказов на пользователя', pad=15)\n",
    "\n",
    "# Средняя стоимость билета\n",
    "ax4 = sns.lineplot(data=day_stats, x='created_dt_msk', y='avg_revenue_ticket', ax=axes[3], color='goldenrod')\n",
    "axes[3].set_title('Средняя стоимость билета', pad=15)\n",
    "axes[3].set_xlabel('Дата', labelpad=10)\n",
    "axes[3].set_ylabel('Средняя стоимость (руб)', labelpad=10)\n",
    "axes[3].grid(True)\n",
    "add_peak_values(axes[3], day_stats, 'created_dt_msk', 'avg_revenue_ticket', 'goldenrod')\n",
    "\n",
    "# Ротация на 45 градусов подписей оси х (дата) для всех графиков\n",
    "for ax in axes:\n",
    "    for tick in ax.get_xticklabels():\n",
    "        tick.set_rotation(45)\n",
    "        tick.set_ha('right')\n",
    "\n",
    "plt.tight_layout()\n",
    "plt.show()"
   ]
  },
  {
   "cell_type": "markdown",
   "id": "5a895368",
   "metadata": {},
   "source": [
    "<div style=\"background-color: white; border: 2px solid black; border-radius: 20px; padding: 15px 25px; display: inline-block; color: black;\">\n",
    "  \n",
    "    Количество заказов имеет недельную цикличность, пик активности наблюдается в выходные дни. \n",
    "    Совпедение аномальных всплесков средней цены и количества заказов может говорить о проведении акций/распродаж в эти дни\n",
    "    Так же видна тенденция к росту числа заказов с сентября и до октября.\n",
    "    Среднее число заказов на пользователя остаётся стабильным и находится в диапазоне от 4 до 7.\n",
    "    Средняя стоимость билета достаточно стабильна и иколеблется в диапазоне от 80 до 250 рублей.\n",
    "    Есть рекомендация: провести компании на увеличение среднего чека (средней стоимости билета)."
   ]
  },
  {
   "cell_type": "code",
   "execution_count": 84,
   "id": "eb229c6c",
   "metadata": {},
   "outputs": [],
   "source": [
    "# Анализ недельной цикличности\n",
    "# Группировка по дням недели\n",
    "week_stats = autumn_season.groupby('day_of_week').agg(\n",
    "    order_count=('order_id', 'count'),\n",
    "    users=('user_id', 'nunique'),\n",
    "    avg_revenue_ticket=('one_ticket_revenue_rub', 'mean')\n",
    ").reset_index()"
   ]
  },
  {
   "cell_type": "code",
   "execution_count": 85,
   "id": "46c81bcf",
   "metadata": {},
   "outputs": [
    {
     "data": {
      "image/png": "[encoded data removed]",
      "text/plain": [
       "<Figure size 1296x360 with 3 Axes>"
      ]
     },
     "metadata": {},
     "output_type": "display_data"
    }
   ],
   "source": [
    "# Визуализация недельной цикличности\n",
    "fig, axes = plt.subplots(1, 3, figsize=(18, 5))\n",
    "\n",
    "# Расределение числа заказов по дням\n",
    "bar1 = sns.barplot(data=week_stats, x='day_of_week', y='order_count',\n",
    "                  palette='viridis', ax=axes[0])\n",
    "axes[0].set_title('Число заказов по дням недели', pad=15)\n",
    "axes[0].set_xlabel('День недели')\n",
    "axes[0].set_ylabel('Количество заказов')\n",
    "axes[0].grid(True)\n",
    "\n",
    "# Расределение числа уникальных пользователей по дням \n",
    "bar2 = sns.barplot(data=week_stats, x='day_of_week', y='users',\n",
    "                  palette='magma', ax=axes[1])\n",
    "axes[1].set_title('Количество уникальных пользователей', pad=15)\n",
    "axes[1].set_xlabel('День недели')\n",
    "axes[1].set_ylabel('Количество пользователей')\n",
    "axes[1].grid(True)\n",
    "\n",
    "# Расределение средней стоимости билета по дням\n",
    "bar3 = sns.barplot(data=week_stats, x='day_of_week', y='avg_revenue_ticket',\n",
    "                  palette='coolwarm', ax=axes[2])\n",
    "axes[2].set_title('Средняя стоимость билета', pad=15)\n",
    "axes[2].set_xlabel('День недели')\n",
    "axes[2].set_ylabel('Средняя стоимость (руб)')\n",
    "axes[2].grid(False)\n",
    "\n",
    "# Общие настройки для всех графиков\n",
    "for ax, bar in zip(axes, [bar1, bar2, bar3]):\n",
    "    # Добавляем значения на столбцы\n",
    "    for p in bar.patches:\n",
    "        ax.annotate(f'{p.get_height():.0f}' if ax != axes[2] else f'{p.get_height():.1f}', \n",
    "                   (p.get_x() + p.get_width()/2., p.get_height()), \n",
    "                   ha='center', va='bottom', \n",
    "                   fontsize=10, color='black', xytext=(0, 5),\n",
    "                   textcoords='offset points')\n",
    "    \n",
    "    # Увеличиваем пределы оси Y на 10%\n",
    "    y_max = max([p.get_height() for p in bar.patches])\n",
    "    ax.set_ylim(0, y_max * 1.1)\n",
    "\n",
    "plt.tight_layout()\n",
    "plt.show()"
   ]
  },
  {
   "cell_type": "markdown",
   "id": "74fa5e42",
   "metadata": {},
   "source": [
    "<div style=\"background-color: white; border: 2px solid black; border-radius: 20px; padding: 15px 25px; display: inline-block; color: black;\">\n",
    "    Высокая активность в середине недели, выделяется во вторник (31 633 заказов) и четверг (27 272 заказов). \n",
    "    Пятница и суббота имеют меньшее количество заказов (21 450 и 19 501 заказов). \n",
    "\n",
    "    Самое большое количество уникальных пользователей наблюдается в четверг (4 976 пользователей), а минимальное приходится на воскресенье (4 397 пользователей). \n",
    "    Средняя стоимость билета выше в выходные дни (196–202 рублей).\n",
    "    Минимальная стоимость билета наблюдается в вторник (145 рублей)\n",
    "    Высокая активность в середине недели подтверждает, что пользователи активно ищут и бронируют билеты заранее.\n",
    "    \n",
    "    Учитывая высокую активность во вторник и низкую стоимость билета относительно других дней, можно предположить, что большая часть ользователей заранее планируют поход на мероприятие, и возможно, сильно заранее берут билеты. \n",
    "    Часто, чем раньше куплен билет, тем он дешевле, отсюда и может быть такой минимум стоимости в середине недели (это не подтвержденная информация, а рассуждение)"
   ]
  },
  {
   "cell_type": "markdown",
   "id": "fa7d8d11",
   "metadata": {},
   "source": [
    "## 3.3. Популярные события и партнёры\n",
    "\n",
    "- Регионы с наибольшим количеством заказов и уникальных мероприятий\n",
    "- Лидеры среди билетных партнёров по выручке и количеству заказов\n",
    "- Вывод"
   ]
  },
  {
   "cell_type": "code",
   "execution_count": 86,
   "id": "93169389",
   "metadata": {},
   "outputs": [
    {
     "data": {
      "text/html": [
       "<div>\n",
       "<style scoped>\n",
       "    .dataframe tbody tr th:only-of-type {\n",
       "        vertical-align: middle;\n",
       "    }\n",
       "\n",
       "    .dataframe tbody tr th {\n",
       "        vertical-align: top;\n",
       "    }\n",
       "\n",
       "    .dataframe thead th {\n",
       "        text-align: right;\n",
       "    }\n",
       "</style>\n",
       "<table border=\"1\" class=\"dataframe\">\n",
       "  <thead>\n",
       "    <tr style=\"text-align: right;\">\n",
       "      <th></th>\n",
       "      <th>region_name</th>\n",
       "      <th>unique_events</th>\n",
       "      <th>total_orders</th>\n",
       "      <th>total_revenue_rub</th>\n",
       "    </tr>\n",
       "  </thead>\n",
       "  <tbody>\n",
       "    <tr>\n",
       "      <th>0</th>\n",
       "      <td>Белоярская область</td>\n",
       "      <td>57</td>\n",
       "      <td>199</td>\n",
       "      <td>84536.87</td>\n",
       "    </tr>\n",
       "    <tr>\n",
       "      <th>1</th>\n",
       "      <td>Берестовский округ</td>\n",
       "      <td>39</td>\n",
       "      <td>395</td>\n",
       "      <td>289482.31</td>\n",
       "    </tr>\n",
       "    <tr>\n",
       "      <th>2</th>\n",
       "      <td>Берёзовская область</td>\n",
       "      <td>166</td>\n",
       "      <td>1282</td>\n",
       "      <td>204642.15</td>\n",
       "    </tr>\n",
       "    <tr>\n",
       "      <th>3</th>\n",
       "      <td>Боровлянский край</td>\n",
       "      <td>97</td>\n",
       "      <td>1721</td>\n",
       "      <td>1351022.05</td>\n",
       "    </tr>\n",
       "    <tr>\n",
       "      <th>4</th>\n",
       "      <td>Верховинская область</td>\n",
       "      <td>8</td>\n",
       "      <td>50</td>\n",
       "      <td>78525.11</td>\n",
       "    </tr>\n",
       "  </tbody>\n",
       "</table>\n",
       "</div>"
      ],
      "text/plain": [
       "            region_name  unique_events  total_orders  total_revenue_rub\n",
       "0    Белоярская область             57           199           84536.87\n",
       "1    Берестовский округ             39           395          289482.31\n",
       "2   Берёзовская область            166          1282          204642.15\n",
       "3     Боровлянский край             97          1721         1351022.05\n",
       "4  Верховинская область              8            50           78525.11"
      ]
     },
     "execution_count": 86,
     "metadata": {},
     "output_type": "execute_result"
    }
   ],
   "source": [
    "# Группируем данные по регионам\n",
    "region_stats = df.groupby('region_name').agg(\n",
    "    unique_events=('event_id', 'nunique'),\n",
    "    total_orders=('order_id', 'count'),\n",
    "    total_revenue_rub=('revenue_rub', 'sum')\n",
    ").reset_index()\n",
    "region_stats.head()"
   ]
  },
  {
   "cell_type": "code",
   "execution_count": 87,
   "id": "dd159a29",
   "metadata": {},
   "outputs": [],
   "source": [
    "# Сортировка \n",
    "    # по числу заказов\n",
    "top_regions_by_orders = region_stats.sort_values(by='total_orders', ascending=False).head(10)"
   ]
  },
  {
   "cell_type": "code",
   "execution_count": 88,
   "id": "72e9698f",
   "metadata": {},
   "outputs": [
    {
     "name": "stdout",
     "output_type": "stream",
     "text": [
      "Топ-регионы по числу заказов:\n"
     ]
    },
    {
     "data": {
      "text/html": [
       "<div>\n",
       "<style scoped>\n",
       "    .dataframe tbody tr th:only-of-type {\n",
       "        vertical-align: middle;\n",
       "    }\n",
       "\n",
       "    .dataframe tbody tr th {\n",
       "        vertical-align: top;\n",
       "    }\n",
       "\n",
       "    .dataframe thead th {\n",
       "        text-align: right;\n",
       "    }\n",
       "</style>\n",
       "<table border=\"1\" class=\"dataframe\">\n",
       "  <thead>\n",
       "    <tr style=\"text-align: right;\">\n",
       "      <th></th>\n",
       "      <th>region_name</th>\n",
       "      <th>unique_events</th>\n",
       "      <th>total_orders</th>\n",
       "      <th>total_revenue_rub</th>\n",
       "    </tr>\n",
       "  </thead>\n",
       "  <tbody>\n",
       "    <tr>\n",
       "      <th>23</th>\n",
       "      <td>Каменевский регион</td>\n",
       "      <td>5983</td>\n",
       "      <td>91031</td>\n",
       "      <td>6.122349e+07</td>\n",
       "    </tr>\n",
       "    <tr>\n",
       "      <th>60</th>\n",
       "      <td>Североярская область</td>\n",
       "      <td>3814</td>\n",
       "      <td>44037</td>\n",
       "      <td>2.533599e+07</td>\n",
       "    </tr>\n",
       "    <tr>\n",
       "      <th>77</th>\n",
       "      <td>Широковская область</td>\n",
       "      <td>1233</td>\n",
       "      <td>16457</td>\n",
       "      <td>9.509246e+06</td>\n",
       "    </tr>\n",
       "    <tr>\n",
       "      <th>42</th>\n",
       "      <td>Медовская область</td>\n",
       "      <td>504</td>\n",
       "      <td>13895</td>\n",
       "      <td>2.943074e+06</td>\n",
       "    </tr>\n",
       "    <tr>\n",
       "      <th>45</th>\n",
       "      <td>Озернинский край</td>\n",
       "      <td>349</td>\n",
       "      <td>10476</td>\n",
       "      <td>9.769409e+06</td>\n",
       "    </tr>\n",
       "  </tbody>\n",
       "</table>\n",
       "</div>"
      ],
      "text/plain": [
       "             region_name  unique_events  total_orders  total_revenue_rub\n",
       "23    Каменевский регион           5983         91031       6.122349e+07\n",
       "60  Североярская область           3814         44037       2.533599e+07\n",
       "77   Широковская область           1233         16457       9.509246e+06\n",
       "42     Медовская область            504         13895       2.943074e+06\n",
       "45      Озернинский край            349         10476       9.769409e+06"
      ]
     },
     "metadata": {},
     "output_type": "display_data"
    }
   ],
   "source": [
    "print(\"Топ-регионы по числу заказов:\")\n",
    "display(top_regions_by_orders.head())"
   ]
  },
  {
   "cell_type": "code",
   "execution_count": 89,
   "id": "ddfe6fe6",
   "metadata": {
    "scrolled": true
   },
   "outputs": [
    {
     "name": "stdout",
     "output_type": "stream",
     "text": [
      "Топ-регионы по числу уникальных мероприятий:\n"
     ]
    },
    {
     "data": {
      "text/html": [
       "<div>\n",
       "<style scoped>\n",
       "    .dataframe tbody tr th:only-of-type {\n",
       "        vertical-align: middle;\n",
       "    }\n",
       "\n",
       "    .dataframe tbody tr th {\n",
       "        vertical-align: top;\n",
       "    }\n",
       "\n",
       "    .dataframe thead th {\n",
       "        text-align: right;\n",
       "    }\n",
       "</style>\n",
       "<table border=\"1\" class=\"dataframe\">\n",
       "  <thead>\n",
       "    <tr style=\"text-align: right;\">\n",
       "      <th></th>\n",
       "      <th>region_name</th>\n",
       "      <th>unique_events</th>\n",
       "      <th>total_orders</th>\n",
       "      <th>total_revenue_rub</th>\n",
       "    </tr>\n",
       "  </thead>\n",
       "  <tbody>\n",
       "    <tr>\n",
       "      <th>23</th>\n",
       "      <td>Каменевский регион</td>\n",
       "      <td>5983</td>\n",
       "      <td>91031</td>\n",
       "      <td>6.122349e+07</td>\n",
       "    </tr>\n",
       "    <tr>\n",
       "      <th>60</th>\n",
       "      <td>Североярская область</td>\n",
       "      <td>3814</td>\n",
       "      <td>44037</td>\n",
       "      <td>2.533599e+07</td>\n",
       "    </tr>\n",
       "    <tr>\n",
       "      <th>77</th>\n",
       "      <td>Широковская область</td>\n",
       "      <td>1233</td>\n",
       "      <td>16457</td>\n",
       "      <td>9.509246e+06</td>\n",
       "    </tr>\n",
       "    <tr>\n",
       "      <th>57</th>\n",
       "      <td>Светополянский округ</td>\n",
       "      <td>1075</td>\n",
       "      <td>7603</td>\n",
       "      <td>3.411102e+06</td>\n",
       "    </tr>\n",
       "    <tr>\n",
       "      <th>52</th>\n",
       "      <td>Речиновская область</td>\n",
       "      <td>702</td>\n",
       "      <td>6291</td>\n",
       "      <td>2.706626e+06</td>\n",
       "    </tr>\n",
       "  </tbody>\n",
       "</table>\n",
       "</div>"
      ],
      "text/plain": [
       "             region_name  unique_events  total_orders  total_revenue_rub\n",
       "23    Каменевский регион           5983         91031       6.122349e+07\n",
       "60  Североярская область           3814         44037       2.533599e+07\n",
       "77   Широковская область           1233         16457       9.509246e+06\n",
       "57  Светополянский округ           1075          7603       3.411102e+06\n",
       "52   Речиновская область            702          6291       2.706626e+06"
      ]
     },
     "metadata": {},
     "output_type": "display_data"
    }
   ],
   "source": [
    " # по числу уникальных мероприятий\n",
    "top_regions_by_events = region_stats.sort_values(by='unique_events', ascending=False).head(10)\n",
    "print(\"Топ-регионы по числу уникальных мероприятий:\")\n",
    "display(top_regions_by_events.head())"
   ]
  },
  {
   "cell_type": "code",
   "execution_count": 92,
   "id": "6347ac2b",
   "metadata": {},
   "outputs": [
    {
     "data": {
      "image/png": "[encoded data removed]",
      "text/plain": [
       "<Figure size 720x432 with 1 Axes>"
      ]
     },
     "metadata": {},
     "output_type": "display_data"
    }
   ],
   "source": [
    "#Визуализация \n",
    "\n",
    "plt.figure(figsize=(10, 6))\n",
    "sns.barplot(\n",
    "    data=top_regions_by_orders,\n",
    "    y='region_name',\n",
    "    x='total_orders',\n",
    "    color='steelblue'  \n",
    ")\n",
    "plt.title('Топ-10 регионов по числу заказов')\n",
    "plt.xlabel('Число заказов')\n",
    "plt.ylabel('Регион')\n",
    "plt.tight_layout()\n",
    "plt.show()\n"
   ]
  },
  {
   "cell_type": "code",
   "execution_count": 93,
   "id": "288127de",
   "metadata": {},
   "outputs": [],
   "source": [
    "# Лидеры среди билетных партнёров по выручке и количеству заказов\n",
    "# Группируем данные по партнёрам\n",
    "partner_stats = df.groupby('service_name').agg(\n",
    "    unique_events=('event_id', 'nunique'),\n",
    "    total_orders=('order_id', 'count'),\n",
    "    total_revenue_rub=('revenue_rub', 'sum')\n",
    ").reset_index()"
   ]
  },
  {
   "cell_type": "code",
   "execution_count": 94,
   "id": "142d1cc5",
   "metadata": {},
   "outputs": [
    {
     "name": "stdout",
     "output_type": "stream",
     "text": [
      "Топ-партнёры по числу заказов:\n"
     ]
    },
    {
     "data": {
      "text/html": [
       "<div>\n",
       "<style scoped>\n",
       "    .dataframe tbody tr th:only-of-type {\n",
       "        vertical-align: middle;\n",
       "    }\n",
       "\n",
       "    .dataframe tbody tr th {\n",
       "        vertical-align: top;\n",
       "    }\n",
       "\n",
       "    .dataframe thead th {\n",
       "        text-align: right;\n",
       "    }\n",
       "</style>\n",
       "<table border=\"1\" class=\"dataframe\">\n",
       "  <thead>\n",
       "    <tr style=\"text-align: right;\">\n",
       "      <th></th>\n",
       "      <th>service_name</th>\n",
       "      <th>unique_events</th>\n",
       "      <th>total_orders</th>\n",
       "      <th>total_revenue_rub</th>\n",
       "    </tr>\n",
       "  </thead>\n",
       "  <tbody>\n",
       "    <tr>\n",
       "      <th>3</th>\n",
       "      <td>Билеты без проблем</td>\n",
       "      <td>4263</td>\n",
       "      <td>63676</td>\n",
       "      <td>2.617306e+07</td>\n",
       "    </tr>\n",
       "    <tr>\n",
       "      <th>21</th>\n",
       "      <td>Лови билет!</td>\n",
       "      <td>4884</td>\n",
       "      <td>41114</td>\n",
       "      <td>1.766168e+07</td>\n",
       "    </tr>\n",
       "    <tr>\n",
       "      <th>5</th>\n",
       "      <td>Билеты в руки</td>\n",
       "      <td>3544</td>\n",
       "      <td>40350</td>\n",
       "      <td>1.338557e+07</td>\n",
       "    </tr>\n",
       "    <tr>\n",
       "      <th>24</th>\n",
       "      <td>Мой билет</td>\n",
       "      <td>1310</td>\n",
       "      <td>34835</td>\n",
       "      <td>1.909266e+07</td>\n",
       "    </tr>\n",
       "    <tr>\n",
       "      <th>25</th>\n",
       "      <td>Облачко</td>\n",
       "      <td>2348</td>\n",
       "      <td>26642</td>\n",
       "      <td>2.164407e+07</td>\n",
       "    </tr>\n",
       "  </tbody>\n",
       "</table>\n",
       "</div>"
      ],
      "text/plain": [
       "          service_name  unique_events  total_orders  total_revenue_rub\n",
       "3   Билеты без проблем           4263         63676       2.617306e+07\n",
       "21         Лови билет!           4884         41114       1.766168e+07\n",
       "5        Билеты в руки           3544         40350       1.338557e+07\n",
       "24           Мой билет           1310         34835       1.909266e+07\n",
       "25             Облачко           2348         26642       2.164407e+07"
      ]
     },
     "metadata": {},
     "output_type": "display_data"
    }
   ],
   "source": [
    "# Сортировка\n",
    "    # по числу заказов\n",
    "top_partners_by_orders = partner_stats.sort_values(by='total_orders', ascending=False).head(10)\n",
    "print(\"Топ-партнёры по числу заказов:\")\n",
    "display(top_partners_by_orders.head())"
   ]
  },
  {
   "cell_type": "code",
   "execution_count": 95,
   "id": "d61f6d07",
   "metadata": {},
   "outputs": [
    {
     "name": "stdout",
     "output_type": "stream",
     "text": [
      "Топ-партнёры по выручке:\n"
     ]
    },
    {
     "data": {
      "text/html": [
       "<div>\n",
       "<style scoped>\n",
       "    .dataframe tbody tr th:only-of-type {\n",
       "        vertical-align: middle;\n",
       "    }\n",
       "\n",
       "    .dataframe tbody tr th {\n",
       "        vertical-align: top;\n",
       "    }\n",
       "\n",
       "    .dataframe thead th {\n",
       "        text-align: right;\n",
       "    }\n",
       "</style>\n",
       "<table border=\"1\" class=\"dataframe\">\n",
       "  <thead>\n",
       "    <tr style=\"text-align: right;\">\n",
       "      <th></th>\n",
       "      <th>service_name</th>\n",
       "      <th>unique_events</th>\n",
       "      <th>total_orders</th>\n",
       "      <th>total_revenue_rub</th>\n",
       "    </tr>\n",
       "  </thead>\n",
       "  <tbody>\n",
       "    <tr>\n",
       "      <th>3</th>\n",
       "      <td>Билеты без проблем</td>\n",
       "      <td>4263</td>\n",
       "      <td>63676</td>\n",
       "      <td>26173056.96</td>\n",
       "    </tr>\n",
       "    <tr>\n",
       "      <th>25</th>\n",
       "      <td>Облачко</td>\n",
       "      <td>2348</td>\n",
       "      <td>26642</td>\n",
       "      <td>21644068.03</td>\n",
       "    </tr>\n",
       "    <tr>\n",
       "      <th>24</th>\n",
       "      <td>Мой билет</td>\n",
       "      <td>1310</td>\n",
       "      <td>34835</td>\n",
       "      <td>19092659.13</td>\n",
       "    </tr>\n",
       "    <tr>\n",
       "      <th>8</th>\n",
       "      <td>Весь в билетах</td>\n",
       "      <td>867</td>\n",
       "      <td>16847</td>\n",
       "      <td>18047533.97</td>\n",
       "    </tr>\n",
       "    <tr>\n",
       "      <th>21</th>\n",
       "      <td>Лови билет!</td>\n",
       "      <td>4884</td>\n",
       "      <td>41114</td>\n",
       "      <td>17661682.94</td>\n",
       "    </tr>\n",
       "  </tbody>\n",
       "</table>\n",
       "</div>"
      ],
      "text/plain": [
       "          service_name  unique_events  total_orders  total_revenue_rub\n",
       "3   Билеты без проблем           4263         63676        26173056.96\n",
       "25             Облачко           2348         26642        21644068.03\n",
       "24           Мой билет           1310         34835        19092659.13\n",
       "8       Весь в билетах            867         16847        18047533.97\n",
       "21         Лови билет!           4884         41114        17661682.94"
      ]
     },
     "metadata": {},
     "output_type": "display_data"
    }
   ],
   "source": [
    "    # по выручке\n",
    "top_partners_by_revenue = partner_stats.sort_values(by='total_revenue_rub', ascending=False).head(10)\n",
    "print(\"Топ-партнёры по выручке:\")\n",
    "display(top_partners_by_revenue.head())"
   ]
  },
  {
   "cell_type": "code",
   "execution_count": 96,
   "id": "4042dd61",
   "metadata": {},
   "outputs": [
    {
     "name": "stdout",
     "output_type": "stream",
     "text": [
      "Топ-партнёры по числу уникальных мероприятий:\n"
     ]
    },
    {
     "data": {
      "text/html": [
       "<div>\n",
       "<style scoped>\n",
       "    .dataframe tbody tr th:only-of-type {\n",
       "        vertical-align: middle;\n",
       "    }\n",
       "\n",
       "    .dataframe tbody tr th {\n",
       "        vertical-align: top;\n",
       "    }\n",
       "\n",
       "    .dataframe thead th {\n",
       "        text-align: right;\n",
       "    }\n",
       "</style>\n",
       "<table border=\"1\" class=\"dataframe\">\n",
       "  <thead>\n",
       "    <tr style=\"text-align: right;\">\n",
       "      <th></th>\n",
       "      <th>service_name</th>\n",
       "      <th>unique_events</th>\n",
       "      <th>total_orders</th>\n",
       "      <th>total_revenue_rub</th>\n",
       "    </tr>\n",
       "  </thead>\n",
       "  <tbody>\n",
       "    <tr>\n",
       "      <th>21</th>\n",
       "      <td>Лови билет!</td>\n",
       "      <td>4884</td>\n",
       "      <td>41114</td>\n",
       "      <td>1.766168e+07</td>\n",
       "    </tr>\n",
       "    <tr>\n",
       "      <th>3</th>\n",
       "      <td>Билеты без проблем</td>\n",
       "      <td>4263</td>\n",
       "      <td>63676</td>\n",
       "      <td>2.617306e+07</td>\n",
       "    </tr>\n",
       "    <tr>\n",
       "      <th>5</th>\n",
       "      <td>Билеты в руки</td>\n",
       "      <td>3544</td>\n",
       "      <td>40350</td>\n",
       "      <td>1.338557e+07</td>\n",
       "    </tr>\n",
       "    <tr>\n",
       "      <th>25</th>\n",
       "      <td>Облачко</td>\n",
       "      <td>2348</td>\n",
       "      <td>26642</td>\n",
       "      <td>2.164407e+07</td>\n",
       "    </tr>\n",
       "    <tr>\n",
       "      <th>22</th>\n",
       "      <td>Лучшие билеты</td>\n",
       "      <td>1763</td>\n",
       "      <td>17791</td>\n",
       "      <td>2.823151e+06</td>\n",
       "    </tr>\n",
       "  </tbody>\n",
       "</table>\n",
       "</div>"
      ],
      "text/plain": [
       "          service_name  unique_events  total_orders  total_revenue_rub\n",
       "21         Лови билет!           4884         41114       1.766168e+07\n",
       "3   Билеты без проблем           4263         63676       2.617306e+07\n",
       "5        Билеты в руки           3544         40350       1.338557e+07\n",
       "25             Облачко           2348         26642       2.164407e+07\n",
       "22       Лучшие билеты           1763         17791       2.823151e+06"
      ]
     },
     "metadata": {},
     "output_type": "display_data"
    }
   ],
   "source": [
    "    # по числу уникальных мероприятий\n",
    "top_partners_by_events = partner_stats.sort_values(by='unique_events', ascending=False).head(10)\n",
    "print(\"Топ-партнёры по числу уникальных мероприятий:\")\n",
    "display(top_partners_by_events.head())"
   ]
  },
  {
   "cell_type": "markdown",
   "id": "27f56966",
   "metadata": {},
   "source": [
    "<div style=\"background-color: white; border: 2px solid black; border-radius: 20px; padding: 15px 25px; display: inline-block; color: black;\">\n",
    "    Топ-регионы:\n",
    "    \n",
    " - Каменевский регион\t\n",
    " - Североярская область\t\n",
    " - Широковская область\t\n",
    "\n",
    "   Топ- партнёры:\n",
    "    \n",
    " - Билеты без проблем\t\n",
    " - Мой билет\t\n",
    " - Облачко\t\n"
   ]
  },
  {
   "cell_type": "markdown",
   "id": "2f31eb51",
   "metadata": {},
   "source": [
    "##  4. Статистический анализ данных\n",
    "\n",
    "    Коллеги из продуктового отдела хотят отдельно проверить несколько гипотез относительно активности пользователей мобильных и стационарных устройств. \n",
    "        1.Среднее количество заказов на одного пользователя мобильного приложения выше по сравнению с пользователями стационарных устройств.\n",
    "        2.Среднее время между заказами пользователей мобильных приложений выше по сравнению с пользователями стационарных устройств.\n",
    "        Данные только за осенний период!"
   ]
  },
  {
   "cell_type": "markdown",
   "id": "9b90b7bf",
   "metadata": {},
   "source": [
    "    Гипотеза 1.Среднее количество заказов на одного пользователя мобильного приложения выше по сравнению с пользователями стационарных устройств.\n",
    "H0 среднее количество заказов на 1 пользователя в мобильном приложении и ПК одинакова \n",
    "\n",
    "H1 среднее количество заказов на 1 пользователя в мобильном приложении выше"
   ]
  },
  {
   "cell_type": "code",
   "execution_count": 97,
   "id": "c71bdbc7",
   "metadata": {},
   "outputs": [
    {
     "data": {
      "text/html": [
       "<div>\n",
       "<style scoped>\n",
       "    .dataframe tbody tr th:only-of-type {\n",
       "        vertical-align: middle;\n",
       "    }\n",
       "\n",
       "    .dataframe tbody tr th {\n",
       "        vertical-align: top;\n",
       "    }\n",
       "\n",
       "    .dataframe thead th {\n",
       "        text-align: right;\n",
       "    }\n",
       "</style>\n",
       "<table border=\"1\" class=\"dataframe\">\n",
       "  <thead>\n",
       "    <tr style=\"text-align: right;\">\n",
       "      <th></th>\n",
       "      <th>order_id</th>\n",
       "      <th>user_id</th>\n",
       "      <th>created_dt_msk</th>\n",
       "      <th>created_ts_msk</th>\n",
       "      <th>event_id</th>\n",
       "      <th>cinema_circuit</th>\n",
       "      <th>age_limit</th>\n",
       "      <th>currency_code</th>\n",
       "      <th>device_type_canonical</th>\n",
       "      <th>revenue</th>\n",
       "      <th>...</th>\n",
       "      <th>event_type_description</th>\n",
       "      <th>event_type_main</th>\n",
       "      <th>organizers</th>\n",
       "      <th>region_name</th>\n",
       "      <th>city_name</th>\n",
       "      <th>city_id</th>\n",
       "      <th>venue_id</th>\n",
       "      <th>venue_name</th>\n",
       "      <th>venue_address</th>\n",
       "      <th>month_name</th>\n",
       "    </tr>\n",
       "  </thead>\n",
       "  <tbody>\n",
       "    <tr>\n",
       "      <th>2</th>\n",
       "      <td>7292370</td>\n",
       "      <td>0005ca5e93f2cf4</td>\n",
       "      <td>2024-10-06</td>\n",
       "      <td>2024-10-06 13:56:02</td>\n",
       "      <td>578454</td>\n",
       "      <td>нет</td>\n",
       "      <td>0</td>\n",
       "      <td>rub</td>\n",
       "      <td>mobile</td>\n",
       "      <td>1258.57</td>\n",
       "      <td>...</td>\n",
       "      <td>цирковое шоу</td>\n",
       "      <td>другое</td>\n",
       "      <td>№1540</td>\n",
       "      <td>Каменевский регион</td>\n",
       "      <td>Глиногорск</td>\n",
       "      <td>213.0</td>\n",
       "      <td>4507.0</td>\n",
       "      <td>Училище искусств \"Нирвана\" Инк</td>\n",
       "      <td>алл. Юбилейная, д. 5/6</td>\n",
       "      <td>Октябрь</td>\n",
       "    </tr>\n",
       "    <tr>\n",
       "      <th>4</th>\n",
       "      <td>972400</td>\n",
       "      <td>000898990054619</td>\n",
       "      <td>2024-10-04</td>\n",
       "      <td>2024-10-04 22:33:15</td>\n",
       "      <td>509453</td>\n",
       "      <td>нет</td>\n",
       "      <td>18</td>\n",
       "      <td>rub</td>\n",
       "      <td>mobile</td>\n",
       "      <td>1390.41</td>\n",
       "      <td>...</td>\n",
       "      <td>шоу</td>\n",
       "      <td>стендап</td>\n",
       "      <td>№832</td>\n",
       "      <td>Озернинский край</td>\n",
       "      <td>Родниковецк</td>\n",
       "      <td>240.0</td>\n",
       "      <td>1896.0</td>\n",
       "      <td>Театр кукол \"Огни\" Инкорпорэйтед</td>\n",
       "      <td>ш. Набережное, д. 595 стр. 8</td>\n",
       "      <td>Октябрь</td>\n",
       "    </tr>\n",
       "    <tr>\n",
       "      <th>5</th>\n",
       "      <td>2613713</td>\n",
       "      <td>000898990054619</td>\n",
       "      <td>2024-10-23</td>\n",
       "      <td>2024-10-23 15:12:00</td>\n",
       "      <td>500862</td>\n",
       "      <td>нет</td>\n",
       "      <td>12</td>\n",
       "      <td>rub</td>\n",
       "      <td>mobile</td>\n",
       "      <td>902.74</td>\n",
       "      <td>...</td>\n",
       "      <td>концерт</td>\n",
       "      <td>концерты</td>\n",
       "      <td>№1020</td>\n",
       "      <td>Лугоградская область</td>\n",
       "      <td>Кристалевск</td>\n",
       "      <td>193.0</td>\n",
       "      <td>930.0</td>\n",
       "      <td>Школа живописи \"Солнце\" Групп</td>\n",
       "      <td>бул. Отрадный, д. 4 стр. 1</td>\n",
       "      <td>Октябрь</td>\n",
       "    </tr>\n",
       "    <tr>\n",
       "      <th>7</th>\n",
       "      <td>4657981</td>\n",
       "      <td>000a55a418c128c</td>\n",
       "      <td>2024-09-29</td>\n",
       "      <td>2024-09-29 19:39:12</td>\n",
       "      <td>265857</td>\n",
       "      <td>нет</td>\n",
       "      <td>12</td>\n",
       "      <td>rub</td>\n",
       "      <td>mobile</td>\n",
       "      <td>47.78</td>\n",
       "      <td>...</td>\n",
       "      <td>спектакль</td>\n",
       "      <td>театр</td>\n",
       "      <td>№1637</td>\n",
       "      <td>Поленовский край</td>\n",
       "      <td>Дальнозолотск</td>\n",
       "      <td>18.0</td>\n",
       "      <td>3159.0</td>\n",
       "      <td>Клуб начинающих писателей \"Таблицы\" Групп</td>\n",
       "      <td>ул. О.Кошевого, д. 7</td>\n",
       "      <td>Сентябрь</td>\n",
       "    </tr>\n",
       "    <tr>\n",
       "      <th>8</th>\n",
       "      <td>4657952</td>\n",
       "      <td>000a55a418c128c</td>\n",
       "      <td>2024-10-15</td>\n",
       "      <td>2024-10-15 10:29:04</td>\n",
       "      <td>271579</td>\n",
       "      <td>нет</td>\n",
       "      <td>12</td>\n",
       "      <td>rub</td>\n",
       "      <td>mobile</td>\n",
       "      <td>74.84</td>\n",
       "      <td>...</td>\n",
       "      <td>спектакль</td>\n",
       "      <td>театр</td>\n",
       "      <td>№1637</td>\n",
       "      <td>Поленовский край</td>\n",
       "      <td>Дальнозолотск</td>\n",
       "      <td>18.0</td>\n",
       "      <td>3159.0</td>\n",
       "      <td>Клуб начинающих писателей \"Таблицы\" Групп</td>\n",
       "      <td>ул. О.Кошевого, д. 7</td>\n",
       "      <td>Октябрь</td>\n",
       "    </tr>\n",
       "  </tbody>\n",
       "</table>\n",
       "<p>5 rows × 29 columns</p>\n",
       "</div>"
      ],
      "text/plain": [
       "   order_id          user_id created_dt_msk      created_ts_msk  event_id  \\\n",
       "2   7292370  0005ca5e93f2cf4     2024-10-06 2024-10-06 13:56:02    578454   \n",
       "4    972400  000898990054619     2024-10-04 2024-10-04 22:33:15    509453   \n",
       "5   2613713  000898990054619     2024-10-23 2024-10-23 15:12:00    500862   \n",
       "7   4657981  000a55a418c128c     2024-09-29 2024-09-29 19:39:12    265857   \n",
       "8   4657952  000a55a418c128c     2024-10-15 2024-10-15 10:29:04    271579   \n",
       "\n",
       "  cinema_circuit  age_limit currency_code device_type_canonical  revenue  ...  \\\n",
       "2            нет          0           rub                mobile  1258.57  ...   \n",
       "4            нет         18           rub                mobile  1390.41  ...   \n",
       "5            нет         12           rub                mobile   902.74  ...   \n",
       "7            нет         12           rub                mobile    47.78  ...   \n",
       "8            нет         12           rub                mobile    74.84  ...   \n",
       "\n",
       "  event_type_description  event_type_main  organizers           region_name  \\\n",
       "2           цирковое шоу           другое       №1540    Каменевский регион   \n",
       "4                    шоу          стендап        №832      Озернинский край   \n",
       "5                концерт         концерты       №1020  Лугоградская область   \n",
       "7              спектакль            театр       №1637      Поленовский край   \n",
       "8              спектакль            театр       №1637      Поленовский край   \n",
       "\n",
       "       city_name  city_id  venue_id  \\\n",
       "2     Глиногорск    213.0    4507.0   \n",
       "4    Родниковецк    240.0    1896.0   \n",
       "5    Кристалевск    193.0     930.0   \n",
       "7  Дальнозолотск     18.0    3159.0   \n",
       "8  Дальнозолотск     18.0    3159.0   \n",
       "\n",
       "                                  venue_name                 venue_address  \\\n",
       "2             Училище искусств \"Нирвана\" Инк        алл. Юбилейная, д. 5/6   \n",
       "4           Театр кукол \"Огни\" Инкорпорэйтед  ш. Набережное, д. 595 стр. 8   \n",
       "5              Школа живописи \"Солнце\" Групп    бул. Отрадный, д. 4 стр. 1   \n",
       "7  Клуб начинающих писателей \"Таблицы\" Групп          ул. О.Кошевого, д. 7   \n",
       "8  Клуб начинающих писателей \"Таблицы\" Групп          ул. О.Кошевого, д. 7   \n",
       "\n",
       "  month_name  \n",
       "2    Октябрь  \n",
       "4    Октябрь  \n",
       "5    Октябрь  \n",
       "7   Сентябрь  \n",
       "8    Октябрь  \n",
       "\n",
       "[5 rows x 29 columns]"
      ]
     },
     "execution_count": 97,
     "metadata": {},
     "output_type": "execute_result"
    }
   ],
   "source": [
    "# Подготовка данных\n",
    "# Оставляем только осенние данные \n",
    "autumn_season = df_filter[df_filter['season'].isin(['осень'])]\n",
    "autumn_season.head()"
   ]
  },
  {
   "cell_type": "code",
   "execution_count": 98,
   "id": "5f73ee84",
   "metadata": {},
   "outputs": [],
   "source": [
    "# Среднее число заказов на 1 пользователя по типу устройства\n",
    "avg_orders_device_type = autumn_season.groupby(['user_id', 'device_type_canonical']).size().reset_index(name='order_count')"
   ]
  },
  {
   "cell_type": "code",
   "execution_count": 99,
   "id": "67eeeb88",
   "metadata": {},
   "outputs": [
    {
     "data": {
      "text/html": [
       "<div>\n",
       "<style scoped>\n",
       "    .dataframe tbody tr th:only-of-type {\n",
       "        vertical-align: middle;\n",
       "    }\n",
       "\n",
       "    .dataframe tbody tr th {\n",
       "        vertical-align: top;\n",
       "    }\n",
       "\n",
       "    .dataframe thead th {\n",
       "        text-align: right;\n",
       "    }\n",
       "</style>\n",
       "<table border=\"1\" class=\"dataframe\">\n",
       "  <thead>\n",
       "    <tr style=\"text-align: right;\">\n",
       "      <th></th>\n",
       "      <th>order_count</th>\n",
       "    </tr>\n",
       "  </thead>\n",
       "  <tbody>\n",
       "    <tr>\n",
       "      <th>count</th>\n",
       "      <td>19074.000000</td>\n",
       "    </tr>\n",
       "    <tr>\n",
       "      <th>mean</th>\n",
       "      <td>8.884240</td>\n",
       "    </tr>\n",
       "    <tr>\n",
       "      <th>std</th>\n",
       "      <td>61.805577</td>\n",
       "    </tr>\n",
       "    <tr>\n",
       "      <th>min</th>\n",
       "      <td>1.000000</td>\n",
       "    </tr>\n",
       "    <tr>\n",
       "      <th>25%</th>\n",
       "      <td>1.000000</td>\n",
       "    </tr>\n",
       "    <tr>\n",
       "      <th>50%</th>\n",
       "      <td>2.000000</td>\n",
       "    </tr>\n",
       "    <tr>\n",
       "      <th>75%</th>\n",
       "      <td>4.000000</td>\n",
       "    </tr>\n",
       "    <tr>\n",
       "      <th>max</th>\n",
       "      <td>4364.000000</td>\n",
       "    </tr>\n",
       "  </tbody>\n",
       "</table>\n",
       "</div>"
      ],
      "text/plain": [
       "        order_count\n",
       "count  19074.000000\n",
       "mean       8.884240\n",
       "std       61.805577\n",
       "min        1.000000\n",
       "25%        1.000000\n",
       "50%        2.000000\n",
       "75%        4.000000\n",
       "max     4364.000000"
      ]
     },
     "execution_count": 99,
     "metadata": {},
     "output_type": "execute_result"
    }
   ],
   "source": [
    "avg_orders_device_type.describe()"
   ]
  },
  {
   "cell_type": "code",
   "execution_count": 100,
   "id": "77cf80d8",
   "metadata": {},
   "outputs": [
    {
     "name": "stdout",
     "output_type": "stream",
     "text": [
      "99-й перцентиль: 112.0\n"
     ]
    }
   ],
   "source": [
    "ninety_ninth_percentile = np.percentile(avg_orders_device_type['order_count'], 99)\n",
    "print(\"99-й перцентиль:\", ninety_ninth_percentile)"
   ]
  },
  {
   "cell_type": "code",
   "execution_count": 101,
   "id": "e0b44fc3",
   "metadata": {},
   "outputs": [],
   "source": [
    "# Разделяем на 2 группы по типу устройства\n",
    "mobile_orders = avg_orders_device_type[avg_orders_device_type['device_type_canonical'] == 'mobile']['order_count']\n",
    "desktop_orders = avg_orders_device_type[avg_orders_device_type['device_type_canonical'] == 'desktop']['order_count']"
   ]
  },
  {
   "cell_type": "code",
   "execution_count": 102,
   "id": "2582471b",
   "metadata": {
    "scrolled": true
   },
   "outputs": [
    {
     "data": {
      "image/png": "[encoded data removed]",
      "text/plain": [
       "<Figure size 720x432 with 1 Axes>"
      ]
     },
     "metadata": {},
     "output_type": "display_data"
    }
   ],
   "source": [
    "# Визуализация распределения среднего количества заказов\n",
    "# Настройка стиля графика\n",
    "\n",
    "sns.set(style=\"whitegrid\")\n",
    "plt.figure(figsize=(10, 6))\n",
    "# Построение распределения по группам\n",
    "sns.histplot(data=mobile_orders[mobile_orders < 15], color='#006400', label='mobile', bins=20, kde=True)\n",
    "sns.histplot(data=desktop_orders[desktop_orders <15], color='#9ACD32', label='desktop', bins=20, kde=True)\n",
    "#Вывод\n",
    "plt.title('Распределение среднего количества заказов по устройствам')\n",
    "plt.xlabel('Количество заказов')\n",
    "plt.ylabel('Количество пользователей')\n",
    "plt.legend()\n",
    "plt.show()"
   ]
  },
  {
   "cell_type": "code",
   "execution_count": 103,
   "id": "ca54ce1b",
   "metadata": {},
   "outputs": [
    {
     "name": "stdout",
     "output_type": "stream",
     "text": [
      "Количество пользователей, попавших в обе группы:                  device_type_canonical\n",
      "user_id                               \n",
      "00245c702bc343e                      2\n",
      "0028d17a676f8c8                      2\n",
      "002b75ca606ba46                      2\n",
      "002ec276eee9b0b                      2\n",
      "0040e12d70fae81                      2\n",
      "...                                ...\n",
      "ffb556471d3ea4d                      2\n",
      "ffc0234bdbb10b1                      2\n",
      "ffd530dc2b699b0                      2\n",
      "ffdadadd5de9c4b                      2\n",
      "fffcd3dde79eb2c                      2\n",
      "\n",
      "[4922 rows x 1 columns]\n",
      "Пользователи в пересечении:\n",
      "                 device_type_canonical\n",
      "user_id                               \n",
      "00245c702bc343e                      2\n",
      "0028d17a676f8c8                      2\n",
      "002b75ca606ba46                      2\n",
      "002ec276eee9b0b                      2\n",
      "0040e12d70fae81                      2\n",
      "...                                ...\n",
      "ffb556471d3ea4d                      2\n",
      "ffc0234bdbb10b1                      2\n",
      "ffd530dc2b699b0                      2\n",
      "ffdadadd5de9c4b                      2\n",
      "fffcd3dde79eb2c                      2\n",
      "\n",
      "[4922 rows x 1 columns]\n"
     ]
    }
   ],
   "source": [
    "# Проверяем пересечения пользователей между группами с помощью группировки\n",
    "intersection_count = df_filter.groupby('user_id').agg({'device_type_canonical': 'nunique'}).query('device_type_canonical > 1')\n",
    "# Выводим результат\n",
    "if not intersection_count.empty:\n",
    "    print(f\"Количество пользователей, попавших в обе группы: {intersection_count}\")\n",
    "    print(\"Пользователи в пересечении:\")\n",
    "    print(intersection_count)\n",
    "else:\n",
    "    print(\"Пересечений между группами нет.\")"
   ]
  },
  {
   "cell_type": "code",
   "execution_count": null,
   "id": "3a718897",
   "metadata": {},
   "outputs": [],
   "source": [
    "intersection_users = intersection_count.index\n",
    "df_filtered_no_intersection = df_filter[~df_filter['user_id'].isin(intersection_users)]\n",
    "\n",
    "# контрль удаления\n",
    "total_users = df_filter['user_id'].nunique()\n",
    "removed_users = len(intersection_users)\n",
    "removed_ratio = removed_users / total_users\n",
    "print(f\"Доля удалённых пользователей: {removed_ratio:.2%}\")"
   ]
  },
  {
   "cell_type": "markdown",
   "id": "fc75c145",
   "metadata": {},
   "source": [
    "<div style=\"background-color: white; border: 2px solid black; border-radius: 20px; padding: 15px 25px; display: inline-block; color: black;\">\n",
    "    Большинство пользователей оформляют один заказ, меньше 1000 пользователей оформили 4 и более."
   ]
  },
  {
   "cell_type": "code",
   "execution_count": 105,
   "id": "44e16d8f",
   "metadata": {},
   "outputs": [
    {
     "name": "stdout",
     "output_type": "stream",
     "text": [
      "Количество пользователей в группе мобильных устройств: 225\n",
      "Количество пользователей в группе стационарных устройств:129\n"
     ]
    }
   ],
   "source": [
    "#Количество пользователей в группах\n",
    "print(f\"Количество пользователей в группе мобильных устройств: {mobile_orders.nunique()}\")\n",
    "print(f\"Количество пользователей в группе стационарных устройств:{desktop_orders.nunique()}\")"
   ]
  },
  {
   "cell_type": "code",
   "execution_count": 106,
   "id": "f58356dd",
   "metadata": {},
   "outputs": [
    {
     "name": "stdout",
     "output_type": "stream",
     "text": [
      "Необходимый размер выборки для каждой группы: 128\n"
     ]
    }
   ],
   "source": [
    "# Не указано MDE для тестов, методом подбора выяснено, что можно заметить при таком ко-е человек в группах MDE = 0.35\n",
    "# Не уверена, что эта ячейка вообще тут нужна\n",
    "from statsmodels.stats.power import NormalIndPower\n",
    "# Задаём параметры\n",
    "alpha = 0.05  # Уровень значимости\n",
    "beta = 0.2  # Ошибка второго рода, часто 1 - мощность\n",
    "power = 0.8  # Мощность теста\n",
    "mde = 0.35  # Минимальный детектируемый эффект\n",
    "\n",
    "# Инициализируем класс NormalIndPower\n",
    "power_analysis = NormalIndPower()\n",
    "\n",
    "# Рассчитываем размер выборки\n",
    "sample_size = power_analysis.solve_power(\n",
    "    effect_size = mde,\n",
    "    power = power,\n",
    "    alpha = alpha,\n",
    "    ratio = 1 # Равномерное распределение выборок\n",
    ")\n",
    "\n",
    "print(f\"Необходимый размер выборки для каждой группы: {int(sample_size)}\")"
   ]
  },
  {
   "cell_type": "code",
   "execution_count": 107,
   "id": "3385de97",
   "metadata": {},
   "outputs": [
    {
     "name": "stdout",
     "output_type": "stream",
     "text": [
      "p-value = 0.00000\n",
      "Отвергаем нулевую гипотезу: среднее число заказов в группе мобильных устройств больше.\n"
     ]
    }
   ],
   "source": [
    "#Гипотеза 1.Среднее количество заказов на одного пользователя мобильного приложения выше по сравнению с пользователями стационарных устройств.\n",
    "    #H0 среднее количество заказов на 1 пользователя в мобильном приложении и ПК одинакова\n",
    "    #H1 среднее количество заказов на 1 пользователя в мобильном приложении выше\n",
    "#Группы неравномерны, поэтому подходит тест Манна-Уитни\n",
    "# Проверка гипотезы\n",
    "stat, p_value = mannwhitneyu(mobile_orders, desktop_orders, alternative='greater')\n",
    "\n",
    "print(f\"p-value = {p_value:.5f}\")\n",
    "if p_value < 0.05:\n",
    "    print(\"Отвергаем нулевую гипотезу: среднее число заказов в группе мобильных устройств больше.\")\n",
    "else:\n",
    "    print(\"Не отвергаем нулевую гипотезу: нет доказательства, что среднее число заказов на 1 пользователя в группе мобильных устройств больше.\")"
   ]
  },
  {
   "cell_type": "markdown",
   "id": "53900e47",
   "metadata": {},
   "source": [
    "    Гипотеза 2.Среднее время между заказами пользователей мобильных приложений выше по сравнению с пользователями стационарных устройств.\n",
    "        H0: Среднее время между заказами одинаково для мобильных и стационарных устройств\n",
    "        H1: Среднее время между заказами больше у пользователей мобильных устройств"
   ]
  },
  {
   "cell_type": "code",
   "execution_count": 108,
   "id": "5bbe1798",
   "metadata": {},
   "outputs": [],
   "source": [
    "# Среднее время между заказами стб days_since_prev\n",
    "time_between_orders = autumn_season.dropna(subset=['days_since_prev'])"
   ]
  },
  {
   "cell_type": "code",
   "execution_count": 109,
   "id": "0682f605",
   "metadata": {},
   "outputs": [
    {
     "data": {
      "text/html": [
       "<div>\n",
       "<style scoped>\n",
       "    .dataframe tbody tr th:only-of-type {\n",
       "        vertical-align: middle;\n",
       "    }\n",
       "\n",
       "    .dataframe tbody tr th {\n",
       "        vertical-align: top;\n",
       "    }\n",
       "\n",
       "    .dataframe thead th {\n",
       "        text-align: right;\n",
       "    }\n",
       "</style>\n",
       "<table border=\"1\" class=\"dataframe\">\n",
       "  <thead>\n",
       "    <tr style=\"text-align: right;\">\n",
       "      <th></th>\n",
       "      <th>order_id</th>\n",
       "      <th>user_id</th>\n",
       "      <th>created_dt_msk</th>\n",
       "      <th>created_ts_msk</th>\n",
       "      <th>event_id</th>\n",
       "      <th>cinema_circuit</th>\n",
       "      <th>age_limit</th>\n",
       "      <th>currency_code</th>\n",
       "      <th>device_type_canonical</th>\n",
       "      <th>revenue</th>\n",
       "      <th>...</th>\n",
       "      <th>event_type_description</th>\n",
       "      <th>event_type_main</th>\n",
       "      <th>organizers</th>\n",
       "      <th>region_name</th>\n",
       "      <th>city_name</th>\n",
       "      <th>city_id</th>\n",
       "      <th>venue_id</th>\n",
       "      <th>venue_name</th>\n",
       "      <th>venue_address</th>\n",
       "      <th>month_name</th>\n",
       "    </tr>\n",
       "  </thead>\n",
       "  <tbody>\n",
       "    <tr>\n",
       "      <th>2</th>\n",
       "      <td>7292370</td>\n",
       "      <td>0005ca5e93f2cf4</td>\n",
       "      <td>2024-10-06</td>\n",
       "      <td>2024-10-06 13:56:02</td>\n",
       "      <td>578454</td>\n",
       "      <td>нет</td>\n",
       "      <td>0</td>\n",
       "      <td>rub</td>\n",
       "      <td>mobile</td>\n",
       "      <td>1258.57</td>\n",
       "      <td>...</td>\n",
       "      <td>цирковое шоу</td>\n",
       "      <td>другое</td>\n",
       "      <td>№1540</td>\n",
       "      <td>Каменевский регион</td>\n",
       "      <td>Глиногорск</td>\n",
       "      <td>213.0</td>\n",
       "      <td>4507.0</td>\n",
       "      <td>Училище искусств \"Нирвана\" Инк</td>\n",
       "      <td>алл. Юбилейная, д. 5/6</td>\n",
       "      <td>Октябрь</td>\n",
       "    </tr>\n",
       "    <tr>\n",
       "      <th>4</th>\n",
       "      <td>972400</td>\n",
       "      <td>000898990054619</td>\n",
       "      <td>2024-10-04</td>\n",
       "      <td>2024-10-04 22:33:15</td>\n",
       "      <td>509453</td>\n",
       "      <td>нет</td>\n",
       "      <td>18</td>\n",
       "      <td>rub</td>\n",
       "      <td>mobile</td>\n",
       "      <td>1390.41</td>\n",
       "      <td>...</td>\n",
       "      <td>шоу</td>\n",
       "      <td>стендап</td>\n",
       "      <td>№832</td>\n",
       "      <td>Озернинский край</td>\n",
       "      <td>Родниковецк</td>\n",
       "      <td>240.0</td>\n",
       "      <td>1896.0</td>\n",
       "      <td>Театр кукол \"Огни\" Инкорпорэйтед</td>\n",
       "      <td>ш. Набережное, д. 595 стр. 8</td>\n",
       "      <td>Октябрь</td>\n",
       "    </tr>\n",
       "    <tr>\n",
       "      <th>5</th>\n",
       "      <td>2613713</td>\n",
       "      <td>000898990054619</td>\n",
       "      <td>2024-10-23</td>\n",
       "      <td>2024-10-23 15:12:00</td>\n",
       "      <td>500862</td>\n",
       "      <td>нет</td>\n",
       "      <td>12</td>\n",
       "      <td>rub</td>\n",
       "      <td>mobile</td>\n",
       "      <td>902.74</td>\n",
       "      <td>...</td>\n",
       "      <td>концерт</td>\n",
       "      <td>концерты</td>\n",
       "      <td>№1020</td>\n",
       "      <td>Лугоградская область</td>\n",
       "      <td>Кристалевск</td>\n",
       "      <td>193.0</td>\n",
       "      <td>930.0</td>\n",
       "      <td>Школа живописи \"Солнце\" Групп</td>\n",
       "      <td>бул. Отрадный, д. 4 стр. 1</td>\n",
       "      <td>Октябрь</td>\n",
       "    </tr>\n",
       "    <tr>\n",
       "      <th>8</th>\n",
       "      <td>4657952</td>\n",
       "      <td>000a55a418c128c</td>\n",
       "      <td>2024-10-15</td>\n",
       "      <td>2024-10-15 10:29:04</td>\n",
       "      <td>271579</td>\n",
       "      <td>нет</td>\n",
       "      <td>12</td>\n",
       "      <td>rub</td>\n",
       "      <td>mobile</td>\n",
       "      <td>74.84</td>\n",
       "      <td>...</td>\n",
       "      <td>спектакль</td>\n",
       "      <td>театр</td>\n",
       "      <td>№1637</td>\n",
       "      <td>Поленовский край</td>\n",
       "      <td>Дальнозолотск</td>\n",
       "      <td>18.0</td>\n",
       "      <td>3159.0</td>\n",
       "      <td>Клуб начинающих писателей \"Таблицы\" Групп</td>\n",
       "      <td>ул. О.Кошевого, д. 7</td>\n",
       "      <td>Октябрь</td>\n",
       "    </tr>\n",
       "    <tr>\n",
       "      <th>27</th>\n",
       "      <td>2303442</td>\n",
       "      <td>001e7037d013f0f</td>\n",
       "      <td>2024-09-16</td>\n",
       "      <td>2024-09-16 21:13:17</td>\n",
       "      <td>494565</td>\n",
       "      <td>нет</td>\n",
       "      <td>16</td>\n",
       "      <td>rub</td>\n",
       "      <td>mobile</td>\n",
       "      <td>306.58</td>\n",
       "      <td>...</td>\n",
       "      <td>концерт</td>\n",
       "      <td>концерты</td>\n",
       "      <td>№881</td>\n",
       "      <td>Малиновоярский округ</td>\n",
       "      <td>Верховино</td>\n",
       "      <td>197.0</td>\n",
       "      <td>4113.0</td>\n",
       "      <td>Мастерская живого действия \"Гардероб\" Лимитед</td>\n",
       "      <td>ш. 30 лет Победы, д. 38 стр. 664</td>\n",
       "      <td>Сентябрь</td>\n",
       "    </tr>\n",
       "  </tbody>\n",
       "</table>\n",
       "<p>5 rows × 29 columns</p>\n",
       "</div>"
      ],
      "text/plain": [
       "    order_id          user_id created_dt_msk      created_ts_msk  event_id  \\\n",
       "2    7292370  0005ca5e93f2cf4     2024-10-06 2024-10-06 13:56:02    578454   \n",
       "4     972400  000898990054619     2024-10-04 2024-10-04 22:33:15    509453   \n",
       "5    2613713  000898990054619     2024-10-23 2024-10-23 15:12:00    500862   \n",
       "8    4657952  000a55a418c128c     2024-10-15 2024-10-15 10:29:04    271579   \n",
       "27   2303442  001e7037d013f0f     2024-09-16 2024-09-16 21:13:17    494565   \n",
       "\n",
       "   cinema_circuit  age_limit currency_code device_type_canonical  revenue  \\\n",
       "2             нет          0           rub                mobile  1258.57   \n",
       "4             нет         18           rub                mobile  1390.41   \n",
       "5             нет         12           rub                mobile   902.74   \n",
       "8             нет         12           rub                mobile    74.84   \n",
       "27            нет         16           rub                mobile   306.58   \n",
       "\n",
       "    ... event_type_description  event_type_main  organizers  \\\n",
       "2   ...           цирковое шоу           другое       №1540   \n",
       "4   ...                    шоу          стендап        №832   \n",
       "5   ...                концерт         концерты       №1020   \n",
       "8   ...              спектакль            театр       №1637   \n",
       "27  ...                концерт         концерты        №881   \n",
       "\n",
       "             region_name      city_name  city_id  venue_id  \\\n",
       "2     Каменевский регион     Глиногорск    213.0    4507.0   \n",
       "4       Озернинский край    Родниковецк    240.0    1896.0   \n",
       "5   Лугоградская область    Кристалевск    193.0     930.0   \n",
       "8       Поленовский край  Дальнозолотск     18.0    3159.0   \n",
       "27  Малиновоярский округ      Верховино    197.0    4113.0   \n",
       "\n",
       "                                       venue_name  \\\n",
       "2                  Училище искусств \"Нирвана\" Инк   \n",
       "4                Театр кукол \"Огни\" Инкорпорэйтед   \n",
       "5                   Школа живописи \"Солнце\" Групп   \n",
       "8       Клуб начинающих писателей \"Таблицы\" Групп   \n",
       "27  Мастерская живого действия \"Гардероб\" Лимитед   \n",
       "\n",
       "                       venue_address month_name  \n",
       "2             алл. Юбилейная, д. 5/6    Октябрь  \n",
       "4       ш. Набережное, д. 595 стр. 8    Октябрь  \n",
       "5         бул. Отрадный, д. 4 стр. 1    Октябрь  \n",
       "8               ул. О.Кошевого, д. 7    Октябрь  \n",
       "27  ш. 30 лет Победы, д. 38 стр. 664   Сентябрь  \n",
       "\n",
       "[5 rows x 29 columns]"
      ]
     },
     "execution_count": 109,
     "metadata": {},
     "output_type": "execute_result"
    }
   ],
   "source": [
    "time_between_orders.head()"
   ]
  },
  {
   "cell_type": "code",
   "execution_count": 110,
   "id": "4ef30b02",
   "metadata": {},
   "outputs": [
    {
     "data": {
      "text/plain": [
       "3.623093587252717"
      ]
     },
     "execution_count": 110,
     "metadata": {},
     "output_type": "execute_result"
    }
   ],
   "source": [
    "# Среднее время между заказами равно\n",
    "time_between_orders['days_since_prev'].mean()"
   ]
  },
  {
   "cell_type": "code",
   "execution_count": 111,
   "id": "24ab1229",
   "metadata": {},
   "outputs": [
    {
     "data": {
      "text/plain": [
       "148.0"
      ]
     },
     "execution_count": 111,
     "metadata": {},
     "output_type": "execute_result"
    }
   ],
   "source": [
    "time_between_orders['days_since_prev'].max()"
   ]
  },
  {
   "cell_type": "code",
   "execution_count": 112,
   "id": "dd323172",
   "metadata": {},
   "outputs": [
    {
     "data": {
      "text/plain": [
       "0.0"
      ]
     },
     "execution_count": 112,
     "metadata": {},
     "output_type": "execute_result"
    }
   ],
   "source": [
    "time_between_orders['days_since_prev'].min()"
   ]
  },
  {
   "cell_type": "code",
   "execution_count": 113,
   "id": "ba806a20",
   "metadata": {},
   "outputs": [
    {
     "name": "stdout",
     "output_type": "stream",
     "text": [
      "99-й перцентиль: 77.0\n"
     ]
    }
   ],
   "source": [
    "ninety_ninth_percentile = np.percentile(time_between_orders['days_since_prev'], 99)\n",
    "print(\"99-й перцентиль:\", ninety_ninth_percentile)"
   ]
  },
  {
   "cell_type": "code",
   "execution_count": 114,
   "id": "c66167f3",
   "metadata": {},
   "outputs": [],
   "source": [
    "# Разделяем данные на группы по типу устройства\n",
    "mobile_days = time_between_orders[time_between_orders['device_type_canonical'] == 'mobile']['days_since_prev']\n",
    "desktop_days = time_between_orders[time_between_orders['device_type_canonical'] == 'desktop']['days_since_prev']"
   ]
  },
  {
   "cell_type": "code",
   "execution_count": 115,
   "id": "5e255dd1",
   "metadata": {},
   "outputs": [
    {
     "data": {
      "image/png": "[encoded data removed]",
      "text/plain": [
       "<Figure size 720x432 with 1 Axes>"
      ]
     },
     "metadata": {},
     "output_type": "display_data"
    }
   ],
   "source": [
    "# Визуализация распределения среднего времени между заказами\n",
    "# Настройка стиля графика\n",
    "sns.set(style=\"whitegrid\")\n",
    "plt.figure(figsize=(10, 6))\n",
    "# Построение распределения по группам\n",
    "sns.histplot(data=mobile_days[mobile_days < 10], color='#006400', label='mobile', bins=20, kde=True)\n",
    "sns.histplot(data=desktop_days[desktop_days < 10], color='#9ACD32', label='desktop', bins=20, kde=True)\n",
    "#Вывод\n",
    "plt.title('Распределение среднего времени между заказами по устройствам')\n",
    "plt.xlabel('Устройства')\n",
    "plt.ylabel('Время (дни)')\n",
    "plt.legend()\n",
    "plt.show()"
   ]
  },
  {
   "cell_type": "markdown",
   "id": "13dfedba",
   "metadata": {},
   "source": [
    "<div style=\"background-color: white; border: 2px solid black; border-radius: 20px; padding: 15px 25px; display: inline-block; color: black;\">\n",
    "    Большинство пользователей делают заказы сразу или через короткий промежуток времени."
   ]
  },
  {
   "cell_type": "code",
   "execution_count": 116,
   "id": "0d737ea5",
   "metadata": {},
   "outputs": [
    {
     "name": "stdout",
     "output_type": "stream",
     "text": [
      "p-value = 0.00000\n",
      "Отвергаем нулевую гипотезу: время между заказами больше в группе мобильных устройств больше.\n"
     ]
    }
   ],
   "source": [
    "#Гипотеза 2.Среднее время между заказами пользователей мобильных приложений выше по сравнению с пользователями стационарных устройств.\n",
    "    #H0: Среднее время между заказами одинаково для мобильных и стационарных устройств\n",
    "    #H1: Среднее время между заказами больше у пользователей мобильных устройств\n",
    "#Проверка 2 гипотезы\n",
    "# Проверка гипотезы\n",
    "stat, p_value = mannwhitneyu(mobile_days, desktop_days, alternative='greater')\n",
    "\n",
    "print(f\"p-value = {p_value:.5f}\")\n",
    "if p_value < 0.05:\n",
    "    print(\"Отвергаем нулевую гипотезу: время между заказами больше в группе мобильных устройств больше.\")\n",
    "else:\n",
    "    print(\"Не отвергаем нулевую гипотезу: нет доказательства, что время между заказами в группе мобильных устройств больше.\")"
   ]
  },
  {
   "cell_type": "markdown",
   "id": "3e13b480",
   "metadata": {},
   "source": [
    "##  5. Общий вывод и рекомендации\n"
   ]
  },
  {
   "cell_type": "markdown",
   "id": "3ac34f95",
   "metadata": {},
   "source": [
    "<div style=\"background-color: white; border: 2px solid black; border-radius: 20px; padding: 15px 25px; display: inline-block; color: black;\">\n",
    "  EDA\n",
    "1. Подтверждена сезонность роста активности пользователей осенью.\n",
    "    Рекомендация установить до какого месяца идет рост активности осенью, до ноября?\n",
    "2. Замечено снижение средней стоимости билета осенью, особенно для концертов и театра.\n",
    "\n",
    "3. Количество заказов и DAU растёт с августа, и с сентября по октябрь\n",
    "4. Наибольшая активность в выходные дни и средняя стоимость билета выше в пятницу и субботу.\n",
    "5. Много запланированных заранее заказов на мероприятия в середине недели\n",
    "\n",
    "6. Каменевский регион - лидер по количеству заказов и разнообразию мероприятий.\n",
    "7. \"Билеты без проблем\" - лидер по числу заказов, а \"Мой билет\" - по суммарной выручке.\n",
    "\n",
    "    Проверены и подтверждены две гипотезы:\n",
    "\n",
    "1. Пользователи мобильных устройств делают больше заказов.\n",
    "2. Среднее время между заказами у пользователей мобильных устройств больше, чем у стационарных.\n",
    "\n",
    "    Общие рекомендации:\n",
    "Внимание на пользователей мобильными устройствами\n",
    "    - улучшение интерфейса приложения\n",
    "    - персональные предложения\n",
    "    - программа лояльности?\n",
    "\n",
    "Рекомендуется запуск компании для повышению среднего чека (колеблется в диапазоне от 80 до 250 рублей)\n",
    "\n",
    "Каменевский регион - лидер по количеству заказов и разнообразию мероприятий\n",
    "    Рекомендуется расширять и удрживать на высоком уровне сотрудничество с местными организаторами и площадками\n",
    "\n",
    "Продолжать сотрудничество с компанией \"Билеты без проблем\" и \"Мой билет\".\n",
    "Возможно рассмотреть программы лояльности и бонусов. Также программы лояльности для партнёров с высокой стоимостью билета, не вошедших в топ.\n",
    "    Продолжить наблюдение за динамикой осенью - месяц ноябрь для полноты картины и отслеживания в метриках осенне-зимних тенденций"
   ]
  },
  {
   "cell_type": "code",
   "execution_count": null,
   "id": "6215751f",
   "metadata": {},
   "outputs": [],
   "source": []
  }
 ],
 "metadata": {
  "ExecuteTimeLog": [
   {
    "duration": 1464,
    "start_time": "2025-07-04T15:25:38.761Z"
   },
   {
    "duration": 146,
    "start_time": "2025-07-04T15:25:40.228Z"
   },
   {
    "duration": 0,
    "start_time": "2025-07-04T15:25:40.379Z"
   },
   {
    "duration": 0,
    "start_time": "2025-07-04T15:25:40.381Z"
   },
   {
    "duration": 0,
    "start_time": "2025-07-04T15:25:40.382Z"
   },
   {
    "duration": 0,
    "start_time": "2025-07-04T15:25:40.384Z"
   },
   {
    "duration": 0,
    "start_time": "2025-07-04T15:25:40.385Z"
   },
   {
    "duration": 0,
    "start_time": "2025-07-04T15:25:40.386Z"
   },
   {
    "duration": 0,
    "start_time": "2025-07-04T15:25:40.388Z"
   },
   {
    "duration": 0,
    "start_time": "2025-07-04T15:25:40.390Z"
   },
   {
    "duration": 0,
    "start_time": "2025-07-04T15:25:40.391Z"
   },
   {
    "duration": 0,
    "start_time": "2025-07-04T15:25:40.393Z"
   },
   {
    "duration": 0,
    "start_time": "2025-07-04T15:25:40.394Z"
   },
   {
    "duration": 0,
    "start_time": "2025-07-04T15:25:40.396Z"
   },
   {
    "duration": 0,
    "start_time": "2025-07-04T15:25:40.397Z"
   },
   {
    "duration": 0,
    "start_time": "2025-07-04T15:25:40.399Z"
   },
   {
    "duration": 0,
    "start_time": "2025-07-04T15:25:40.400Z"
   },
   {
    "duration": 0,
    "start_time": "2025-07-04T15:25:40.401Z"
   },
   {
    "duration": 0,
    "start_time": "2025-07-04T15:25:40.403Z"
   },
   {
    "duration": 0,
    "start_time": "2025-07-04T15:25:40.404Z"
   },
   {
    "duration": 0,
    "start_time": "2025-07-04T15:25:40.406Z"
   },
   {
    "duration": 0,
    "start_time": "2025-07-04T15:25:40.408Z"
   },
   {
    "duration": 0,
    "start_time": "2025-07-04T15:25:40.409Z"
   },
   {
    "duration": 0,
    "start_time": "2025-07-04T15:25:40.411Z"
   },
   {
    "duration": 0,
    "start_time": "2025-07-04T15:25:40.412Z"
   },
   {
    "duration": 0,
    "start_time": "2025-07-04T15:25:40.461Z"
   },
   {
    "duration": 0,
    "start_time": "2025-07-04T15:25:40.462Z"
   },
   {
    "duration": 0,
    "start_time": "2025-07-04T15:25:40.464Z"
   },
   {
    "duration": 0,
    "start_time": "2025-07-04T15:25:40.465Z"
   },
   {
    "duration": 0,
    "start_time": "2025-07-04T15:25:40.466Z"
   },
   {
    "duration": 0,
    "start_time": "2025-07-04T15:25:40.467Z"
   },
   {
    "duration": 0,
    "start_time": "2025-07-04T15:25:40.468Z"
   },
   {
    "duration": 0,
    "start_time": "2025-07-04T15:25:40.469Z"
   },
   {
    "duration": 0,
    "start_time": "2025-07-04T15:25:40.470Z"
   },
   {
    "duration": 0,
    "start_time": "2025-07-04T15:25:40.471Z"
   },
   {
    "duration": 0,
    "start_time": "2025-07-04T15:25:40.472Z"
   },
   {
    "duration": 0,
    "start_time": "2025-07-04T15:25:40.474Z"
   },
   {
    "duration": 0,
    "start_time": "2025-07-04T15:25:40.475Z"
   },
   {
    "duration": 0,
    "start_time": "2025-07-04T15:25:40.476Z"
   },
   {
    "duration": 0,
    "start_time": "2025-07-04T15:25:40.477Z"
   },
   {
    "duration": 0,
    "start_time": "2025-07-04T15:25:40.478Z"
   },
   {
    "duration": 0,
    "start_time": "2025-07-04T15:25:40.479Z"
   },
   {
    "duration": 0,
    "start_time": "2025-07-04T15:25:40.481Z"
   },
   {
    "duration": 0,
    "start_time": "2025-07-04T15:25:40.482Z"
   },
   {
    "duration": 0,
    "start_time": "2025-07-04T15:25:40.483Z"
   },
   {
    "duration": 0,
    "start_time": "2025-07-04T15:25:40.483Z"
   },
   {
    "duration": 0,
    "start_time": "2025-07-04T15:25:40.485Z"
   },
   {
    "duration": 0,
    "start_time": "2025-07-04T15:25:40.486Z"
   },
   {
    "duration": 0,
    "start_time": "2025-07-04T15:25:40.487Z"
   },
   {
    "duration": 0,
    "start_time": "2025-07-04T15:25:40.488Z"
   },
   {
    "duration": 0,
    "start_time": "2025-07-04T15:25:40.489Z"
   },
   {
    "duration": 0,
    "start_time": "2025-07-04T15:25:40.490Z"
   },
   {
    "duration": 0,
    "start_time": "2025-07-04T15:25:40.491Z"
   },
   {
    "duration": 0,
    "start_time": "2025-07-04T15:25:40.492Z"
   },
   {
    "duration": 0,
    "start_time": "2025-07-04T15:25:40.493Z"
   },
   {
    "duration": 0,
    "start_time": "2025-07-04T15:25:40.494Z"
   },
   {
    "duration": 0,
    "start_time": "2025-07-04T15:25:40.495Z"
   },
   {
    "duration": 0,
    "start_time": "2025-07-04T15:25:40.496Z"
   },
   {
    "duration": 1,
    "start_time": "2025-07-04T15:25:40.560Z"
   },
   {
    "duration": 0,
    "start_time": "2025-07-04T15:25:40.562Z"
   },
   {
    "duration": 0,
    "start_time": "2025-07-04T15:25:40.563Z"
   },
   {
    "duration": 0,
    "start_time": "2025-07-04T15:25:40.564Z"
   },
   {
    "duration": 0,
    "start_time": "2025-07-04T15:25:40.565Z"
   },
   {
    "duration": 0,
    "start_time": "2025-07-04T15:25:40.566Z"
   },
   {
    "duration": 0,
    "start_time": "2025-07-04T15:25:40.567Z"
   },
   {
    "duration": 0,
    "start_time": "2025-07-04T15:25:40.568Z"
   },
   {
    "duration": 0,
    "start_time": "2025-07-04T15:25:40.569Z"
   },
   {
    "duration": 0,
    "start_time": "2025-07-04T15:25:40.570Z"
   },
   {
    "duration": 0,
    "start_time": "2025-07-04T15:25:40.571Z"
   },
   {
    "duration": 0,
    "start_time": "2025-07-04T15:25:40.572Z"
   },
   {
    "duration": 0,
    "start_time": "2025-07-04T15:25:40.573Z"
   },
   {
    "duration": 0,
    "start_time": "2025-07-04T15:25:40.574Z"
   },
   {
    "duration": 0,
    "start_time": "2025-07-04T15:25:40.575Z"
   },
   {
    "duration": 0,
    "start_time": "2025-07-04T15:25:40.576Z"
   },
   {
    "duration": 0,
    "start_time": "2025-07-04T15:25:40.577Z"
   },
   {
    "duration": 0,
    "start_time": "2025-07-04T15:25:40.579Z"
   },
   {
    "duration": 0,
    "start_time": "2025-07-04T15:25:40.580Z"
   },
   {
    "duration": 0,
    "start_time": "2025-07-04T15:25:40.581Z"
   },
   {
    "duration": 0,
    "start_time": "2025-07-04T15:25:40.582Z"
   },
   {
    "duration": 0,
    "start_time": "2025-07-04T15:25:40.583Z"
   },
   {
    "duration": 0,
    "start_time": "2025-07-04T15:25:40.584Z"
   },
   {
    "duration": 0,
    "start_time": "2025-07-04T15:25:40.585Z"
   },
   {
    "duration": 0,
    "start_time": "2025-07-04T15:25:40.587Z"
   },
   {
    "duration": 0,
    "start_time": "2025-07-04T15:25:40.588Z"
   },
   {
    "duration": 0,
    "start_time": "2025-07-04T15:25:40.589Z"
   },
   {
    "duration": 0,
    "start_time": "2025-07-04T15:25:40.590Z"
   },
   {
    "duration": 0,
    "start_time": "2025-07-04T15:25:40.591Z"
   },
   {
    "duration": 0,
    "start_time": "2025-07-04T15:25:40.592Z"
   },
   {
    "duration": 0,
    "start_time": "2025-07-04T15:25:40.593Z"
   },
   {
    "duration": 0,
    "start_time": "2025-07-04T15:25:40.595Z"
   },
   {
    "duration": 0,
    "start_time": "2025-07-04T15:25:40.596Z"
   },
   {
    "duration": 0,
    "start_time": "2025-07-04T15:25:40.661Z"
   },
   {
    "duration": 0,
    "start_time": "2025-07-04T15:25:40.662Z"
   },
   {
    "duration": 0,
    "start_time": "2025-07-04T15:25:40.664Z"
   },
   {
    "duration": 2015,
    "start_time": "2025-07-04T15:26:42.734Z"
   },
   {
    "duration": 11,
    "start_time": "2025-07-04T15:26:45.154Z"
   },
   {
    "duration": 8,
    "start_time": "2025-07-04T15:26:45.523Z"
   },
   {
    "duration": 2082,
    "start_time": "2025-07-04T15:26:57.357Z"
   },
   {
    "duration": 140,
    "start_time": "2025-07-04T15:26:59.441Z"
   },
   {
    "duration": 28,
    "start_time": "2025-07-04T15:26:59.584Z"
   },
   {
    "duration": 59,
    "start_time": "2025-07-04T15:26:59.614Z"
   },
   {
    "duration": 112,
    "start_time": "2025-07-04T15:27:00.063Z"
   },
   {
    "duration": 22,
    "start_time": "2025-07-04T15:27:00.177Z"
   },
   {
    "duration": 372,
    "start_time": "2025-07-04T15:27:00.200Z"
   },
   {
    "duration": 38,
    "start_time": "2025-07-04T15:27:00.574Z"
   },
   {
    "duration": 20,
    "start_time": "2025-07-04T15:27:00.760Z"
   },
   {
    "duration": 7,
    "start_time": "2025-07-04T15:27:01.287Z"
   },
   {
    "duration": 224,
    "start_time": "2025-07-04T15:27:01.668Z"
   },
   {
    "duration": 298,
    "start_time": "2025-07-04T15:27:02.075Z"
   },
   {
    "duration": 3,
    "start_time": "2025-07-04T15:27:02.643Z"
   },
   {
    "duration": 5888,
    "start_time": "2025-07-04T15:27:02.828Z"
   },
   {
    "duration": 100,
    "start_time": "2025-07-04T15:27:08.718Z"
   },
   {
    "duration": 16,
    "start_time": "2025-07-04T15:27:08.820Z"
   },
   {
    "duration": 22,
    "start_time": "2025-07-04T15:27:08.839Z"
   },
   {
    "duration": 123,
    "start_time": "2025-07-04T15:27:08.864Z"
   },
   {
    "duration": 29,
    "start_time": "2025-07-04T15:27:08.989Z"
   },
   {
    "duration": 202,
    "start_time": "2025-07-04T15:27:09.020Z"
   },
   {
    "duration": 4,
    "start_time": "2025-07-04T15:27:09.223Z"
   },
   {
    "duration": 215,
    "start_time": "2025-07-04T15:27:09.228Z"
   },
   {
    "duration": 149,
    "start_time": "2025-07-04T15:27:09.446Z"
   },
   {
    "duration": 249,
    "start_time": "2025-07-04T15:27:09.597Z"
   },
   {
    "duration": 267,
    "start_time": "2025-07-04T15:27:09.848Z"
   },
   {
    "duration": 235,
    "start_time": "2025-07-04T15:27:10.117Z"
   },
   {
    "duration": 194,
    "start_time": "2025-07-04T15:27:10.360Z"
   },
   {
    "duration": 14,
    "start_time": "2025-07-04T15:27:10.556Z"
   },
   {
    "duration": 215,
    "start_time": "2025-07-04T15:27:10.574Z"
   },
   {
    "duration": 9,
    "start_time": "2025-07-04T15:27:10.790Z"
   },
   {
    "duration": 0,
    "start_time": "2025-07-04T15:27:10.801Z"
   },
   {
    "duration": 0,
    "start_time": "2025-07-04T15:27:10.802Z"
   },
   {
    "duration": 0,
    "start_time": "2025-07-04T15:27:10.803Z"
   },
   {
    "duration": 0,
    "start_time": "2025-07-04T15:27:10.804Z"
   },
   {
    "duration": 0,
    "start_time": "2025-07-04T15:27:10.805Z"
   },
   {
    "duration": 0,
    "start_time": "2025-07-04T15:27:10.806Z"
   },
   {
    "duration": 0,
    "start_time": "2025-07-04T15:27:10.807Z"
   },
   {
    "duration": 55,
    "start_time": "2025-07-04T15:27:11.804Z"
   },
   {
    "duration": 12,
    "start_time": "2025-07-04T15:27:12.446Z"
   },
   {
    "duration": 46,
    "start_time": "2025-07-04T15:27:13.259Z"
   },
   {
    "duration": 183,
    "start_time": "2025-07-04T15:29:46.933Z"
   },
   {
    "duration": 198,
    "start_time": "2025-07-04T15:29:47.513Z"
   },
   {
    "duration": 231,
    "start_time": "2025-07-04T15:29:47.713Z"
   },
   {
    "duration": 703,
    "start_time": "2025-07-04T15:29:47.946Z"
   },
   {
    "duration": 36,
    "start_time": "2025-07-04T15:29:48.651Z"
   },
   {
    "duration": 15,
    "start_time": "2025-07-04T15:29:48.689Z"
   },
   {
    "duration": 8,
    "start_time": "2025-07-04T15:29:48.706Z"
   },
   {
    "duration": 95,
    "start_time": "2025-07-04T15:29:48.715Z"
   },
   {
    "duration": 11,
    "start_time": "2025-07-04T15:29:48.812Z"
   },
   {
    "duration": 64,
    "start_time": "2025-07-04T15:29:48.824Z"
   },
   {
    "duration": 417,
    "start_time": "2025-07-04T15:29:48.892Z"
   },
   {
    "duration": 89,
    "start_time": "2025-07-04T15:29:49.311Z"
   },
   {
    "duration": 30,
    "start_time": "2025-07-04T15:29:49.402Z"
   },
   {
    "duration": 6,
    "start_time": "2025-07-04T15:29:49.433Z"
   },
   {
    "duration": 288,
    "start_time": "2025-07-04T15:29:49.440Z"
   },
   {
    "duration": 383,
    "start_time": "2025-07-04T15:29:49.730Z"
   },
   {
    "duration": 34,
    "start_time": "2025-07-04T15:29:50.114Z"
   },
   {
    "duration": 9,
    "start_time": "2025-07-04T15:29:50.162Z"
   },
   {
    "duration": 374,
    "start_time": "2025-07-04T15:29:50.174Z"
   },
   {
    "duration": 343,
    "start_time": "2025-07-04T15:29:50.550Z"
   },
   {
    "duration": 5,
    "start_time": "2025-07-04T15:29:50.895Z"
   },
   {
    "duration": 17,
    "start_time": "2025-07-04T15:29:50.902Z"
   },
   {
    "duration": 383,
    "start_time": "2025-07-04T15:29:50.921Z"
   },
   {
    "duration": 23,
    "start_time": "2025-07-04T15:29:51.308Z"
   },
   {
    "duration": 35,
    "start_time": "2025-07-04T15:29:51.333Z"
   },
   {
    "duration": 592,
    "start_time": "2025-07-04T15:29:51.371Z"
   },
   {
    "duration": 118,
    "start_time": "2025-07-04T15:29:51.966Z"
   },
   {
    "duration": 6,
    "start_time": "2025-07-04T15:29:52.086Z"
   },
   {
    "duration": 72,
    "start_time": "2025-07-04T15:29:52.094Z"
   },
   {
    "duration": 120,
    "start_time": "2025-07-04T15:29:52.169Z"
   },
   {
    "duration": 70,
    "start_time": "2025-07-04T15:29:52.291Z"
   },
   {
    "duration": 125,
    "start_time": "2025-07-04T15:29:52.364Z"
   },
   {
    "duration": 6,
    "start_time": "2025-07-04T15:29:52.491Z"
   },
   {
    "duration": 63,
    "start_time": "2025-07-04T15:29:52.499Z"
   },
   {
    "duration": 2624,
    "start_time": "2025-07-04T15:29:52.565Z"
   },
   {
    "duration": 39,
    "start_time": "2025-07-04T15:29:55.192Z"
   },
   {
    "duration": 1033,
    "start_time": "2025-07-04T15:29:55.233Z"
   },
   {
    "duration": 208,
    "start_time": "2025-07-04T15:29:56.269Z"
   },
   {
    "duration": 5,
    "start_time": "2025-07-04T15:29:56.479Z"
   },
   {
    "duration": 12,
    "start_time": "2025-07-04T15:29:56.485Z"
   },
   {
    "duration": 75,
    "start_time": "2025-07-04T15:29:56.498Z"
   },
   {
    "duration": 206,
    "start_time": "2025-07-04T15:29:56.575Z"
   },
   {
    "duration": 10,
    "start_time": "2025-07-04T15:29:56.783Z"
   },
   {
    "duration": 80,
    "start_time": "2025-07-04T15:29:56.794Z"
   },
   {
    "duration": 15,
    "start_time": "2025-07-04T15:29:56.878Z"
   },
   {
    "duration": 206,
    "start_time": "2025-07-04T15:29:56.895Z"
   },
   {
    "duration": 159,
    "start_time": "2025-07-04T15:29:57.102Z"
   },
   {
    "duration": 105,
    "start_time": "2025-07-04T15:29:57.264Z"
   },
   {
    "duration": 7,
    "start_time": "2025-07-04T15:29:57.373Z"
   },
   {
    "duration": 9,
    "start_time": "2025-07-04T15:29:57.383Z"
   },
   {
    "duration": 682,
    "start_time": "2025-07-04T15:29:57.396Z"
   },
   {
    "duration": 6,
    "start_time": "2025-07-04T15:29:58.079Z"
   },
   {
    "duration": 137,
    "start_time": "2025-07-04T15:29:58.087Z"
   },
   {
    "duration": 15,
    "start_time": "2025-07-04T15:29:58.226Z"
   },
   {
    "duration": 49,
    "start_time": "2025-07-04T15:29:58.243Z"
   },
   {
    "duration": 24,
    "start_time": "2025-07-04T15:29:58.294Z"
   },
   {
    "duration": 8,
    "start_time": "2025-07-04T15:29:58.319Z"
   },
   {
    "duration": 14,
    "start_time": "2025-07-04T15:29:58.328Z"
   },
   {
    "duration": 20,
    "start_time": "2025-07-04T15:29:58.344Z"
   },
   {
    "duration": 7,
    "start_time": "2025-07-04T15:29:58.366Z"
   },
   {
    "duration": 91,
    "start_time": "2025-07-04T15:29:58.374Z"
   },
   {
    "duration": 1369,
    "start_time": "2025-07-04T15:29:58.468Z"
   },
   {
    "duration": 124,
    "start_time": "2025-07-04T15:29:59.839Z"
   },
   {
    "duration": 50,
    "start_time": "2025-07-05T06:31:32.861Z"
   },
   {
    "duration": 1356,
    "start_time": "2025-07-05T06:31:36.883Z"
   },
   {
    "duration": 953,
    "start_time": "2025-07-05T06:31:38.241Z"
   },
   {
    "duration": 122,
    "start_time": "2025-07-05T06:31:46.211Z"
   },
   {
    "duration": 9,
    "start_time": "2025-07-05T06:36:19.176Z"
   },
   {
    "duration": 21,
    "start_time": "2025-07-05T06:41:34.364Z"
   },
   {
    "duration": 81,
    "start_time": "2025-07-05T06:41:59.554Z"
   },
   {
    "duration": 24,
    "start_time": "2025-07-05T06:42:14.649Z"
   },
   {
    "duration": 2,
    "start_time": "2025-07-05T06:46:09.117Z"
   },
   {
    "duration": 8,
    "start_time": "2025-07-05T06:47:44.556Z"
   },
   {
    "duration": 4,
    "start_time": "2025-07-05T06:47:56.691Z"
   },
   {
    "duration": 3366,
    "start_time": "2025-07-05T06:47:57.099Z"
   },
   {
    "duration": 112,
    "start_time": "2025-07-05T06:48:00.468Z"
   },
   {
    "duration": 26,
    "start_time": "2025-07-05T06:48:00.581Z"
   },
   {
    "duration": 10,
    "start_time": "2025-07-05T06:48:00.610Z"
   },
   {
    "duration": 134,
    "start_time": "2025-07-05T06:48:00.622Z"
   },
   {
    "duration": 75,
    "start_time": "2025-07-05T06:48:00.758Z"
   },
   {
    "duration": 129,
    "start_time": "2025-07-05T06:48:00.835Z"
   },
   {
    "duration": 4,
    "start_time": "2025-07-05T06:48:01.099Z"
   },
   {
    "duration": 77,
    "start_time": "2025-07-05T06:48:03.229Z"
   },
   {
    "duration": 128,
    "start_time": "2025-07-05T06:48:03.308Z"
   },
   {
    "duration": 243,
    "start_time": "2025-07-05T06:48:04.083Z"
   },
   {
    "duration": 252,
    "start_time": "2025-07-05T06:48:04.603Z"
   },
   {
    "duration": 201,
    "start_time": "2025-07-05T06:48:06.571Z"
   },
   {
    "duration": 189,
    "start_time": "2025-07-05T06:48:08.563Z"
   },
   {
    "duration": 28,
    "start_time": "2025-07-05T06:48:12.514Z"
   },
   {
    "duration": 160,
    "start_time": "2025-07-05T06:48:14.955Z"
   },
   {
    "duration": 25,
    "start_time": "2025-07-05T06:48:51.968Z"
   },
   {
    "duration": 179,
    "start_time": "2025-07-05T06:48:53.608Z"
   },
   {
    "duration": 204,
    "start_time": "2025-07-05T06:48:55.345Z"
   },
   {
    "duration": 666,
    "start_time": "2025-07-05T06:48:55.705Z"
   },
   {
    "duration": 18,
    "start_time": "2025-07-05T06:48:56.456Z"
   },
   {
    "duration": 15,
    "start_time": "2025-07-05T06:48:57.304Z"
   },
   {
    "duration": 5,
    "start_time": "2025-07-05T06:48:57.898Z"
   },
   {
    "duration": 15,
    "start_time": "2025-07-05T06:48:58.729Z"
   },
   {
    "duration": 15,
    "start_time": "2025-07-05T06:49:30.880Z"
   },
   {
    "duration": 23,
    "start_time": "2025-07-05T06:50:01.286Z"
   },
   {
    "duration": 15,
    "start_time": "2025-07-05T06:51:32.107Z"
   },
   {
    "duration": 14,
    "start_time": "2025-07-05T06:51:32.938Z"
   },
   {
    "duration": 10,
    "start_time": "2025-07-05T06:55:14.315Z"
   },
   {
    "duration": 11,
    "start_time": "2025-07-05T06:55:22.714Z"
   },
   {
    "duration": 62,
    "start_time": "2025-07-05T06:55:24.202Z"
   },
   {
    "duration": 51,
    "start_time": "2025-07-05T06:56:54.566Z"
   },
   {
    "duration": 36,
    "start_time": "2025-07-05T06:57:06.173Z"
   },
   {
    "duration": 34,
    "start_time": "2025-07-05T06:57:39.149Z"
   },
   {
    "duration": 346,
    "start_time": "2025-07-05T06:57:52.973Z"
   },
   {
    "duration": 235,
    "start_time": "2025-07-05T06:58:08.013Z"
   },
   {
    "duration": 30,
    "start_time": "2025-07-05T06:58:11.539Z"
   },
   {
    "duration": 5,
    "start_time": "2025-07-05T06:58:12.204Z"
   },
   {
    "duration": 207,
    "start_time": "2025-07-05T06:58:17.066Z"
   },
   {
    "duration": 333,
    "start_time": "2025-07-05T06:58:22.356Z"
   },
   {
    "duration": 304,
    "start_time": "2025-07-05T06:59:55.888Z"
   },
   {
    "duration": 482,
    "start_time": "2025-07-05T07:00:14.376Z"
   },
   {
    "duration": 453,
    "start_time": "2025-07-05T07:00:51.561Z"
   },
   {
    "duration": 31,
    "start_time": "2025-07-05T07:01:09.524Z"
   },
   {
    "duration": 5,
    "start_time": "2025-07-05T07:01:10.419Z"
   },
   {
    "duration": 375,
    "start_time": "2025-07-05T07:01:12.645Z"
   },
   {
    "duration": 278,
    "start_time": "2025-07-05T07:01:16.723Z"
   },
   {
    "duration": 5,
    "start_time": "2025-07-05T07:01:20.867Z"
   },
   {
    "duration": 10,
    "start_time": "2025-07-05T07:01:21.429Z"
   },
   {
    "duration": 22,
    "start_time": "2025-07-05T07:02:00.191Z"
   },
   {
    "duration": 14,
    "start_time": "2025-07-05T07:02:00.762Z"
   },
   {
    "duration": 378,
    "start_time": "2025-07-05T07:02:02.997Z"
   },
   {
    "duration": 51,
    "start_time": "2025-07-05T07:02:06.072Z"
   },
   {
    "duration": 4,
    "start_time": "2025-07-05T07:02:06.553Z"
   },
   {
    "duration": 11,
    "start_time": "2025-07-05T07:02:08.680Z"
   },
   {
    "duration": 90,
    "start_time": "2025-07-05T07:03:33.929Z"
   },
   {
    "duration": 82,
    "start_time": "2025-07-05T07:03:56.456Z"
   },
   {
    "duration": 91,
    "start_time": "2025-07-05T07:04:13.582Z"
   },
   {
    "duration": 100,
    "start_time": "2025-07-05T07:05:27.378Z"
   },
   {
    "duration": 113,
    "start_time": "2025-07-05T07:06:19.345Z"
   },
   {
    "duration": 44,
    "start_time": "2025-07-05T07:07:40.492Z"
   },
   {
    "duration": 5,
    "start_time": "2025-07-05T07:07:41.753Z"
   },
   {
    "duration": 277,
    "start_time": "2025-07-05T07:07:43.285Z"
   },
   {
    "duration": 57,
    "start_time": "2025-07-05T07:09:23.770Z"
   },
   {
    "duration": 4,
    "start_time": "2025-07-05T07:09:28.266Z"
   },
   {
    "duration": 11,
    "start_time": "2025-07-05T07:09:28.954Z"
   },
   {
    "duration": 52,
    "start_time": "2025-07-05T07:10:01.490Z"
   },
   {
    "duration": 14,
    "start_time": "2025-07-05T07:10:03.518Z"
   },
   {
    "duration": 58,
    "start_time": "2025-07-05T07:10:25.391Z"
   },
   {
    "duration": 19,
    "start_time": "2025-07-05T07:10:26.102Z"
   },
   {
    "duration": 212,
    "start_time": "2025-07-05T07:10:45.965Z"
   },
   {
    "duration": 13,
    "start_time": "2025-07-05T07:10:46.582Z"
   },
   {
    "duration": 133,
    "start_time": "2025-07-05T07:11:36.844Z"
   },
   {
    "duration": 153,
    "start_time": "2025-07-05T07:12:43.010Z"
   },
   {
    "duration": 39,
    "start_time": "2025-07-05T07:13:03.167Z"
   },
   {
    "duration": 21,
    "start_time": "2025-07-05T07:13:04.312Z"
   },
   {
    "duration": 51,
    "start_time": "2025-07-05T07:13:08.688Z"
   },
   {
    "duration": 4,
    "start_time": "2025-07-05T07:13:09.928Z"
   },
   {
    "duration": 34,
    "start_time": "2025-07-05T07:13:55.654Z"
   },
   {
    "duration": 7,
    "start_time": "2025-07-05T07:13:59.014Z"
   },
   {
    "duration": 5,
    "start_time": "2025-07-05T07:13:59.543Z"
   },
   {
    "duration": 1583,
    "start_time": "2025-07-05T07:14:00.896Z"
   },
   {
    "duration": 1673,
    "start_time": "2025-07-05T07:14:06.261Z"
   },
   {
    "duration": 44,
    "start_time": "2025-07-05T07:14:56.965Z"
   },
   {
    "duration": 786,
    "start_time": "2025-07-05T07:14:59.556Z"
   },
   {
    "duration": 86,
    "start_time": "2025-07-05T07:15:05.995Z"
   },
   {
    "duration": 4,
    "start_time": "2025-07-05T07:15:07.644Z"
   },
   {
    "duration": 15,
    "start_time": "2025-07-05T07:15:07.907Z"
   },
   {
    "duration": 10,
    "start_time": "2025-07-05T07:15:08.269Z"
   },
   {
    "duration": 96,
    "start_time": "2025-07-05T07:16:04.367Z"
   },
   {
    "duration": 11,
    "start_time": "2025-07-05T07:16:08.264Z"
   },
   {
    "duration": 10,
    "start_time": "2025-07-05T07:16:09.962Z"
   },
   {
    "duration": 11,
    "start_time": "2025-07-05T07:16:10.464Z"
   },
   {
    "duration": 60,
    "start_time": "2025-07-05T07:16:19.787Z"
   },
   {
    "duration": 49,
    "start_time": "2025-07-05T07:16:21.368Z"
   },
   {
    "duration": 20,
    "start_time": "2025-07-05T07:16:21.817Z"
   },
   {
    "duration": 58,
    "start_time": "2025-07-05T07:16:43.880Z"
   },
   {
    "duration": 53,
    "start_time": "2025-07-05T07:16:49.079Z"
   },
   {
    "duration": 16,
    "start_time": "2025-07-05T07:16:49.688Z"
   },
   {
    "duration": 4,
    "start_time": "2025-07-05T07:16:53.853Z"
   },
   {
    "duration": 14,
    "start_time": "2025-07-05T07:16:56.607Z"
   },
   {
    "duration": 514,
    "start_time": "2025-07-05T07:17:00.751Z"
   },
   {
    "duration": 76,
    "start_time": "2025-07-05T07:22:01.755Z"
   },
   {
    "duration": 75,
    "start_time": "2025-07-05T07:22:17.002Z"
   },
   {
    "duration": 495,
    "start_time": "2025-07-05T07:22:50.218Z"
   },
   {
    "duration": 6,
    "start_time": "2025-07-05T07:24:58.915Z"
   },
   {
    "duration": 16,
    "start_time": "2025-07-05T07:25:02.172Z"
   },
   {
    "duration": 15,
    "start_time": "2025-07-05T07:26:07.537Z"
   },
   {
    "duration": 36,
    "start_time": "2025-07-05T07:27:53.483Z"
   },
   {
    "duration": 26,
    "start_time": "2025-07-05T07:27:54.410Z"
   },
   {
    "duration": 8,
    "start_time": "2025-07-05T07:27:59.004Z"
   },
   {
    "duration": 5,
    "start_time": "2025-07-05T07:27:59.937Z"
   },
   {
    "duration": 5,
    "start_time": "2025-07-05T07:28:00.530Z"
   },
   {
    "duration": 5,
    "start_time": "2025-07-05T07:28:05.049Z"
   },
   {
    "duration": 68,
    "start_time": "2025-07-05T07:28:06.435Z"
   },
   {
    "duration": 5,
    "start_time": "2025-07-05T07:28:42.547Z"
   },
   {
    "duration": 8,
    "start_time": "2025-07-05T07:29:04.614Z"
   },
   {
    "duration": 7,
    "start_time": "2025-07-05T07:29:05.098Z"
   },
   {
    "duration": 5,
    "start_time": "2025-07-05T07:29:05.533Z"
   },
   {
    "duration": 81,
    "start_time": "2025-07-05T07:29:05.970Z"
   },
   {
    "duration": 1339,
    "start_time": "2025-07-05T07:29:08.515Z"
   },
   {
    "duration": 125,
    "start_time": "2025-07-05T07:29:12.779Z"
   },
   {
    "duration": 414,
    "start_time": "2025-07-05T07:34:14.094Z"
   },
   {
    "duration": 13,
    "start_time": "2025-07-05T07:34:14.575Z"
   },
   {
    "duration": 87,
    "start_time": "2025-07-05T07:35:40.002Z"
   },
   {
    "duration": 104,
    "start_time": "2025-07-05T07:36:10.770Z"
   },
   {
    "duration": 13,
    "start_time": "2025-07-05T07:37:24.137Z"
   },
   {
    "duration": 291,
    "start_time": "2025-07-05T07:40:37.343Z"
   },
   {
    "duration": 198,
    "start_time": "2025-07-05T07:41:38.435Z"
   },
   {
    "duration": 201,
    "start_time": "2025-07-05T07:43:14.271Z"
   },
   {
    "duration": 227,
    "start_time": "2025-07-05T07:43:40.656Z"
   },
   {
    "duration": 193,
    "start_time": "2025-07-05T07:43:43.277Z"
   },
   {
    "duration": 215,
    "start_time": "2025-07-05T07:43:51.580Z"
   },
   {
    "duration": 164,
    "start_time": "2025-07-05T07:44:22.526Z"
   },
   {
    "duration": 1244,
    "start_time": "2025-07-05T07:44:51.315Z"
   },
   {
    "duration": 891,
    "start_time": "2025-07-05T07:44:52.561Z"
   },
   {
    "duration": 106,
    "start_time": "2025-07-05T07:44:53.454Z"
   },
   {
    "duration": 37,
    "start_time": "2025-07-05T07:44:53.562Z"
   },
   {
    "duration": 19,
    "start_time": "2025-07-05T07:44:53.601Z"
   },
   {
    "duration": 116,
    "start_time": "2025-07-05T07:44:53.621Z"
   },
   {
    "duration": 24,
    "start_time": "2025-07-05T07:44:53.739Z"
   },
   {
    "duration": 339,
    "start_time": "2025-07-05T07:44:53.764Z"
   },
   {
    "duration": 44,
    "start_time": "2025-07-05T07:44:54.105Z"
   },
   {
    "duration": 45,
    "start_time": "2025-07-05T07:44:54.151Z"
   },
   {
    "duration": 15,
    "start_time": "2025-07-05T07:44:54.198Z"
   },
   {
    "duration": 3,
    "start_time": "2025-07-05T07:44:54.216Z"
   },
   {
    "duration": 267,
    "start_time": "2025-07-05T07:44:54.222Z"
   },
   {
    "duration": 330,
    "start_time": "2025-07-05T07:44:54.498Z"
   },
   {
    "duration": 181,
    "start_time": "2025-07-05T07:44:54.830Z"
   },
   {
    "duration": 216,
    "start_time": "2025-07-05T07:44:55.015Z"
   },
   {
    "duration": 159,
    "start_time": "2025-07-05T07:44:55.233Z"
   },
   {
    "duration": 4,
    "start_time": "2025-07-05T07:44:55.394Z"
   },
   {
    "duration": 5124,
    "start_time": "2025-07-05T07:44:55.400Z"
   },
   {
    "duration": 84,
    "start_time": "2025-07-05T07:45:00.526Z"
   },
   {
    "duration": 64,
    "start_time": "2025-07-05T07:45:00.613Z"
   },
   {
    "duration": 11,
    "start_time": "2025-07-05T07:45:00.678Z"
   },
   {
    "duration": 104,
    "start_time": "2025-07-05T07:45:00.691Z"
   },
   {
    "duration": 31,
    "start_time": "2025-07-05T07:45:00.797Z"
   },
   {
    "duration": 129,
    "start_time": "2025-07-05T07:45:00.831Z"
   },
   {
    "duration": 3,
    "start_time": "2025-07-05T07:45:00.962Z"
   },
   {
    "duration": 126,
    "start_time": "2025-07-05T07:45:00.966Z"
   },
   {
    "duration": 128,
    "start_time": "2025-07-05T07:45:01.096Z"
   },
   {
    "duration": 223,
    "start_time": "2025-07-05T07:45:01.226Z"
   },
   {
    "duration": 253,
    "start_time": "2025-07-05T07:45:01.450Z"
   },
   {
    "duration": 233,
    "start_time": "2025-07-05T07:45:01.707Z"
   },
   {
    "duration": 184,
    "start_time": "2025-07-05T07:45:01.942Z"
   },
   {
    "duration": 34,
    "start_time": "2025-07-05T07:45:02.128Z"
   },
   {
    "duration": 204,
    "start_time": "2025-07-05T07:45:02.163Z"
   },
   {
    "duration": 218,
    "start_time": "2025-07-05T07:45:02.368Z"
   },
   {
    "duration": 641,
    "start_time": "2025-07-05T07:45:02.588Z"
   },
   {
    "duration": 18,
    "start_time": "2025-07-05T07:45:03.231Z"
   },
   {
    "duration": 52,
    "start_time": "2025-07-05T07:45:03.250Z"
   },
   {
    "duration": 23,
    "start_time": "2025-07-05T07:45:03.304Z"
   },
   {
    "duration": 67,
    "start_time": "2025-07-05T07:45:03.328Z"
   },
   {
    "duration": 32,
    "start_time": "2025-07-05T07:45:03.396Z"
   },
   {
    "duration": 49,
    "start_time": "2025-07-05T07:45:03.430Z"
   },
   {
    "duration": 35,
    "start_time": "2025-07-05T07:45:03.480Z"
   },
   {
    "duration": 37,
    "start_time": "2025-07-05T07:45:03.517Z"
   },
   {
    "duration": 76,
    "start_time": "2025-07-05T07:45:03.556Z"
   },
   {
    "duration": 11,
    "start_time": "2025-07-05T07:45:03.633Z"
   },
   {
    "duration": 145,
    "start_time": "2025-07-05T07:45:03.646Z"
   },
   {
    "duration": 60,
    "start_time": "2025-07-05T07:45:03.793Z"
   },
   {
    "duration": 44,
    "start_time": "2025-07-05T07:45:03.854Z"
   },
   {
    "duration": 338,
    "start_time": "2025-07-05T07:45:03.901Z"
   },
   {
    "duration": 206,
    "start_time": "2025-07-05T07:45:04.241Z"
   },
   {
    "duration": 27,
    "start_time": "2025-07-05T07:45:04.449Z"
   },
   {
    "duration": 24,
    "start_time": "2025-07-05T07:45:04.478Z"
   },
   {
    "duration": 248,
    "start_time": "2025-07-05T07:45:04.504Z"
   },
   {
    "duration": 332,
    "start_time": "2025-07-05T07:45:04.754Z"
   },
   {
    "duration": 559,
    "start_time": "2025-07-05T07:45:05.088Z"
   },
   {
    "duration": 28,
    "start_time": "2025-07-05T07:45:05.649Z"
   },
   {
    "duration": 78,
    "start_time": "2025-07-05T07:45:05.679Z"
   },
   {
    "duration": 324,
    "start_time": "2025-07-05T07:45:05.758Z"
   },
   {
    "duration": 291,
    "start_time": "2025-07-05T07:45:06.084Z"
   },
   {
    "duration": 5,
    "start_time": "2025-07-05T07:45:06.377Z"
   },
   {
    "duration": 27,
    "start_time": "2025-07-05T07:45:06.383Z"
   },
   {
    "duration": 389,
    "start_time": "2025-07-05T07:45:06.412Z"
   },
   {
    "duration": 33,
    "start_time": "2025-07-05T07:45:06.804Z"
   },
   {
    "duration": 22,
    "start_time": "2025-07-05T07:45:06.839Z"
   },
   {
    "duration": 515,
    "start_time": "2025-07-05T07:45:06.863Z"
   },
   {
    "duration": 69,
    "start_time": "2025-07-05T07:45:07.379Z"
   },
   {
    "duration": 4,
    "start_time": "2025-07-05T07:45:07.450Z"
   },
   {
    "duration": 18,
    "start_time": "2025-07-05T07:45:07.456Z"
   },
   {
    "duration": 64,
    "start_time": "2025-07-05T07:45:07.475Z"
   },
   {
    "duration": 150,
    "start_time": "2025-07-05T07:45:07.541Z"
   },
   {
    "duration": 33,
    "start_time": "2025-07-05T07:45:07.693Z"
   },
   {
    "duration": 55,
    "start_time": "2025-07-05T07:45:07.727Z"
   },
   {
    "duration": 69,
    "start_time": "2025-07-05T07:45:07.784Z"
   },
   {
    "duration": 3,
    "start_time": "2025-07-05T07:45:07.854Z"
   },
   {
    "duration": 38,
    "start_time": "2025-07-05T07:45:07.859Z"
   },
   {
    "duration": 1691,
    "start_time": "2025-07-05T07:45:07.899Z"
   },
   {
    "duration": 46,
    "start_time": "2025-07-05T07:45:09.592Z"
   },
   {
    "duration": 958,
    "start_time": "2025-07-05T07:45:09.640Z"
   },
   {
    "duration": 125,
    "start_time": "2025-07-05T07:45:10.600Z"
   },
   {
    "duration": 4,
    "start_time": "2025-07-05T07:45:10.726Z"
   },
   {
    "duration": 9,
    "start_time": "2025-07-05T07:45:10.736Z"
   },
   {
    "duration": 10,
    "start_time": "2025-07-05T07:45:10.747Z"
   },
   {
    "duration": 128,
    "start_time": "2025-07-05T07:45:10.759Z"
   },
   {
    "duration": 11,
    "start_time": "2025-07-05T07:45:10.889Z"
   },
   {
    "duration": 86,
    "start_time": "2025-07-05T07:45:10.902Z"
   },
   {
    "duration": 20,
    "start_time": "2025-07-05T07:45:10.990Z"
   },
   {
    "duration": 77,
    "start_time": "2025-07-05T07:45:11.011Z"
   },
   {
    "duration": 55,
    "start_time": "2025-07-05T07:45:11.090Z"
   },
   {
    "duration": 69,
    "start_time": "2025-07-05T07:45:11.146Z"
   },
   {
    "duration": 21,
    "start_time": "2025-07-05T07:45:11.218Z"
   },
   {
    "duration": 8,
    "start_time": "2025-07-05T07:45:11.241Z"
   },
   {
    "duration": 595,
    "start_time": "2025-07-05T07:45:11.251Z"
   },
   {
    "duration": 88,
    "start_time": "2025-07-05T07:45:11.847Z"
   },
   {
    "duration": 4,
    "start_time": "2025-07-05T07:45:11.937Z"
   },
   {
    "duration": 15,
    "start_time": "2025-07-05T07:45:11.942Z"
   },
   {
    "duration": 14,
    "start_time": "2025-07-05T07:45:11.959Z"
   },
   {
    "duration": 70,
    "start_time": "2025-07-05T07:45:11.975Z"
   },
   {
    "duration": 22,
    "start_time": "2025-07-05T07:45:12.047Z"
   },
   {
    "duration": 117,
    "start_time": "2025-07-05T07:45:12.070Z"
   },
   {
    "duration": 18,
    "start_time": "2025-07-05T07:45:12.189Z"
   },
   {
    "duration": 12,
    "start_time": "2025-07-05T07:45:12.209Z"
   },
   {
    "duration": 16,
    "start_time": "2025-07-05T07:45:12.223Z"
   },
   {
    "duration": 76,
    "start_time": "2025-07-05T07:45:12.241Z"
   },
   {
    "duration": 1287,
    "start_time": "2025-07-05T07:45:12.319Z"
   },
   {
    "duration": 121,
    "start_time": "2025-07-05T07:45:13.608Z"
   },
   {
    "duration": 85,
    "start_time": "2025-07-05T07:45:40.170Z"
   },
   {
    "duration": 164,
    "start_time": "2025-07-05T07:45:50.262Z"
   },
   {
    "duration": 133,
    "start_time": "2025-07-05T07:45:58.898Z"
   },
   {
    "duration": 112,
    "start_time": "2025-07-05T07:46:04.560Z"
   },
   {
    "duration": 36,
    "start_time": "2025-07-05T07:46:07.704Z"
   },
   {
    "duration": 15,
    "start_time": "2025-07-05T07:46:08.449Z"
   },
   {
    "duration": 89,
    "start_time": "2025-07-05T07:46:22.090Z"
   },
   {
    "duration": 95,
    "start_time": "2025-07-05T07:46:50.575Z"
   },
   {
    "duration": 14,
    "start_time": "2025-07-05T07:46:52.832Z"
   },
   {
    "duration": 249,
    "start_time": "2025-07-05T07:46:53.557Z"
   },
   {
    "duration": 45,
    "start_time": "2025-07-05T07:46:53.991Z"
   },
   {
    "duration": 10,
    "start_time": "2025-07-05T07:46:54.535Z"
   },
   {
    "duration": 7,
    "start_time": "2025-07-05T07:46:58.557Z"
   },
   {
    "duration": 2,
    "start_time": "2025-07-05T07:47:05.964Z"
   },
   {
    "duration": 86,
    "start_time": "2025-07-05T07:47:25.297Z"
   },
   {
    "duration": 121,
    "start_time": "2025-07-05T07:47:32.124Z"
   },
   {
    "duration": 343,
    "start_time": "2025-07-05T07:47:34.084Z"
   },
   {
    "duration": 219,
    "start_time": "2025-07-05T07:47:35.502Z"
   },
   {
    "duration": 144,
    "start_time": "2025-07-05T07:47:38.718Z"
   },
   {
    "duration": 157,
    "start_time": "2025-07-05T07:47:39.433Z"
   },
   {
    "duration": 154,
    "start_time": "2025-07-05T07:47:42.254Z"
   },
   {
    "duration": 241,
    "start_time": "2025-07-05T07:47:49.798Z"
   },
   {
    "duration": 9,
    "start_time": "2025-07-05T07:47:56.700Z"
   },
   {
    "duration": 5682,
    "start_time": "2025-07-05T07:47:57.749Z"
   },
   {
    "duration": 94,
    "start_time": "2025-07-05T07:48:03.433Z"
   },
   {
    "duration": 19,
    "start_time": "2025-07-05T07:48:03.528Z"
   },
   {
    "duration": 7,
    "start_time": "2025-07-05T07:48:03.549Z"
   },
   {
    "duration": 136,
    "start_time": "2025-07-05T07:48:03.558Z"
   },
   {
    "duration": 28,
    "start_time": "2025-07-05T07:48:03.697Z"
   },
   {
    "duration": 126,
    "start_time": "2025-07-05T07:48:03.727Z"
   },
   {
    "duration": 4,
    "start_time": "2025-07-05T07:48:03.855Z"
   },
   {
    "duration": 88,
    "start_time": "2025-07-05T07:48:05.157Z"
   },
   {
    "duration": 99,
    "start_time": "2025-07-05T07:48:10.332Z"
   },
   {
    "duration": 256,
    "start_time": "2025-07-05T07:48:12.355Z"
   },
   {
    "duration": 232,
    "start_time": "2025-07-05T07:48:14.341Z"
   },
   {
    "duration": 224,
    "start_time": "2025-07-05T07:48:14.797Z"
   },
   {
    "duration": 138,
    "start_time": "2025-07-05T07:48:15.376Z"
   },
   {
    "duration": 28,
    "start_time": "2025-07-05T07:48:23.449Z"
   },
   {
    "duration": 156,
    "start_time": "2025-07-05T07:48:28.274Z"
   },
   {
    "duration": 201,
    "start_time": "2025-07-05T07:48:28.747Z"
   },
   {
    "duration": 630,
    "start_time": "2025-07-05T07:48:29.794Z"
   },
   {
    "duration": 18,
    "start_time": "2025-07-05T07:48:32.051Z"
   },
   {
    "duration": 27,
    "start_time": "2025-07-05T07:48:32.498Z"
   },
   {
    "duration": 5,
    "start_time": "2025-07-05T07:48:32.891Z"
   },
   {
    "duration": 23,
    "start_time": "2025-07-05T07:48:33.287Z"
   },
   {
    "duration": 27,
    "start_time": "2025-07-05T07:48:33.702Z"
   },
   {
    "duration": 24,
    "start_time": "2025-07-05T07:48:34.149Z"
   },
   {
    "duration": 16,
    "start_time": "2025-07-05T07:48:34.755Z"
   },
   {
    "duration": 57,
    "start_time": "2025-07-05T07:49:02.553Z"
   },
   {
    "duration": 13,
    "start_time": "2025-07-05T07:49:02.890Z"
   },
   {
    "duration": 52,
    "start_time": "2025-07-05T07:49:03.514Z"
   },
   {
    "duration": 61,
    "start_time": "2025-07-05T07:49:04.178Z"
   },
   {
    "duration": 87,
    "start_time": "2025-07-05T07:49:40.351Z"
   },
   {
    "duration": 30,
    "start_time": "2025-07-05T07:49:46.632Z"
   },
   {
    "duration": 323,
    "start_time": "2025-07-05T07:49:54.384Z"
   },
   {
    "duration": 175,
    "start_time": "2025-07-05T07:49:58.279Z"
   },
   {
    "duration": 28,
    "start_time": "2025-07-05T07:50:00.538Z"
   },
   {
    "duration": 5,
    "start_time": "2025-07-05T07:50:00.921Z"
   },
   {
    "duration": 238,
    "start_time": "2025-07-05T07:50:01.471Z"
   },
   {
    "duration": 354,
    "start_time": "2025-07-05T07:50:03.787Z"
   },
   {
    "duration": 580,
    "start_time": "2025-07-05T07:50:05.878Z"
   },
   {
    "duration": 32,
    "start_time": "2025-07-05T07:50:12.310Z"
   },
   {
    "duration": 5,
    "start_time": "2025-07-05T07:50:12.726Z"
   },
   {
    "duration": 319,
    "start_time": "2025-07-05T07:50:14.127Z"
   },
   {
    "duration": 268,
    "start_time": "2025-07-05T07:50:16.104Z"
   },
   {
    "duration": 5,
    "start_time": "2025-07-05T07:50:18.278Z"
   },
   {
    "duration": 9,
    "start_time": "2025-07-05T07:50:19.918Z"
   },
   {
    "duration": 395,
    "start_time": "2025-07-05T07:50:20.134Z"
   },
   {
    "duration": 22,
    "start_time": "2025-07-05T07:50:26.638Z"
   },
   {
    "duration": 15,
    "start_time": "2025-07-05T07:50:27.231Z"
   },
   {
    "duration": 438,
    "start_time": "2025-07-05T07:50:29.295Z"
   },
   {
    "duration": 43,
    "start_time": "2025-07-05T07:50:34.358Z"
   },
   {
    "duration": 6,
    "start_time": "2025-07-05T07:50:34.778Z"
   },
   {
    "duration": 12,
    "start_time": "2025-07-05T07:50:36.807Z"
   },
   {
    "duration": 34,
    "start_time": "2025-07-05T07:51:48.954Z"
   },
   {
    "duration": 147,
    "start_time": "2025-07-05T07:51:50.891Z"
   },
   {
    "duration": 36,
    "start_time": "2025-07-05T07:51:54.796Z"
   },
   {
    "duration": 18,
    "start_time": "2025-07-05T07:51:55.532Z"
   },
   {
    "duration": 39,
    "start_time": "2025-07-05T07:51:58.450Z"
   },
   {
    "duration": 4,
    "start_time": "2025-07-05T07:51:58.826Z"
   },
   {
    "duration": 4,
    "start_time": "2025-07-05T07:51:59.355Z"
   },
   {
    "duration": 1481,
    "start_time": "2025-07-05T07:51:59.876Z"
   },
   {
    "duration": 46,
    "start_time": "2025-07-05T07:52:29.175Z"
   },
   {
    "duration": 820,
    "start_time": "2025-07-05T07:52:29.673Z"
   },
   {
    "duration": 91,
    "start_time": "2025-07-05T07:54:35.164Z"
   },
   {
    "duration": 4,
    "start_time": "2025-07-05T07:54:35.780Z"
   },
   {
    "duration": 8,
    "start_time": "2025-07-05T07:54:37.239Z"
   },
   {
    "duration": 10,
    "start_time": "2025-07-05T07:54:37.932Z"
   },
   {
    "duration": 75,
    "start_time": "2025-07-05T07:54:45.093Z"
   },
   {
    "duration": 10,
    "start_time": "2025-07-05T07:54:45.773Z"
   },
   {
    "duration": 9,
    "start_time": "2025-07-05T07:54:47.135Z"
   },
   {
    "duration": 11,
    "start_time": "2025-07-05T07:54:49.117Z"
   },
   {
    "duration": 79,
    "start_time": "2025-07-05T07:54:59.251Z"
   },
   {
    "duration": 38,
    "start_time": "2025-07-05T07:55:01.733Z"
   },
   {
    "duration": 18,
    "start_time": "2025-07-05T07:55:02.509Z"
   },
   {
    "duration": 6,
    "start_time": "2025-07-05T07:55:04.115Z"
   },
   {
    "duration": 9,
    "start_time": "2025-07-05T07:55:04.289Z"
   },
   {
    "duration": 589,
    "start_time": "2025-07-05T07:55:04.852Z"
   },
   {
    "duration": 74,
    "start_time": "2025-07-05T07:55:07.443Z"
   },
   {
    "duration": 6,
    "start_time": "2025-07-05T07:55:14.490Z"
   },
   {
    "duration": 13,
    "start_time": "2025-07-05T07:55:16.849Z"
   },
   {
    "duration": 17,
    "start_time": "2025-07-05T07:55:22.288Z"
   },
   {
    "duration": 27,
    "start_time": "2025-07-05T07:55:25.178Z"
   },
   {
    "duration": 7,
    "start_time": "2025-07-05T07:55:28.515Z"
   },
   {
    "duration": 4,
    "start_time": "2025-07-05T07:55:31.048Z"
   },
   {
    "duration": 4,
    "start_time": "2025-07-05T07:55:31.475Z"
   },
   {
    "duration": 5,
    "start_time": "2025-07-05T07:55:31.866Z"
   },
   {
    "duration": 64,
    "start_time": "2025-07-05T07:55:32.284Z"
   },
   {
    "duration": 1251,
    "start_time": "2025-07-05T07:55:33.971Z"
   },
   {
    "duration": 110,
    "start_time": "2025-07-05T07:55:35.225Z"
   },
   {
    "duration": 1196,
    "start_time": "2025-07-05T09:43:56.370Z"
   },
   {
    "duration": 949,
    "start_time": "2025-07-05T09:43:57.569Z"
   },
   {
    "duration": 105,
    "start_time": "2025-07-05T09:43:58.519Z"
   },
   {
    "duration": 26,
    "start_time": "2025-07-05T09:43:58.639Z"
   },
   {
    "duration": 17,
    "start_time": "2025-07-05T09:43:58.667Z"
   },
   {
    "duration": 115,
    "start_time": "2025-07-05T09:43:58.685Z"
   },
   {
    "duration": 14,
    "start_time": "2025-07-05T09:43:58.801Z"
   },
   {
    "duration": 345,
    "start_time": "2025-07-05T09:43:58.816Z"
   },
   {
    "duration": 34,
    "start_time": "2025-07-05T09:43:59.162Z"
   },
   {
    "duration": 10,
    "start_time": "2025-07-05T09:43:59.198Z"
   },
   {
    "duration": 8,
    "start_time": "2025-07-05T09:43:59.210Z"
   },
   {
    "duration": 2,
    "start_time": "2025-07-05T09:43:59.240Z"
   },
   {
    "duration": 223,
    "start_time": "2025-07-05T09:43:59.244Z"
   },
   {
    "duration": 270,
    "start_time": "2025-07-05T09:43:59.469Z"
   },
   {
    "duration": 167,
    "start_time": "2025-07-05T09:43:59.741Z"
   },
   {
    "duration": 195,
    "start_time": "2025-07-05T09:43:59.910Z"
   },
   {
    "duration": 164,
    "start_time": "2025-07-05T09:44:00.106Z"
   },
   {
    "duration": 170,
    "start_time": "2025-07-05T09:44:00.272Z"
   },
   {
    "duration": 4999,
    "start_time": "2025-07-05T09:44:00.444Z"
   },
   {
    "duration": 73,
    "start_time": "2025-07-05T09:44:05.445Z"
   },
   {
    "duration": 29,
    "start_time": "2025-07-05T09:44:05.519Z"
   },
   {
    "duration": 31,
    "start_time": "2025-07-05T09:44:05.550Z"
   },
   {
    "duration": 102,
    "start_time": "2025-07-05T09:44:05.582Z"
   },
   {
    "duration": 25,
    "start_time": "2025-07-05T09:44:05.685Z"
   },
   {
    "duration": 101,
    "start_time": "2025-07-05T09:44:05.712Z"
   },
   {
    "duration": 5,
    "start_time": "2025-07-05T09:44:05.815Z"
   },
   {
    "duration": 115,
    "start_time": "2025-07-05T09:44:05.822Z"
   },
   {
    "duration": 238,
    "start_time": "2025-07-05T09:44:05.942Z"
   },
   {
    "duration": 211,
    "start_time": "2025-07-05T09:44:06.182Z"
   },
   {
    "duration": 209,
    "start_time": "2025-07-05T09:44:06.394Z"
   },
   {
    "duration": 192,
    "start_time": "2025-07-05T09:44:06.604Z"
   },
   {
    "duration": 173,
    "start_time": "2025-07-05T09:44:06.797Z"
   },
   {
    "duration": 29,
    "start_time": "2025-07-05T09:44:06.972Z"
   },
   {
    "duration": 170,
    "start_time": "2025-07-05T09:44:07.003Z"
   },
   {
    "duration": 179,
    "start_time": "2025-07-05T09:44:07.175Z"
   },
   {
    "duration": 584,
    "start_time": "2025-07-05T09:44:07.356Z"
   },
   {
    "duration": 17,
    "start_time": "2025-07-05T09:44:07.941Z"
   },
   {
    "duration": 273,
    "start_time": "2025-07-05T09:44:07.959Z"
   },
   {
    "duration": 27,
    "start_time": "2025-07-05T09:44:08.234Z"
   },
   {
    "duration": 29,
    "start_time": "2025-07-05T09:44:08.263Z"
   },
   {
    "duration": 22,
    "start_time": "2025-07-05T09:44:08.294Z"
   },
   {
    "duration": 123,
    "start_time": "2025-07-05T09:44:08.317Z"
   },
   {
    "duration": 31,
    "start_time": "2025-07-05T09:44:08.442Z"
   },
   {
    "duration": 17,
    "start_time": "2025-07-05T09:44:08.474Z"
   },
   {
    "duration": 70,
    "start_time": "2025-07-05T09:44:08.492Z"
   },
   {
    "duration": 13,
    "start_time": "2025-07-05T09:44:08.563Z"
   },
   {
    "duration": 71,
    "start_time": "2025-07-05T09:44:08.577Z"
   },
   {
    "duration": 61,
    "start_time": "2025-07-05T09:44:08.650Z"
   },
   {
    "duration": 52,
    "start_time": "2025-07-05T09:44:08.712Z"
   },
   {
    "duration": 355,
    "start_time": "2025-07-05T09:44:08.766Z"
   },
   {
    "duration": 190,
    "start_time": "2025-07-05T09:44:09.123Z"
   },
   {
    "duration": 32,
    "start_time": "2025-07-05T09:44:09.315Z"
   },
   {
    "duration": 5,
    "start_time": "2025-07-05T09:44:09.348Z"
   },
   {
    "duration": 227,
    "start_time": "2025-07-05T09:44:09.355Z"
   },
   {
    "duration": 339,
    "start_time": "2025-07-05T09:44:09.584Z"
   },
   {
    "duration": 513,
    "start_time": "2025-07-05T09:44:09.925Z"
   },
   {
    "duration": 33,
    "start_time": "2025-07-05T09:44:10.440Z"
   },
   {
    "duration": 11,
    "start_time": "2025-07-05T09:44:10.474Z"
   },
   {
    "duration": 302,
    "start_time": "2025-07-05T09:44:10.486Z"
   },
   {
    "duration": 312,
    "start_time": "2025-07-05T09:44:10.790Z"
   },
   {
    "duration": 5,
    "start_time": "2025-07-05T09:44:11.103Z"
   },
   {
    "duration": 17,
    "start_time": "2025-07-05T09:44:11.110Z"
   },
   {
    "duration": 308,
    "start_time": "2025-07-05T09:44:11.139Z"
   },
   {
    "duration": 22,
    "start_time": "2025-07-05T09:44:11.449Z"
   },
   {
    "duration": 25,
    "start_time": "2025-07-05T09:44:11.473Z"
   },
   {
    "duration": 414,
    "start_time": "2025-07-05T09:44:11.500Z"
   },
   {
    "duration": 105,
    "start_time": "2025-07-05T09:44:11.916Z"
   },
   {
    "duration": 0,
    "start_time": "2025-07-05T09:44:12.024Z"
   },
   {
    "duration": 0,
    "start_time": "2025-07-05T09:44:12.025Z"
   },
   {
    "duration": 0,
    "start_time": "2025-07-05T09:44:12.026Z"
   },
   {
    "duration": 0,
    "start_time": "2025-07-05T09:44:12.027Z"
   },
   {
    "duration": 0,
    "start_time": "2025-07-05T09:44:12.029Z"
   },
   {
    "duration": 0,
    "start_time": "2025-07-05T09:44:12.030Z"
   },
   {
    "duration": 0,
    "start_time": "2025-07-05T09:44:12.039Z"
   },
   {
    "duration": 0,
    "start_time": "2025-07-05T09:44:12.040Z"
   },
   {
    "duration": 0,
    "start_time": "2025-07-05T09:44:12.042Z"
   },
   {
    "duration": 0,
    "start_time": "2025-07-05T09:44:12.043Z"
   },
   {
    "duration": 0,
    "start_time": "2025-07-05T09:44:12.045Z"
   },
   {
    "duration": 0,
    "start_time": "2025-07-05T09:44:12.046Z"
   },
   {
    "duration": 0,
    "start_time": "2025-07-05T09:44:12.048Z"
   },
   {
    "duration": 0,
    "start_time": "2025-07-05T09:44:12.049Z"
   },
   {
    "duration": 0,
    "start_time": "2025-07-05T09:44:12.051Z"
   },
   {
    "duration": 0,
    "start_time": "2025-07-05T09:44:12.052Z"
   },
   {
    "duration": 0,
    "start_time": "2025-07-05T09:44:12.053Z"
   },
   {
    "duration": 0,
    "start_time": "2025-07-05T09:44:12.054Z"
   },
   {
    "duration": 0,
    "start_time": "2025-07-05T09:44:12.055Z"
   },
   {
    "duration": 0,
    "start_time": "2025-07-05T09:44:12.056Z"
   },
   {
    "duration": 0,
    "start_time": "2025-07-05T09:44:12.057Z"
   },
   {
    "duration": 0,
    "start_time": "2025-07-05T09:44:12.058Z"
   },
   {
    "duration": 0,
    "start_time": "2025-07-05T09:44:12.059Z"
   },
   {
    "duration": 0,
    "start_time": "2025-07-05T09:44:12.060Z"
   },
   {
    "duration": 0,
    "start_time": "2025-07-05T09:44:12.061Z"
   },
   {
    "duration": 0,
    "start_time": "2025-07-05T09:44:12.061Z"
   },
   {
    "duration": 0,
    "start_time": "2025-07-05T09:44:12.062Z"
   },
   {
    "duration": 0,
    "start_time": "2025-07-05T09:44:12.063Z"
   },
   {
    "duration": 0,
    "start_time": "2025-07-05T09:44:12.064Z"
   },
   {
    "duration": 0,
    "start_time": "2025-07-05T09:44:12.065Z"
   },
   {
    "duration": 0,
    "start_time": "2025-07-05T09:44:12.066Z"
   },
   {
    "duration": 0,
    "start_time": "2025-07-05T09:44:12.067Z"
   },
   {
    "duration": 0,
    "start_time": "2025-07-05T09:44:12.068Z"
   },
   {
    "duration": 0,
    "start_time": "2025-07-05T09:44:12.070Z"
   },
   {
    "duration": 0,
    "start_time": "2025-07-05T09:44:12.071Z"
   },
   {
    "duration": 0,
    "start_time": "2025-07-05T09:44:12.071Z"
   },
   {
    "duration": 0,
    "start_time": "2025-07-05T09:44:12.073Z"
   },
   {
    "duration": 0,
    "start_time": "2025-07-05T09:44:12.074Z"
   },
   {
    "duration": 0,
    "start_time": "2025-07-05T09:44:12.075Z"
   },
   {
    "duration": 0,
    "start_time": "2025-07-05T09:44:12.076Z"
   },
   {
    "duration": 333,
    "start_time": "2025-07-05T09:44:43.371Z"
   },
   {
    "duration": 340,
    "start_time": "2025-07-05T09:45:26.067Z"
   },
   {
    "duration": 346,
    "start_time": "2025-07-05T09:46:59.507Z"
   },
   {
    "duration": 326,
    "start_time": "2025-07-05T09:47:05.088Z"
   },
   {
    "duration": 54,
    "start_time": "2025-07-05T09:47:14.626Z"
   },
   {
    "duration": 5,
    "start_time": "2025-07-05T09:47:14.836Z"
   },
   {
    "duration": 11,
    "start_time": "2025-07-05T09:47:15.017Z"
   },
   {
    "duration": 43,
    "start_time": "2025-07-05T09:51:19.790Z"
   },
   {
    "duration": 120,
    "start_time": "2025-07-05T09:51:20.025Z"
   },
   {
    "duration": 118,
    "start_time": "2025-07-05T09:51:20.246Z"
   },
   {
    "duration": 19,
    "start_time": "2025-07-05T09:51:21.699Z"
   },
   {
    "duration": 66,
    "start_time": "2025-07-05T09:51:56.276Z"
   },
   {
    "duration": 40,
    "start_time": "2025-07-05T09:53:06.639Z"
   },
   {
    "duration": 4,
    "start_time": "2025-07-05T09:53:06.804Z"
   },
   {
    "duration": 4,
    "start_time": "2025-07-05T09:53:06.906Z"
   },
   {
    "duration": 1559,
    "start_time": "2025-07-05T09:53:07.040Z"
   },
   {
    "duration": 35,
    "start_time": "2025-07-05T09:53:43.896Z"
   },
   {
    "duration": 802,
    "start_time": "2025-07-05T09:53:44.077Z"
   },
   {
    "duration": 94,
    "start_time": "2025-07-05T09:53:44.881Z"
   },
   {
    "duration": 4,
    "start_time": "2025-07-05T09:53:45.008Z"
   },
   {
    "duration": 10,
    "start_time": "2025-07-05T09:53:45.442Z"
   },
   {
    "duration": 10,
    "start_time": "2025-07-05T09:53:45.622Z"
   },
   {
    "duration": 362,
    "start_time": "2025-07-05T09:54:36.264Z"
   },
   {
    "duration": 329,
    "start_time": "2025-07-05T09:55:03.829Z"
   },
   {
    "duration": 414,
    "start_time": "2025-07-05T09:55:54.346Z"
   },
   {
    "duration": 86,
    "start_time": "2025-07-05T09:55:54.762Z"
   },
   {
    "duration": 10,
    "start_time": "2025-07-05T09:55:54.849Z"
   },
   {
    "duration": 10,
    "start_time": "2025-07-05T09:55:54.925Z"
   },
   {
    "duration": 9,
    "start_time": "2025-07-05T09:55:55.074Z"
   },
   {
    "duration": 66,
    "start_time": "2025-07-05T09:55:58.166Z"
   },
   {
    "duration": 36,
    "start_time": "2025-07-05T09:55:58.623Z"
   },
   {
    "duration": 14,
    "start_time": "2025-07-05T09:55:58.890Z"
   },
   {
    "duration": 4,
    "start_time": "2025-07-05T09:55:59.075Z"
   },
   {
    "duration": 9,
    "start_time": "2025-07-05T09:55:59.258Z"
   },
   {
    "duration": 526,
    "start_time": "2025-07-05T09:55:59.413Z"
   },
   {
    "duration": 64,
    "start_time": "2025-07-05T09:55:59.940Z"
   },
   {
    "duration": 61,
    "start_time": "2025-07-05T09:57:50.563Z"
   },
   {
    "duration": 5,
    "start_time": "2025-07-05T09:59:44.705Z"
   },
   {
    "duration": 18,
    "start_time": "2025-07-05T09:59:44.945Z"
   },
   {
    "duration": 15,
    "start_time": "2025-07-05T10:02:03.911Z"
   },
   {
    "duration": 26,
    "start_time": "2025-07-05T10:02:04.828Z"
   },
   {
    "duration": 23,
    "start_time": "2025-07-05T10:02:04.962Z"
   },
   {
    "duration": 6,
    "start_time": "2025-07-05T10:02:05.129Z"
   },
   {
    "duration": 5,
    "start_time": "2025-07-05T10:02:23.296Z"
   },
   {
    "duration": 4,
    "start_time": "2025-07-05T10:02:23.500Z"
   },
   {
    "duration": 5,
    "start_time": "2025-07-05T10:02:23.660Z"
   },
   {
    "duration": 66,
    "start_time": "2025-07-05T10:02:23.779Z"
   },
   {
    "duration": 1203,
    "start_time": "2025-07-05T10:02:23.942Z"
   },
   {
    "duration": 100,
    "start_time": "2025-07-05T10:02:25.147Z"
   }
  ],
  "kernelspec": {
   "display_name": "Python 3 (ipykernel)",
   "language": "python",
   "name": "python3"
  },
  "language_info": {
   "codemirror_mode": {
    "name": "ipython",
    "version": 3
   },
   "file_extension": ".py",
   "mimetype": "text/x-python",
   "name": "python",
   "nbconvert_exporter": "python",
   "pygments_lexer": "ipython3",
   "version": "3.9.7"
  },
  "toc": {
   "base_numbering": 1,
   "nav_menu": {},
   "number_sections": true,
   "sideBar": true,
   "skip_h1_title": true,
   "title_cell": "Table of Contents",
   "title_sidebar": "Contents",
   "toc_cell": false,
   "toc_position": {},
   "toc_section_display": true,
   "toc_window_display": false
  }
 },
 "nbformat": 4,
 "nbformat_minor": 5
}
