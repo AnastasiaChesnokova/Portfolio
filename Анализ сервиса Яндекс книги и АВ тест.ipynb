{
 "cells": [
  {
   "cell_type": "markdown",
   "id": "a932223a",
   "metadata": {},
   "source": [
    "# Часть 1 Расчёт метрик в SQL"
   ]
  },
  {
   "cell_type": "markdown",
   "id": "667d9609",
   "metadata": {},
   "source": [
    "### Расчёт MAU авторов\n",
    "Первая задача — расчёт MAU. Здесь MAU будет определяться как количество уникальных пользователей в месяц, которые читали или слушали конкретного автора. Найдем топ-3 авторов с наибольшим MAU в ноябре и сами значения MAU."
   ]
  },
  {
   "cell_type": "markdown",
   "id": "8c4dd2cd",
   "metadata": {},
   "source": [
    "<div style=\"background-color: white; border: 2px solid black; border-radius: 20px; padding: 15px 25px; display: inline-block; color: black;\">\n",
    " WITH november_activity AS (\n",
    "    \n",
    "    SELECT\n",
    "        a.main_content_id,\n",
    "        a.audition_id,\n",
    "        a.puid,\n",
    "        c.main_author_id\n",
    "    FROM\n",
    "    \n",
    "        bookmate.audition AS a\n",
    "    JOIN\n",
    "    \n",
    "        bookmate.content AS c ON a.main_content_id = c.main_content_id\n",
    "    WHERE\n",
    "    \n",
    "        DATE(a.msk_business_dt_str) BETWEEN '2024-11-01'::date AND '2024-11-30'::date\n",
    ")\n",
    "SELECT\n",
    "    \n",
    "    auth.main_author_name,\n",
    "    COUNT(DISTINCT na.puid) AS mau\n",
    "FROM\n",
    "    \n",
    "    november_activity AS na\n",
    "JOIN\n",
    "    \n",
    "    bookmate.author AS auth ON na.main_author_id = auth.main_author_id\n",
    "GROUP BY\n",
    "    \n",
    "    auth.main_author_name\n",
    "ORDER BY\n",
    "    \n",
    "    mau DESC\n",
    "LIMIT 3;\n"
   ]
  },
  {
   "cell_type": "markdown",
   "id": "8f2396d5",
   "metadata": {},
   "source": [
    "![image.png](attachment:image.png)"
   ]
  },
  {
   "cell_type": "markdown",
   "id": "d1e9bce5",
   "metadata": {},
   "source": [
    "### Расчёт MAU произведений\n",
    "Теперь рассчитаем MAU произведений. Найдем топ-3 произведений с наибольшим MAU в ноябре, а также списки жанров этих произведений, их авторов и сами значения MAU."
   ]
  },
  {
   "cell_type": "markdown",
   "id": "d457328a",
   "metadata": {},
   "source": [
    "<div style=\"background-color: white; border: 2px solid black; border-radius: 20px; padding: 15px 25px; display: inline-block; color: black;\">\n",
    "    WITH november_activity AS (\n",
    "    \n",
    "    SELECT\n",
    "        aup.puid,\n",
    "        aup.main_content_id\n",
    "    \n",
    "    FROM\n",
    "        bookmate.audition aup\n",
    "    \n",
    "    WHERE\n",
    "        DATE(aup.msk_business_dt_str) BETWEEN '2024-11-01' AND '2024-11-30'\n",
    ")\n",
    "    \n",
    "SELECT\n",
    "    \n",
    "    c.main_content_name,\n",
    "    c.published_topic_title_list,\n",
    "    a.main_author_name,\n",
    "    COUNT(DISTINCT na.puid) AS mau\n",
    "    \n",
    "FROM\n",
    "    november_activity na\n",
    "    \n",
    "JOIN\n",
    "    \n",
    "    bookmate.content c ON na.main_content_id = c.main_content_id\n",
    "    \n",
    "JOIN\n",
    "    bookmate.author a ON c.main_author_id = a.main_author_id\n",
    "    \n",
    "GROUP BY\n",
    "    c.main_content_name,\n",
    "    c.published_topic_title_list,\n",
    "    a.main_author_name\n",
    "    \n",
    "ORDER BY mau DESC\n",
    "    \n",
    "LIMIT 3;\n"
   ]
  },
  {
   "cell_type": "markdown",
   "id": "1d9ae101",
   "metadata": {},
   "source": [
    "![image.png](attachment:image.png)"
   ]
  },
  {
   "cell_type": "markdown",
   "id": "4089d31a",
   "metadata": {},
   "source": [
    "### Расчёт Retention Rate\n",
    "Задача - проанализировать ежедневный Retention Rate всех пользователей, которые были активны 2 декабря. \n",
    "При этом неважно, новые это пользователи или нет, ведь по имеющимся данным этого всё равно не получится определить.\n",
    "Рассчитаем ежедневный Retention Rate пользователей до конца представленных данных."
   ]
  },
  {
   "cell_type": "markdown",
   "id": "4f80cea5",
   "metadata": {},
   "source": [
    "<div style=\"background-color: white; border: 2px solid black; border-radius: 20px; padding: 15px 25px; display: inline-block; color: black;\">\n",
    "WITH users_on_dec AS (\n",
    "    \n",
    "    -- Пользователи, активные 2 декабря 2024\n",
    "    \n",
    "    SELECT \n",
    "            DISTINCT puid\n",
    "    \n",
    "    FROM bookmate.audition\n",
    "    \n",
    "    WHERE msk_business_dt_str::date = '2024-12-02'\n",
    "),\n",
    "    \n",
    "activity_by_day AS (\n",
    "    \n",
    "    -- Активность этих пользователей по последующим дням\n",
    "    \n",
    "    SELECT\n",
    "    \n",
    "        a.msk_business_dt_str::date - '2024-12-02'::date AS day_since_install,\n",
    "        a.puid\n",
    "    \n",
    "    FROM\n",
    "    \n",
    "        bookmate.audition a\n",
    "    \n",
    "    WHERE\n",
    "    \n",
    "        a.puid IN (SELECT puid FROM users_on_dec)\n",
    "        AND a.msk_business_dt_str::date >= '2024-12-02'\n",
    ")\n",
    "    \n",
    "SELECT\n",
    "    \n",
    "    day_since_install,\n",
    "    COUNT(DISTINCT puid) AS retained_users,\n",
    "    ROUND(\n",
    "        (1.0 * COUNT(DISTINCT puid) / NULLIF(MAX(COUNT(DISTINCT puid)) OVER (), 0)),\n",
    "        2\n",
    "    )\n",
    "    AS retention_rate\n",
    "    \n",
    "FROM\n",
    "    activity_by_day\n",
    "    \n",
    "GROUP BY\n",
    "    \n",
    "    day_since_install\n",
    "    \n",
    "ORDER BY\n",
    "    \n",
    "    day_since_install;\n"
   ]
  },
  {
   "cell_type": "markdown",
   "id": "7d1e7759",
   "metadata": {},
   "source": [
    "### Расчёт LTV\n",
    "Подписка Яндекс Плюс стоит 399 рублей в месяц. Кроме Яндекс Книг в подписку входят и другие сервисы, однако в рамках этого проекта будем считать, что пользователь приносит 399 рублей, если хотя бы раз в месяц пользуется Яндекс Книгами. При этом потенциально платящих, но неактивных пользователей не нужно учитывать.\n",
    "Найдем средние LTV для пользователей в Москве и Санкт-Петербурге и сравните их между собой.\n",
    "LTV = общий доход / количество пользователей. "
   ]
  },
  {
   "cell_type": "markdown",
   "id": "65ca0539",
   "metadata": {},
   "source": [
    "<div style=\"background-color: white; border: 2px solid black; border-radius: 20px; padding: 15px 25px; display: inline-block; color: black;\">\n",
    "•\tWITH active_sessions AS (\n",
    "    \n",
    "•\t    SELECT\n",
    "    \n",
    "•\t        puid,\n",
    "•\t        usage_geo_id,\n",
    "•\t        DATE_TRUNC('month', msk_business_dt_str::date) AS activity_month\n",
    "    \n",
    "•\t    FROM\n",
    "    \n",
    "•\t        bookmate.audition\n",
    "    \n",
    "•\t    WHERE\n",
    "    \n",
    "•\t        msk_business_dt_str::date BETWEEN '2024-09-01' AND '2024-12-11'\n",
    "•\t),\n",
    "    \n",
    "•\tuser_months AS (\n",
    "    \n",
    "•\t    -- Определяем уникальные месяцы активности каждого пользователя\n",
    "    \n",
    "•\t    SELECT\n",
    "    \n",
    "•\t        puid,\n",
    "•\t        usage_geo_id,\n",
    "•\t        COUNT(DISTINCT activity_month) AS active_months\n",
    "    \n",
    "•\t    FROM\n",
    "    \n",
    "•\t        active_sessions\n",
    "    \n",
    "•\t    GROUP BY\n",
    "    \n",
    "•\t        puid,\n",
    "•\t        usage_geo_id\n",
    "    \n",
    "•\t),\n",
    "    \n",
    "•\tuser_revenue AS (\n",
    "    \n",
    "•\t    -- Расчет дохода: по 399 рублей за каждый месяц активности\n",
    "    \n",
    "•\t    SELECT\n",
    "    \n",
    "•\t        puid,\n",
    "•\t        usage_geo_id,\n",
    "•\t        active_months * 399 AS total_revenue\n",
    "    \n",
    "•\t    FROM\n",
    "    \n",
    "•\t        user_months\n",
    "    \n",
    "•\t),\n",
    "    \n",
    "•\tuser_geo AS (\n",
    "    \n",
    "•\t    -- Получаем название города/региона из таблицы geo\n",
    "    \n",
    "•\t    SELECT DISTINCT\n",
    "    \n",
    "•\t        u.puid,\n",
    "•\t        u.usage_geo_id,\n",
    "•\t        g.usage_geo_id_name\n",
    "    \n",
    "•\t    FROM\n",
    "    \n",
    "•\t        user_revenue u\n",
    "•\t    LEFT JOIN\n",
    "    \n",
    "•\t        bookmate.geo g ON u.usage_geo_id = g.usage_geo_id\n",
    "    \n",
    "•\t),\n",
    "    \n",
    "•\tcity_stats AS (\n",
    "    \n",
    "•\t    -- Подсчитываем количество пользователей и сумму доходов по городам/регионам\n",
    "    \n",
    "•\t    SELECT\n",
    "    \n",
    "•\t        g.usage_geo_id_name AS city,\n",
    "•\t        COUNT(DISTINCT u.puid) AS total_users,\n",
    "•\t        SUM(u.total_revenue) AS total_revenue\n",
    "    \n",
    "•\t    FROM\n",
    "    \n",
    "•\t        user_revenue u\n",
    "    \n",
    "•\t    LEFT JOIN\n",
    "    \n",
    "•\t        bookmate.geo g ON u.usage_geo_id = g.usage_geo_id\n",
    "    \n",
    "•\t    GROUP BY\n",
    "    \n",
    "•\t        g.usage_geo_id_name\n",
    "    \n",
    "•\t)\n",
    "    \n",
    "•\tSELECT \n",
    "    \n",
    "•\t    city,\n",
    "•\t    total_users,\n",
    "•\t    ROUND(\n",
    "•\t        \n",
    "        CASE WHEN total_users > 0 THEN total_revenue::numeric / total_users ELSE 0 END,\n",
    "•\t        \n",
    "    \n",
    "•\t    ) AS ltv\n",
    "    \n",
    "•\tFROM \n",
    "    \n",
    "•\t    city_stats\n",
    "    \n",
    "•\tWHERE \n",
    "    \n",
    "•\t    city IN ('Санкт-Петербург', 'Москва')\n",
    "    \n",
    "•\tORDER BY \n",
    "•\t    city;\n"
   ]
  },
  {
   "cell_type": "markdown",
   "id": "16e40753",
   "metadata": {},
   "source": [
    "### Расчёт средней выручки прослушанного часа — аналог среднего чека\n",
    "Предполагается, что в сервисе используется модель монетизации с единой подпиской. По этой причине рассчитывать средний чек транзакций нецелесообразно, ведь он будет равен стоимости подписки. Тем не менее можно рассчитать ежемесячную среднюю выручку от часа чтения или прослушивания по такой формуле: выручка (MAU * 399 рублей) / сумма прослушанных часов."
   ]
  },
  {
   "cell_type": "markdown",
   "id": "2c0699d2",
   "metadata": {},
   "source": [
    "<div style=\"background-color: white; border: 2px solid black; border-radius: 20px; padding: 15px 25px; display: inline-block; color: black;\">\n",
    "    •\tWITH filtered_sessions AS (\n",
    "    \n",
    "•\t    SELECT\n",
    "    \n",
    "•\t        DATE_TRUNC('month', CAST(msk_business_dt_str AS DATE)) AS month,\n",
    "•\t        puid,\n",
    "•\t        hours\n",
    "    \n",
    "•\t    FROM\n",
    "    \n",
    "•\t        bookmate.audition\n",
    "    \n",
    "•\t    WHERE\n",
    "    \n",
    "•\t        CAST(msk_business_dt_str AS DATE) BETWEEN '2024-09-01' AND '2024-11-30'\n",
    "    \n",
    "•\t),\n",
    "    \n",
    "•\tmonthly_stats AS (\n",
    "    \n",
    "•\t    SELECT\n",
    "    \n",
    "•\t    month::date,\n",
    "•\t        COUNT(DISTINCT puid) AS mau,\n",
    "•\t        SUM(hours) AS total_hours\n",
    "    \n",
    "•\t    FROM\n",
    "    \n",
    "•\t        filtered_sessions\n",
    "    \n",
    "•\t    GROUP BY\n",
    "•\t        month\n",
    "    \n",
    "•\t)\n",
    "    \n",
    "•\tSELECT\n",
    "    \n",
    "•\t    month,\n",
    "•\t    mau,\n",
    "•\t    ROUND(total_hours, 2) AS hours,\n",
    "•\t    ROUND((mau * 399.0) / NULLIF(total_hours, 0), 2) AS avg_hour_rev\n",
    "    \n",
    "•\tFROM\n",
    "•\t    monthly_stats\n",
    "    \n",
    "•\tORDER BY\n",
    "•\t    month;\n"
   ]
  },
  {
   "cell_type": "markdown",
   "id": "55745119",
   "metadata": {},
   "source": [
    "## Подготовка данных для проведения А\\В теста в Python\n",
    "Отберем пользователей только из Москвы и Санкт-Петербурга, оставим данные об их активности - сумму часов.\n",
    "В результат должны войти следующие поля:\n",
    "\n",
    "•\tcity — город пользователя;\n",
    "\n",
    "•\tpuid — идентификатор пользователя;\n",
    "\n",
    "•\thours — общее количество часов активности (вычисляется по полю hours).\n"
   ]
  },
  {
   "cell_type": "markdown",
   "id": "1b9f9d4c",
   "metadata": {},
   "source": [
    "<div style=\"background-color: white; border: 2px solid black; border-radius: 20px; padding: 15px 25px; display: inline-block; color: black;\">\n",
    "    \n",
    "SELECT\n",
    "     g.usage_geo_id_name AS city,\n",
    "     a.puid,\n",
    "    \n",
    "\t    SUM(a.hours) AS hours\n",
    "    \n",
    "\tFROM\n",
    "    \n",
    "        bookmate.audition a\n",
    "    \n",
    "\tJOIN\n",
    "    \n",
    "\t    bookmate.geo g\n",
    "    \n",
    "\tON\n",
    "\t    a.usage_geo_id = g.usage_geo_id\n",
    "    \n",
    "\tWHERE\n",
    "    \n",
    "\t    g.usage_geo_id_name IN ('Москва', 'Санкт-Петербург')\n",
    "\tGROUP BY\n",
    "    \n",
    "\t    g.usage_geo_id_name,\n",
    "\t    a.puid;"
   ]
  },
  {
   "cell_type": "markdown",
   "id": "_E41Wr5fqnFT",
   "metadata": {
    "id": "_E41Wr5fqnFT"
   },
   "source": [
    "# Часть 2 Проверка гипотезы в Python и составление аналитической записки"
   ]
  },
  {
   "cell_type": "markdown",
   "id": "Z5_6nf-FrY7o",
   "metadata": {
    "id": "Z5_6nf-FrY7o"
   },
   "source": [
    "Предобработали данные в SQL, и теперь они готовы для проверки гипотезы в Python. \n",
    "Загрузим данные пользователей из Москвы и Санкт-Петербурга c суммой часов их активности из файла yandex_knigi_data.csv. \n",
    "\n",
    "Необходимо проверить наличие дубликатов в идентификаторах пользователей, а так же сравнитьразмеры групп, их статистики и распределение.\n",
    "\n",
    "Гипотеза: пользователи из Санкт-Петербурга проводят в среднем больше времени за чтением и прослушиванием книг в приложении, чем пользователи из Москвы. Попробуйте статистически это доказать, используя одностороннюю проверку гипотезы с двумя выборками:\n",
    "\n",
    "Нулевая гипотеза $H_0: \\mu_{\\text{СПб}} \\leq \\mu_{\\text{Москва}}$ <br> Среднее время активности пользователей в Санкт-Петербурге не больше, чем в Москве.\n",
    "\n",
    "Альтернативная гипотеза $H_1: \\mu_{\\text{СПб}} > \\mu_{\\text{Москва}}$ <br> Среднее время активности пользователей в Санкт-Петербурге больше, и это различие статистически значимо.\n",
    "\n",
    "По результатам анализа данных подготовьте аналитическая записка будет содержать:\n",
    "\n",
    "- Выбранный тип t-теста и уровень статистической значимости.\n",
    "\n",
    "- Результат теста, или p-value.\n",
    "\n",
    "- Вывод на основе полученного p-value, то есть интерпретацию результатов.\n",
    "\n",
    "- Одну или две возможные причины, объясняющие полученные результаты."
   ]
  },
  {
   "cell_type": "markdown",
   "id": "4149134c",
   "metadata": {
    "id": "4149134c"
   },
   "source": [
    "## Цели и задачи проекта\n",
    " ЦЕЛЬ: Проанализировать различия в пользовательской активности сервиса \"Яндекс Книги\" в Москве и Санкт-Петербурге для дальнейшей разработки обоснованных рекомендаций по увеличению вовлеченности и продаж.\n",
    "\n",
    "Задачи:\n",
    "1. Загрузить данные, провести предоработку и  первичный анализ.\n",
    "2. Проверка гипотезы:\n",
    "Нулевая гипотеза \n",
    ": Средняя активность одинакова.\n",
    "Альтернативная гипотеза \n",
    ": Активность в Санкт-Петербурге выше.\n",
    "3. По результатам составить аналитическую записку"
   ]
  },
  {
   "cell_type": "markdown",
   "id": "728986ea",
   "metadata": {
    "id": "728986ea"
   },
   "source": [
    "## Описание данных\n",
    "\n",
    "Таблицы этого проекта содержат данные о чтении и прослушивании контента в сервисе Яндекс Книги, которые включают информацию о пользователях, платформах, времени, длительности сессий и типах контента. Данные представлены за период с 1 сентября по 11 декабря 2024 года. \n",
    "\n",
    "### Таблица bookmate.audition содержит данные об активности пользователей и состоит из следующих полей:\n",
    "\n",
    "•\taudition_id — уникальный идентификатор сессии чтения или прослушивания;\n",
    "\n",
    "•\tpuid — идентификатор пользователя;\n",
    "\n",
    "•\tusage_platform_ru — название платформы, с помощью которой пользователь слушал контент;\n",
    "\n",
    "•\tmsk_business_dt_str — дата события в формате строки (московское время);\n",
    "\n",
    "•\tapp_version — версия приложения, которая использовалась для чтения или прослушивания;\n",
    "\n",
    "•\tadult_content_flg — был ли это контент для взрослых: True или False;\n",
    "\n",
    "•\thours — длительность чтения или прослушивания в часах;\n",
    "\n",
    "•\thours_sessions_long — продолжительность длинных сессий чтения или прослушивания в часах;\n",
    "\n",
    "•\tkids_content_flg — был ли это детский контент: True или False;\n",
    "\n",
    "•\tmain_content_id — идентификатор основного контента;\n",
    "\n",
    "•\tusage_geo_id — идентификатор географического местоположения.\n",
    "\n",
    "### Таблица bookmate.content содержит данные о контенте и состоит из следующих полей:\n",
    "\n",
    "•\tmain_content_id — идентификатор основного контента;\n",
    "\n",
    "•\tmain_author_id — идентификатор основного автора контента;\n",
    "\n",
    "•\tmain_content_type — тип контента;\n",
    "\n",
    "•\tmain_content_name— название контента;\n",
    "\n",
    "•\tmain_content_duration_hours — длительность контента в часах;\n",
    "\n",
    "•\tpublished_topic_title_list — список жанров контента.\n",
    "\n",
    "### Таблица bookmate.author содержит данные об авторах контента и состоит из следующих полей:\n",
    "\n",
    "•\tmain_author_id — идентификатор основного автора контента;\n",
    "\n",
    "•\tmain_author_name — имя основного автора контента.\n",
    "\n",
    "### Таблица bookmate.geo содержит данные о местоположении и состоит из следующих полей:\n",
    "\n",
    "•\tusage_geo_id — идентификатор географического положения;\n",
    "\n",
    "•\tusage_geo_id_name — город или регион географического положения;\n",
    "\n",
    "•\tusage_country_name — страна географического положения.\n",
    "\n",
    "#### Предобработанные данные: \n",
    "\n",
    "Был выполнен SQL-запрос, результат которого сохранен в файл yandex_knigi_data.csv. Этот файл содержит:\n",
    "\n",
    "city — город (Москва или Санкт-Петербург);\n",
    "puid — идентификатор пользователя;\n",
    "hours — сумма часов активности пользователя.\n"
   ]
  },
  {
   "cell_type": "markdown",
   "id": "6f7d21d6",
   "metadata": {
    "id": "6f7d21d6"
   },
   "source": [
    "# 1. Загрузка данных и знакомство с ними"
   ]
  },
  {
   "cell_type": "code",
   "execution_count": 2,
   "id": "05faf34b",
   "metadata": {
    "id": "05faf34b"
   },
   "outputs": [],
   "source": [
    "# Загрузка библиотек\n",
    "import pandas as pd\n",
    "from scipy import stats\n",
    "import matplotlib.pyplot as plt\n",
    "import seaborn as sns"
   ]
  },
  {
   "cell_type": "code",
   "execution_count": 3,
   "id": "4816ad04",
   "metadata": {},
   "outputs": [
    {
     "name": "stdout",
     "output_type": "stream",
     "text": [
      "<class 'pandas.core.frame.DataFrame'>\n",
      "RangeIndex: 8784 entries, 0 to 8783\n",
      "Data columns (total 4 columns):\n",
      " #   Column      Non-Null Count  Dtype  \n",
      "---  ------      --------------  -----  \n",
      " 0   Unnamed: 0  8784 non-null   int64  \n",
      " 1   city        8784 non-null   object \n",
      " 2   puid        8784 non-null   int64  \n",
      " 3   hours       8784 non-null   float64\n",
      "dtypes: float64(1), int64(2), object(1)\n",
      "memory usage: 274.6+ KB\n"
     ]
    },
    {
     "data": {
      "text/html": [
       "<div>\n",
       "<style scoped>\n",
       "    .dataframe tbody tr th:only-of-type {\n",
       "        vertical-align: middle;\n",
       "    }\n",
       "\n",
       "    .dataframe tbody tr th {\n",
       "        vertical-align: top;\n",
       "    }\n",
       "\n",
       "    .dataframe thead th {\n",
       "        text-align: right;\n",
       "    }\n",
       "</style>\n",
       "<table border=\"1\" class=\"dataframe\">\n",
       "  <thead>\n",
       "    <tr style=\"text-align: right;\">\n",
       "      <th></th>\n",
       "      <th>Unnamed: 0</th>\n",
       "      <th>city</th>\n",
       "      <th>puid</th>\n",
       "      <th>hours</th>\n",
       "    </tr>\n",
       "  </thead>\n",
       "  <tbody>\n",
       "    <tr>\n",
       "      <th>0</th>\n",
       "      <td>0</td>\n",
       "      <td>Москва</td>\n",
       "      <td>9668</td>\n",
       "      <td>26.167776</td>\n",
       "    </tr>\n",
       "    <tr>\n",
       "      <th>1</th>\n",
       "      <td>1</td>\n",
       "      <td>Москва</td>\n",
       "      <td>16598</td>\n",
       "      <td>82.111217</td>\n",
       "    </tr>\n",
       "    <tr>\n",
       "      <th>2</th>\n",
       "      <td>2</td>\n",
       "      <td>Москва</td>\n",
       "      <td>80401</td>\n",
       "      <td>4.656906</td>\n",
       "    </tr>\n",
       "    <tr>\n",
       "      <th>3</th>\n",
       "      <td>3</td>\n",
       "      <td>Москва</td>\n",
       "      <td>140205</td>\n",
       "      <td>1.840556</td>\n",
       "    </tr>\n",
       "    <tr>\n",
       "      <th>4</th>\n",
       "      <td>4</td>\n",
       "      <td>Москва</td>\n",
       "      <td>248755</td>\n",
       "      <td>151.326434</td>\n",
       "    </tr>\n",
       "  </tbody>\n",
       "</table>\n",
       "</div>"
      ],
      "text/plain": [
       "   Unnamed: 0    city    puid       hours\n",
       "0           0  Москва    9668   26.167776\n",
       "1           1  Москва   16598   82.111217\n",
       "2           2  Москва   80401    4.656906\n",
       "3           3  Москва  140205    1.840556\n",
       "4           4  Москва  248755  151.326434"
      ]
     },
     "execution_count": 3,
     "metadata": {},
     "output_type": "execute_result"
    }
   ],
   "source": [
    "# Загрузка и обзор данных\n",
    "df_books= pd.read_csv('/datasets/yandex_knigi_data.csv')\n",
    "df_books.info()\n",
    "df_books.head()"
   ]
  },
  {
   "cell_type": "code",
   "execution_count": 4,
   "id": "6a7db8c1",
   "metadata": {},
   "outputs": [
    {
     "name": "stdout",
     "output_type": "stream",
     "text": [
      "['Москва' 'Санкт-Петербург']\n"
     ]
    }
   ],
   "source": [
    "#Проверка уникальных значений в столбце city\n",
    "print(df_books['city'].unique())"
   ]
  },
  {
   "cell_type": "code",
   "execution_count": 5,
   "id": "84aca713",
   "metadata": {},
   "outputs": [
    {
     "name": "stdout",
     "output_type": "stream",
     "text": [
      "Unnamed: 0    0\n",
      "city          0\n",
      "puid          0\n",
      "hours         0\n",
      "dtype: int64\n"
     ]
    }
   ],
   "source": [
    "# Проверка наличия пропусков\n",
    "print(df_books.isnull().sum())"
   ]
  },
  {
   "cell_type": "markdown",
   "id": "12879d24",
   "metadata": {},
   "source": [
    "Нет пропусков, что хорошо."
   ]
  },
  {
   "cell_type": "code",
   "execution_count": 6,
   "id": "2a262e4e",
   "metadata": {},
   "outputs": [
    {
     "name": "stdout",
     "output_type": "stream",
     "text": [
      "Дубликаты по user_id в таблице с участниками:\n",
      "      Unnamed: 0             city              puid      hours\n",
      "35            35           Москва           2637041  10.317371\n",
      "134          134           Москва           9979490  32.415573\n",
      "145          145           Москва          10597984  42.931506\n",
      "150          150           Москва          10815097   9.086655\n",
      "187          187           Москва          13626259  21.104167\n",
      "...          ...              ...               ...        ...\n",
      "8771        8771  Санкт-Петербург  1130000018516717   0.517778\n",
      "8772        8772  Санкт-Петербург  1130000018954257  33.583294\n",
      "8773        8773  Санкт-Петербург  1130000020425037   2.386944\n",
      "8775        8775  Санкт-Петербург  1130000023864516  14.384722\n",
      "8779        8779  Санкт-Петербург  1130000028554332   4.107774\n",
      "\n",
      "[488 rows x 4 columns]\n",
      "488\n"
     ]
    }
   ],
   "source": [
    "# Проверка наличия дубликатов\n",
    "print(\"Дубликаты по user_id в таблице с участниками:\")\n",
    "duplicates = df_books[df_books.duplicated(subset='puid', keep=False)]\n",
    "print(duplicates)\n",
    "print(len(duplicates))"
   ]
  },
  {
   "cell_type": "markdown",
   "id": "8b56a862",
   "metadata": {},
   "source": [
    "<div style=\"background-color: white; border: 2px solid black; border-radius: 20px; padding: 15px 25px; display: inline-block; color: black;\">\n",
    "Некоторые пользователи присутствуют в данных сразу в 2-х городах. Выборки должны быть независимыми пользователей необходимо удалить"
   ]
  },
  {
   "cell_type": "code",
   "execution_count": 18,
   "id": "65c873dd",
   "metadata": {},
   "outputs": [
    {
     "name": "stdout",
     "output_type": "stream",
     "text": [
      "244\n"
     ]
    }
   ],
   "source": [
    "# Подсчёт количества вхождений каждого puid\n",
    "puid_counts = df_books['puid'].value_counts()\n",
    "\n",
    "# Определить puid, которые встречаются более одного раза\n",
    "duplicated_puids = puid_counts[puid_counts > 1].index\n",
    "print(len(duplicated_puids))"
   ]
  },
  {
   "cell_type": "code",
   "execution_count": 21,
   "id": "55d03355",
   "metadata": {},
   "outputs": [
    {
     "name": "stdout",
     "output_type": "stream",
     "text": [
      "Осталось строк: 8296\n"
     ]
    }
   ],
   "source": [
    "# Удалить строки с `puid`, которые встречаются более одного раза\n",
    "df_books = df_books[~df_books['puid'].isin(duplicated_puids)]\n",
    "print(f\"Осталось строк: {len(df_books)}\")"
   ]
  },
  {
   "cell_type": "code",
   "execution_count": 22,
   "id": "2884f4c1",
   "metadata": {},
   "outputs": [
    {
     "name": "stdout",
     "output_type": "stream",
     "text": [
      "Москва             5990\n",
      "Санкт-Петербург    2306\n",
      "Name: city, dtype: int64\n"
     ]
    }
   ],
   "source": [
    "# Анализ распределения по городам\n",
    "print(df_books['city'].value_counts())"
   ]
  },
  {
   "cell_type": "markdown",
   "id": "ddc400a1",
   "metadata": {},
   "source": [
    "<div style=\"background-color: white; border: 2px solid black; border-radius: 20px; padding: 15px 25px; display: inline-block; color: black;\">\n",
    "Неравномерное распределение пользователей. Из Москвы сильно больше."
   ]
  },
  {
   "cell_type": "code",
   "execution_count": 30,
   "id": "c4153fd1",
   "metadata": {},
   "outputs": [
    {
     "name": "stdout",
     "output_type": "stream",
     "text": [
      "city\n",
      "Москва             10.848192\n",
      "Санкт-Петербург    11.264433\n",
      "Name: hours, dtype: float64\n"
     ]
    }
   ],
   "source": [
    "# Средняя активность по городам\n",
    "mean_hours = df_books.groupby('city')['hours'].mean()\n",
    "print(mean_hours)"
   ]
  },
  {
   "cell_type": "code",
   "execution_count": 24,
   "id": "bfcf53e2",
   "metadata": {},
   "outputs": [
    {
     "data": {
      "image/png": "[encoded data removed]",
      "text/plain": [
       "<Figure size 432x288 with 1 Axes>"
      ]
     },
     "metadata": {
      "needs_background": "light"
     },
     "output_type": "display_data"
    }
   ],
   "source": [
    "sns.boxplot(x='city', y='hours', data=df_books)\n",
    "plt.title('Распределение часов по городам')\n",
    "plt.show()"
   ]
  },
  {
   "cell_type": "code",
   "execution_count": 25,
   "id": "e2f6288e",
   "metadata": {},
   "outputs": [
    {
     "name": "stdout",
     "output_type": "stream",
     "text": [
      "count    8296.000000\n",
      "mean       10.963892\n",
      "std        37.753906\n",
      "min         0.000022\n",
      "25%         0.057493\n",
      "50%         0.884214\n",
      "75%         5.944675\n",
      "max       978.764775\n",
      "Name: hours, dtype: float64\n"
     ]
    }
   ],
   "source": [
    "# Получить статистические показатели по столбцу 'hours'\n",
    "print(df_books['hours'].describe())"
   ]
  },
  {
   "cell_type": "markdown",
   "id": "1297840b",
   "metadata": {},
   "source": [
    "<div style=\"background-color: white; border: 2px solid black; border-radius: 20px; padding: 15px 25px; display: inline-block; color: black;\">\n",
    "На основе полученных статистических данных по столбцу 'hours' можно сделать следующие выводы:\n",
    "- Среднее значение: в среднем пользователи проводят около 10.96 часов активности.\n",
    "- Стандартное отклонение очень большое, что указывает на значительную разбросанность данных и наличие экстремальных значений.\n",
    "- Минимальное значение: практически равно нулю (0.000022 часа), что говорит о пользователях с очень коротким или отсутствующим временем активности.\n",
    "\n",
    "- Квартильные значения:\n",
    " - 25-й перцентиль ~3.4 минуты, то есть треть пользователей активны очень мало.\n",
    " - 50-й перцентиль ~53 минуты, половина пользователей активны менее часа.\n",
    " - 75-й перцентиль около 5.94 часов, то есть большинство пользователей проводят менее 6 часов.\n",
    "\n",
    "- Максимальное значение — около 979 часов (~41 день непрерывной активности), что может указывать на наличие выбросов или аномальных данных."
   ]
  },
  {
   "cell_type": "code",
   "execution_count": 26,
   "id": "df83d4b8",
   "metadata": {},
   "outputs": [
    {
     "data": {
      "image/png": "[encoded data removed]",
      "text/plain": [
       "<Figure size 720x432 with 1 Axes>"
      ]
     },
     "metadata": {},
     "output_type": "display_data"
    }
   ],
   "source": [
    "sns.set(style=\"whitegrid\")\n",
    "plt.figure(figsize=(10,6))\n",
    "sns.histplot(df_books['hours'], bins=30)\n",
    "plt.title('Распределение общего количества часов активности')\n",
    "plt.xlabel('Часы активности')\n",
    "plt.ylabel('Количество пользователей')\n",
    "plt.show()"
   ]
  },
  {
   "cell_type": "markdown",
   "id": "2d00cfc5",
   "metadata": {},
   "source": [
    "<div style=\"background-color: white; border: 2px solid black; border-radius: 20px; padding: 15px 25px; display: inline-block; color: black;\">\n",
    "Распределение времени активности у пользователей сильно скошено вправо: большинство проводят мало времени (менее часа), но есть небольшое количество пользователей с очень высоким временем активности, что значительно увеличивает среднее значение и стандартное отклонение. "
   ]
  },
  {
   "cell_type": "markdown",
   "id": "956e82e2",
   "metadata": {
    "id": "956e82e2"
   },
   "source": [
    "## 2. Проверка гипотезы в Python\n",
    "\n",
    "Гипотеза звучит так: пользователи из Санкт-Петербурга проводят в среднем больше времени за чтением и прослушиванием книг в приложении, чем пользователи из Москвы. Попробуйте статистически это доказать, используя одностороннюю проверку гипотезы с двумя выборками:\n",
    "\n",
    "- Нулевая гипотеза H₀: Средняя активность пользователей в часах в двух группах (Москва и Санкт-Петербург) не различается.\n",
    "\n",
    "- Альтернативная гипотеза H₁: Средняя активность пользователей в Санкт-Петербурге больше, и это различие статистически значимо."
   ]
  },
  {
   "cell_type": "code",
   "execution_count": 27,
   "id": "78b62fdd",
   "metadata": {},
   "outputs": [],
   "source": [
    "# Формирование выборок\n",
    "moscow_hours = df_books[df_books['city'] == 'Москва']['hours']\n",
    "spb_hours = df_books[df_books['city'] == 'Санкт-Петербург']['hours']"
   ]
  },
  {
   "cell_type": "code",
   "execution_count": 28,
   "id": "7dbb679c",
   "metadata": {},
   "outputs": [],
   "source": [
    "from scipy.stats import mannwhitneyu"
   ]
  },
  {
   "cell_type": "code",
   "execution_count": 29,
   "id": "c053c46f",
   "metadata": {},
   "outputs": [
    {
     "name": "stdout",
     "output_type": "stream",
     "text": [
      "P-value: 0.4532\n",
      "P-value >= 0.05: Нет значимых различий в количестве уникальных дневных сессий между группами\n",
      "Группы сопоставимы по количеству сессий, тест проведен корректно\n"
     ]
    }
   ],
   "source": [
    "stat, p_value = mannwhitneyu(spb_hours, moscow_hours, alternative='greater')\n",
    "alpha= 0.05\n",
    "# Выводим p-value и интерпретируем результат\n",
    "print(f'P-value: {p_value:.4f}')\n",
    "if p_value < 0.05:\n",
    "    print('P-value < 0.05: Есть значитпльные различия в количестве уникальных дневных сессий между группами')\n",
    "    print('Возможно есть проблема в распределении пользователей и\\или сессий')\n",
    "else:\n",
    "    print('P-value >= 0.05: Нет значимых различий в количестве уникальных дневных сессий между группами')\n",
    "    print('Группы сопоставимы по количеству сессий, тест проведен корректно')"
   ]
  },
  {
   "cell_type": "markdown",
   "id": "6953e84c",
   "metadata": {
    "id": "6953e84c"
   },
   "source": [
    "## 3. Аналитическая записка\n",
    "<div style=\"background-color: white; border: 2px solid black; border-radius: 20px; padding: 15px 25px; display: inline-block; color: black;\">\n",
    "По результатам анализа данных подготовьте аналитическую записку, в которой опишете:\n",
    "Сравнение активности пользователей Яндекс Книги в Москве и Санкт-Петербурге:\n",
    "\n",
    "Общее количество записей — 8296\n",
    "В  Москве 5990\n",
    "В Санкт-Петербурге    2306\n",
    "\n",
    "Среднее время чтения в Москве составляет 10.9 часов, а в Санкт-Петербурге — 11.3 часов, разнича небольшая.\n",
    "- Выбранный тип t-теста и уровень статистической значимости.\n",
    "\n",
    "Для проверки гипотезы о том, что активность в Санкт-Петербурге выше, был применен непараметрический тест Манна-Уитни.\n",
    "Он подходит по причине неравномерности данных.\n",
    "- Результат теста, или p-value.\n",
    "\n",
    "При уровне значимости α=0.05\n",
    "P-value: 0.4532\n",
    "P-value >= 0.05\n",
    "- Вывод на основе полученного p-value, то есть интерпретацию результатов.\n",
    "\n",
    "P-value >= 0.05: Нет значимых различий в количестве уникальных дневных сессий между группами\n",
    "Группы сопоставимы по количеству сессий, тест проведен корректно\n",
    "- Одну или две возможные причины, объясняющие полученные результаты.\n"
   ]
  }
 ],
 "metadata": {
  "ExecuteTimeLog": [
   {
    "duration": 1584,
    "start_time": "2025-06-18T06:17:13.857Z"
   },
   {
    "duration": 200,
    "start_time": "2025-06-18T06:21:11.062Z"
   },
   {
    "duration": 55,
    "start_time": "2025-06-18T06:21:32.765Z"
   },
   {
    "duration": 1366,
    "start_time": "2025-06-18T06:22:18.188Z"
   },
   {
    "duration": 1645,
    "start_time": "2025-06-18T06:24:53.549Z"
   },
   {
    "duration": 1558,
    "start_time": "2025-06-18T06:25:45.779Z"
   },
   {
    "duration": 26,
    "start_time": "2025-06-18T06:27:45.222Z"
   },
   {
    "duration": 121,
    "start_time": "2025-06-18T06:27:54.206Z"
   },
   {
    "duration": 1529,
    "start_time": "2025-06-18T06:28:36.571Z"
   },
   {
    "duration": 17,
    "start_time": "2025-06-18T06:28:38.102Z"
   },
   {
    "duration": 143,
    "start_time": "2025-06-18T06:28:38.120Z"
   },
   {
    "duration": 63,
    "start_time": "2025-06-18T06:32:37.941Z"
   },
   {
    "duration": 11,
    "start_time": "2025-06-18T06:32:42.626Z"
   },
   {
    "duration": 11,
    "start_time": "2025-06-18T06:33:16.098Z"
   },
   {
    "duration": 5,
    "start_time": "2025-06-18T10:54:02.239Z"
   },
   {
    "duration": 4,
    "start_time": "2025-06-18T10:56:01.161Z"
   },
   {
    "duration": 12,
    "start_time": "2025-06-18T10:56:08.431Z"
   },
   {
    "duration": 12,
    "start_time": "2025-06-18T10:56:16.489Z"
   },
   {
    "duration": 8,
    "start_time": "2025-06-18T10:56:25.312Z"
   },
   {
    "duration": 7,
    "start_time": "2025-06-18T10:56:42.552Z"
   },
   {
    "duration": 7,
    "start_time": "2025-06-18T10:56:56.767Z"
   },
   {
    "duration": 6,
    "start_time": "2025-06-18T10:57:37.396Z"
   },
   {
    "duration": 38,
    "start_time": "2025-06-18T15:31:38.972Z"
   },
   {
    "duration": 5,
    "start_time": "2025-06-18T15:35:22.273Z"
   },
   {
    "duration": 7,
    "start_time": "2025-06-18T15:35:45.545Z"
   },
   {
    "duration": 21,
    "start_time": "2025-06-18T15:35:49.528Z"
   },
   {
    "duration": 16,
    "start_time": "2025-06-18T15:36:51.476Z"
   },
   {
    "duration": 23,
    "start_time": "2025-06-18T15:37:24.142Z"
   },
   {
    "duration": 6,
    "start_time": "2025-06-18T15:37:57.554Z"
   },
   {
    "duration": 19,
    "start_time": "2025-06-18T15:38:14.155Z"
   },
   {
    "duration": 16,
    "start_time": "2025-06-18T15:38:34.587Z"
   },
   {
    "duration": 4,
    "start_time": "2025-06-18T15:52:19.785Z"
   },
   {
    "duration": 4,
    "start_time": "2025-06-18T15:52:22.808Z"
   },
   {
    "duration": 6,
    "start_time": "2025-06-18T15:53:06.407Z"
   },
   {
    "duration": 10,
    "start_time": "2025-06-18T15:53:27.134Z"
   },
   {
    "duration": 12,
    "start_time": "2025-06-18T16:33:33.733Z"
   },
   {
    "duration": 51,
    "start_time": "2025-06-19T11:38:09.015Z"
   },
   {
    "duration": 1393,
    "start_time": "2025-06-19T11:38:15.380Z"
   },
   {
    "duration": 1696,
    "start_time": "2025-06-19T11:38:16.775Z"
   },
   {
    "duration": 39,
    "start_time": "2025-06-19T11:38:18.473Z"
   },
   {
    "duration": 122,
    "start_time": "2025-06-19T11:38:18.515Z"
   },
   {
    "duration": 10,
    "start_time": "2025-06-19T11:38:18.638Z"
   },
   {
    "duration": 82,
    "start_time": "2025-06-19T11:38:18.649Z"
   },
   {
    "duration": 8,
    "start_time": "2025-06-19T11:38:18.754Z"
   },
   {
    "duration": 5,
    "start_time": "2025-06-19T11:38:52.922Z"
   },
   {
    "duration": 7,
    "start_time": "2025-06-19T11:38:54.227Z"
   },
   {
    "duration": 17,
    "start_time": "2025-06-19T11:39:00.947Z"
   },
   {
    "duration": 17,
    "start_time": "2025-06-19T11:39:05.298Z"
   },
   {
    "duration": 15,
    "start_time": "2025-06-19T11:39:07.681Z"
   },
   {
    "duration": 1157,
    "start_time": "2025-06-19T11:39:45.207Z"
   },
   {
    "duration": 1343,
    "start_time": "2025-06-19T11:41:30.948Z"
   },
   {
    "duration": 259,
    "start_time": "2025-06-19T11:43:02.186Z"
   },
   {
    "duration": 226,
    "start_time": "2025-06-19T11:43:08.689Z"
   },
   {
    "duration": 1231,
    "start_time": "2025-06-19T11:43:14.449Z"
   },
   {
    "duration": 1037,
    "start_time": "2025-06-19T11:45:19.891Z"
   },
   {
    "duration": 68,
    "start_time": "2025-06-19T11:45:22.448Z"
   },
   {
    "duration": 83,
    "start_time": "2025-06-19T11:45:27.245Z"
   },
   {
    "duration": 441,
    "start_time": "2025-06-19T11:45:35.611Z"
   },
   {
    "duration": 188,
    "start_time": "2025-06-19T11:48:07.270Z"
   },
   {
    "duration": 8,
    "start_time": "2025-06-19T11:49:12.965Z"
   },
   {
    "duration": 428,
    "start_time": "2025-06-19T11:49:36.250Z"
   },
   {
    "duration": 422,
    "start_time": "2025-06-19T11:50:53.415Z"
   },
   {
    "duration": 431,
    "start_time": "2025-06-19T11:53:13.114Z"
   },
   {
    "duration": 5,
    "start_time": "2025-06-19T11:54:21.911Z"
   },
   {
    "duration": 453,
    "start_time": "2025-06-19T11:54:22.703Z"
   },
   {
    "duration": 460,
    "start_time": "2025-06-19T11:54:34.247Z"
   },
   {
    "duration": 415,
    "start_time": "2025-06-19T11:54:46.431Z"
   },
   {
    "duration": 148,
    "start_time": "2025-06-19T11:55:34.381Z"
   },
   {
    "duration": 1096,
    "start_time": "2025-06-19T11:56:14.818Z"
   },
   {
    "duration": 461,
    "start_time": "2025-06-19T12:01:29.745Z"
   },
   {
    "duration": 387,
    "start_time": "2025-06-19T12:01:42.972Z"
   },
   {
    "duration": 376,
    "start_time": "2025-06-19T12:01:50.970Z"
   },
   {
    "duration": 411,
    "start_time": "2025-06-19T12:02:02.747Z"
   },
   {
    "duration": 16,
    "start_time": "2025-06-19T13:34:44.564Z"
   },
   {
    "duration": 13,
    "start_time": "2025-06-19T13:35:32.713Z"
   },
   {
    "duration": 3,
    "start_time": "2025-06-19T13:36:37.638Z"
   },
   {
    "duration": 4,
    "start_time": "2025-06-19T13:37:40.533Z"
   },
   {
    "duration": 4,
    "start_time": "2025-06-19T13:39:37.152Z"
   },
   {
    "duration": 64,
    "start_time": "2025-06-19T19:20:10.089Z"
   },
   {
    "duration": 1437,
    "start_time": "2025-06-19T19:20:19.761Z"
   },
   {
    "duration": 1509,
    "start_time": "2025-06-20T08:25:33.710Z"
   },
   {
    "duration": 1674,
    "start_time": "2025-06-20T08:25:35.221Z"
   },
   {
    "duration": 25,
    "start_time": "2025-06-20T08:25:36.897Z"
   },
   {
    "duration": 156,
    "start_time": "2025-06-20T08:25:36.924Z"
   },
   {
    "duration": 12,
    "start_time": "2025-06-20T08:25:37.082Z"
   },
   {
    "duration": 6,
    "start_time": "2025-06-20T08:25:37.096Z"
   },
   {
    "duration": 8,
    "start_time": "2025-06-20T08:25:37.103Z"
   },
   {
    "duration": 48,
    "start_time": "2025-06-20T08:25:37.113Z"
   },
   {
    "duration": 124,
    "start_time": "2025-06-20T08:25:37.162Z"
   },
   {
    "duration": 0,
    "start_time": "2025-06-20T08:25:37.288Z"
   },
   {
    "duration": 0,
    "start_time": "2025-06-20T08:25:37.289Z"
   },
   {
    "duration": 1,
    "start_time": "2025-06-20T08:25:37.290Z"
   },
   {
    "duration": 12,
    "start_time": "2025-06-20T08:25:38.981Z"
   },
   {
    "duration": 1630,
    "start_time": "2025-06-20T08:25:45.470Z"
   },
   {
    "duration": 19,
    "start_time": "2025-06-20T08:25:48.485Z"
   },
   {
    "duration": 136,
    "start_time": "2025-06-20T08:25:49.525Z"
   },
   {
    "duration": 13,
    "start_time": "2025-06-20T08:25:52.285Z"
   },
   {
    "duration": 6,
    "start_time": "2025-06-20T08:25:54.373Z"
   },
   {
    "duration": 8,
    "start_time": "2025-06-20T08:25:55.621Z"
   },
   {
    "duration": 17,
    "start_time": "2025-06-20T08:25:57.910Z"
   },
   {
    "duration": 12,
    "start_time": "2025-06-20T08:26:31.812Z"
   },
   {
    "duration": 123,
    "start_time": "2025-06-20T08:26:35.595Z"
   },
   {
    "duration": 1283,
    "start_time": "2025-06-20T08:26:36.885Z"
   },
   {
    "duration": 3,
    "start_time": "2025-06-20T08:26:38.171Z"
   },
   {
    "duration": 433,
    "start_time": "2025-06-20T08:26:40.275Z"
   },
   {
    "duration": 4,
    "start_time": "2025-06-20T08:26:43.813Z"
   },
   {
    "duration": 1274,
    "start_time": "2025-06-20T08:26:49.611Z"
   },
   {
    "duration": 10,
    "start_time": "2025-06-20T08:28:15.441Z"
   },
   {
    "duration": 11,
    "start_time": "2025-06-20T08:30:35.203Z"
   },
   {
    "duration": 1310,
    "start_time": "2025-06-20T08:32:07.574Z"
   },
   {
    "duration": 10,
    "start_time": "2025-06-20T08:32:30.020Z"
   },
   {
    "duration": 10,
    "start_time": "2025-06-20T08:33:02.220Z"
   },
   {
    "duration": 12,
    "start_time": "2025-06-20T08:34:25.090Z"
   },
   {
    "duration": 1301,
    "start_time": "2025-06-20T08:39:45.160Z"
   },
   {
    "duration": 3,
    "start_time": "2025-06-20T08:39:52.779Z"
   },
   {
    "duration": 453,
    "start_time": "2025-06-20T08:39:53.443Z"
   },
   {
    "duration": 4,
    "start_time": "2025-06-20T08:39:59.362Z"
   },
   {
    "duration": 3,
    "start_time": "2025-06-20T08:40:04.186Z"
   },
   {
    "duration": 1289,
    "start_time": "2025-06-20T08:40:08.098Z"
   },
   {
    "duration": 1470,
    "start_time": "2025-06-20T08:40:32.530Z"
   },
   {
    "duration": 10,
    "start_time": "2025-06-20T08:41:17.832Z"
   },
   {
    "duration": 8,
    "start_time": "2025-06-20T08:41:38.152Z"
   },
   {
    "duration": 337,
    "start_time": "2025-06-20T08:43:06.037Z"
   },
   {
    "duration": 10,
    "start_time": "2025-06-20T08:43:26.522Z"
   },
   {
    "duration": 9,
    "start_time": "2025-06-20T08:43:38.044Z"
   },
   {
    "duration": 5,
    "start_time": "2025-06-20T08:44:10.978Z"
   },
   {
    "duration": 17,
    "start_time": "2025-06-20T08:44:20.905Z"
   },
   {
    "duration": 17,
    "start_time": "2025-06-20T08:45:18.637Z"
   },
   {
    "duration": 29,
    "start_time": "2025-06-20T08:45:38.401Z"
   },
   {
    "duration": 4,
    "start_time": "2025-06-20T08:46:07.572Z"
   },
   {
    "duration": 5,
    "start_time": "2025-06-20T08:46:22.277Z"
   },
   {
    "duration": 14,
    "start_time": "2025-06-20T08:48:35.191Z"
   },
   {
    "duration": 14,
    "start_time": "2025-06-20T08:49:53.837Z"
   },
   {
    "duration": 15,
    "start_time": "2025-06-20T08:50:36.388Z"
   },
   {
    "duration": 4,
    "start_time": "2025-06-20T08:52:08.565Z"
   },
   {
    "duration": 1819,
    "start_time": "2025-06-20T09:00:00.650Z"
   },
   {
    "duration": 1709,
    "start_time": "2025-06-20T09:00:04.851Z"
   },
   {
    "duration": 10,
    "start_time": "2025-06-20T09:02:56.684Z"
   },
   {
    "duration": 9,
    "start_time": "2025-06-20T09:07:10.627Z"
   },
   {
    "duration": 11,
    "start_time": "2025-06-20T09:09:52.829Z"
   },
   {
    "duration": 10,
    "start_time": "2025-06-20T09:11:06.540Z"
   },
   {
    "duration": 12,
    "start_time": "2025-06-20T09:11:10.269Z"
   },
   {
    "duration": 83,
    "start_time": "2025-06-20T09:11:11.025Z"
   },
   {
    "duration": 22,
    "start_time": "2025-06-20T09:16:35.653Z"
   },
   {
    "duration": 173,
    "start_time": "2025-06-20T09:17:46.811Z"
   },
   {
    "duration": 3,
    "start_time": "2025-06-20T09:24:11.596Z"
   },
   {
    "duration": 66,
    "start_time": "2025-06-20T09:24:16.499Z"
   },
   {
    "duration": 10,
    "start_time": "2025-06-20T09:24:21.364Z"
   },
   {
    "duration": 71,
    "start_time": "2025-06-20T09:25:02.970Z"
   },
   {
    "duration": 11,
    "start_time": "2025-06-20T09:25:37.313Z"
   },
   {
    "duration": 10,
    "start_time": "2025-06-20T09:25:42.648Z"
   },
   {
    "duration": 11,
    "start_time": "2025-06-20T09:26:43.349Z"
   },
   {
    "duration": 1847,
    "start_time": "2025-06-20T09:28:36.513Z"
   },
   {
    "duration": 21,
    "start_time": "2025-06-20T09:28:38.362Z"
   },
   {
    "duration": 128,
    "start_time": "2025-06-20T09:28:42.236Z"
   },
   {
    "duration": 12,
    "start_time": "2025-06-20T09:28:51.619Z"
   },
   {
    "duration": 6,
    "start_time": "2025-06-20T09:29:49.846Z"
   },
   {
    "duration": 8,
    "start_time": "2025-06-20T09:29:52.973Z"
   },
   {
    "duration": 10,
    "start_time": "2025-06-20T09:30:35.141Z"
   },
   {
    "duration": 9,
    "start_time": "2025-06-20T09:31:15.006Z"
   },
   {
    "duration": 5,
    "start_time": "2025-06-20T09:39:55.973Z"
   },
   {
    "duration": 3,
    "start_time": "2025-06-20T09:40:08.093Z"
   },
   {
    "duration": 8,
    "start_time": "2025-06-20T09:41:02.716Z"
   },
   {
    "duration": 32,
    "start_time": "2025-06-20T09:43:12.885Z"
   },
   {
    "duration": 25,
    "start_time": "2025-06-20T09:43:30.269Z"
   },
   {
    "duration": 18,
    "start_time": "2025-06-20T09:44:07.043Z"
   },
   {
    "duration": 18,
    "start_time": "2025-06-20T09:45:21.504Z"
   },
   {
    "duration": 84,
    "start_time": "2025-06-20T09:46:58.972Z"
   },
   {
    "duration": 17,
    "start_time": "2025-06-20T09:49:07.439Z"
   },
   {
    "duration": 147,
    "start_time": "2025-06-20T09:49:25.245Z"
   },
   {
    "duration": 37,
    "start_time": "2025-06-20T09:49:27.358Z"
   },
   {
    "duration": 80,
    "start_time": "2025-06-20T09:49:50.022Z"
   },
   {
    "duration": 50,
    "start_time": "2025-06-20T09:50:01.438Z"
   },
   {
    "duration": 46,
    "start_time": "2025-06-20T09:50:03.486Z"
   },
   {
    "duration": 45,
    "start_time": "2025-06-20T09:50:52.492Z"
   },
   {
    "duration": 402,
    "start_time": "2025-06-20T09:52:49.300Z"
   },
   {
    "duration": 351,
    "start_time": "2025-06-20T09:52:59.095Z"
   },
   {
    "duration": 42,
    "start_time": "2025-06-20T09:54:50.153Z"
   },
   {
    "duration": 57,
    "start_time": "2025-06-20T09:55:04.775Z"
   },
   {
    "duration": 57,
    "start_time": "2025-06-20T09:55:24.439Z"
   },
   {
    "duration": 27,
    "start_time": "2025-06-20T09:55:30.383Z"
   },
   {
    "duration": 43,
    "start_time": "2025-06-20T09:55:40.466Z"
   },
   {
    "duration": 10,
    "start_time": "2025-06-20T10:12:45.775Z"
   },
   {
    "duration": 23,
    "start_time": "2025-06-20T10:13:51.901Z"
   },
   {
    "duration": 17,
    "start_time": "2025-06-20T10:17:18.965Z"
   },
   {
    "duration": 766,
    "start_time": "2025-06-20T10:17:42.331Z"
   },
   {
    "duration": 12,
    "start_time": "2025-06-20T10:19:31.518Z"
   },
   {
    "duration": 87,
    "start_time": "2025-06-20T10:19:39.515Z"
   },
   {
    "duration": 163,
    "start_time": "2025-06-20T10:20:38.199Z"
   },
   {
    "duration": 176,
    "start_time": "2025-06-20T10:21:06.500Z"
   },
   {
    "duration": 422,
    "start_time": "2025-06-20T12:08:41.776Z"
   },
   {
    "duration": 433,
    "start_time": "2025-06-20T12:09:03.193Z"
   },
   {
    "duration": 35,
    "start_time": "2025-06-20T12:09:03.719Z"
   },
   {
    "duration": 46,
    "start_time": "2025-06-20T12:09:04.447Z"
   },
   {
    "duration": 41,
    "start_time": "2025-06-20T12:09:06.304Z"
   },
   {
    "duration": 265,
    "start_time": "2025-06-20T12:09:11.551Z"
   },
   {
    "duration": 3,
    "start_time": "2025-06-20T12:10:37.676Z"
   },
   {
    "duration": 16,
    "start_time": "2025-06-20T12:10:38.997Z"
   },
   {
    "duration": 21,
    "start_time": "2025-06-20T12:15:32.362Z"
   },
   {
    "duration": 22,
    "start_time": "2025-06-20T12:16:25.862Z"
   },
   {
    "duration": 12,
    "start_time": "2025-06-20T12:16:40.855Z"
   },
   {
    "duration": 13,
    "start_time": "2025-06-20T12:16:58.925Z"
   },
   {
    "duration": 78,
    "start_time": "2025-06-20T12:17:14.452Z"
   },
   {
    "duration": 13,
    "start_time": "2025-06-20T12:17:20.063Z"
   },
   {
    "duration": 12,
    "start_time": "2025-06-20T12:18:54.374Z"
   },
   {
    "duration": 17,
    "start_time": "2025-06-20T12:19:09.440Z"
   },
   {
    "duration": 11,
    "start_time": "2025-06-20T12:20:01.270Z"
   },
   {
    "duration": 11,
    "start_time": "2025-06-20T12:21:01.323Z"
   },
   {
    "duration": 152,
    "start_time": "2025-06-20T12:22:25.089Z"
   },
   {
    "duration": 403,
    "start_time": "2025-06-20T12:22:26.192Z"
   },
   {
    "duration": 452,
    "start_time": "2025-06-20T12:22:30.937Z"
   },
   {
    "duration": 36,
    "start_time": "2025-06-20T12:22:31.815Z"
   },
   {
    "duration": 46,
    "start_time": "2025-06-20T12:22:32.369Z"
   },
   {
    "duration": 43,
    "start_time": "2025-06-20T12:22:33.248Z"
   },
   {
    "duration": 315,
    "start_time": "2025-06-20T12:22:35.529Z"
   },
   {
    "duration": 4,
    "start_time": "2025-06-20T12:22:47.943Z"
   },
   {
    "duration": 28,
    "start_time": "2025-06-20T12:22:48.695Z"
   },
   {
    "duration": 15,
    "start_time": "2025-06-20T12:22:52.253Z"
   },
   {
    "duration": 14,
    "start_time": "2025-06-20T12:22:58.703Z"
   },
   {
    "duration": 12,
    "start_time": "2025-06-20T12:23:15.417Z"
   },
   {
    "duration": 20,
    "start_time": "2025-06-20T12:25:10.866Z"
   },
   {
    "duration": 31,
    "start_time": "2025-06-20T12:25:28.826Z"
   },
   {
    "duration": 37,
    "start_time": "2025-06-20T12:26:00.320Z"
   },
   {
    "duration": 47,
    "start_time": "2025-06-20T12:26:08.830Z"
   },
   {
    "duration": 31,
    "start_time": "2025-06-20T12:26:17.134Z"
   },
   {
    "duration": 19,
    "start_time": "2025-06-20T12:27:43.255Z"
   },
   {
    "duration": 27,
    "start_time": "2025-06-20T12:28:03.540Z"
   },
   {
    "duration": 31,
    "start_time": "2025-06-20T12:28:23.810Z"
   },
   {
    "duration": 5,
    "start_time": "2025-06-20T12:29:39.368Z"
   },
   {
    "duration": 7,
    "start_time": "2025-06-20T12:30:07.062Z"
   },
   {
    "duration": 6,
    "start_time": "2025-06-20T12:30:40.190Z"
   },
   {
    "duration": 9,
    "start_time": "2025-06-20T12:31:42.955Z"
   },
   {
    "duration": 178,
    "start_time": "2025-06-20T12:31:58.920Z"
   },
   {
    "duration": 7,
    "start_time": "2025-06-20T12:33:07.526Z"
   },
   {
    "duration": 3,
    "start_time": "2025-06-20T12:33:28.093Z"
   },
   {
    "duration": 17,
    "start_time": "2025-06-20T12:35:08.948Z"
   },
   {
    "duration": 2087,
    "start_time": "2025-06-20T14:46:21.438Z"
   },
   {
    "duration": 47,
    "start_time": "2025-06-20T14:46:23.527Z"
   },
   {
    "duration": 4,
    "start_time": "2025-06-20T14:46:23.575Z"
   },
   {
    "duration": 17,
    "start_time": "2025-06-20T14:46:23.581Z"
   },
   {
    "duration": 17,
    "start_time": "2025-06-20T14:46:23.600Z"
   },
   {
    "duration": 12,
    "start_time": "2025-06-20T14:46:23.619Z"
   },
   {
    "duration": 323,
    "start_time": "2025-06-20T14:46:23.633Z"
   },
   {
    "duration": 18,
    "start_time": "2025-06-20T14:46:23.958Z"
   },
   {
    "duration": 29,
    "start_time": "2025-06-20T14:46:23.978Z"
   },
   {
    "duration": 24,
    "start_time": "2025-06-20T14:46:24.009Z"
   },
   {
    "duration": 1752,
    "start_time": "2025-06-20T14:46:24.034Z"
   },
   {
    "duration": 21,
    "start_time": "2025-06-20T14:46:25.788Z"
   },
   {
    "duration": 132,
    "start_time": "2025-06-20T14:46:25.811Z"
   },
   {
    "duration": 25,
    "start_time": "2025-06-20T14:46:25.946Z"
   },
   {
    "duration": 9,
    "start_time": "2025-06-20T14:46:25.973Z"
   },
   {
    "duration": 11,
    "start_time": "2025-06-20T14:46:25.984Z"
   },
   {
    "duration": 6,
    "start_time": "2025-06-20T14:46:25.996Z"
   },
   {
    "duration": 25,
    "start_time": "2025-06-20T14:46:26.004Z"
   },
   {
    "duration": 45,
    "start_time": "2025-06-20T14:46:26.031Z"
   },
   {
    "duration": 30,
    "start_time": "2025-06-20T14:46:26.078Z"
   },
   {
    "duration": 166,
    "start_time": "2025-06-20T14:46:26.110Z"
   },
   {
    "duration": 480,
    "start_time": "2025-06-20T14:46:26.277Z"
   },
   {
    "duration": 42,
    "start_time": "2025-06-20T14:46:26.759Z"
   },
   {
    "duration": 67,
    "start_time": "2025-06-20T14:46:26.803Z"
   },
   {
    "duration": 41,
    "start_time": "2025-06-20T14:46:26.872Z"
   },
   {
    "duration": 573,
    "start_time": "2025-06-20T14:46:26.915Z"
   },
   {
    "duration": 0,
    "start_time": "2025-06-20T14:46:27.490Z"
   },
   {
    "duration": 0,
    "start_time": "2025-06-20T14:46:27.490Z"
   },
   {
    "duration": 0,
    "start_time": "2025-06-20T14:46:27.491Z"
   },
   {
    "duration": 1373,
    "start_time": "2025-06-20T16:10:35.207Z"
   },
   {
    "duration": 52,
    "start_time": "2025-06-20T16:10:36.582Z"
   },
   {
    "duration": 44,
    "start_time": "2025-06-20T16:10:36.635Z"
   },
   {
    "duration": 21,
    "start_time": "2025-06-20T16:10:36.681Z"
   },
   {
    "duration": 10,
    "start_time": "2025-06-20T16:10:36.705Z"
   },
   {
    "duration": 45,
    "start_time": "2025-06-20T16:10:36.717Z"
   },
   {
    "duration": 143,
    "start_time": "2025-06-20T16:10:36.764Z"
   },
   {
    "duration": 7,
    "start_time": "2025-06-20T16:10:36.909Z"
   },
   {
    "duration": 130,
    "start_time": "2025-06-20T16:10:36.918Z"
   },
   {
    "duration": 20,
    "start_time": "2025-06-20T16:10:37.051Z"
   },
   {
    "duration": 1576,
    "start_time": "2025-06-20T16:10:37.072Z"
   },
   {
    "duration": 17,
    "start_time": "2025-06-20T16:10:38.650Z"
   },
   {
    "duration": 141,
    "start_time": "2025-06-20T16:10:38.668Z"
   },
   {
    "duration": 11,
    "start_time": "2025-06-20T16:10:38.811Z"
   },
   {
    "duration": 10,
    "start_time": "2025-06-20T16:10:38.823Z"
   },
   {
    "duration": 9,
    "start_time": "2025-06-20T16:10:38.835Z"
   },
   {
    "duration": 3,
    "start_time": "2025-06-20T16:10:38.846Z"
   },
   {
    "duration": 52,
    "start_time": "2025-06-20T16:10:38.851Z"
   },
   {
    "duration": 28,
    "start_time": "2025-06-20T16:10:38.904Z"
   },
   {
    "duration": 29,
    "start_time": "2025-06-20T16:10:38.934Z"
   },
   {
    "duration": 158,
    "start_time": "2025-06-20T16:10:38.965Z"
   },
   {
    "duration": 417,
    "start_time": "2025-06-20T16:10:39.125Z"
   },
   {
    "duration": 30,
    "start_time": "2025-06-20T16:10:39.543Z"
   },
   {
    "duration": 53,
    "start_time": "2025-06-20T16:10:39.575Z"
   },
   {
    "duration": 128,
    "start_time": "2025-06-20T16:10:39.630Z"
   },
   {
    "duration": 335,
    "start_time": "2025-06-20T16:10:39.760Z"
   },
   {
    "duration": 0,
    "start_time": "2025-06-20T16:10:40.098Z"
   },
   {
    "duration": 0,
    "start_time": "2025-06-20T16:10:40.099Z"
   },
   {
    "duration": 0,
    "start_time": "2025-06-20T16:10:40.100Z"
   },
   {
    "duration": 254,
    "start_time": "2025-06-20T16:10:54.333Z"
   },
   {
    "duration": 8,
    "start_time": "2025-06-20T16:11:08.834Z"
   },
   {
    "duration": 13,
    "start_time": "2025-06-20T16:11:09.617Z"
   },
   {
    "duration": 29,
    "start_time": "2025-06-20T16:11:12.617Z"
   },
   {
    "duration": 249,
    "start_time": "2025-06-20T16:13:14.037Z"
   },
   {
    "duration": 23,
    "start_time": "2025-06-20T16:14:24.420Z"
   },
   {
    "duration": 16,
    "start_time": "2025-06-20T16:16:00.096Z"
   },
   {
    "duration": 14,
    "start_time": "2025-06-20T16:16:13.958Z"
   },
   {
    "duration": 70,
    "start_time": "2025-06-20T16:19:32.814Z"
   },
   {
    "duration": 16,
    "start_time": "2025-06-20T16:19:49.615Z"
   },
   {
    "duration": 20,
    "start_time": "2025-06-20T16:20:59.451Z"
   },
   {
    "duration": 1208,
    "start_time": "2025-06-20T16:21:24.899Z"
   },
   {
    "duration": 41,
    "start_time": "2025-06-20T16:21:26.109Z"
   },
   {
    "duration": 4,
    "start_time": "2025-06-20T16:21:26.152Z"
   },
   {
    "duration": 17,
    "start_time": "2025-06-20T16:21:26.159Z"
   },
   {
    "duration": 5,
    "start_time": "2025-06-20T16:21:26.178Z"
   },
   {
    "duration": 13,
    "start_time": "2025-06-20T16:21:26.185Z"
   },
   {
    "duration": 153,
    "start_time": "2025-06-20T16:21:26.200Z"
   },
   {
    "duration": 8,
    "start_time": "2025-06-20T16:21:26.355Z"
   },
   {
    "duration": 3,
    "start_time": "2025-06-20T16:21:26.365Z"
   },
   {
    "duration": 33,
    "start_time": "2025-06-20T16:21:26.373Z"
   },
   {
    "duration": 1659,
    "start_time": "2025-06-20T16:21:26.408Z"
   },
   {
    "duration": 29,
    "start_time": "2025-06-20T16:21:28.069Z"
   },
   {
    "duration": 125,
    "start_time": "2025-06-20T16:21:28.100Z"
   },
   {
    "duration": 9,
    "start_time": "2025-06-20T16:21:28.227Z"
   },
   {
    "duration": 10,
    "start_time": "2025-06-20T16:21:28.238Z"
   },
   {
    "duration": 23,
    "start_time": "2025-06-20T16:21:28.249Z"
   },
   {
    "duration": 13,
    "start_time": "2025-06-20T16:21:28.274Z"
   },
   {
    "duration": 20,
    "start_time": "2025-06-20T16:21:28.288Z"
   },
   {
    "duration": 26,
    "start_time": "2025-06-20T16:21:28.310Z"
   },
   {
    "duration": 17,
    "start_time": "2025-06-20T16:21:28.338Z"
   },
   {
    "duration": 163,
    "start_time": "2025-06-20T16:21:28.356Z"
   },
   {
    "duration": 437,
    "start_time": "2025-06-20T16:21:28.521Z"
   },
   {
    "duration": 38,
    "start_time": "2025-06-20T16:21:28.960Z"
   },
   {
    "duration": 39,
    "start_time": "2025-06-20T16:21:29.000Z"
   },
   {
    "duration": 93,
    "start_time": "2025-06-20T16:21:29.040Z"
   },
   {
    "duration": 254,
    "start_time": "2025-06-20T16:21:29.135Z"
   },
   {
    "duration": 9,
    "start_time": "2025-06-20T16:21:29.397Z"
   },
   {
    "duration": 26,
    "start_time": "2025-06-20T16:21:29.409Z"
   },
   {
    "duration": 104,
    "start_time": "2025-06-20T16:21:29.437Z"
   },
   {
    "duration": 0,
    "start_time": "2025-06-20T16:21:29.543Z"
   },
   {
    "duration": 15,
    "start_time": "2025-06-20T16:22:26.607Z"
   },
   {
    "duration": 15,
    "start_time": "2025-06-20T16:22:46.279Z"
   },
   {
    "duration": 239,
    "start_time": "2025-06-20T16:24:55.154Z"
   },
   {
    "duration": 1256,
    "start_time": "2025-06-21T16:31:23.586Z"
   },
   {
    "duration": 53,
    "start_time": "2025-06-21T16:31:24.844Z"
   },
   {
    "duration": 5,
    "start_time": "2025-06-21T16:31:24.899Z"
   },
   {
    "duration": 66,
    "start_time": "2025-06-21T16:31:24.905Z"
   },
   {
    "duration": 7,
    "start_time": "2025-06-21T16:31:24.973Z"
   },
   {
    "duration": 10,
    "start_time": "2025-06-21T16:31:24.982Z"
   },
   {
    "duration": 144,
    "start_time": "2025-06-21T16:31:24.993Z"
   },
   {
    "duration": 7,
    "start_time": "2025-06-21T16:31:25.138Z"
   },
   {
    "duration": 27,
    "start_time": "2025-06-21T16:31:25.147Z"
   },
   {
    "duration": 14,
    "start_time": "2025-06-21T16:31:25.176Z"
   },
   {
    "duration": 1532,
    "start_time": "2025-06-21T16:31:25.192Z"
   },
   {
    "duration": 20,
    "start_time": "2025-06-21T16:31:26.726Z"
   },
   {
    "duration": 186,
    "start_time": "2025-06-21T16:31:26.748Z"
   },
   {
    "duration": 11,
    "start_time": "2025-06-21T16:31:26.937Z"
   },
   {
    "duration": 29,
    "start_time": "2025-06-21T16:31:26.949Z"
   },
   {
    "duration": 11,
    "start_time": "2025-06-21T16:31:26.979Z"
   },
   {
    "duration": 15,
    "start_time": "2025-06-21T16:31:26.992Z"
   },
   {
    "duration": 33,
    "start_time": "2025-06-21T16:31:27.009Z"
   },
   {
    "duration": 19,
    "start_time": "2025-06-21T16:31:27.044Z"
   },
   {
    "duration": 17,
    "start_time": "2025-06-21T16:31:27.076Z"
   },
   {
    "duration": 159,
    "start_time": "2025-06-21T16:31:27.095Z"
   },
   {
    "duration": 422,
    "start_time": "2025-06-21T16:31:27.256Z"
   },
   {
    "duration": 30,
    "start_time": "2025-06-21T16:31:27.680Z"
   },
   {
    "duration": 100,
    "start_time": "2025-06-21T16:31:27.711Z"
   },
   {
    "duration": 82,
    "start_time": "2025-06-21T16:31:27.813Z"
   },
   {
    "duration": 325,
    "start_time": "2025-06-21T16:31:27.896Z"
   },
   {
    "duration": 7,
    "start_time": "2025-06-21T16:31:28.223Z"
   },
   {
    "duration": 14,
    "start_time": "2025-06-21T16:31:28.231Z"
   },
   {
    "duration": 252,
    "start_time": "2025-06-21T16:31:28.247Z"
   },
   {
    "duration": 17,
    "start_time": "2025-06-21T16:31:28.500Z"
   },
   {
    "duration": 51,
    "start_time": "2025-06-21T18:49:46.067Z"
   },
   {
    "duration": 1345,
    "start_time": "2025-06-21T18:49:58.031Z"
   },
   {
    "duration": 87,
    "start_time": "2025-06-21T18:49:59.378Z"
   },
   {
    "duration": 4,
    "start_time": "2025-06-21T18:49:59.489Z"
   },
   {
    "duration": 6,
    "start_time": "2025-06-21T18:50:00.254Z"
   },
   {
    "duration": 10,
    "start_time": "2025-06-21T18:50:03.021Z"
   },
   {
    "duration": 76,
    "start_time": "2025-06-21T19:02:35.206Z"
   },
   {
    "duration": 37,
    "start_time": "2025-06-21T19:03:33.065Z"
   },
   {
    "duration": 9,
    "start_time": "2025-06-21T19:04:57.626Z"
   },
   {
    "duration": 11,
    "start_time": "2025-06-21T19:05:16.108Z"
   },
   {
    "duration": 7,
    "start_time": "2025-06-21T19:09:59.916Z"
   },
   {
    "duration": 67,
    "start_time": "2025-06-21T19:10:24.123Z"
   },
   {
    "duration": 5,
    "start_time": "2025-06-21T19:10:28.027Z"
   },
   {
    "duration": 6,
    "start_time": "2025-06-21T19:10:38.987Z"
   },
   {
    "duration": 4,
    "start_time": "2025-06-21T19:11:04.853Z"
   },
   {
    "duration": 4,
    "start_time": "2025-06-21T19:11:47.151Z"
   },
   {
    "duration": 6,
    "start_time": "2025-06-21T19:11:47.731Z"
   },
   {
    "duration": 6,
    "start_time": "2025-06-21T19:13:20.949Z"
   },
   {
    "duration": 6,
    "start_time": "2025-06-21T19:13:31.599Z"
   },
   {
    "duration": 5,
    "start_time": "2025-06-21T19:14:20.348Z"
   },
   {
    "duration": 5,
    "start_time": "2025-06-21T19:14:28.463Z"
   },
   {
    "duration": 6,
    "start_time": "2025-06-21T19:14:30.169Z"
   },
   {
    "duration": 6,
    "start_time": "2025-06-21T19:14:34.170Z"
   },
   {
    "duration": 129,
    "start_time": "2025-06-21T19:14:35.013Z"
   },
   {
    "duration": 7,
    "start_time": "2025-06-21T19:15:49.513Z"
   },
   {
    "duration": 224,
    "start_time": "2025-06-21T19:16:23.839Z"
   },
   {
    "duration": 7,
    "start_time": "2025-06-21T19:20:56.944Z"
   },
   {
    "duration": 3,
    "start_time": "2025-06-21T19:20:57.445Z"
   },
   {
    "duration": 12,
    "start_time": "2025-06-21T19:20:58.838Z"
   },
   {
    "duration": 6,
    "start_time": "2025-06-21T19:22:31.056Z"
   },
   {
    "duration": 1645,
    "start_time": "2025-06-21T19:23:27.681Z"
   },
   {
    "duration": 17,
    "start_time": "2025-06-21T19:23:29.328Z"
   },
   {
    "duration": 119,
    "start_time": "2025-06-21T19:23:29.830Z"
   },
   {
    "duration": 12,
    "start_time": "2025-06-21T19:23:31.746Z"
   },
   {
    "duration": 5,
    "start_time": "2025-06-21T19:23:33.812Z"
   },
   {
    "duration": 8,
    "start_time": "2025-06-21T19:23:34.707Z"
   },
   {
    "duration": 3,
    "start_time": "2025-06-21T19:23:39.207Z"
   },
   {
    "duration": 21,
    "start_time": "2025-06-21T19:23:39.651Z"
   },
   {
    "duration": 18,
    "start_time": "2025-06-21T19:23:41.747Z"
   },
   {
    "duration": 17,
    "start_time": "2025-06-21T19:23:42.223Z"
   },
   {
    "duration": 142,
    "start_time": "2025-06-21T19:28:56.555Z"
   },
   {
    "duration": 414,
    "start_time": "2025-06-21T19:28:59.052Z"
   },
   {
    "duration": 32,
    "start_time": "2025-06-21T19:29:00.976Z"
   },
   {
    "duration": 43,
    "start_time": "2025-06-21T19:29:01.344Z"
   },
   {
    "duration": 34,
    "start_time": "2025-06-21T19:29:01.974Z"
   },
   {
    "duration": 231,
    "start_time": "2025-06-21T19:29:03.003Z"
   },
   {
    "duration": 8,
    "start_time": "2025-06-21T19:29:12.487Z"
   },
   {
    "duration": 17,
    "start_time": "2025-06-21T19:29:14.855Z"
   },
   {
    "duration": 218,
    "start_time": "2025-06-21T19:29:25.881Z"
   },
   {
    "duration": 16,
    "start_time": "2025-06-21T19:34:45.360Z"
   }
  ],
  "colab": {
   "provenance": [],
   "toc_visible": true
  },
  "kernelspec": {
   "display_name": "Python 3 (ipykernel)",
   "language": "python",
   "name": "python3"
  },
  "language_info": {
   "codemirror_mode": {
    "name": "ipython",
    "version": 3
   },
   "file_extension": ".py",
   "mimetype": "text/x-python",
   "name": "python",
   "nbconvert_exporter": "python",
   "pygments_lexer": "ipython3",
   "version": "3.9.7"
  },
  "toc": {
   "base_numbering": 1,
   "nav_menu": {},
   "number_sections": true,
   "sideBar": true,
   "skip_h1_title": true,
   "title_cell": "Table of Contents",
   "title_sidebar": "Contents",
   "toc_cell": false,
   "toc_position": {
    "height": "calc(100% - 180px)",
    "left": "10px",
    "top": "150px",
    "width": "170px"
   },
   "toc_section_display": true,
   "toc_window_display": true
  }
 },
 "nbformat": 4,
 "nbformat_minor": 5
}
